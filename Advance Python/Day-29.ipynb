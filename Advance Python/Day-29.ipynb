{
 "cells": [
  {
   "cell_type": "code",
   "execution_count": null,
   "metadata": {},
   "outputs": [],
   "source": [
    "\"\"\"   \n",
    "42. We needs your help to construct a building which will be a pile of n cubes. The cube at the \n",
    "bottom will have a volume of n^3, the cube above will have volume of (n-1)^3 and so on until the top \n",
    "which will have a volume of 1^3. \n",
    " \n",
    "Given the total volume m of the building, can you find the number of cubes n required for the \n",
    "building? \n",
    "In other words, you have to return an integer n such that: \n",
    "n^3 + (n-1)^3 + ... + 1^3 == m \n",
    "Return None if there is no such number. \n",
    "Examples \n",
    " \n",
    "pile_of_cubes(1071225) ➞ 45 \n",
    "pile_of_cubes(4183059834009) ➞ 2022 \n",
    "pile_of_cubes(16) ➞ None \n",
    " \n",
    "43. A fulcrum of a list is an integer such that all elements to the left of it and all elements to the right \n",
    "of it sum to the same value. Write a function that finds the fulcrum of a list. \n",
    " \n",
    "To illustrate: \n",
    "find_fulcrum([3, 1, 5, 2, 4, 6, -1]) ➞ 2 \n",
    "// Since [3, 1, 5] and [4, 6, -1] both sum to 9 \n",
    "Examples \n",
    " \n",
    "find_fulcrum([1, 2, 4, 9, 10, -10, -9, 3]) ➞ 4 \n",
    "find_fulcrum([9, 1, 9]) ➞ 1 \n",
    "find_fulcrum([7, -1, 0, -1, 1, 1, 2, 3]) ➞ 0 \n",
    "find_fulcrum([8, 8, 8, 8]) ➞ -1 \n",
    " \n",
    "44. Given a list of integers representing the color of each sock, determine how many pairs of socks \n",
    "with matching colors there are. For example, there are 7 socks with colors [1, 2, 1, 2, 1, 3, 2]. There is \n",
    "one pair of color 1 and one of color 2. There are three odd socks left, one of each color. The number \n",
    "of pairs is 2. \n",
    " \n",
    "Create a function that returns an integer representing the number of matching pairs of socks that are \n",
    "available. \n",
    "Examples \n",
    "sock_merchant([10, 20, 20, 10, 10, 30, 50, 10, 20]) ➞ 3 \n",
    "sock_merchant([50, 20, 30, 90, 30, 20, 50, 20, 90]) ➞ 4 \n",
    "sock_merchant([]) ➞ 0 \n",
    " \n",
    "45. Create a function that takes a string containing integers as well as other characters and return the \n",
    "sum of the negative integers only. \n",
    " \n",
    "Examples \n",
    "negative_sum(\"-12 13%14&-11\") ➞ -23 \n",
    "# -12 + -11 = -23 \n",
    "negative_sum(\"22 13%14&-11-22 13 12\") ➞ -33 \n",
    "# -11 + -22 = -33 \n",
    " \n",
    "46. Create a function that takes the width, height and character and returns a picture frame as a 2D \n",
    "list. \n",
    " \n",
    "Examples \n",
    "get_frame(4, 5, \"#\") ➞ [ \n",
    "  [\"####\"], \n",
    "  [\"#  #\"], \n",
    "  [\"#  #\"], \n",
    "  [\"#  #\"], \n",
    "  [\"####\"] \n",
    "] \n",
    "# Frame is 4 characters wide and 5 characters tall. \n",
    " \n",
    " \n",
    "get_frame(10, 3, \"*\") ➞ [ \n",
    "  [\"**********\"], \n",
    "  [\"*        *\"], \n",
    "  [\"**********\"] \n",
    "] \n",
    "# Frame is 10 characters and wide and 3 characters tall. \n",
    " \n",
    " \n",
    "get_frame(2, 5, \"0\") ➞ \"invalid\" \n",
    "# Frame's width is not more than 2. \n",
    " \n",
    "47. Write three functions: \n",
    " \n",
    "  1. boolean_and \n",
    "  2. boolean_or \n",
    "  3. boolean_xor \n",
    "These functions should evaluate a list of True and False values, starting from the leftmost element \n",
    "and evaluating pairwise. \n",
    "Examples \n",
    "boolean_and([True, True, False, True]) ➞ False \n",
    "# [True, True, False, True] => [True, False, True] => [False, True] => False \n",
    "boolean_or([True, True, False, False]) ➞ True \n",
    "# [True, True, False, True] => [True, False, False] => [True, False] => True \n",
    " \n",
    "boolean_xor([True, True, False, False]) ➞ False \n",
    "# [True, True, False, False] => [False, False, False] => [False, False] => False \n",
    " \n",
    "48. Create a function that creates a box based on dimension n. \n",
    "Examples \n",
    "make_box(5) ➞ [ \n",
    "  \"#####\", \n",
    "  \"#   #\", \n",
    "  \"#   #\", \n",
    "  \"#   #\", \n",
    "  \"#####\" \n",
    "] \n",
    " \n",
    "make_box(3) ➞ [ \n",
    "  \"###\", \n",
    "  \"# #\", \n",
    "  \"###\" \n",
    "] \n",
    " \n",
    "make_box(2) ➞ [ \n",
    "  \"##\", \n",
    "  \"##\" \n",
    "] \n",
    " \n",
    "make_box(1) ➞ [ \n",
    "  \"#\" \n",
    "] \n",
    " \n",
    "49. Given a common phrase, return False if any individual word in the phrase contains duplicate \n",
    "letters. Return True otherwise. \n",
    " \n",
    "Examples \n",
    "no_duplicate_letters(\"Fortune favours the bold.\") ➞ True \n",
    "no_duplicate_letters(\"You can lead a horse to water, but you can't make him drink.\") ➞ True \n",
    "no_duplicate_letters(\"Look before you leap.\") ➞ False \n",
    "# Duplicate letters in \"Look\" and \"before\". \n",
    "no_duplicate_letters(\"An apple a day keeps the doctor away.\") ➞ False \n",
    "# Duplicate letters in \"apple\", \"keeps\", \"doctor\", and \"away\". \n",
    " \n",
    "50. Write a regular expression that will match the states that voted yes to President Trump's \n",
    "impeachment. You must use RegEx positive lookahead. \n",
    " \n",
    "Example \n",
    "txt = \"Texas = no, California = yes, Florida = yes, Michigan = no\" \n",
    "pattern = \"yourregularexpressionhere\" \n",
    "re.findall(pattern, txt) ➞ [\"California\", \"Florida\"] \n",
    "\"\"\"   "
   ]
  },
  {
   "cell_type": "code",
   "execution_count": 28,
   "metadata": {},
   "outputs": [],
   "source": [
    "\"\"\"   \n",
    "42. We needs your help to construct a building which will be a pile of n cubes. The cube at the \n",
    "bottom will have a volume of n^3, the cube above will have volume of (n-1)^3 and so on until the top \n",
    "which will have a volume of 1^3. \n",
    " \n",
    "Given the total volume m of the building, can you find the number of cubes n required for the \n",
    "building? \n",
    "In other words, you have to return an integer n such that: \n",
    "n^3 + (n-1)^3 + ... + 1^3 == m \n",
    "Return None if there is no such number. \n",
    "Examples \n",
    " \n",
    "pile_of_cubes(1071225) ➞ 45 \n",
    "pile_of_cubes(4183059834009) ➞ 2022 \n",
    "pile_of_cubes(16) ➞ None\n",
    "\"\"\" \n",
    "def pile_of_cubes(n):\n",
    "    for i in range(n):\n",
    "        x=(((i*(i+1))/2)**2)\n",
    "        if x==n:\n",
    "            break\n",
    "        else:\n",
    "            i=\"none\"\n",
    "    print(i)"
   ]
  },
  {
   "cell_type": "code",
   "execution_count": 29,
   "metadata": {},
   "outputs": [
    {
     "name": "stdout",
     "output_type": "stream",
     "text": [
      "45\n"
     ]
    }
   ],
   "source": [
    "pile_of_cubes(1071225)"
   ]
  },
  {
   "cell_type": "code",
   "execution_count": 114,
   "metadata": {},
   "outputs": [],
   "source": [
    "\"\"\" \n",
    "43. A fulcrum of a list is an integer such that all elements to the left of it and all elements to the right \n",
    "of it sum to the same value. Write a function that finds the fulcrum of a list. \n",
    " \n",
    "To illustrate: \n",
    "find_fulcrum([3, 1, 5, 2, 4, 6, -1]) ➞ 2 \n",
    "// Since [3, 1, 5] and [4, 6, -1] both sum to 9 \n",
    "Examples \n",
    " \n",
    "find_fulcrum([1, 2, 4, 9, 10, -10, -9, 3]) ➞ 4 \n",
    "find_fulcrum([9, 1, 9]) ➞ 1 \n",
    "find_fulcrum([7, -1, 0, -1, 1, 1, 2, 3]) ➞ 0 \n",
    "find_fulcrum([8, 8, 8, 8]) ➞ -1\n",
    "\"\"\"\n",
    "# correct code : passed all test cases\n",
    "def find_fulcrum(l):\n",
    "    l1 = l[::-1]\n",
    "    sum = 0\n",
    "    f=1\n",
    "    for i in range(0,len(l)):\n",
    "        sum = sum + l[i]\n",
    "        sum1 = 0\n",
    "        for j in range(0,len(l1)):\n",
    "            sum1 = sum1 + l1[j]\n",
    "            if sum == sum1 and i + j == len(l) - 1:\n",
    "                print(l[i])\n",
    "                f=0\n",
    "    if f==1:\n",
    "        print(-1)\n"
   ]
  },
  {
   "cell_type": "code",
   "execution_count": 115,
   "metadata": {},
   "outputs": [
    {
     "name": "stdout",
     "output_type": "stream",
     "text": [
      "2\n"
     ]
    }
   ],
   "source": [
    "find_fulcrum([3, 1, 5, 2, 4, 6, -1])\n",
    "# 2"
   ]
  },
  {
   "cell_type": "code",
   "execution_count": 116,
   "metadata": {},
   "outputs": [
    {
     "name": "stdout",
     "output_type": "stream",
     "text": [
      "4\n"
     ]
    }
   ],
   "source": [
    "find_fulcrum([1, 2, 4, 9, 10, -10, -9, 3])"
   ]
  },
  {
   "cell_type": "code",
   "execution_count": 117,
   "metadata": {},
   "outputs": [
    {
     "name": "stdout",
     "output_type": "stream",
     "text": [
      "1\n"
     ]
    }
   ],
   "source": [
    "find_fulcrum([9, 1, 9])"
   ]
  },
  {
   "cell_type": "code",
   "execution_count": 118,
   "metadata": {},
   "outputs": [
    {
     "name": "stdout",
     "output_type": "stream",
     "text": [
      "0\n"
     ]
    }
   ],
   "source": [
    "find_fulcrum([7, -1, 0, -1, 1, 1, 2, 3])"
   ]
  },
  {
   "cell_type": "code",
   "execution_count": 119,
   "metadata": {},
   "outputs": [
    {
     "name": "stdout",
     "output_type": "stream",
     "text": [
      "-1\n"
     ]
    }
   ],
   "source": [
    "find_fulcrum([8, 8, 8, 8])"
   ]
  },
  {
   "cell_type": "code",
   "execution_count": 49,
   "metadata": {},
   "outputs": [
    {
     "name": "stdout",
     "output_type": "stream",
     "text": [
      "[4, 3, 2, 1]\n"
     ]
    }
   ],
   "source": [
    "l = [1,2,3,4]\n",
    "l1 = l[::-1]\n",
    "print(l1)"
   ]
  },
  {
   "cell_type": "code",
   "execution_count": 48,
   "metadata": {},
   "outputs": [
    {
     "ename": "TypeError",
     "evalue": "'int' object is not reversible",
     "output_type": "error",
     "traceback": [
      "\u001b[1;31m---------------------------------------------------------------------------\u001b[0m",
      "\u001b[1;31mTypeError\u001b[0m                                 Traceback (most recent call last)",
      "Cell \u001b[1;32mIn[48], line 2\u001b[0m\n\u001b[0;32m      1\u001b[0m l \u001b[38;5;241m=\u001b[39m [\u001b[38;5;241m1\u001b[39m,\u001b[38;5;241m2\u001b[39m,\u001b[38;5;241m3\u001b[39m,\u001b[38;5;241m4\u001b[39m]\n\u001b[1;32m----> 2\u001b[0m \u001b[38;5;28;01mfor\u001b[39;00m j \u001b[38;5;129;01min\u001b[39;00m \u001b[38;5;28;43mreversed\u001b[39;49m\u001b[43m(\u001b[49m\u001b[38;5;28;43mlen\u001b[39;49m\u001b[43m(\u001b[49m\u001b[43ml\u001b[49m\u001b[43m)\u001b[49m\u001b[43m)\u001b[49m:\n\u001b[0;32m      3\u001b[0m     \u001b[38;5;28mprint\u001b[39m(\u001b[38;5;241m1\u001b[39m)\n",
      "\u001b[1;31mTypeError\u001b[0m: 'int' object is not reversible"
     ]
    }
   ],
   "source": [
    "l = [1,2,3,4]\n",
    "for j in reversed(len(l)):\n",
    "    print(1)"
   ]
  },
  {
   "cell_type": "code",
   "execution_count": 120,
   "metadata": {},
   "outputs": [],
   "source": [
    "def find_fulcrum(l):\n",
    "    l1 = l[::-1]\n",
    "    sum = 0\n",
    "    for i in range(0,len(l)):\n",
    "        sum = sum + l[i]\n",
    "        # print(\"sum---- = \",sum)\n",
    "        # print(\"i=\",i)\n",
    "        sum1 = 0\n",
    "        for j in range(0,len(l1)):\n",
    "            sum1 = sum1 + l1[j]\n",
    "            # print(\"Sum1 = \",sum1) \n",
    "            # print(\"j=\",j)\n",
    "            if sum == sum1:\n",
    "                print(l[i])\n",
    "                # print(l1[j+1])"
   ]
  },
  {
   "cell_type": "code",
   "execution_count": 121,
   "metadata": {},
   "outputs": [
    {
     "name": "stdout",
     "output_type": "stream",
     "text": [
      "5\n",
      "2\n",
      "-1\n"
     ]
    }
   ],
   "source": [
    "find_fulcrum([3, 1, 5, 2, 4, 6, -1])"
   ]
  },
  {
   "cell_type": "code",
   "execution_count": 162,
   "metadata": {},
   "outputs": [],
   "source": [
    "\"\"\" \n",
    "44. Given a list of integers representing the color of each sock, determine how many pairs of socks \n",
    "with matching colors there are. For example, there are 7 socks with colors [1, 2, 1, 2, 1, 3, 2]. There is \n",
    "one pair of color 1 and one of color 2. There are three odd socks left, one of each color. The number \n",
    "of pairs is 2. \n",
    " \n",
    "Create a function that returns an integer representing the number of matching pairs of socks that are \n",
    "available. \n",
    "Examples \n",
    "sock_merchant([10, 20, 20, 10, 10, 30, 50, 10, 20]) ➞ 3 \n",
    "sock_merchant([50, 20, 30, 90, 30, 20, 50, 20, 90]) ➞ 4 \n",
    "sock_merchant([]) ➞ 0    \n",
    "\"\"\" \n",
    "def sock_merchant(l):\n",
    "    c = 0\n",
    "    for i in range(0,len(l)):\n",
    "        sum = 0\n",
    "        for j in range(i+1,len(l)):\n",
    "            if l[i] == l[j]:\n",
    "                sum += 1\n",
    "                print(\"sum = \",sum)\n",
    "        print(\"\\n\")\n",
    "            # if sum == 2:\n",
    "            #     c += 1\n",
    "            #     print(\"c = \",c)\n",
    "    print(c)\n"
   ]
  },
  {
   "cell_type": "code",
   "execution_count": 163,
   "metadata": {},
   "outputs": [
    {
     "name": "stdout",
     "output_type": "stream",
     "text": [
      "sum =  1\n",
      "sum =  2\n",
      "sum =  3\n",
      "\n",
      "\n",
      "sum =  1\n",
      "sum =  2\n",
      "\n",
      "\n",
      "sum =  1\n",
      "\n",
      "\n",
      "sum =  1\n",
      "sum =  2\n",
      "\n",
      "\n",
      "sum =  1\n",
      "\n",
      "\n",
      "\n",
      "\n",
      "\n",
      "\n",
      "\n",
      "\n",
      "\n",
      "\n",
      "0\n"
     ]
    }
   ],
   "source": [
    "sock_merchant([10, 20, 20, 10, 10, 30, 50, 10, 20])"
   ]
  },
  {
   "cell_type": "code",
   "execution_count": 145,
   "metadata": {},
   "outputs": [
    {
     "name": "stdout",
     "output_type": "stream",
     "text": [
      "sum =  1\n",
      "sum =  1\n",
      "sum =  2\n",
      "c =  1\n",
      "sum =  1\n",
      "sum =  1\n",
      "sum =  1\n",
      "1\n"
     ]
    }
   ],
   "source": [
    "sock_merchant([50, 20, 30, 90, 30, 20, 50, 20, 90])"
   ]
  },
  {
   "cell_type": "code",
   "execution_count": 153,
   "metadata": {},
   "outputs": [],
   "source": [
    "def sock_merchant(l):\n",
    "    c = 0\n",
    "    for i in range(0,len(l)):\n",
    "        sum = 0\n",
    "        for j in range(i+1,len(l)):\n",
    "            if l[i] == l[j]:\n",
    "                sum += 1\n",
    "            if sum%2==0:\n",
    "                c+=1\n",
    "    print(c)"
   ]
  },
  {
   "cell_type": "code",
   "execution_count": 154,
   "metadata": {},
   "outputs": [
    {
     "name": "stdout",
     "output_type": "stream",
     "text": [
      "21\n"
     ]
    }
   ],
   "source": [
    "sock_merchant([10, 20, 20, 10, 10, 30, 50, 10, 20])"
   ]
  },
  {
   "cell_type": "code",
   "execution_count": 265,
   "metadata": {},
   "outputs": [],
   "source": [
    "def sock_merchant(l):\n",
    "    c = 0\n",
    "    s = 0\n",
    "    s1=0\n",
    "    l1 = []\n",
    "    for i in range(0,len(l)):\n",
    "        c = l.count(l[i])\n",
    "        l1.append(c)\n",
    "    print(\"l1 = \",l1)\n",
    "    l2 = set(l1)\n",
    "    l1 = list(l2)\n",
    "    print(\"l2=\",l1)\n",
    "    for i in range(0,len(l1)):\n",
    "        print(l1[i])\n",
    "        if (l1[i]>=2) and (l1[i]<=3):\n",
    "            s+=1\n",
    "        if (l1[i]>=3) and l1[i]>=4:\n",
    "            s1 += 2\n",
    "    print(s+s1)\n",
    "    print(s)\n",
    "    print(s1)"
   ]
  },
  {
   "cell_type": "code",
   "execution_count": 266,
   "metadata": {},
   "outputs": [
    {
     "name": "stdout",
     "output_type": "stream",
     "text": [
      "l1 =  [2, 3, 2, 2, 2, 3, 2, 3, 2]\n",
      "l2= [2, 3]\n",
      "2\n",
      "3\n",
      "2\n",
      "2\n",
      "0\n"
     ]
    }
   ],
   "source": [
    "sock_merchant([50, 20, 30, 90, 30, 20, 50, 20, 90])\n",
    "# ans = 4"
   ]
  },
  {
   "cell_type": "code",
   "execution_count": 267,
   "metadata": {},
   "outputs": [
    {
     "name": "stdout",
     "output_type": "stream",
     "text": [
      "l1 =  [4, 3, 3, 4, 4, 1, 1, 4, 3]\n",
      "l2= [1, 3, 4]\n",
      "1\n",
      "3\n",
      "4\n",
      "3\n",
      "1\n",
      "2\n"
     ]
    }
   ],
   "source": [
    "sock_merchant([10, 20, 20, 10, 10, 30, 50, 10, 20])\n",
    "# ans = 3"
   ]
  },
  {
   "cell_type": "code",
   "execution_count": 222,
   "metadata": {},
   "outputs": [
    {
     "name": "stdout",
     "output_type": "stream",
     "text": [
      "l1 =  [2, 2, 2, 2]\n",
      "l2= [2]\n",
      "1\n"
     ]
    }
   ],
   "source": [
    "sock_merchant([10, 20, 20, 10])"
   ]
  },
  {
   "cell_type": "code",
   "execution_count": 203,
   "metadata": {},
   "outputs": [
    {
     "name": "stdout",
     "output_type": "stream",
     "text": [
      "[2, 3, 2, 2, 2, 3, 2, 3, 2]\n",
      "2\n"
     ]
    }
   ],
   "source": [
    "sock_merchant([50, 20, 30, 90, 30, 20, 50, 20, 90])"
   ]
  },
  {
   "cell_type": "code",
   "execution_count": 311,
   "metadata": {},
   "outputs": [],
   "source": [
    "def sock_merchant(l):\n",
    "    c = 0\n",
    "    s = 0\n",
    "    s1=0\n",
    "    l1 = []\n",
    "    for i in range(0,len(l)):\n",
    "        c = l.count(l[i])\n",
    "        l1.append(c)\n",
    "    l2 = set(l1)\n",
    "    l1 = list(l2)\n",
    "    for i in range(0,len(l1)):\n",
    "        if (l1[i]>=2) and (l1[i]<=3):\n",
    "            s+=1\n",
    "        if (l1[i]>=3) and l1[i]>=4:\n",
    "            s1 += 2\n",
    "    print(s+s1)"
   ]
  },
  {
   "cell_type": "code",
   "execution_count": 259,
   "metadata": {},
   "outputs": [
    {
     "name": "stdout",
     "output_type": "stream",
     "text": [
      "3\n"
     ]
    }
   ],
   "source": [
    "sock_merchant([10, 20, 20, 10, 10, 30, 50, 10, 20])"
   ]
  },
  {
   "cell_type": "code",
   "execution_count": 260,
   "metadata": {},
   "outputs": [
    {
     "name": "stdout",
     "output_type": "stream",
     "text": [
      "2\n"
     ]
    }
   ],
   "source": [
    "sock_merchant([50, 20, 30, 90, 30, 20, 50, 20, 90])"
   ]
  },
  {
   "cell_type": "code",
   "execution_count": 303,
   "metadata": {},
   "outputs": [],
   "source": [
    "sock_merchant([10, 20, 20, 10, 10, 30, 50, 10, 20])"
   ]
  },
  {
   "cell_type": "code",
   "execution_count": 7,
   "metadata": {},
   "outputs": [],
   "source": [
    "def sock_merchant(l):\n",
    "    c = 0\n",
    "    s = 0\n",
    "    s1=0\n",
    "    l1 = []\n",
    "    for i in range(0,len(l)):\n",
    "        c = l.count(l[i])\n",
    "        l1.append(c)\n",
    "        l1.append(l[i])\n",
    "    print(l1)"
   ]
  },
  {
   "cell_type": "code",
   "execution_count": 8,
   "metadata": {},
   "outputs": [
    {
     "name": "stdout",
     "output_type": "stream",
     "text": [
      "[4, 10, 3, 20, 3, 20, 4, 10, 4, 10, 1, 30, 1, 50, 4, 10, 3, 20]\n"
     ]
    }
   ],
   "source": [
    "sock_merchant([10, 20, 20, 10, 10, 30, 50, 10, 20])\n",
    "#  ➞ 3 \n",
    "# sock_merchant([50, 20, 30, 90, 30, 20, 50, 20, 90]) ➞ 4 "
   ]
  },
  {
   "cell_type": "code",
   "execution_count": 6,
   "metadata": {},
   "outputs": [
    {
     "name": "stdout",
     "output_type": "stream",
     "text": [
      "[2, 3, 2, 2, 2, 3, 2, 3, 2]\n"
     ]
    }
   ],
   "source": [
    "sock_merchant([50, 20, 30, 90, 30, 20, 50, 20, 90])"
   ]
  },
  {
   "cell_type": "code",
   "execution_count": 9,
   "metadata": {},
   "outputs": [],
   "source": [
    "# perfectly working code:\n",
    "def sock_merchant(l):\n",
    "    x=l\n",
    "    l=set(l)\n",
    "    l=list(l)\n",
    "    l1=list()\n",
    "    for i in l:\n",
    "        l1.append(x.count(i))\n",
    "    ans=0\n",
    "    for i in l1:\n",
    "        if i%2==0 :\n",
    "            ans=ans+i//2\n",
    "        elif i%2==1:\n",
    "            ans=ans+i//2\n",
    "    print(ans)"
   ]
  },
  {
   "cell_type": "code",
   "execution_count": 10,
   "metadata": {},
   "outputs": [
    {
     "name": "stdout",
     "output_type": "stream",
     "text": [
      "3\n"
     ]
    }
   ],
   "source": [
    "sock_merchant([10, 20, 20, 10, 10, 30, 50, 10, 20])"
   ]
  },
  {
   "cell_type": "code",
   "execution_count": 11,
   "metadata": {},
   "outputs": [
    {
     "name": "stdout",
     "output_type": "stream",
     "text": [
      "4\n"
     ]
    }
   ],
   "source": [
    "sock_merchant([50, 20, 30, 90, 30, 20, 50, 20, 90])"
   ]
  },
  {
   "cell_type": "code",
   "execution_count": 12,
   "metadata": {},
   "outputs": [
    {
     "name": "stdout",
     "output_type": "stream",
     "text": [
      "0\n"
     ]
    }
   ],
   "source": [
    "sock_merchant([])"
   ]
  },
  {
   "cell_type": "code",
   "execution_count": 106,
   "metadata": {},
   "outputs": [],
   "source": [
    "\"\"\"  \n",
    "45. Create a function that takes a string containing integers as well as other characters and return the \n",
    "sum of the negative integers only. \n",
    " \n",
    "Examples \n",
    "negative_sum(\"-12 13%14&-11\") ➞ -23 \n",
    "# -12 + -11 = -23 \n",
    "negative_sum(\"22 13%14&-11-22 13 12\") ➞ -33 \n",
    "# -11 + -22 = -33\n",
    "\"\"\"  \n",
    "def negative_sum(s):\n",
    "    s2 = \"%&\"\n",
    "    l=[]\n",
    "    sum = 0\n",
    "    for i in range(0,len(s)-1):\n",
    "        if s[i] in s2:\n",
    "            s = s.replace(s[i],\" \")\n",
    "    s1 = s.split()\n",
    "    for i in s1:\n",
    "        if int(i)<0:\n",
    "            sum = sum + int(i)\n",
    "    print(sum)"
   ]
  },
  {
   "cell_type": "code",
   "execution_count": 107,
   "metadata": {},
   "outputs": [
    {
     "name": "stdout",
     "output_type": "stream",
     "text": [
      "-23\n"
     ]
    }
   ],
   "source": [
    "negative_sum(\"-12 13%14&-11\")"
   ]
  },
  {
   "cell_type": "code",
   "execution_count": 87,
   "metadata": {},
   "outputs": [
    {
     "name": "stdout",
     "output_type": "stream",
     "text": [
      "22 13 14 -11-22 13 12\n"
     ]
    },
    {
     "ename": "ValueError",
     "evalue": "invalid literal for int() with base 10: '-'",
     "output_type": "error",
     "traceback": [
      "\u001b[1;31m---------------------------------------------------------------------------\u001b[0m",
      "\u001b[1;31mValueError\u001b[0m                                Traceback (most recent call last)",
      "Cell \u001b[1;32mIn[87], line 9\u001b[0m\n\u001b[0;32m      7\u001b[0m \u001b[38;5;28;01mfor\u001b[39;00m i \u001b[38;5;129;01min\u001b[39;00m s:\n\u001b[0;32m      8\u001b[0m     \u001b[38;5;28;01mif\u001b[39;00m i\u001b[38;5;241m==\u001b[39m\u001b[38;5;124m\"\u001b[39m\u001b[38;5;124m-\u001b[39m\u001b[38;5;124m\"\u001b[39m:\n\u001b[1;32m----> 9\u001b[0m         \u001b[38;5;28mprint\u001b[39m(s[\u001b[38;5;28;43mint\u001b[39;49m\u001b[43m(\u001b[49m\u001b[43mi\u001b[49m\u001b[43m)\u001b[49m:])\n\u001b[0;32m     10\u001b[0m \u001b[38;5;66;03m# s2 = s.split(\"-\")\u001b[39;00m\n\u001b[0;32m     11\u001b[0m \u001b[38;5;66;03m# print(s2)\u001b[39;00m\n\u001b[0;32m     12\u001b[0m \u001b[38;5;66;03m# s1 = s.split()\u001b[39;00m\n\u001b[0;32m     13\u001b[0m \u001b[38;5;66;03m# print(s1)\u001b[39;00m\n",
      "\u001b[1;31mValueError\u001b[0m: invalid literal for int() with base 10: '-'"
     ]
    }
   ],
   "source": [
    "s = \"22 13%14&-11-22 13 12\"\n",
    "s2 = \"%&\"\n",
    "for i in range(0,len(s)-1):\n",
    "        if s[i] in s2:\n",
    "            s = s.replace(s[i],\" \")\n",
    "print(s)\n",
    "for i in s:\n",
    "    if i==\"-\":\n",
    "        print(s[int(i):])\n",
    "# s2 = s.split(\"-\")\n",
    "# print(s2)\n",
    "# s1 = s.split()\n",
    "# print(s1)"
   ]
  },
  {
   "cell_type": "code",
   "execution_count": 74,
   "metadata": {},
   "outputs": [
    {
     "ename": "ValueError",
     "evalue": "invalid literal for int() with base 10: '-11-22'",
     "output_type": "error",
     "traceback": [
      "\u001b[1;31m---------------------------------------------------------------------------\u001b[0m",
      "\u001b[1;31mValueError\u001b[0m                                Traceback (most recent call last)",
      "Cell \u001b[1;32mIn[74], line 1\u001b[0m\n\u001b[1;32m----> 1\u001b[0m \u001b[43mnegative_sum\u001b[49m\u001b[43m(\u001b[49m\u001b[38;5;124;43m\"\u001b[39;49m\u001b[38;5;124;43m22 13\u001b[39;49m\u001b[38;5;124;43m%\u001b[39;49m\u001b[38;5;124;43m14&-11-22 13 12\u001b[39;49m\u001b[38;5;124;43m\"\u001b[39;49m\u001b[43m)\u001b[49m\n",
      "Cell \u001b[1;32mIn[72], line 20\u001b[0m, in \u001b[0;36mnegative_sum\u001b[1;34m(s)\u001b[0m\n\u001b[0;32m     18\u001b[0m s1 \u001b[38;5;241m=\u001b[39m s\u001b[38;5;241m.\u001b[39msplit()\n\u001b[0;32m     19\u001b[0m \u001b[38;5;28;01mfor\u001b[39;00m i \u001b[38;5;129;01min\u001b[39;00m s1:\n\u001b[1;32m---> 20\u001b[0m     \u001b[38;5;28;01mif\u001b[39;00m \u001b[38;5;28;43mint\u001b[39;49m\u001b[43m(\u001b[49m\u001b[43mi\u001b[49m\u001b[43m)\u001b[49m\u001b[38;5;241m<\u001b[39m\u001b[38;5;241m0\u001b[39m:\n\u001b[0;32m     21\u001b[0m         \u001b[38;5;28msum\u001b[39m \u001b[38;5;241m=\u001b[39m \u001b[38;5;28msum\u001b[39m \u001b[38;5;241m+\u001b[39m \u001b[38;5;28mint\u001b[39m(i)\n\u001b[0;32m     22\u001b[0m \u001b[38;5;28mprint\u001b[39m(\u001b[38;5;28msum\u001b[39m)\n",
      "\u001b[1;31mValueError\u001b[0m: invalid literal for int() with base 10: '-11-22'"
     ]
    }
   ],
   "source": [
    "negative_sum(\"22 13%14&-11-22 13 12\")"
   ]
  },
  {
   "cell_type": "code",
   "execution_count": 16,
   "metadata": {},
   "outputs": [],
   "source": [
    "def negative_sum(s):\n",
    "    l = s.split(\"-\")\n",
    "    print(l)"
   ]
  },
  {
   "cell_type": "code",
   "execution_count": 17,
   "metadata": {},
   "outputs": [
    {
     "name": "stdout",
     "output_type": "stream",
     "text": [
      "['', '12 13%14&', '11']\n"
     ]
    }
   ],
   "source": [
    "negative_sum(\"-12 13%14&-11\")"
   ]
  },
  {
   "cell_type": "code",
   "execution_count": 30,
   "metadata": {},
   "outputs": [
    {
     "name": "stdout",
     "output_type": "stream",
     "text": [
      "-12 13%14&-11\n"
     ]
    }
   ],
   "source": [
    "s =\"-12 13%14&-11\"\n",
    "s2 = [\"%\",\"&\"]\n",
    "# for i in s\n",
    "if s in s2:\n",
    "    s = s.replace(\"%\",\" \")\n",
    "print(s)\n",
    "# s1 = int(s)\n",
    "# print(eval(s))\n",
    "# print(s1)"
   ]
  },
  {
   "cell_type": "code",
   "execution_count": null,
   "metadata": {},
   "outputs": [],
   "source": [
    "# perfectly working code:\n",
    "def vowel_links(s):\n",
    "    f = 0\n",
    "    vowels = \"aeiou\"\n",
    "    for i in range(0,len(s)-1):\n",
    "        if s[i] == \" \":\n",
    "            if(s[i-1] in vowels) and (s[i+1] in vowels):\n",
    "                f = 1\n",
    "    if f==1:\n",
    "        print(True)\n",
    "    else:\n",
    "        print(False)"
   ]
  },
  {
   "cell_type": "code",
   "execution_count": 33,
   "metadata": {},
   "outputs": [
    {
     "name": "stdout",
     "output_type": "stream",
     "text": [
      "-12 13 14 -11\n"
     ]
    }
   ],
   "source": [
    "s =\"-12 13%14&-11\"\n",
    "s2 = \"%&\"\n",
    "for i in range(0,len(s)-1):\n",
    "    if s[i] in s2:\n",
    "        # s = s.replace(\"%\",\" \")\n",
    "        s = s.replace(s[i],\" \")\n",
    "print(s)\n",
    "# s1 = int(s)\n",
    "# print(eval(s))\n",
    "# print(s1)"
   ]
  },
  {
   "cell_type": "code",
   "execution_count": 39,
   "metadata": {},
   "outputs": [
    {
     "name": "stdout",
     "output_type": "stream",
     "text": [
      "-12 13 14 -11\n",
      "['', '12 13 14 ', '11']\n",
      "\n",
      "12 13 14 \n",
      "11\n"
     ]
    }
   ],
   "source": [
    "s = \"-12 13 14 -11\"\n",
    "print(s)\n",
    "s = s.split(\"-\")\n",
    "print(s)\n",
    "for i in s:\n",
    "    print(i)"
   ]
  },
  {
   "cell_type": "code",
   "execution_count": 116,
   "metadata": {},
   "outputs": [
    {
     "name": "stdout",
     "output_type": "stream",
     "text": [
      "[-11, -22]\n",
      "-33\n"
     ]
    }
   ],
   "source": [
    "s = \"22 13%14&-11-22 13 12\"\n",
    "s2 = \"%&\"\n",
    "l = []\n",
    "for i in range(0,len(s)):\n",
    "    if s[i]==\"-\" and s[i+1].isdigit()==True:\n",
    "        # print(s[i:i+3])\n",
    "        l.append(int(s[i:i+3]))\n",
    "print(l)\n",
    "print(sum(l))"
   ]
  },
  {
   "cell_type": "code",
   "execution_count": 112,
   "metadata": {},
   "outputs": [
    {
     "name": "stdout",
     "output_type": "stream",
     "text": [
      "-11\n"
     ]
    }
   ],
   "source": [
    "s = \"22 13%14&-11-22 13 12\"\n",
    "i=9\n",
    "print(s[i:i+3])"
   ]
  },
  {
   "cell_type": "code",
   "execution_count": 139,
   "metadata": {},
   "outputs": [],
   "source": [
    "# working code : may not work out of the box test case\n",
    "def negative_sum(s):\n",
    "    l = []\n",
    "    for i in range(0,len(s)):\n",
    "        if s[i]==\"-\" and s[i+1].isdigit()==True and s[i+2].isdigit()==True:\n",
    "            l.append(int(s[i:i+3]))\n",
    "        elif s[i]==\"-\" and s[i+1].isdigit()==True:\n",
    "            l.append(int(s[i:i+2]))\n",
    "    print(l)\n",
    "    print(sum(l))"
   ]
  },
  {
   "cell_type": "code",
   "execution_count": 140,
   "metadata": {},
   "outputs": [
    {
     "name": "stdout",
     "output_type": "stream",
     "text": [
      "[-12, -11]\n",
      "-23\n"
     ]
    }
   ],
   "source": [
    "negative_sum(\"-12 13%14&-11\")"
   ]
  },
  {
   "cell_type": "code",
   "execution_count": 141,
   "metadata": {},
   "outputs": [
    {
     "name": "stdout",
     "output_type": "stream",
     "text": [
      "[-11, -22]\n",
      "-33\n"
     ]
    }
   ],
   "source": [
    "negative_sum(\"22 13%14&-11-22 13 12\")"
   ]
  },
  {
   "cell_type": "code",
   "execution_count": 143,
   "metadata": {},
   "outputs": [
    {
     "name": "stdout",
     "output_type": "stream",
     "text": [
      "[0, -22]\n",
      "-22\n"
     ]
    }
   ],
   "source": [
    "negative_sum(\"22 13%14&-0-22 13 12\")"
   ]
  },
  {
   "cell_type": "code",
   "execution_count": 144,
   "metadata": {},
   "outputs": [
    {
     "name": "stdout",
     "output_type": "stream",
     "text": [
      "[-11, -22]\n",
      "-33\n"
     ]
    }
   ],
   "source": [
    "negative_sum(\"22 13%14&-111-22 13 12\")"
   ]
  },
  {
   "cell_type": "code",
   "execution_count": 145,
   "metadata": {},
   "outputs": [],
   "source": [
    "def negative_sum(s):\n",
    "    l = []\n",
    "    for i in range(0,len(s)):\n",
    "        if s[i]==\"-\" and s[i+1].isdigit()==True:\n",
    "            l.append(int(s[i:i+3]))\n",
    "        \n",
    "    print(l)\n",
    "    print(sum(l))"
   ]
  },
  {
   "cell_type": "code",
   "execution_count": 146,
   "metadata": {},
   "outputs": [
    {
     "name": "stdout",
     "output_type": "stream",
     "text": [
      "[-12, -11]\n",
      "-23\n"
     ]
    }
   ],
   "source": [
    "negative_sum(\"-12 13%14&-11\")"
   ]
  },
  {
   "cell_type": "code",
   "execution_count": 147,
   "metadata": {},
   "outputs": [
    {
     "name": "stdout",
     "output_type": "stream",
     "text": [
      "[-11, -22]\n",
      "-33\n"
     ]
    }
   ],
   "source": [
    "negative_sum(\"22 13%14&-11-22 13 12\")"
   ]
  },
  {
   "cell_type": "code",
   "execution_count": 150,
   "metadata": {},
   "outputs": [
    {
     "data": {
      "text/plain": [
       "'2 13%14&-'"
      ]
     },
     "execution_count": 150,
     "metadata": {},
     "output_type": "execute_result"
    }
   ],
   "source": [
    "s=\"22 13%14&-11-22 13 12\"\n",
    "s[1:10]"
   ]
  },
  {
   "cell_type": "code",
   "execution_count": null,
   "metadata": {},
   "outputs": [],
   "source": [
    "#perfectly working code with all test case passed \n",
    "def myfun(s):\n",
    "    l=list()\n",
    "    l.extend(s)\n",
    "    print(l)\n",
    "    s=\"\"\n",
    "    for i in l:\n",
    "        if i==\"-\":\n",
    "            s=s+\" -\"\n",
    "        elif i.isdigit()==True:\n",
    "            s=s+i\n",
    "        else:\n",
    "            s=s+\" \"\n",
    "    \n",
    "    print(s)\n",
    "    lf=s.split(\" \")\n",
    "    print(lf)\n",
    "    lf1=[]\n",
    "\n",
    "    for i in lf:\n",
    "        if i!=\"\" and int(i)<0:\n",
    "            lf1.append(int(i))\n",
    "    print(sum(lf1))"
   ]
  },
  {
   "cell_type": "code",
   "execution_count": 198,
   "metadata": {},
   "outputs": [],
   "source": [
    "\"\"\"    \n",
    "46. Create a function that takes the width, height and character and returns a picture frame as a 2D \n",
    "list. \n",
    " \n",
    "Examples \n",
    "get_frame(4, 5, \"#\") ➞ [ \n",
    "  [\"####\"], \n",
    "  [\"#  #\"], \n",
    "  [\"#  #\"], \n",
    "  [\"#  #\"], \n",
    "  [\"####\"] \n",
    "] \n",
    "# Frame is 4 characters wide and 5 characters tall. \n",
    " \n",
    " \n",
    "get_frame(10, 3, \"*\") ➞ [ \n",
    "  [\"**********\"], \n",
    "  [\"*        *\"], \n",
    "  [\"**********\"] \n",
    "] \n",
    "# Frame is 10 characters and wide and 3 characters tall. \n",
    " \n",
    " \n",
    "get_frame(2, 5, \"0\") ➞ \"invalid\" \n",
    "# Frame's width is not more than 2.  \n",
    "\"\"\"    \n",
    "def get_frame(w,h,c):\n",
    "    l=[]\n",
    "    for i in range(1,h+1):\n",
    "        l1=[]\n",
    "        for j in range(1,w+1):\n",
    "                if (i==1 or i==h) or (j==1 or j==w): \n",
    "                    print(\"i=\",i,\"j=\",j)\n",
    "                    l1.append(\"#\")\n",
    "                if i>1 and i<=h-1:\n",
    "                    print(\"i=\",i,\"j=\",j)\n",
    "                    l1.append(\" \")\n",
    "        l.append(l1)\n",
    "    print(l)"
   ]
  },
  {
   "cell_type": "code",
   "execution_count": 199,
   "metadata": {},
   "outputs": [
    {
     "name": "stdout",
     "output_type": "stream",
     "text": [
      "i= 2 j= 1\n",
      "i= 2 j= 2\n",
      "i= 2 j= 3\n",
      "i= 2 j= 4\n",
      "i= 3 j= 1\n",
      "i= 3 j= 2\n",
      "i= 3 j= 3\n",
      "i= 3 j= 4\n",
      "i= 4 j= 1\n",
      "i= 4 j= 2\n",
      "i= 4 j= 3\n",
      "i= 4 j= 4\n",
      "[['#', '#', '#', '#'], ['#', ' ', ' ', ' ', '#', ' '], ['#', ' ', ' ', ' ', '#', ' '], ['#', ' ', ' ', ' ', '#', ' '], ['#', '#', '#', '#']]\n"
     ]
    }
   ],
   "source": [
    "get_frame(4, 5, \"#\")"
   ]
  },
  {
   "cell_type": "code",
   "execution_count": 189,
   "metadata": {},
   "outputs": [
    {
     "ename": "IndentationError",
     "evalue": "unexpected indent (1021598518.py, line 2)",
     "output_type": "error",
     "traceback": [
      "\u001b[1;36m  Cell \u001b[1;32mIn[189], line 2\u001b[1;36m\u001b[0m\n\u001b[1;33m    11   12   13   14     21   22   23   24     31   32   33   34     41   42   43   44     51   52   53   54\u001b[0m\n\u001b[1;37m    ^\u001b[0m\n\u001b[1;31mIndentationError\u001b[0m\u001b[1;31m:\u001b[0m unexpected indent\n"
     ]
    }
   ],
   "source": [
    "[['#', '#', '#', '#'], ['#', '#', '#', '#'], ['#', '#', '#', '#'], ['#', '#', '#', '#'], ['#', '#', '#', '#']]\n",
    "   11   12   13   14     21   22   23   24     31   32   33   34     41   42   43   44     51   52   53   54"
   ]
  },
  {
   "cell_type": "code",
   "execution_count": 210,
   "metadata": {},
   "outputs": [],
   "source": [
    "def get_frame(c,n,s):\n",
    "    l=list()\n",
    "    l.append([c*s])\n",
    "    for i in range(n-2):\n",
    "        l.append([s+\" \"*(c-2)+s])\n",
    "    l.append([c*s])\n",
    "    for i in l:\n",
    "        print(i)"
   ]
  },
  {
   "cell_type": "code",
   "execution_count": 211,
   "metadata": {},
   "outputs": [
    {
     "name": "stdout",
     "output_type": "stream",
     "text": [
      "['####']\n",
      "['#  #']\n",
      "['#  #']\n",
      "['#  #']\n",
      "['####']\n"
     ]
    }
   ],
   "source": [
    "get_frame(4, 5, \"#\")"
   ]
  },
  {
   "cell_type": "code",
   "execution_count": null,
   "metadata": {},
   "outputs": [],
   "source": [
    "\"\"\" \n",
    "47. Write three functions: \n",
    " \n",
    "  1. boolean_and \n",
    "  2. boolean_or \n",
    "  3. boolean_xor \n",
    "These functions should evaluate a list of True and False values, starting from the leftmost element \n",
    "and evaluating pairwise. \n",
    "Examples \n",
    "boolean_and([True, True, False, True]) ➞ False \n",
    "# [True, True, False, True] => [True, False, True] => [False, True] => False \n",
    "boolean_or([True, True, False, False]) ➞ True \n",
    "# [True, True, False, True] => [True, False, False] => [True, False] => True \n",
    " \n",
    "boolean_xor([True, True, False, False]) ➞ False \n",
    "# [True, True, False, False] => [False, False, False] => [False, False] => False       \n",
    "\"\"\""
   ]
  },
  {
   "cell_type": "code",
   "execution_count": 240,
   "metadata": {},
   "outputs": [],
   "source": [
    "\"\"\"       \n",
    "49. Given a common phrase, return False if any individual word in the phrase contains duplicate \n",
    "letters. Return True otherwise. \n",
    " \n",
    "Examples \n",
    "no_duplicate_letters(\"Fortune favours the bold.\") ➞ True \n",
    "no_duplicate_letters(\"You can lead a horse to water, but you can't make him drink.\") ➞ True \n",
    "no_duplicate_letters(\"Look before you leap.\") ➞ False \n",
    "# Duplicate letters in \"Look\" and \"before\". \n",
    "no_duplicate_letters(\"An apple a day keeps the doctor away.\") ➞ False \n",
    "# Duplicate letters in \"apple\", \"keeps\", \"doctor\", and \"away\". \n",
    "\"\"\"    \n",
    "# perfectly working code:\n",
    "def no_duplicate_letters(s):\n",
    "    s1 =s.split()\n",
    "    l = \"\"\n",
    "    f = 1\n",
    "    for i in s1:\n",
    "        for j in i:\n",
    "            l = i.count(j)\n",
    "            if l>=2:\n",
    "                f = 0\n",
    "    if f == 0:\n",
    "        print(False)\n",
    "    else:\n",
    "        print(True)"
   ]
  },
  {
   "cell_type": "code",
   "execution_count": 241,
   "metadata": {},
   "outputs": [
    {
     "name": "stdout",
     "output_type": "stream",
     "text": [
      "True\n"
     ]
    }
   ],
   "source": [
    "no_duplicate_letters(\"Fortune favours the bold.\")"
   ]
  },
  {
   "cell_type": "code",
   "execution_count": 242,
   "metadata": {},
   "outputs": [
    {
     "name": "stdout",
     "output_type": "stream",
     "text": [
      "True\n"
     ]
    }
   ],
   "source": [
    "no_duplicate_letters(\"You can lead a horse to water, but you can't make him drink.\")"
   ]
  },
  {
   "cell_type": "code",
   "execution_count": 243,
   "metadata": {},
   "outputs": [
    {
     "name": "stdout",
     "output_type": "stream",
     "text": [
      "False\n"
     ]
    }
   ],
   "source": [
    "no_duplicate_letters(\"Look before you leap.\")"
   ]
  },
  {
   "cell_type": "code",
   "execution_count": 244,
   "metadata": {},
   "outputs": [
    {
     "name": "stdout",
     "output_type": "stream",
     "text": [
      "False\n"
     ]
    }
   ],
   "source": [
    "no_duplicate_letters(\"An apple a day keeps the doctor away.\")"
   ]
  },
  {
   "cell_type": "code",
   "execution_count": 226,
   "metadata": {},
   "outputs": [
    {
     "name": "stdout",
     "output_type": "stream",
     "text": [
      "Look\n",
      "L\n",
      "o\n",
      "False\n",
      "o\n",
      "False\n",
      "k\n",
      "before\n",
      "b\n",
      "e\n",
      "False\n",
      "f\n",
      "o\n",
      "r\n",
      "e\n",
      "False\n",
      "you\n",
      "y\n",
      "o\n",
      "u\n",
      "leap.\n",
      "l\n",
      "e\n",
      "a\n",
      "p\n",
      ".\n"
     ]
    }
   ],
   "source": [
    "# s = \"Fortune favours the bold.\"\n",
    "s = \"Look before you leap.\"\n",
    "s1 =s.split()\n",
    "l = \"\"\n",
    "for i in s1:\n",
    "    print(i)\n",
    "    for j in i:\n",
    "        print(j)\n",
    "        l = i.count(j)\n",
    "        # print(l)\n",
    "        if l>=2:\n",
    "            print(False)"
   ]
  },
  {
   "cell_type": "code",
   "execution_count": 227,
   "metadata": {},
   "outputs": [
    {
     "name": "stdout",
     "output_type": "stream",
     "text": [
      "Look\n",
      "L\n",
      "o\n",
      "o\n",
      "k\n",
      "before\n",
      "b\n",
      "e\n",
      "f\n",
      "o\n",
      "r\n",
      "e\n",
      "you\n",
      "y\n",
      "o\n",
      "u\n",
      "leap.\n",
      "l\n",
      "e\n",
      "a\n",
      "p\n",
      ".\n",
      "False\n"
     ]
    }
   ],
   "source": [
    "s = \"Look before you leap.\"\n",
    "s1 =s.split()\n",
    "l = \"\"\n",
    "f = 1\n",
    "for i in s1:\n",
    "    print(i)\n",
    "    for j in i:\n",
    "        print(j)\n",
    "        l = i.count(j)\n",
    "        if l>=2:\n",
    "            f = 0\n",
    "if f == 0:\n",
    "    print(False)\n",
    "else:\n",
    "    print(True)"
   ]
  },
  {
   "cell_type": "code",
   "execution_count": null,
   "metadata": {},
   "outputs": [],
   "source": []
  }
 ],
 "metadata": {
  "kernelspec": {
   "display_name": "myenv",
   "language": "python",
   "name": "python3"
  },
  "language_info": {
   "codemirror_mode": {
    "name": "ipython",
    "version": 3
   },
   "file_extension": ".py",
   "mimetype": "text/x-python",
   "name": "python",
   "nbconvert_exporter": "python",
   "pygments_lexer": "ipython3",
   "version": "3.11.10"
  }
 },
 "nbformat": 4,
 "nbformat_minor": 2
}
