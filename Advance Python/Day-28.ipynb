{
 "cells": [
  {
   "cell_type": "code",
   "execution_count": null,
   "metadata": {},
   "outputs": [],
   "source": [
    "\"\"\"  \n",
    "38. Create a function that returns the characters from a list or string r on odd or even positions, \n",
    "depending on the specifier s. The specifier will be \"odd\" for items on odd positions (1, 3, 5, ...) and \n",
    "\"even\" for items on even positions (2, 4, 6, ...). \n",
    "Examples \n",
    "char_at_pos([2, 4, 6, 8, 10], \"even\") ➞ [4, 8] \n",
    "# 4 & 8 occupy the 2nd & 4th positions \n",
    "char_at_pos(\"EDABIT\", \"odd\") ➞ \"EAI\" \n",
    "# \"E\", \"A\" and \"I\" occupy the 1st, 3rd and 5th positions \n",
    "char_at_pos([\"A\", \"R\", \"B\", \"I\", \"T\", \"R\", \"A\", \"R\", \"I\", \"L\", \"Y\"], \"odd\") ➞ [\"A\", \"B\", \"T\", \"A\", \"I\", \"Y\"] \n",
    " \n",
    "39. Write a function that returns the greatest common divisor of all list elements. If the greatest \n",
    "common divisor is 1, return 1. \n",
    "Examples \n",
    " \n",
    "GCD([10, 20, 40]) ➞ 10 \n",
    "GCD([1, 2, 3, 100]) ➞ 1 \n",
    "GCD([1024, 192, 2048, 512]) ➞ 64 \n",
    " \n",
    "40. A number/string is a palindrome if the digits/characters are the same when read both forward \n",
    "and backward. Examples include \"racecar\" and 12321. Given a positive number n, check if n or the \n",
    "binary representation of n is palindromic. Return the following: \n",
    " \n",
    "- \"Decimal only.\" if only n is a palindrome. \n",
    "- \"Binary only.\" if only the binary representation of n is a palindrome. \n",
    "- \"Decimal and binary.\" if both are palindromes. \n",
    "- \"Neither!\" if neither are palindromes. \n",
    " \n",
    "Examples \n",
    "palindrome_type(1306031) ➞ \"Decimal only.\" \n",
    "# decimal = 1306031 \n",
    "# binary  = \"100111110110110101111\" \n",
    " \n",
    "palindrome_type(427787) ➞ \"Binary only.\" \n",
    "# decimal = 427787 \n",
    "# binary  = \"1101000011100001011\" \n",
    " \n",
    "palindrome_type(313) ➞ \"Decimal and binary.\" \n",
    "# decimal = 313 \n",
    "# binary  = 100111001 \n",
    " \n",
    "palindrome_type(934) ➞ \"Neither!\" \n",
    "# decimal = 934 \n",
    "# binary  = \"1110100110\" \n",
    " \n",
    "41. YouTube offers different playback speed options for users. This allows users to increase or \n",
    "decrease the speed of the video content. Given the actual duration and playback speed of the video, \n",
    "calculate the playback duration of the video. \n",
    " \n",
    "Examples \n",
    "playback_duration(\"00:30:00\", 2) ➞ \"00:15:00\" \n",
    "playback_duration(\"01:20:00\", 1.5) ➞ \"00:53:20\" \n",
    "playback_duration(\"51:20:09\", 0.5) ➞ \"102:40:18\" \n",
    " \n",
    "42. We needs your help to construct a building which will be a pile of n cubes. The cube at the \n",
    "bottom will have a volume of n^3, the cube above will have volume of (n-1)^3 and so on until the top \n",
    "which will have a volume of 1^3. \n",
    " \n",
    "Given the total volume m of the building, can you find the number of cubes n required for the \n",
    "building? \n",
    "In other words, you have to return an integer n such that: \n",
    "n^3 + (n-1)^3 + ... + 1^3 == m \n",
    "Return None if there is no such number. \n",
    "Examples \n",
    " \n",
    "pile_of_cubes(1071225) ➞ 45 \n",
    "pile_of_cubes(4183059834009) ➞ 2022 \n",
    "pile_of_cubes(16) ➞ None   \n",
    "\"\"\"  "
   ]
  },
  {
   "cell_type": "code",
   "execution_count": 13,
   "metadata": {},
   "outputs": [],
   "source": [
    "\"\"\"    \n",
    "38. Create a function that returns the characters from a list or string r on odd or even positions, \n",
    "depending on the specifier s. The specifier will be \"odd\" for items on odd positions (1, 3, 5, ...) and \n",
    "\"even\" for items on even positions (2, 4, 6, ...). \n",
    "Examples \n",
    "char_at_pos([2, 4, 6, 8, 10], \"even\") ➞ [4, 8] \n",
    "# 4 & 8 occupy the 2nd & 4th positions \n",
    "char_at_pos(\"EDABIT\", \"odd\") ➞ \"EAI\" \n",
    "# \"E\", \"A\" and \"I\" occupy the 1st, 3rd and 5th positions \n",
    "char_at_pos([\"A\", \"R\", \"B\", \"I\", \"T\", \"R\", \"A\", \"R\", \"I\", \"L\", \"Y\"], \"odd\") ➞ [\"A\", \"B\", \"T\", \"A\", \"I\", \"Y\"] \n",
    "\"\"\"    \n",
    "def char_at_pos(l,check):\n",
    "    l1=[]\n",
    "    for i in range(0,len(l)-1):\n",
    "        if check == \"even\":\n",
    "            if (i+1)%2==0:\n",
    "                l1.append(l[i])\n",
    "        if check == \"odd\":\n",
    "            if (i+1)%2 != 0:\n",
    "                l1.append(l[i])\n",
    "    print(l1)"
   ]
  },
  {
   "cell_type": "code",
   "execution_count": 14,
   "metadata": {},
   "outputs": [
    {
     "name": "stdout",
     "output_type": "stream",
     "text": [
      "[4, 8]\n"
     ]
    }
   ],
   "source": [
    "char_at_pos([2, 4, 6, 8, 10], \"even\")"
   ]
  },
  {
   "cell_type": "code",
   "execution_count": 15,
   "metadata": {},
   "outputs": [
    {
     "name": "stdout",
     "output_type": "stream",
     "text": [
      "['E', 'A', 'I']\n"
     ]
    }
   ],
   "source": [
    "char_at_pos(\"EDABIT\", \"odd\")"
   ]
  },
  {
   "cell_type": "code",
   "execution_count": 16,
   "metadata": {},
   "outputs": [
    {
     "name": "stdout",
     "output_type": "stream",
     "text": [
      "['A', 'B', 'T', 'A', 'I']\n"
     ]
    }
   ],
   "source": [
    "char_at_pos([\"A\", \"R\", \"B\", \"I\", \"T\", \"R\", \"A\", \"R\", \"I\", \"L\", \"Y\"], \"odd\")"
   ]
  },
  {
   "cell_type": "code",
   "execution_count": 17,
   "metadata": {},
   "outputs": [],
   "source": [
    "# working code: all test case passed\n",
    "def char_at_pos(x,a=None):\n",
    "    if x==str:\n",
    "        s=x\n",
    "        l=None\n",
    "    else:\n",
    "        l=x\n",
    "        s=None\n",
    "\n",
    "    if a==\"odd\" and l!=None and s==None:\n",
    "        print(l[0::2])\n",
    "    elif a==\"even\" and l!=None and s==None:\n",
    "        print(l[1::2])\n",
    "    elif a==\"odd\" and l==None and s!=None:\n",
    "         print(s[0::2])\n",
    "    elif a==\"even\" and l==None and s!=None:\n",
    "         print(s[0::2])"
   ]
  },
  {
   "cell_type": "code",
   "execution_count": 56,
   "metadata": {},
   "outputs": [],
   "source": [
    "\"\"\"   \n",
    "39. Write a function that returns the greatest common divisor of all list elements. If the greatest \n",
    "common divisor is 1, return 1. \n",
    "Examples \n",
    " \n",
    "GCD([10, 20, 40]) ➞ 10 \n",
    "GCD([1, 2, 3, 100]) ➞ 1 \n",
    "GCD([1024, 192, 2048, 512]) ➞ 64\n",
    "\"\"\"   \n",
    "def GCD(l):\n",
    "    l1=[]\n",
    "    for i in range(0,len(l)):\n",
    "        for j in range(0,min(l)):\n",
    "            if l[i]%(j+1)==0:\n",
    "                l1.append(j+1)\n",
    "    # l1=set(l1)\n",
    "    print(l1)\n",
    "    print(max(l1))"
   ]
  },
  {
   "cell_type": "code",
   "execution_count": 57,
   "metadata": {},
   "outputs": [
    {
     "name": "stdout",
     "output_type": "stream",
     "text": [
      "[1, 2, 5, 10, 1, 2, 4, 5, 10, 1, 2, 4, 5, 8, 10]\n",
      "10\n"
     ]
    }
   ],
   "source": [
    "GCD([10, 20, 40])"
   ]
  },
  {
   "cell_type": "code",
   "execution_count": 58,
   "metadata": {},
   "outputs": [
    {
     "name": "stdout",
     "output_type": "stream",
     "text": [
      "[1, 1, 1, 1]\n",
      "1\n"
     ]
    }
   ],
   "source": [
    "GCD([1, 2, 3, 100])"
   ]
  },
  {
   "cell_type": "code",
   "execution_count": 59,
   "metadata": {},
   "outputs": [
    {
     "name": "stdout",
     "output_type": "stream",
     "text": [
      "[1, 2, 4, 8, 16, 32, 64, 128, 1, 2, 3, 4, 6, 8, 12, 16, 24, 32, 48, 64, 96, 192, 1, 2, 4, 8, 16, 32, 64, 128, 1, 2, 4, 8, 16, 32, 64, 128]\n",
      "192\n"
     ]
    }
   ],
   "source": [
    "GCD([1024, 192, 2048, 512])"
   ]
  },
  {
   "cell_type": "code",
   "execution_count": 33,
   "metadata": {},
   "outputs": [
    {
     "data": {
      "text/plain": [
       "40"
      ]
     },
     "execution_count": 33,
     "metadata": {},
     "output_type": "execute_result"
    }
   ],
   "source": [
    "l=[10, 20, 40]\n",
    "max(l)"
   ]
  },
  {
   "cell_type": "code",
   "execution_count": 30,
   "metadata": {},
   "outputs": [
    {
     "data": {
      "text/plain": [
       "3"
      ]
     },
     "execution_count": 30,
     "metadata": {},
     "output_type": "execute_result"
    }
   ],
   "source": [
    "l=[10, 20, 40]\n",
    "len(l)"
   ]
  },
  {
   "cell_type": "code",
   "execution_count": 60,
   "metadata": {},
   "outputs": [
    {
     "name": "stdout",
     "output_type": "stream",
     "text": [
      "{32, 1, 2, 64, 4, 128, 3, 6, 8, 96, 192, 12, 16, 48, 24}\n"
     ]
    }
   ],
   "source": [
    "l =[1, 2, 4, 8, 16, 32, 64, 128, 1, 2, 3, 4, 6, 8, 12, 16, 24, 32, 48, 64, 96, 192, 1, 2, 4, 8, 16, 32, 64, 128, 1, 2, 4, 8, 16, 32, 64, 128]\n",
    "l1=set(l)\n",
    "print(l1)"
   ]
  },
  {
   "cell_type": "code",
   "execution_count": 77,
   "metadata": {},
   "outputs": [],
   "source": [
    "# Perfectly working code:\n",
    "def GCD(l):\n",
    "    l1=[]\n",
    "    for i in range(0,len(l)):\n",
    "        for j in range(0,min(l)):\n",
    "            if l[i]%(j+1)==0:\n",
    "                l1.append(j+1)\n",
    "    l2=[]\n",
    "    for k in l1:\n",
    "        if l1.count(k) == len(l):\n",
    "            l2.append(k)\n",
    "    print(max(l2))"
   ]
  },
  {
   "cell_type": "code",
   "execution_count": 78,
   "metadata": {},
   "outputs": [
    {
     "name": "stdout",
     "output_type": "stream",
     "text": [
      "10\n"
     ]
    }
   ],
   "source": [
    "GCD([10, 20, 40])"
   ]
  },
  {
   "cell_type": "code",
   "execution_count": 79,
   "metadata": {},
   "outputs": [
    {
     "name": "stdout",
     "output_type": "stream",
     "text": [
      "1\n"
     ]
    }
   ],
   "source": [
    "GCD([1, 2, 3, 100])"
   ]
  },
  {
   "cell_type": "code",
   "execution_count": 80,
   "metadata": {},
   "outputs": [
    {
     "name": "stdout",
     "output_type": "stream",
     "text": [
      "64\n"
     ]
    }
   ],
   "source": [
    "GCD([1024, 192, 2048, 512])"
   ]
  },
  {
   "cell_type": "code",
   "execution_count": 134,
   "metadata": {},
   "outputs": [],
   "source": [
    "\"\"\"\n",
    "40. A number/string is a palindrome if the digits/characters are the same when read both forward \n",
    "and backward. Examples include \"racecar\" and 12321. Given a positive number n, check if n or the \n",
    "binary representation of n is palindromic. Return the following: \n",
    " \n",
    "- \"Decimal only.\" if only n is a palindrome. \n",
    "- \"Binary only.\" if only the binary representation of n is a palindrome. \n",
    "- \"Decimal and binary.\" if both are palindromes. \n",
    "- \"Neither!\" if neither are palindromes. \n",
    " \n",
    "Examples \n",
    "palindrome_type(1306031) ➞ \"Decimal only.\" \n",
    "# decimal = 1306031 \n",
    "# binary  = \"100111110110110101111\" \n",
    " \n",
    "palindrome_type(427787) ➞ \"Binary only.\" \n",
    "# decimal = 427787 \n",
    "# binary  = \"1101000011100001011\" \n",
    " \n",
    "palindrome_type(313) ➞ \"Decimal and binary.\" \n",
    "# decimal = 313 \n",
    "# binary  = 100111001 \n",
    " \n",
    "palindrome_type(934) ➞ \"Neither!\" \n",
    "# decimal = 934 \n",
    "# binary  = \"1110100110\"\n",
    "\"\"\"  \n",
    "def palindrome_type(n):\n",
    "    n1=n\n",
    "    m1 = str(n)\n",
    "    m = str(m1[::-1])\n",
    "    b=\"\"\n",
    "    while n>0:\n",
    "        b=str(n%2) + b \n",
    "        n = n//2\n",
    "    b1 = b[::-1]\n",
    "    m = int(m)\n",
    "    if m==n1 and b==b1:\n",
    "        print(\"Decimal and binary.\")\n",
    "    elif m==n1:\n",
    "        print(\"Decimal only.\")\n",
    "    elif b==b1:\n",
    "        print(\"Binary only.\")\n",
    "    else:\n",
    "        print(\"Neither!\")\n",
    "    # print(\"m=\",m)\n",
    "    # print(\"n=\",n)\n",
    "    # print(\"n1=\",n1)\n",
    "    # print(\"b=\",b)\n",
    "    # print(\"b1=\",b1)"
   ]
  },
  {
   "cell_type": "code",
   "execution_count": 135,
   "metadata": {},
   "outputs": [
    {
     "name": "stdout",
     "output_type": "stream",
     "text": [
      "Decimal only.\n"
     ]
    }
   ],
   "source": [
    "palindrome_type(1306031)"
   ]
  },
  {
   "cell_type": "code",
   "execution_count": 136,
   "metadata": {},
   "outputs": [
    {
     "name": "stdout",
     "output_type": "stream",
     "text": [
      "Binary only.\n"
     ]
    }
   ],
   "source": [
    "palindrome_type(427787)"
   ]
  },
  {
   "cell_type": "code",
   "execution_count": 137,
   "metadata": {},
   "outputs": [
    {
     "name": "stdout",
     "output_type": "stream",
     "text": [
      "Decimal and binary.\n"
     ]
    }
   ],
   "source": [
    "palindrome_type(313)"
   ]
  },
  {
   "cell_type": "code",
   "execution_count": 138,
   "metadata": {},
   "outputs": [
    {
     "name": "stdout",
     "output_type": "stream",
     "text": [
      "Neither!\n"
     ]
    }
   ],
   "source": [
    "palindrome_type(934)"
   ]
  },
  {
   "cell_type": "code",
   "execution_count": 128,
   "metadata": {},
   "outputs": [
    {
     "name": "stdout",
     "output_type": "stream",
     "text": [
      "1010\n",
      "<class 'str'>\n"
     ]
    }
   ],
   "source": [
    "def detobin(n):        \n",
    "    b=\"\"\n",
    "    while n>0:\n",
    "        b=str(n%2) + b \n",
    "        n = n//2\n",
    "    print(b)\n",
    "    print(type(b))\n",
    "detobin(10)"
   ]
  },
  {
   "cell_type": "code",
   "execution_count": 98,
   "metadata": {},
   "outputs": [
    {
     "name": "stdout",
     "output_type": "stream",
     "text": [
      "4321\n"
     ]
    }
   ],
   "source": [
    "n = 1234\n",
    "m1 = str(n)\n",
    "m = str(m1[::-1])\n",
    "print(m)"
   ]
  },
  {
   "cell_type": "code",
   "execution_count": 139,
   "metadata": {},
   "outputs": [],
   "source": [
    "\"\"\"    \n",
    "41. YouTube offers different playback speed options for users. This allows users to increase or \n",
    "decrease the speed of the video content. Given the actual duration and playback speed of the video, \n",
    "calculate the playback duration of the video. \n",
    " \n",
    "Examples \n",
    "playback_duration(\"00:30:00\", 2) ➞ \"00:15:00\" \n",
    "playback_duration(\"01:20:00\", 1.5) ➞ \"00:53:20\" \n",
    "playback_duration(\"51:20:09\", 0.5) ➞ \"102:40:18\"\n",
    "\"\"\"       \n",
    "def playback_duration(s,n):\n",
    "    l = s.split(\":\")\n",
    "    l1=[]\n",
    "    print(l)\n"
   ]
  },
  {
   "cell_type": "code",
   "execution_count": 140,
   "metadata": {},
   "outputs": [
    {
     "name": "stdout",
     "output_type": "stream",
     "text": [
      "['00', '30', '00']\n"
     ]
    }
   ],
   "source": [
    "playback_duration(\"00:30:00\", 2)"
   ]
  },
  {
   "cell_type": "code",
   "execution_count": null,
   "metadata": {},
   "outputs": [],
   "source": [
    "def myfun(s,v):\n",
    "    l=s.split(\":\")\n",
    "    l1=list()\n",
    "    l1.append(int(l[0])*60)\n",
    "    l1.append(int(l[1]))\n",
    "    l1.append(int(l[2])/60)\n",
    "    # print(sum(l1))\n",
    "    f=sum(l1)\n",
    "    y=1/(v)\n",
    "    m=f*y   #its in minute\n",
    "    # print(f*y)\n",
    "    # print(m)\n",
    "\n",
    "    p=m//60\n",
    "    q=m-(p*60)\n",
    "\n",
    "    r=(m*60)-((round(p)*3600)+(round(q)*60))\n",
    "    # print(r)\n",
    "    p=str(round(p))\n",
    "    q=str(round(q))\n",
    "    r=str(round(r))\n",
    "    # print(str(round(p)),\":\",str(round(q)),\":\",str(round(r)),sep=\" \")\n",
    "\n",
    "    # print(\"{0}:{1}:{2}\".format(p,q,r))\n",
    "    if int(p)==0 and int(q)!=0 and int(r)!=0:\n",
    "        print(\"00\",\":\",q,\":\",r)\n",
    "    elif int(q)==0 and int(p)!=0 and int(r)!=0:\n",
    "        print(p,\":\",\"00\",\":\",r)\n",
    "    elif int(r)==0 and int(p)!=0 and int(q)!=0:\n",
    "        print(p,\":\",q,\"00\")\n",
    "\n",
    "\n",
    "    elif int(r)==0 and int(p)==0 and int(q)!=0:\n",
    "        print(\"00\",\":\",q,\":\",\"00\")\n",
    "    elif int(r)==0 and int(p)!=0 and int(q)==0:\n",
    "        print(p,\":\",\"00\",\":\",\"00\")\n",
    "    elif int(r)!=0 and int(p)==0 and int(q)==0:\n",
    "        print(\"00\",\":\",\"00\",\":\",r)\n",
    "\n",
    "    else:\n",
    "        print(p,\":\",q,\":\",r)"
   ]
  }
 ],
 "metadata": {
  "kernelspec": {
   "display_name": "myenv",
   "language": "python",
   "name": "python3"
  },
  "language_info": {
   "codemirror_mode": {
    "name": "ipython",
    "version": 3
   },
   "file_extension": ".py",
   "mimetype": "text/x-python",
   "name": "python",
   "nbconvert_exporter": "python",
   "pygments_lexer": "ipython3",
   "version": "3.11.10"
  }
 },
 "nbformat": 4,
 "nbformat_minor": 2
}
