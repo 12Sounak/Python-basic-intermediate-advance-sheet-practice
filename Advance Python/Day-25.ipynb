{
 "cells": [
  {
   "cell_type": "code",
   "execution_count": null,
   "metadata": {},
   "outputs": [],
   "source": [
    "\"\"\" \n",
    "16. In mathematics, the Fibonacci numbers, commonly denoted Fn, form a sequence, called the \n",
    "Fibonacci sequence, such that each number is the sum of the two preceding ones, starting from 0 \n",
    "and 1:   \n",
    "\"\"\" "
   ]
  },
  {
   "attachments": {
    "image.png": {
     "image/png": "[encoded data removed]"
    }
   },
   "cell_type": "markdown",
   "metadata": {},
   "source": [
    "![image.png](attachment:image.png)"
   ]
  },
  {
   "cell_type": "code",
   "execution_count": 6,
   "metadata": {},
   "outputs": [],
   "source": [
    "\"\"\" \n",
    "The beginning of the sequence is this: 0, 1, 1, 2, 3, 5, 8, 13, 21, 34, 55, 89, 144, ... \n",
    "The function fastFib(num) returns the fibonacci number Fn, of the given num as an argument. \n",
    " \n",
    "Examples \n",
    "fib_fast(5) ➞ 5 \n",
    "fib_fast(10) ➞ 55 \n",
    "fib_fast(20) ➞ 6765 \n",
    "fib_fast(50) ➞ 12586269025  \n",
    "\"\"\" \n",
    "def fib_fast(n):\n",
    "    n1 = 0\n",
    "    n2 = 1\n",
    "    for i in range(0,n-1):\n",
    "        n3 = n1 + n2\n",
    "        n1 = n2\n",
    "        n2 = n3\n",
    "    print(n3)\n",
    "\n",
    "# n = int(input(\"Enter the number :\"))\n",
    "# fib_fast(n)"
   ]
  },
  {
   "cell_type": "code",
   "execution_count": 8,
   "metadata": {},
   "outputs": [
    {
     "name": "stdout",
     "output_type": "stream",
     "text": [
      "5\n"
     ]
    }
   ],
   "source": [
    "fib_fast(5)"
   ]
  },
  {
   "cell_type": "code",
   "execution_count": 12,
   "metadata": {},
   "outputs": [],
   "source": [
    "#Using recursion as mentioned in the picture:\n",
    "def fib_fast(n):\n",
    "    if n<=1:\n",
    "        return n\n",
    "    return fib_fast(n-1) + fib_fast(n-2)\n",
    "\n"
   ]
  },
  {
   "cell_type": "code",
   "execution_count": 13,
   "metadata": {},
   "outputs": [
    {
     "data": {
      "text/plain": [
       "5"
      ]
     },
     "execution_count": 13,
     "metadata": {},
     "output_type": "execute_result"
    }
   ],
   "source": [
    "fib_fast(5)"
   ]
  },
  {
   "cell_type": "code",
   "execution_count": 14,
   "metadata": {},
   "outputs": [
    {
     "data": {
      "text/plain": [
       "55"
      ]
     },
     "execution_count": 14,
     "metadata": {},
     "output_type": "execute_result"
    }
   ],
   "source": [
    "fib_fast(10)"
   ]
  },
  {
   "cell_type": "code",
   "execution_count": null,
   "metadata": {},
   "outputs": [],
   "source": [
    "\"\"\"  \n",
    "17. Create a function that takes a strings characters as ASCII and returns each characters hexadecimal \n",
    "value as a string. \n",
    "Examples \n",
    "convert_to_hex(\"hello world\") ➞ \"68 65 6c 6c 6f 20 77 6f 72 6c 64\" \n",
    "convert_to_hex(\"Big Boi\") ➞ \"42 69 67 20 42 6f 69\" \n",
    " \n",
    "convert_to_hex(\"Marty Poppinson\") ➞ \"4d 61 72 74 79 20 50 6f 70 70 69 6e 73 6f 6e\" \n",
    " \n",
    "\"\"\"  \n",
    "\n",
    "    "
   ]
  },
  {
   "cell_type": "code",
   "execution_count": 15,
   "metadata": {},
   "outputs": [
    {
     "data": {
      "text/plain": [
       "97"
      ]
     },
     "execution_count": 15,
     "metadata": {},
     "output_type": "execute_result"
    }
   ],
   "source": [
    "ord('a')"
   ]
  },
  {
   "cell_type": "code",
   "execution_count": 16,
   "metadata": {},
   "outputs": [
    {
     "data": {
      "text/plain": [
       "'A'"
      ]
     },
     "execution_count": 16,
     "metadata": {},
     "output_type": "execute_result"
    }
   ],
   "source": [
    "chr(65)"
   ]
  },
  {
   "cell_type": "code",
   "execution_count": 1,
   "metadata": {},
   "outputs": [],
   "source": [
    "def myfun(n):\n",
    "    l=list()\n",
    "    l3=list()\n",
    "    while n>0:\n",
    "        l.append(n%16)\n",
    "        n=n//16\n",
    "    # print(l[::-1])\n",
    "    l1=[10,11,12,13,14,15]\n",
    "    l2=[\"A\",\"B\",\"C\",\"D\",\"E\",\"F\"]\n",
    "    for i in l:\n",
    "        if i not in l1:\n",
    "            l3.append(str(i))\n",
    "        else:\n",
    "            l3.append(l2[l1.index(i)])\n",
    "    # print(l3[::-1])\n",
    "    print(\"\".join(l3[::-1]))"
   ]
  },
  {
   "cell_type": "code",
   "execution_count": 2,
   "metadata": {},
   "outputs": [],
   "source": [
    "def myfun(n):\n",
    "    l=list()\n",
    "    l3=list()\n",
    "    while n>0:\n",
    "        l.append(n%16)\n",
    "        n=n//16\n",
    "    # print(l[::-1])\n",
    "    l1=[10,11,12,13,14,15]\n",
    "    l2=[\"A\",\"B\",\"C\",\"D\",\"E\",\"F\"]\n",
    "    for i in l:\n",
    "        if i not in l1:\n",
    "            l3.append(str(i))\n",
    "        else:\n",
    "            l3.append(l2[l1.index(i)])\n",
    "    # print(l3[::-1])\n",
    "    # print(\"\".join(l3[::-1]))\n",
    "    return  \"\".join(l3[::-1])"
   ]
  },
  {
   "cell_type": "code",
   "execution_count": 3,
   "metadata": {},
   "outputs": [],
   "source": [
    "def myfun1(s):\n",
    "    l=list()\n",
    "    l1=list()\n",
    "    for i in s:\n",
    "        l.append(ord(i))\n",
    "    # print(l)\n",
    "    for j in l:\n",
    "        l1.append(myfun(j))\n",
    "    print(str(\" \".join(l1)))"
   ]
  },
  {
   "cell_type": "code",
   "execution_count": 4,
   "metadata": {},
   "outputs": [
    {
     "name": "stdout",
     "output_type": "stream",
     "text": [
      "4D 61 72 74 79 20 50 6F 70 70 69 6E 73 6F 6E\n"
     ]
    }
   ],
   "source": [
    "myfun1(\"Marty Poppinson\")"
   ]
  },
  {
   "cell_type": "code",
   "execution_count": 16,
   "metadata": {},
   "outputs": [],
   "source": [
    "\"\"\"  \n",
    "18. Someone has attempted to censor my strings by replacing every vowel with a *, l*k* th*s. Luckily, \n",
    "I've been able to find the vowels that were removed. \n",
    "Given a censored string and a string of the censored vowels, return the original uncensored string. \n",
    "Example \n",
    "uncensor(\"Wh*r* d*d my v*w*ls g*?\", \"eeioeo\") ➞ \"Where did my vowels go?\" \n",
    "uncensor(\"abcd\", \"\") ➞ \"abcd\" \n",
    "uncensor(\"*PP*RC*S*\", \"UEAE\") ➞ \"UPPERCASE\"\n",
    "\"\"\"    \n",
    "def uncensor(s1,s2):\n",
    "    l1 = []\n",
    "    l=[]\n",
    "    l.extend(s2)\n",
    "    for i in s1:\n",
    "            if i != \"*\":\n",
    "                l1.append(i)\n",
    "            else:\n",
    "                l1.append(l[0])\n",
    "                l.pop(0)\n",
    "    print(l1)\n",
    "    print(\"\".join(l1))"
   ]
  },
  {
   "cell_type": "code",
   "execution_count": 17,
   "metadata": {},
   "outputs": [
    {
     "name": "stdout",
     "output_type": "stream",
     "text": [
      "['U', 'P', 'P', 'E', 'R', 'C', 'A', 'S', 'E']\n",
      "UPPERCASE\n"
     ]
    }
   ],
   "source": [
    "uncensor(\"*PP*RC*S*\", \"UEAE\")"
   ]
  },
  {
   "cell_type": "code",
   "execution_count": null,
   "metadata": {},
   "outputs": [],
   "source": [
    "\"\"\"  \n",
    "19. Write a function that takes an IP address and returns the domain name using PTR DNS records. \n",
    "Example \n",
    "get_domain(\"8.8.8.8\") ➞ \"dns.google\" \n",
    "get_domain(\"8.8.4.4\") ➞ \"dns.google\"\n",
    "\"\"\"  "
   ]
  },
  {
   "cell_type": "code",
   "execution_count": 34,
   "metadata": {},
   "outputs": [],
   "source": [
    "\"\"\" \n",
    "20. Create a function that takes an integer n and returns the factorial of factorials. See below \n",
    "examples for a better understanding: \n",
    "Examples \n",
    "fact_of_fact(4) ➞ 288 \n",
    "# 4! * 3! * 2! * 1! = 288 \n",
    "fact_of_fact(5) ➞ 34560 \n",
    "fact_of_fact(6) ➞ 24883200 \n",
    "\"\"\"    \n",
    "def fact_of_fact(n):\n",
    "    fact1 = 1\n",
    "    fact = 1\n",
    "    for i in range(1,n+1):\n",
    "            fact1 = fact1 * i\n",
    "            fact = fact * fact1\n",
    "    print(fact)"
   ]
  },
  {
   "cell_type": "code",
   "execution_count": 35,
   "metadata": {},
   "outputs": [
    {
     "name": "stdout",
     "output_type": "stream",
     "text": [
      "288\n"
     ]
    }
   ],
   "source": [
    "fact_of_fact(4)"
   ]
  },
  {
   "cell_type": "code",
   "execution_count": 36,
   "metadata": {},
   "outputs": [
    {
     "name": "stdout",
     "output_type": "stream",
     "text": [
      "34560\n"
     ]
    }
   ],
   "source": [
    "fact_of_fact(5)"
   ]
  },
  {
   "cell_type": "code",
   "execution_count": 37,
   "metadata": {},
   "outputs": [
    {
     "name": "stdout",
     "output_type": "stream",
     "text": [
      "24883200\n"
     ]
    }
   ],
   "source": [
    "fact_of_fact(6)"
   ]
  },
  {
   "cell_type": "code",
   "execution_count": null,
   "metadata": {},
   "outputs": [],
   "source": [
    "\"\"\"   \n",
    "21. Create a function that takes a number n (integer greater than zero) as an argument, and returns 2 \n",
    "if n is odd and 8 if n is even. \n",
    "You can only use the following arithmetic operators: addition of numbers +, subtraction of numbers -\n",
    ", multiplication of number *, division of number /, and exponentiation **. \n",
    "You are not allowed to use any other methods in this challenge (i.e. no if statements, comparison \n",
    "operators, etc). \n",
    "Examples \n",
    "f(1) ➞ 2 \n",
    "f(2) ➞ 8 \n",
    " \n",
    "f(3) ➞ 2\n",
    "\"\"\"    \n"
   ]
  }
 ],
 "metadata": {
  "kernelspec": {
   "display_name": "myenv",
   "language": "python",
   "name": "python3"
  },
  "language_info": {
   "codemirror_mode": {
    "name": "ipython",
    "version": 3
   },
   "file_extension": ".py",
   "mimetype": "text/x-python",
   "name": "python",
   "nbconvert_exporter": "python",
   "pygments_lexer": "ipython3",
   "version": "3.11.10"
  }
 },
 "nbformat": 4,
 "nbformat_minor": 2
}
