{
 "cells": [
  {
   "cell_type": "code",
   "execution_count": null,
   "metadata": {},
   "outputs": [],
   "source": [
    "\"\"\" \n",
    "1.Write a function that takes a list of lists and returns the value of all of the symbols in it, where each \n",
    "symbol adds or takes something from the total score. Symbol values: \n",
    "# = 5 \n",
    "O = 3 \n",
    "X = 1 \n",
    "! = -1 \n",
    "!! = -3 \n",
    "!!! = -5 \n",
    "A list of lists containing 2 #s, a O, and a !!! would equal (0 + 5 + 5 + 3 - 5) 8. \n",
    "If the final score is negative, return 0 (e.g. 3 #s, 3 !!s, 2 !!!s and a X would be (0 + 5 + 5 + 5 - 3 - 3 - 3 - \n",
    "5 - 5 + 1) -3, so return 0). \n",
    " \n",
    "Examples: \n",
    "check_score([ \n",
    "  [\"#\", \"!\"], \n",
    "  [\"!!\", \"X\"] \n",
    "]) ➞ 2 \n",
    " \n",
    "check_score([ \n",
    "  [\"!!!\", \"O\", \"!\"],                      -5 + 3 + (-1) + 1 + 5 + (-5) + (-3) + 1 + 3\n",
    "  [\"X\", \"#\", \"!!!\"], \n",
    "  [\"!!\", \"X\", \"O\"] \n",
    "]) ➞ 0\n",
    "\"\"\"\n"
   ]
  },
  {
   "cell_type": "code",
   "execution_count": 5,
   "metadata": {},
   "outputs": [
    {
     "data": {
      "text/plain": [
       "'#'"
      ]
     },
     "execution_count": 5,
     "metadata": {},
     "output_type": "execute_result"
    }
   ],
   "source": [
    "str(\"#\")"
   ]
  },
  {
   "cell_type": "code",
   "execution_count": 19,
   "metadata": {},
   "outputs": [],
   "source": [
    "# correct code:\n",
    "def check_score(l):\n",
    "    l1 = [\"#\",\"O\",\"X\",\"!\",\"!!\",\"!!!\"]\n",
    "    l2 = [5,3,1,-1,-3,-5]\n",
    "    sum = 0\n",
    "    for i in l:\n",
    "        for j in i:\n",
    "            sum = sum + l2[(l1.index(j))]\n",
    "    if sum>0:\n",
    "        print(sum)\n",
    "    else:\n",
    "        print(0)\n",
    "\n",
    "\n",
    "\n"
   ]
  },
  {
   "cell_type": "code",
   "execution_count": 20,
   "metadata": {},
   "outputs": [
    {
     "name": "stdout",
     "output_type": "stream",
     "text": [
      "2\n"
     ]
    }
   ],
   "source": [
    "check_score([[\"#\", \"!\"],[\"!!\", \"X\"]])"
   ]
  },
  {
   "cell_type": "code",
   "execution_count": 21,
   "metadata": {},
   "outputs": [
    {
     "name": "stdout",
     "output_type": "stream",
     "text": [
      "0\n"
     ]
    }
   ],
   "source": [
    "check_score([ \n",
    "  [\"!!!\", \"O\", \"!\"], \n",
    "  [\"X\", \"#\", \"!!!\"], \n",
    "  [\"!!\", \"X\", \"O\"] \n",
    "])"
   ]
  },
  {
   "cell_type": "code",
   "execution_count": null,
   "metadata": {},
   "outputs": [],
   "source": [
    "check_score([ \n",
    "  [\"!!!\", \"O\", \"!\"], \n",
    "  [\"X\", \"#\", \"!!!\"], \n",
    "  [\"!!\", \"X\", \"O\"] \n",
    "])"
   ]
  },
  {
   "cell_type": "code",
   "execution_count": 22,
   "metadata": {},
   "outputs": [],
   "source": [
    "\"\"\" \n",
    "2. Create a function that takes a variable number of arguments, each argument representing the \n",
    "number of items in a group, and returns the number of permutations (combinations) of items that \n",
    "you could get by taking one item from each group. \n",
    " \n",
    "Examples: \n",
    "combinations(2, 3) ➞ 6 \n",
    "combinations(3, 7, 4) ➞ 84 \n",
    "combinations(2, 3, 4, 5) ➞ 120    \n",
    "\"\"\" \n",
    "def combinations(*x):\n",
    "    prod=1\n",
    "    for i in x:\n",
    "        prod=prod*i\n",
    "    print(prod)"
   ]
  },
  {
   "cell_type": "code",
   "execution_count": 24,
   "metadata": {},
   "outputs": [
    {
     "name": "stdout",
     "output_type": "stream",
     "text": [
      "6\n"
     ]
    }
   ],
   "source": [
    "combinations(2, 3)"
   ]
  },
  {
   "cell_type": "code",
   "execution_count": 39,
   "metadata": {},
   "outputs": [],
   "source": [
    "\"\"\" \n",
    "3. Create a function that takes a string as an argument and returns the Morse code equivalent. \n",
    "encode_morse(\"EDABBIT CHALLENGE\") ➞ \". -.. .- -... -... .. - -.-. .... .- .-.. .-.. . -. --. .\" \n",
    "encode_morse(\"HELP ME !\") ➞ \".... . .-.. .--. -- . -.-.--\" \n",
    "This dictionary can be used for coding: \n",
    "char_to_dots = { \n",
    "  'A': '.-', 'B': '-...', 'C': '-.-.', 'D': '-..', 'E': '.', 'F': '..-.',  \n",
    "  'G': '--.', 'H': '....', 'I': '..', 'J': '.---', 'K': '-.-', 'L': '.-..', \n",
    "  'M': '--', 'N': '-.', 'O': '---', 'P': '.--.', 'Q': '--.-', 'R': '.-.',  \n",
    "  'S': '...', 'T': '-', 'U': '..-', 'V': '...-', 'W': '.--', 'X': '-..-',  \n",
    "  'Y': '-.--', 'Z': '--..', ' ': ' ', '0': '-----', '1': '.----',  \n",
    "  '2': '..---', '3': '...--', '4': '....-', '5': '.....', '6': '-....',  \n",
    "  '7': '--...', '8': '---..', '9': '----.', '&': '.-...', \"'\": '.----.',  \n",
    "  '@': '.--.-.', ')': '-.--.-', '(': '-.--.', ':': '---...', ',': '--..--',  \n",
    "  '=': '-...-', '!': '-.-.--', '.': '.-.-.-', '-': '-....-', '+': '.-.-.',  \n",
    "  '\"': '.-..-.', '?': '..--..', '/': '-..-.' \n",
    "}       \n",
    "\"\"\"\n",
    "def encode_morse(s):\n",
    "    char_to_dots = { \n",
    "    'A': '.-', 'B': '-...', 'C': '-.-.', 'D': '-..', 'E': '.', 'F': '..-.',  \n",
    "    'G': '--.', 'H': '....', 'I': '..', 'J': '.---', 'K': '-.-', 'L': '.-..', \n",
    "    'M': '--', 'N': '-.', 'O': '---', 'P': '.--.', 'Q': '--.-', 'R': '.-.',  \n",
    "    'S': '...', 'T': '-', 'U': '..-', 'V': '...-', 'W': '.--', 'X': '-..-',  \n",
    "    'Y': '-.--', 'Z': '--..', ' ': ' ', '0': '-----', '1': '.----',  \n",
    "    '2': '..---', '3': '...--', '4': '....-', '5': '.....', '6': '-....',  \n",
    "    '7': '--...', '8': '---..', '9': '----.', '&': '.-...', \"'\": '.----.',  \n",
    "    '@': '.--.-.', ')': '-.--.-', '(': '-.--.', ':': '---...', ',': '--..--',  \n",
    "    '=': '-...-', '!': '-.-.--', '.': '.-.-.-', '-': '-....-', '+': '.-.-.',  \n",
    "    '\"': '.-..-.', '?': '..--..', '/': '-..-.' \n",
    "    }\n",
    "    l=[]\n",
    "    s1=\"\"\n",
    "    print(char_to_dots.keys())\n",
    "    print(char_to_dots.values())\n",
    "    for i in s:\n",
    "            s1 = s1 + char_to_dots[i] + \" \"\n",
    "    print(s1)"
   ]
  },
  {
   "cell_type": "code",
   "execution_count": 41,
   "metadata": {},
   "outputs": [
    {
     "name": "stdout",
     "output_type": "stream",
     "text": [
      "dict_keys(['A', 'B', 'C', 'D', 'E', 'F', 'G', 'H', 'I', 'J', 'K', 'L', 'M', 'N', 'O', 'P', 'Q', 'R', 'S', 'T', 'U', 'V', 'W', 'X', 'Y', 'Z', ' ', '0', '1', '2', '3', '4', '5', '6', '7', '8', '9', '&', \"'\", '@', ')', '(', ':', ',', '=', '!', '.', '-', '+', '\"', '?', '/'])\n",
      "dict_values(['.-', '-...', '-.-.', '-..', '.', '..-.', '--.', '....', '..', '.---', '-.-', '.-..', '--', '-.', '---', '.--.', '--.-', '.-.', '...', '-', '..-', '...-', '.--', '-..-', '-.--', '--..', ' ', '-----', '.----', '..---', '...--', '....-', '.....', '-....', '--...', '---..', '----.', '.-...', '.----.', '.--.-.', '-.--.-', '-.--.', '---...', '--..--', '-...-', '-.-.--', '.-.-.-', '-....-', '.-.-.', '.-..-.', '..--..', '-..-.'])\n",
      ". -.. .- -... -... .. -   -.-. .... .- .-.. .-.. . -. --. . \n"
     ]
    }
   ],
   "source": [
    "encode_morse(\"EDABBIT CHALLENGE\")"
   ]
  },
  {
   "cell_type": "code",
   "execution_count": 34,
   "metadata": {},
   "outputs": [
    {
     "name": "stdout",
     "output_type": "stream",
     "text": [
      "E\n",
      "D\n",
      "A\n",
      "B\n",
      "B\n",
      "I\n",
      "T\n",
      " \n",
      "C\n",
      "H\n",
      "A\n",
      "L\n",
      "L\n",
      "E\n",
      "N\n",
      "G\n",
      "E\n"
     ]
    }
   ],
   "source": [
    "s = \"EDABBIT CHALLENGE\"\n",
    "for i in s:\n",
    "    print(i)"
   ]
  },
  {
   "cell_type": "code",
   "execution_count": null,
   "metadata": {},
   "outputs": [],
   "source": [
    ". -.. .- -... -... .. -   -.-. .... .- .-.. .-.. . -. --. . \n",
    ". -.. .- -... -... .. - -.-. .... .- .-.. .-.. . -. --. ."
   ]
  },
  {
   "cell_type": "code",
   "execution_count": null,
   "metadata": {},
   "outputs": [],
   "source": [
    "def myfun(s):\n",
    "    D = { \n",
    "    'A': '.-', 'B': '-...', 'C': '-.-.', 'D': '-..', 'E': '.', 'F': '..-.',  \n",
    "    'G': '--.', 'H': '....', 'I': '..', 'J': '.---', 'K': '-.-', 'L': '.-..', \n",
    "    'M': '--', 'N': '-.', 'O': '---', 'P': '.--.', 'Q': '--.-', 'R': '.-.',  \n",
    "    'S': '...', 'T': '-', 'U': '..-', 'V': '...-', 'W': '.--', 'X': '-..-',  \n",
    "    'Y': '-.--', 'Z': '--..', ' ': ' ', '0': '-----', '1': '.----',  \n",
    "    '2': '..---', '3': '...--', '4': '....-', '5': '.....', '6': '-....',  \n",
    "    '7': '--...', '8': '---..', '9': '----.', '&': '.-...', \"'\": '.----.',  \n",
    "    '@': '.--.-.', ')': '-.--.-', '(': '-.--.', ':': '---...', ',': '--..--',  \n",
    "    '=': '-...-', '!': '-.-.--', '.': '.-.-.-', '-': '-....-', '+': '.-.-.',  \n",
    "    '\"': '.-..-.', '?': '..--..', '/': '-..-.' ,\n",
    "    } \n",
    "    s1=\"\"\n",
    "    for i in s:\n",
    "        if i!=\" \":\n",
    "            s1=s1+D[i]+\" \"\n",
    "    print(s1)"
   ]
  },
  {
   "cell_type": "code",
   "execution_count": null,
   "metadata": {},
   "outputs": [],
   "source": [
    "\"\"\"   \n",
    "4. Write a function that takes a number and returns True if it's a prime; False otherwise. The number \n",
    "can be 2^64−1 (2 to the power of 63, not XOR). With the standard technique it would be \n",
    "O(2 ^64−1), which is much too large for the 10 second time limit.\n",
    "Examples:\n",
    "prime(7) ➞ True\n",
    "prime(56963) ➞ True\n",
    "prime(5151512515524) ➞ False\n",
    "\"\"\"    \n",
    "def myfun(n):\n",
    "    l=list()\n",
    "    for i in range(2,n):\n",
    "        # print(i)\n",
    "        r=n%i\n",
    "        # r=0 if then its not prime\n",
    "        l.append(r)\n",
    "        if r==0:\n",
    "            break\n",
    "        \n",
    "    if 0 in l:\n",
    "        print(\"not prime\")\n",
    "    else:\n",
    "        print(\"prime\")\n",
    "    # print(l)\n",
    "\n"
   ]
  },
  {
   "cell_type": "code",
   "execution_count": 53,
   "metadata": {},
   "outputs": [],
   "source": [
    "\"\"\"    \n",
    "5. Create a function that converts a word to a bitstring and then to a boolean list based on the \n",
    "following criteria: \n",
    " \n",
    "Locate the position of the letter in the English alphabet (from 1 to 26). \n",
    "Odd positions will be represented as 1 and 0 otherwise. \n",
    "Convert the represented positions to boolean values, 1 for True and 0 for False. \n",
    "Store the conversions into an array. \n",
    " \n",
    "Examples: \n",
    "to_boolean_list(\"deep\") ➞ [False, True, True, False] \n",
    "# deep converts to 0110 \n",
    "# d is the 4th alphabet - 0 \n",
    "# e is the 5th alphabet - 1 \n",
    "# e is the 5th alphabet - 1 \n",
    "# p is the 16th alphabet - 0 \n",
    " \n",
    "to_boolean_list(\"loves\") ➞ [False, True, False, True, True] \n",
    " \n",
    "to_boolean_list(\"tesh\") ➞ [False, True, True, False]  \n",
    "\"\"\"    \n",
    "def to_boolean_list(s):\n",
    "    l=[]\n",
    "    for i in s:\n",
    "        if ord(i)%2==0:\n",
    "            l.append(False)\n",
    "        else:\n",
    "            l.append(True)\n",
    "    print(l)"
   ]
  },
  {
   "cell_type": "code",
   "execution_count": 54,
   "metadata": {},
   "outputs": [
    {
     "name": "stdout",
     "output_type": "stream",
     "text": [
      "[False, True, True, False]\n"
     ]
    }
   ],
   "source": [
    "to_boolean_list(\"deep\")"
   ]
  },
  {
   "cell_type": "code",
   "execution_count": 55,
   "metadata": {},
   "outputs": [
    {
     "name": "stdout",
     "output_type": "stream",
     "text": [
      "[False, True, True, False]\n"
     ]
    }
   ],
   "source": [
    "to_boolean_list(\"tesh\")"
   ]
  },
  {
   "cell_type": "code",
   "execution_count": 56,
   "metadata": {},
   "outputs": [
    {
     "name": "stdout",
     "output_type": "stream",
     "text": [
      "[False, True, False, True, True]\n"
     ]
    }
   ],
   "source": [
    "to_boolean_list(\"loves\")"
   ]
  },
  {
   "cell_type": "code",
   "execution_count": 44,
   "metadata": {},
   "outputs": [
    {
     "data": {
      "text/plain": [
       "115"
      ]
     },
     "execution_count": 44,
     "metadata": {},
     "output_type": "execute_result"
    }
   ],
   "source": [
    "s = \"loves\"\n",
    "\n",
    "ord(\"s\")"
   ]
  },
  {
   "cell_type": "code",
   "execution_count": null,
   "metadata": {},
   "outputs": [],
   "source": [
    "\"\"\"    \n",
    "6. Write a function that takes a positive integer num and calculates how many dots exist in a \n",
    "pentagonal shape around the center dot on the Nth iteration. \n",
    " \n",
    "In the image below you can see the first iteration is only a single dot. On the second, there are 6 \n",
    "dots. On the third, there are 16 dots, and on the fourth there are 31 dots. \n",
    " \n",
    "Return the number of dots that exist in the whole pentagon on the Nth iteration. \n",
    "Examples \n",
    " \n",
    "pentagonal(1) ➞ 1 \n",
    "pentagonal(2) ➞ 6 \n",
    "pentagonal(3) ➞ 16 \n",
    "pentagonal(8) ➞ 141\n",
    "\"\"\"     "
   ]
  },
  {
   "attachments": {
    "image.png": {
     "image/png": "[encoded data removed]"
    }
   },
   "cell_type": "markdown",
   "metadata": {},
   "source": [
    "![image.png](attachment:image.png)"
   ]
  },
  {
   "cell_type": "code",
   "execution_count": null,
   "metadata": {},
   "outputs": [],
   "source": [
    "def myfun(n):\n",
    "    if n==1:\n",
    "        return 1\n",
    "    else:\n",
    "        return myfun(n-1)+5*(n-1)"
   ]
  },
  {
   "cell_type": "code",
   "execution_count": 71,
   "metadata": {},
   "outputs": [],
   "source": [
    "\"\"\" \n",
    "7.  Make a function that encrypts a given input with these steps: \n",
    " \n",
    "Input: \"apple\" \n",
    "Step 1: Reverse the input: \"elppa\" \n",
    "Step 2: Replace all vowels using the following chart: \n",
    " \n",
    "a => 0 \n",
    "e => 1 \n",
    "i => 2 \n",
    "o => 2 \n",
    "u => 3 \n",
    " \n",
    "# \"1lpp0\" \n",
    " \n",
    "Step 3: Add \"aca\" to the end of the word: \"1lpp0aca\" \n",
    "Output: \"1lpp0aca\" \n",
    "Examples \n",
    " \n",
    "encrypt(\"banana\") ➞ \"0n0n0baca\" \n",
    "encrypt(\"karaca\") ➞ \"0c0r0kaca\" \n",
    "encrypt(\"burak\") ➞ \"k0r3baca\" \n",
    "encrypt(\"alpaca\") ➞ \"0c0pl0aca\"   \n",
    "\"\"\" \n",
    "def encrypt(s):\n",
    "    d = {\"a\" : 0 ,\"e\" : 1 ,\"i\" : 2 ,\"o\" : 2 ,\"u\" : 3}\n",
    "    s1 = s[::-1]\n",
    "    y = \"\"\n",
    "    for i in s1:\n",
    "        if i == str(d.keys()):\n",
    "            y = y + d.values()\n",
    "        else:\n",
    "            y = y + i\n",
    "    print(y)"
   ]
  },
  {
   "cell_type": "code",
   "execution_count": 72,
   "metadata": {},
   "outputs": [
    {
     "name": "stdout",
     "output_type": "stream",
     "text": [
      "ananab\n"
     ]
    }
   ],
   "source": [
    "encrypt(\"banana\")"
   ]
  },
  {
   "cell_type": "code",
   "execution_count": 58,
   "metadata": {},
   "outputs": [
    {
     "name": "stdout",
     "output_type": "stream",
     "text": [
      "kanuos\n"
     ]
    }
   ],
   "source": [
    "s = \"sounak\"\n",
    "s1 = s[::-1]\n",
    "print(s1)"
   ]
  },
  {
   "cell_type": "code",
   "execution_count": 70,
   "metadata": {},
   "outputs": [
    {
     "name": "stdout",
     "output_type": "stream",
     "text": [
      "<class 'str'>\n"
     ]
    }
   ],
   "source": [
    "d = {\"a\" : 0 ,\"e\" : 1 ,\"i\" : 2 ,\"o\" : 2 ,\"u\" : 3}\n",
    "print(type(str(d.keys())))"
   ]
  },
  {
   "cell_type": "code",
   "execution_count": null,
   "metadata": {},
   "outputs": [],
   "source": [
    "# working code\n",
    "def myfun(s):\n",
    "    x=s[::-1]\n",
    "    l=[\"a\",\"e\",\"i\",\"o\",\"u\"]\n",
    "    D={\n",
    "        \"a\":\"0\",\n",
    "        \"e\":\"1\",\n",
    "        \"i\":\"2\",\n",
    "        \"o\":\"2\",\n",
    "        \"u\":\"3\"\n",
    "        }\n",
    "    y=\"\"\n",
    "    for i in x:\n",
    "        if i in l:\n",
    "            y=y+D[i]\n",
    "        else:\n",
    "            y=y+i\n",
    "    \n",
    "    y=y+\"aca\"\n",
    "    print(y)"
   ]
  }
 ],
 "metadata": {
  "kernelspec": {
   "display_name": "myenv",
   "language": "python",
   "name": "python3"
  },
  "language_info": {
   "codemirror_mode": {
    "name": "ipython",
    "version": 3
   },
   "file_extension": ".py",
   "mimetype": "text/x-python",
   "name": "python",
   "nbconvert_exporter": "python",
   "pygments_lexer": "ipython3",
   "version": "3.11.10"
  }
 },
 "nbformat": 4,
 "nbformat_minor": 2
}
