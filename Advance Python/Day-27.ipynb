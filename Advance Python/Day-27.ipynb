{
 "cells": [
  {
   "cell_type": "code",
   "execution_count": null,
   "metadata": {},
   "outputs": [],
   "source": [
    "\"\"\"\n",
    "30. The Fibonacci sequence is a classic use case for recursive functions since the value of the \n",
    "sequence at a given index is dependent on the sum of the last two values. However, the recursion \n",
    "tree created by solving the Fibonacci sequence recursively can grow quite fast. Therefore it can be \n",
    "important to think about the implications of running a function recursively. Depending on the size of \n",
    "n needed and the capabilities of the system in question you might want to take a different approach. \n",
    " \n",
    "Write a non-recursive function that takes an integer n and returns the Fibonacci sequence's value at \n",
    "index n. \n",
    " \n",
    "Examples \n",
    "fib(6) ➞ 8 \n",
    "# 0 + 1 = 1, 1 + 1 = 2, 1 + 2 = 3, 2 + 3 = 5, 3 + 5 = 8 \n",
    "fib(1) ➞ 1 \n",
    "fib(2) ➞ 1 \n",
    " \n",
    "31. Write a function that counts how many concentric layers a rug. \n",
    "Examples \n",
    "count_layers([ \n",
    "  \"AAAA\", \n",
    "  \"ABBA\", \n",
    "  \"AAAA\" \n",
    "]) ➞ 2 \n",
    " \n",
    "count_layers([ \n",
    "  \"AAAAAAAAA\", \n",
    "  \"ABBBBBBBA\", \n",
    "  \"ABBAAABBA\", \n",
    "  \"ABBBBBBBA\", \n",
    "  \"AAAAAAAAA\" \n",
    "]) ➞ 3 \n",
    " \n",
    "count_layers([ \n",
    "  \"AAAAAAAAAAA\", \n",
    "  \"AABBBBBBBAA\", \n",
    "  \"AABCCCCCBAA\", \n",
    "  \"AABCAAACBAA\", \n",
    "  \"AABCADACBAA\", \n",
    "  \"AABCAAACBAA\", \n",
    "  \"AABCCCCCBAA\", \n",
    "  \"AABBBBBBBAA\", \n",
    "  \"AAAAAAAAAAA\" \n",
    "]) ➞ 5 \n",
    " \n",
    "32. There are many different styles of music and many albums exhibit multiple styles. Create a \n",
    "function that takes a list of musical styles from albums and returns how many styles are unique. \n",
    "Examples \n",
    "unique_styles([ \n",
    "  \"Dub,Dancehall\", \n",
    "  \"Industrial,Heavy Metal\", \n",
    "  \"Techno,Dubstep\", \n",
    "  \"Synth-pop,Euro-Disco\", \n",
    "  \"Industrial,Techno,Minimal\" \n",
    "]) ➞ 9 \n",
    " \n",
    "unique_styles([ \n",
    "  \"Soul\", \n",
    "  \"House,Folk\", \n",
    "  \"Trance,Downtempo,Big Beat,House\", \n",
    "  \"Deep House\", \n",
    "  \"Soul\" \n",
    "]) ➞ 7 \n",
    " \n",
    " \n",
    "33. Create a function that finds a target number in a list of prime numbers. Implement a binary \n",
    "search algorithm in your function. The target number will be from 2 through 97. If the target is prime \n",
    "then return \"yes\" else return \"no\". \n",
    "Examples \n",
    "primes = [2, 3, 5, 7, 11, 13, 17, 19, 23, 29, 31, 37, 41, 43, 47, 53, 59, 61, 67, 71, 73, 79, 83, 89, 97] \n",
    "is_prime(primes, 3) ➞ \"yes\" \n",
    "is_prime(primes, 4) ➞ \"no\" \n",
    " \n",
    "is_prime(primes, 67) ➞ \"yes\" \n",
    "is_prime(primes, 36) ➞ \"no\" \n",
    " \n",
    "34. Create a function that takes in n, a, b and returns the number of positive values raised to the nth \n",
    "power that lie in the range [a, b], inclusive. \n",
    "Examples \n",
    "power_ranger(2, 49, 65) ➞ 2 \n",
    "# 2 squares (n^2) lie between 49 and 65, 49 (7^2) and 64 (8^2) \n",
    "power_ranger(3, 1, 27) ➞ 3 \n",
    "# 3 cubes (n^3) lie between 1 and 27, 1 (1^3), 8 (2^3) and 27 (3^3) \n",
    "power_ranger(10, 1, 5) ➞ 1 \n",
    "# 1 value raised to the 10th power lies between 1 and 5, 1 (1^10) \n",
    "power_ranger(5, 31, 33) ➞ 1 \n",
    "power_ranger(4, 250, 1300) ➞ 3 \n",
    "\n",
    "35. Given a number, return the difference between the maximum and minimum numbers that can be \n",
    "formed when the digits are rearranged. \n",
    " \n",
    "Examples \n",
    "rearranged_difference(972882) ➞ 760833 \n",
    "# 988722 - 227889 = 760833 \n",
    "rearranged_difference(3320707) ➞ 7709823 \n",
    "# 7733200 - 23377 = 7709823 \n",
    "rearranged_difference(90010) ➞ 90981 \n",
    "# 91000 - 19 = 90981 \n",
    " \n",
    " \n",
    "36. Given a sentence as txt, return True if any two adjacent words have this property: One word ends \n",
    "with a vowel, while the word immediately after begins with a vowel (a e i o u). \n",
    "Examples \n",
    " \n",
    "vowel_links(\"a very large appliance\") ➞ True \n",
    "vowel_links(\"go to edabit\") ➞ True \n",
    "vowel_links(\"an open fire\") ➞ False \n",
    "vowel_links(\"a sudden applause\") ➞ False \n",
    " \n",
    "37. You are given three inputs: a string, one letter, and a second letter. \n",
    " \n",
    "Write a function that returns True if every instance of the first letter occurs before every instance of \n",
    "the second letter. \n",
    " \n",
    "Examples \n",
    "first_before_second(\"a rabbit jumps joyfully\", \"a\", \"j\") ➞ True \n",
    "# Every instance of \"a\" occurs before every instance of \"j\". \n",
    "first_before_second(\"knaves knew about waterfalls\", \"k\", \"w\") ➞  True \n",
    "first_before_second(\"happy birthday\", \"a\", \"y\") ➞ False \n",
    "# The \"a\" in \"birthday\" occurs after the \"y\" in \"happy\". \n",
    "first_before_second(\"precarious kangaroos\", \"k\", \"a\") ➞ False \n",
    "\n",
    "\"\"\""
   ]
  },
  {
   "cell_type": "code",
   "execution_count": 1,
   "metadata": {},
   "outputs": [],
   "source": [
    "\"\"\"    \n",
    "30. The Fibonacci sequence is a classic use case for recursive functions since the value of the \n",
    "sequence at a given index is dependent on the sum of the last two values. However, the recursion \n",
    "tree created by solving the Fibonacci sequence recursively can grow quite fast. Therefore it can be \n",
    "important to think about the implications of running a function recursively. Depending on the size of \n",
    "n needed and the capabilities of the system in question you might want to take a different approach. \n",
    " \n",
    "Write a non-recursive function that takes an integer n and returns the Fibonacci sequence's value at \n",
    "index n. \n",
    " \n",
    "Examples \n",
    "fib(6) ➞ 8 \n",
    "# 0 + 1 = 1, 1 + 1 = 2, 1 + 2 = 3, 2 + 3 = 5, 3 + 5 = 8 \n",
    "fib(1) ➞ 1 \n",
    "fib(2) ➞ 1   \n",
    "\"\"\"    \n",
    "def fib(n):\n",
    "    l=[0,1]\n",
    "    for i in range(n):\n",
    "        l.append(l[i]+l[i+1])\n",
    "    print(l[n])"
   ]
  },
  {
   "cell_type": "code",
   "execution_count": 2,
   "metadata": {},
   "outputs": [
    {
     "name": "stdout",
     "output_type": "stream",
     "text": [
      "8\n"
     ]
    }
   ],
   "source": [
    "fib(6)"
   ]
  },
  {
   "cell_type": "code",
   "execution_count": 3,
   "metadata": {},
   "outputs": [
    {
     "name": "stdout",
     "output_type": "stream",
     "text": [
      "1\n"
     ]
    }
   ],
   "source": [
    "fib(1)"
   ]
  },
  {
   "cell_type": "code",
   "execution_count": 4,
   "metadata": {},
   "outputs": [
    {
     "name": "stdout",
     "output_type": "stream",
     "text": [
      "1\n"
     ]
    }
   ],
   "source": [
    "fib(2)"
   ]
  },
  {
   "cell_type": "code",
   "execution_count": 5,
   "metadata": {},
   "outputs": [],
   "source": [
    "\"\"\"  \n",
    "31. Write a function that counts how many concentric layers a rug. \n",
    "Examples \n",
    "count_layers([ \n",
    "  \"AAAA\", \n",
    "  \"ABBA\", \n",
    "  \"AAAA\" \n",
    "]) ➞ 2 \n",
    " \n",
    "count_layers([ \n",
    "  \"AAAAAAAAA\", \n",
    "  \"ABBBBBBBA\", \n",
    "  \"ABBAAABBA\", \n",
    "  \"ABBBBBBBA\", \n",
    "  \"AAAAAAAAA\" \n",
    "]) ➞ 3 \n",
    " \n",
    "count_layers([ \n",
    "  \"AAAAAAAAAAA\", \n",
    "  \"AABBBBBBBAA\", \n",
    "  \"AABCCCCCBAA\", \n",
    "  \"AABCAAACBAA\", \n",
    "  \"AABCADACBAA\", \n",
    "  \"AABCAAACBAA\", \n",
    "  \"AABCCCCCBAA\", \n",
    "  \"AABBBBBBBAA\", \n",
    "  \"AAAAAAAAAAA\" \n",
    "]) ➞ 5 \n",
    "\"\"\"   \n",
    "def count_layers(l):\n",
    "    l=set(l)\n",
    "    l=list(l)\n",
    "    print(len(l))"
   ]
  },
  {
   "cell_type": "code",
   "execution_count": 6,
   "metadata": {},
   "outputs": [
    {
     "name": "stdout",
     "output_type": "stream",
     "text": [
      "5\n"
     ]
    }
   ],
   "source": [
    "count_layers([ \n",
    "  \"AAAAAAAAAAA\", \n",
    "  \"AABBBBBBBAA\", \n",
    "  \"AABCCCCCBAA\", \n",
    "  \"AABCAAACBAA\", \n",
    "  \"AABCADACBAA\", \n",
    "  \"AABCAAACBAA\", \n",
    "  \"AABCCCCCBAA\", \n",
    "  \"AABBBBBBBAA\", \n",
    "  \"AAAAAAAAAAA\" \n",
    "])"
   ]
  },
  {
   "cell_type": "code",
   "execution_count": 7,
   "metadata": {},
   "outputs": [
    {
     "name": "stdout",
     "output_type": "stream",
     "text": [
      "3\n"
     ]
    }
   ],
   "source": [
    "count_layers([ \n",
    "  \"AAAAAAAAA\", \n",
    "  \"ABBBBBBBA\", \n",
    "  \"ABBAAABBA\", \n",
    "  \"ABBBBBBBA\", \n",
    "  \"AAAAAAAAA\" \n",
    "])"
   ]
  },
  {
   "cell_type": "code",
   "execution_count": 8,
   "metadata": {},
   "outputs": [
    {
     "name": "stdout",
     "output_type": "stream",
     "text": [
      "2\n"
     ]
    }
   ],
   "source": [
    "count_layers([ \n",
    "  \"AAAA\", \n",
    "  \"ABBA\", \n",
    "  \"AAAA\" \n",
    "])"
   ]
  },
  {
   "cell_type": "code",
   "execution_count": 9,
   "metadata": {},
   "outputs": [
    {
     "data": {
      "text/plain": [
       "'    \\n32. There are many different styles of music and many albums exhibit multiple styles. Create a \\nfunction that takes a list of musical styles from albums and returns how many styles are unique. \\nExamples \\nunique_styles([ \\n  \"Dub,Dancehall\", \\n  \"Industrial,Heavy Metal\", \\n  \"Techno,Dubstep\", \\n  \"Synth-pop,Euro-Disco\", \\n  \"Industrial,Techno,Minimal\" \\n]) ➞ 9 \\n \\nunique_styles([ \\n  \"Soul\", \\n  \"House,Folk\", \\n  \"Trance,Downtempo,Big Beat,House\", \\n  \"Deep House\", \\n  \"Soul\" \\n]) ➞ 7 \\n'"
      ]
     },
     "execution_count": 9,
     "metadata": {},
     "output_type": "execute_result"
    }
   ],
   "source": [
    "\"\"\"    \n",
    "32. There are many different styles of music and many albums exhibit multiple styles. Create a \n",
    "function that takes a list of musical styles from albums and returns how many styles are unique. \n",
    "Examples \n",
    "unique_styles([ \n",
    "  \"Dub,Dancehall\", \n",
    "  \"Industrial,Heavy Metal\", \n",
    "  \"Techno,Dubstep\", \n",
    "  \"Synth-pop,Euro-Disco\", \n",
    "  \"Industrial,Techno,Minimal\" \n",
    "]) ➞ 9 \n",
    " \n",
    "unique_styles([ \n",
    "  \"Soul\", \n",
    "  \"House,Folk\", \n",
    "  \"Trance,Downtempo,Big Beat,House\", \n",
    "  \"Deep House\", \n",
    "  \"Soul\" \n",
    "]) ➞ 7 \n",
    "\"\"\"  \n",
    "# pass "
   ]
  },
  {
   "cell_type": "code",
   "execution_count": 29,
   "metadata": {},
   "outputs": [
    {
     "name": "stdout",
     "output_type": "stream",
     "text": [
      "yes\n"
     ]
    }
   ],
   "source": [
    "\"\"\" \n",
    "33. Create a function that finds a target number in a list of prime numbers. Implement a binary \n",
    "search algorithm in your function. The target number will be from 2 through 97. If the target is prime \n",
    "then return \"yes\" else return \"no\". \n",
    "Examples \n",
    "primes = [2, 3, 5, 7, 11, 13, 17, 19, 23, 29, 31, 37, 41, 43, 47, 53, 59, 61, 67, 71, 73, 79, 83, 89, 97] \n",
    "is_prime(primes, 3) ➞ \"yes\" \n",
    "is_prime(primes, 4) ➞ \"no\" \n",
    " \n",
    "is_prime(primes, 67) ➞ \"yes\" \n",
    "is_prime(primes, 36) ➞ \"no\"   \n",
    "\"\"\"\n",
    "def is_prime(prime,n):\n",
    "    c = 0\n",
    "    if n>=primes[0] and n<=primes[-1]:\n",
    "        for i in range(1,n-1):\n",
    "            if n%i == 0:\n",
    "                c += 1\n",
    "        if c <= 1:\n",
    "            return \"yes\"\n",
    "        else:\n",
    "            return \"no\"\n",
    "\n",
    "\n",
    "primes = [2, 3, 5, 7, 11, 13, 17, 19, 23, 29, 31, 37, 41, 43, 47, 53, 59, 61, 67, 71, 73, 79, 83, 89, 97]\n",
    "n  = int(input(\"Enter the target : \"))\n",
    "res = is_prime(primes,n)\n",
    "print(res)"
   ]
  },
  {
   "cell_type": "code",
   "execution_count": 64,
   "metadata": {},
   "outputs": [],
   "source": [
    "\"\"\"    \n",
    "34. Create a function that takes in n, a, b and returns the number of positive values raised to the nth \n",
    "power that lie in the range [a, b], inclusive. \n",
    "Examples \n",
    "power_ranger(2, 49, 65) ➞ 2 \n",
    "# 2 squares (n^2) lie between 49 and 65, 49 (7^2) and 64 (8^2) \n",
    "power_ranger(3, 1, 27) ➞ 3 \n",
    "# 3 cubes (n^3) lie between 1 and 27, 1 (1^3), 8 (2^3) and 27 (3^3) \n",
    "power_ranger(10, 1, 5) ➞ 1 \n",
    "# 1 value raised to the 10th power lies between 1 and 5, 1 (1^10) \n",
    "power_ranger(5, 31, 33) ➞ 1 \n",
    "power_ranger(4, 250, 1300) ➞ 3 \n",
    "\"\"\"    \n",
    "def power_ranger(n,a,b):\n",
    "    c = 0\n",
    "    sum = 0\n",
    "    for i in range(a,b+1):\n",
    "        c += 1\n",
    "        if (c**n)>=a and (c**n)<=b:\n",
    "            sum = sum+1\n",
    "    print(sum)"
   ]
  },
  {
   "cell_type": "code",
   "execution_count": 65,
   "metadata": {},
   "outputs": [
    {
     "name": "stdout",
     "output_type": "stream",
     "text": [
      "2\n"
     ]
    }
   ],
   "source": [
    "power_ranger(2, 49, 65)"
   ]
  },
  {
   "cell_type": "code",
   "execution_count": 66,
   "metadata": {},
   "outputs": [
    {
     "name": "stdout",
     "output_type": "stream",
     "text": [
      "3\n"
     ]
    }
   ],
   "source": [
    "power_ranger(3, 1, 27)"
   ]
  },
  {
   "cell_type": "code",
   "execution_count": 67,
   "metadata": {},
   "outputs": [
    {
     "name": "stdout",
     "output_type": "stream",
     "text": [
      "1\n"
     ]
    }
   ],
   "source": [
    "power_ranger(10, 1, 5)"
   ]
  },
  {
   "cell_type": "code",
   "execution_count": 68,
   "metadata": {},
   "outputs": [
    {
     "name": "stdout",
     "output_type": "stream",
     "text": [
      "3\n"
     ]
    }
   ],
   "source": [
    "power_ranger(4, 250, 1300)"
   ]
  },
  {
   "cell_type": "code",
   "execution_count": 69,
   "metadata": {},
   "outputs": [],
   "source": [
    "def power_ranger1(n,a,b):\n",
    "    sum = 0\n",
    "    for i in range(b+1):\n",
    "        if (i**n)>=a and (i**n)<=b:\n",
    "            sum = sum+1\n",
    "    print(sum)"
   ]
  },
  {
   "cell_type": "code",
   "execution_count": 70,
   "metadata": {},
   "outputs": [
    {
     "name": "stdout",
     "output_type": "stream",
     "text": [
      "2\n"
     ]
    }
   ],
   "source": [
    "power_ranger(2, 49, 65)"
   ]
  },
  {
   "cell_type": "code",
   "execution_count": 71,
   "metadata": {},
   "outputs": [
    {
     "name": "stdout",
     "output_type": "stream",
     "text": [
      "3\n"
     ]
    }
   ],
   "source": [
    "power_ranger(3, 1, 27)"
   ]
  },
  {
   "cell_type": "code",
   "execution_count": 93,
   "metadata": {},
   "outputs": [],
   "source": [
    "\"\"\"   \n",
    "35. Given a number, return the difference between the maximum and minimum numbers that can be \n",
    "formed when the digits are rearranged. \n",
    " \n",
    "Examples \n",
    "rearranged_difference(972882) ➞ 760833 \n",
    "# 988722 - 227889 = 760833 \n",
    "rearranged_difference(3320707) ➞ 7709823 \n",
    "# 7733200 - 23377 = 7709823 \n",
    "rearranged_difference(90010) ➞ 90981 \n",
    "# 91000 - 19 = 90981 \n",
    "\"\"\"   \n",
    "def rearranged_difference(n):\n",
    "    m = str(n)\n",
    "    l = []\n",
    "    for i in m:\n",
    "        if i!=0:\n",
    "            l.append(i)\n",
    "    l.reverse()\n",
    "    print(l)\n",
    "    l.sort()\n",
    "    m=\"\".join(l)\n",
    "    m=int(m)\n",
    "    print(type(m))\n",
    "    print(n-m)"
   ]
  },
  {
   "cell_type": "code",
   "execution_count": 94,
   "metadata": {},
   "outputs": [
    {
     "name": "stdout",
     "output_type": "stream",
     "text": [
      "['2', '8', '8', '2', '7', '9']\n",
      "<class 'int'>\n",
      "744993\n"
     ]
    }
   ],
   "source": [
    "rearranged_difference(972882)"
   ]
  },
  {
   "cell_type": "code",
   "execution_count": 92,
   "metadata": {},
   "outputs": [
    {
     "name": "stdout",
     "output_type": "stream",
     "text": [
      "972882\n"
     ]
    }
   ],
   "source": [
    "n = 972882\n",
    "m = str(n)\n",
    "print(m)"
   ]
  },
  {
   "cell_type": "code",
   "execution_count": 74,
   "metadata": {},
   "outputs": [
    {
     "name": "stdout",
     "output_type": "stream",
     "text": [
      "[4, 3, 2, 1]\n"
     ]
    }
   ],
   "source": [
    "l = [1,2,3,4]\n",
    "l.reverse()\n",
    "print(l)"
   ]
  },
  {
   "cell_type": "code",
   "execution_count": 134,
   "metadata": {},
   "outputs": [],
   "source": [
    "def rearranged_difference(n):\n",
    "    m = str(n)\n",
    "    l = []\n",
    "    for i in m:\n",
    "        if i!=0:\n",
    "            l.append(int(i))\n",
    "    l.reverse()\n",
    "    l.sort()\n",
    "    l1=[str(i) for i in l]\n",
    "    l.sort(reverse=True)\n",
    "    l2=[str(i) for i in l]\n",
    "    m=\"\".join(l1)\n",
    "    m1=\"\".join(l2)\n",
    "    m=int(m)\n",
    "    m1=int(m1)\n",
    "    print(m1)\n",
    "    print(m)\n",
    "    print(m1-m)"
   ]
  },
  {
   "cell_type": "code",
   "execution_count": 135,
   "metadata": {},
   "outputs": [
    {
     "name": "stdout",
     "output_type": "stream",
     "text": [
      "988722\n",
      "227889\n",
      "760833\n"
     ]
    }
   ],
   "source": [
    "rearranged_difference(972882)\n",
    "# 988722 - 227889 = 760833"
   ]
  },
  {
   "cell_type": "code",
   "execution_count": 136,
   "metadata": {},
   "outputs": [
    {
     "name": "stdout",
     "output_type": "stream",
     "text": [
      "7733200\n",
      "23377\n",
      "7709823\n"
     ]
    }
   ],
   "source": [
    "rearranged_difference(3320707)"
   ]
  },
  {
   "cell_type": "code",
   "execution_count": 137,
   "metadata": {},
   "outputs": [
    {
     "name": "stdout",
     "output_type": "stream",
     "text": [
      "91000\n",
      "19\n",
      "90981\n"
     ]
    }
   ],
   "source": [
    "rearranged_difference(90010)\n",
    "# 91000 - 19 = 90981"
   ]
  },
  {
   "cell_type": "code",
   "execution_count": 156,
   "metadata": {},
   "outputs": [],
   "source": [
    "\"\"\"     \n",
    "36. Given a sentence as txt, return True if any two adjacent words have this property: One word ends \n",
    "with a vowel, while the word immediately after begins with a vowel (a e i o u). \n",
    "Examples \n",
    " \n",
    "vowel_links(\"a very large appliance\") ➞ True \n",
    "vowel_links(\"go to edabit\") ➞ True \n",
    "vowel_links(\"an open fire\") ➞ False \n",
    "vowel_links(\"a sudden applause\") ➞ False\n",
    "\"\"\"    \n",
    "# perfectly working code:\n",
    "def vowel_links(s):\n",
    "    f = 0\n",
    "    vowels = \"aeiou\"\n",
    "    for i in range(0,len(s)-1):\n",
    "        if s[i] == \" \":\n",
    "            if(s[i-1] in vowels) and (s[i+1] in vowels):\n",
    "                f = 1\n",
    "    if f==1:\n",
    "        print(True)\n",
    "    else:\n",
    "        print(False)"
   ]
  },
  {
   "cell_type": "code",
   "execution_count": 157,
   "metadata": {},
   "outputs": [
    {
     "name": "stdout",
     "output_type": "stream",
     "text": [
      "True\n"
     ]
    }
   ],
   "source": [
    "vowel_links(\"a very large appliance\")"
   ]
  },
  {
   "cell_type": "code",
   "execution_count": 158,
   "metadata": {},
   "outputs": [
    {
     "name": "stdout",
     "output_type": "stream",
     "text": [
      "True\n"
     ]
    }
   ],
   "source": [
    "vowel_links(\"go to edabit\")"
   ]
  },
  {
   "cell_type": "code",
   "execution_count": 159,
   "metadata": {},
   "outputs": [
    {
     "name": "stdout",
     "output_type": "stream",
     "text": [
      "False\n"
     ]
    }
   ],
   "source": [
    "vowel_links(\"an open fire\")"
   ]
  },
  {
   "cell_type": "code",
   "execution_count": 160,
   "metadata": {},
   "outputs": [
    {
     "name": "stdout",
     "output_type": "stream",
     "text": [
      "False\n"
     ]
    }
   ],
   "source": [
    "vowel_links(\"a sudden applause\")"
   ]
  },
  {
   "cell_type": "code",
   "execution_count": 142,
   "metadata": {},
   "outputs": [],
   "source": [
    "def vowel_links(s):\n",
    "    f = 0\n",
    "    for i in s:\n",
    "        if i == \" \":\n",
    "            if (i-1==a or i-1==e or i-1==i or i-1==o or i-1==u) and (i+1==a or i+1==e or i+1==i or i+1==o or i+1==u):\n",
    "                f = 1\n",
    "    if f == 1:\n",
    "        print(True)"
   ]
  },
  {
   "cell_type": "code",
   "execution_count": 143,
   "metadata": {},
   "outputs": [
    {
     "ename": "TypeError",
     "evalue": "unsupported operand type(s) for -: 'str' and 'int'",
     "output_type": "error",
     "traceback": [
      "\u001b[1;31m---------------------------------------------------------------------------\u001b[0m",
      "\u001b[1;31mTypeError\u001b[0m                                 Traceback (most recent call last)",
      "Cell \u001b[1;32mIn[143], line 1\u001b[0m\n\u001b[1;32m----> 1\u001b[0m \u001b[43mvowel_links\u001b[49m\u001b[43m(\u001b[49m\u001b[38;5;124;43m\"\u001b[39;49m\u001b[38;5;124;43ma very large appliance\u001b[39;49m\u001b[38;5;124;43m\"\u001b[39;49m\u001b[43m)\u001b[49m\n",
      "Cell \u001b[1;32mIn[142], line 5\u001b[0m, in \u001b[0;36mvowel_links\u001b[1;34m(s)\u001b[0m\n\u001b[0;32m      3\u001b[0m \u001b[38;5;28;01mfor\u001b[39;00m i \u001b[38;5;129;01min\u001b[39;00m s:\n\u001b[0;32m      4\u001b[0m     \u001b[38;5;28;01mif\u001b[39;00m i \u001b[38;5;241m==\u001b[39m \u001b[38;5;124m\"\u001b[39m\u001b[38;5;124m \u001b[39m\u001b[38;5;124m\"\u001b[39m:\n\u001b[1;32m----> 5\u001b[0m         \u001b[38;5;28;01mif\u001b[39;00m (\u001b[43mi\u001b[49m\u001b[38;5;241;43m-\u001b[39;49m\u001b[38;5;241;43m1\u001b[39;49m\u001b[38;5;241m==\u001b[39ma \u001b[38;5;129;01mor\u001b[39;00m i\u001b[38;5;241m-\u001b[39m\u001b[38;5;241m1\u001b[39m\u001b[38;5;241m==\u001b[39me \u001b[38;5;129;01mor\u001b[39;00m i\u001b[38;5;241m-\u001b[39m\u001b[38;5;241m1\u001b[39m\u001b[38;5;241m==\u001b[39mi \u001b[38;5;129;01mor\u001b[39;00m i\u001b[38;5;241m-\u001b[39m\u001b[38;5;241m1\u001b[39m\u001b[38;5;241m==\u001b[39mo \u001b[38;5;129;01mor\u001b[39;00m i\u001b[38;5;241m-\u001b[39m\u001b[38;5;241m1\u001b[39m\u001b[38;5;241m==\u001b[39mu) \u001b[38;5;129;01mand\u001b[39;00m (i\u001b[38;5;241m+\u001b[39m\u001b[38;5;241m1\u001b[39m\u001b[38;5;241m==\u001b[39ma \u001b[38;5;129;01mor\u001b[39;00m i\u001b[38;5;241m+\u001b[39m\u001b[38;5;241m1\u001b[39m\u001b[38;5;241m==\u001b[39me \u001b[38;5;129;01mor\u001b[39;00m i\u001b[38;5;241m+\u001b[39m\u001b[38;5;241m1\u001b[39m\u001b[38;5;241m==\u001b[39mi \u001b[38;5;129;01mor\u001b[39;00m i\u001b[38;5;241m+\u001b[39m\u001b[38;5;241m1\u001b[39m\u001b[38;5;241m==\u001b[39mo \u001b[38;5;129;01mor\u001b[39;00m i\u001b[38;5;241m+\u001b[39m\u001b[38;5;241m1\u001b[39m\u001b[38;5;241m==\u001b[39mu):\n\u001b[0;32m      6\u001b[0m             f \u001b[38;5;241m=\u001b[39m \u001b[38;5;241m1\u001b[39m\n\u001b[0;32m      7\u001b[0m \u001b[38;5;28;01mif\u001b[39;00m f \u001b[38;5;241m==\u001b[39m \u001b[38;5;241m1\u001b[39m:\n",
      "\u001b[1;31mTypeError\u001b[0m: unsupported operand type(s) for -: 'str' and 'int'"
     ]
    }
   ],
   "source": [
    "vowel_links(\"a very large appliance\")"
   ]
  },
  {
   "cell_type": "code",
   "execution_count": 139,
   "metadata": {},
   "outputs": [
    {
     "name": "stdout",
     "output_type": "stream",
     "text": [
      "a\n",
      " \n",
      "v\n",
      "e\n",
      "r\n",
      "y\n",
      " \n",
      "l\n",
      "a\n",
      "r\n",
      "g\n",
      "e\n",
      " \n",
      "a\n",
      "p\n",
      "p\n",
      "l\n",
      "i\n",
      "a\n",
      "n\n",
      "c\n",
      "e\n"
     ]
    }
   ],
   "source": [
    "s = \"a very large appliance\"\n",
    "for  i in s:\n",
    "    print(i)"
   ]
  },
  {
   "cell_type": "code",
   "execution_count": 180,
   "metadata": {},
   "outputs": [],
   "source": [
    "\"\"\"    \n",
    "37. You are given three inputs: a string, one letter, and a second letter. \n",
    " \n",
    "Write a function that returns True if every instance of the first letter occurs before every instance of \n",
    "the second letter. \n",
    " \n",
    "Examples \n",
    "first_before_second(\"a rabbit jumps joyfully\", \"a\", \"j\") ➞ True \n",
    "# Every instance of \"a\" occurs before every instance of \"j\". \n",
    "first_before_second(\"knaves knew about waterfalls\", \"k\", \"w\") ➞  True \n",
    "first_before_second(\"happy birthday\", \"a\", \"y\") ➞ False \n",
    "# The \"a\" in \"birthday\" occurs after the \"y\" in \"happy\". \n",
    "first_before_second(\"precarious kangaroos\", \"k\", \"a\") ➞ False  \n",
    "\"\"\"    \n",
    "def first_before_second(s,l1,l2):\n",
    "    f = 0\n",
    "    for i in range(0,len(s)-1):\n",
    "        for j in range(i+1,len(s)-1):\n",
    "            if (s[i] == l2) and (s[j]==l1):\n",
    "                f = 1\n",
    "    if f == 1:\n",
    "        print(False)\n",
    "    else:\n",
    "        print(True)"
   ]
  },
  {
   "cell_type": "code",
   "execution_count": 185,
   "metadata": {},
   "outputs": [
    {
     "name": "stdout",
     "output_type": "stream",
     "text": [
      "True\n"
     ]
    }
   ],
   "source": [
    "first_before_second(\"a rabbit jumps joyfully\", \"a\", \"j\")\n",
    "# Every instance of \"a\" occurs before every instance of \"j\"."
   ]
  },
  {
   "cell_type": "code",
   "execution_count": 186,
   "metadata": {},
   "outputs": [
    {
     "name": "stdout",
     "output_type": "stream",
     "text": [
      "True\n"
     ]
    }
   ],
   "source": [
    "first_before_second(\"knaves knew about waterfalls\", \"k\", \"w\")"
   ]
  },
  {
   "cell_type": "code",
   "execution_count": 188,
   "metadata": {},
   "outputs": [
    {
     "name": "stdout",
     "output_type": "stream",
     "text": [
      "False\n"
     ]
    }
   ],
   "source": [
    "first_before_second(\"happy birthday\", \"a\", \"y\")\n",
    "# The \"a\" in \"birthday\" occurs after the \"y\" in \"happy\"."
   ]
  },
  {
   "cell_type": "code",
   "execution_count": 189,
   "metadata": {},
   "outputs": [
    {
     "name": "stdout",
     "output_type": "stream",
     "text": [
      "False\n"
     ]
    }
   ],
   "source": [
    "first_before_second(\"precarious kangaroos\", \"k\", \"a\")"
   ]
  },
  {
   "cell_type": "code",
   "execution_count": 176,
   "metadata": {},
   "outputs": [
    {
     "name": "stdout",
     "output_type": "stream",
     "text": [
      "True\n",
      "True\n"
     ]
    }
   ],
   "source": [
    "s=\"a rabbit jumps joyfully\"\n",
    "l1 = \"a\"\n",
    "for i in range(0,len(s)-1):\n",
    "    if s[i]==l1:\n",
    "        print(True)"
   ]
  },
  {
   "cell_type": "code",
   "execution_count": null,
   "metadata": {},
   "outputs": [],
   "source": []
  }
 ],
 "metadata": {
  "kernelspec": {
   "display_name": "myenv",
   "language": "python",
   "name": "python3"
  },
  "language_info": {
   "codemirror_mode": {
    "name": "ipython",
    "version": 3
   },
   "file_extension": ".py",
   "mimetype": "text/x-python",
   "name": "python",
   "nbconvert_exporter": "python",
   "pygments_lexer": "ipython3",
   "version": "3.11.10"
  }
 },
 "nbformat": 4,
 "nbformat_minor": 2
}
