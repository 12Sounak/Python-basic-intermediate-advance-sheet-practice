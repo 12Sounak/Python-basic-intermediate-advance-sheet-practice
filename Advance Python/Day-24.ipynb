{
 "cells": [
  {
   "cell_type": "code",
   "execution_count": null,
   "metadata": {},
   "outputs": [],
   "source": [
    "\"\"\" \n",
    "8. Given the month and year as numbers, return whether that month contains a Friday 13th.(i.e You \n",
    "can check Python's datetime module) \n",
    " \n",
    "Examples \n",
    " \n",
    "has_friday_13(3, 2020) ➞ True \n",
    "has_friday_13(10, 2017) ➞ True \n",
    "has_friday_13(1, 1985) ➞ False   \n",
    "\"\"\" \n",
    "def has_friday_13(m,y):\n",
    "    date=datetime.date(y,m,13)\n",
    "    return date.weekday()==4"
   ]
  },
  {
   "cell_type": "code",
   "execution_count": null,
   "metadata": {},
   "outputs": [],
   "source": [
    "\"\"\"  \n",
    "9. Write a regular expression that will help us count how many bad cookies are produced every day. \n",
    "You must use RegEx negative lookbehind. \n",
    " \n",
    "Example \n",
    " \n",
    "lst = [\"bad cookie\", \"good cookie\", \"bad cookie\", \"good cookie\", \"good cookie\"] \n",
    "pattern = \"yourregularexpressionhere\" \n",
    "len(re.findall(pattern, \", \".join(lst))) ➞ 2 \n",
    "\"\"\"  "
   ]
  },
  {
   "cell_type": "code",
   "execution_count": 5,
   "metadata": {},
   "outputs": [],
   "source": [
    "\"\"\"    \n",
    "10. Given a list of words in the singular form, return a set of those words in the plural form if they \n",
    "appear more than once in the list. \n",
    " \n",
    "Examples \n",
    " \n",
    "pluralize([\"cow\", \"pig\", \"cow\", \"cow\"]) ➞ { \"cows\", \"pig\" } \n",
    "pluralize([\"table\", \"table\", \"table\"]) ➞ { \"tables\" } \n",
    "pluralize([\"chair\", \"pencil\", \"arm\"]) ➞ { \"chair\", \"pencil\", \"arm\" } \n",
    "\"\"\"       \n",
    "def pluralize(l):\n",
    "    l1=[]\n",
    "    D=dict()\n",
    "    s = set(l)\n",
    "    l1 = list(s)\n",
    "    l2=[]\n",
    "    for i in l:\n",
    "        D[i]=l1.count(i)\n",
    "    for i in D.values():\n",
    "        if i>=2:\n",
    "            l2.append(D.keys())"
   ]
  },
  {
   "cell_type": "code",
   "execution_count": 14,
   "metadata": {},
   "outputs": [
    {
     "name": "stdout",
     "output_type": "stream",
     "text": [
      "['cows', 'pig']\n"
     ]
    }
   ],
   "source": [
    "pluralize([\"cow\", \"pig\", \"cow\", \"cow\"])"
   ]
  },
  {
   "cell_type": "code",
   "execution_count": 15,
   "metadata": {},
   "outputs": [],
   "source": [
    "def pluralize(l):\n",
    "    l1=[]\n",
    "    l2=[]\n",
    "    for i in l:\n",
    "        if l.count(i)>=2:\n",
    "            l1.append(i+\"s\") \n",
    "        else:\n",
    "            l2.append(i)\n",
    "    l1=set(l1)\n",
    "    l1=list(l1)\n",
    "    l1.extend(l2)\n",
    "    l1=set(l1)\n",
    "    print(l1)\n"
   ]
  },
  {
   "cell_type": "code",
   "execution_count": 16,
   "metadata": {},
   "outputs": [
    {
     "name": "stdout",
     "output_type": "stream",
     "text": [
      "{'cows', 'pig'}\n"
     ]
    }
   ],
   "source": [
    "pluralize([\"cow\", \"pig\", \"cow\", \"cow\"])"
   ]
  },
  {
   "cell_type": "code",
   "execution_count": null,
   "metadata": {},
   "outputs": [],
   "source": [
    "\"\"\" \n",
    "11. Create a function to perform basic arithmetic operations that includes addition, subtraction, \n",
    "multiplication and division on a string number (e.g. \"12 + 24\" or \"23 - 21\" or \"12 // 12\" or \"12 * 21\"). \n",
    " \n",
    "Here, we have 1 followed by a space, operator followed by another space and 2. For the challenge, \n",
    "we are going to have only two numbers between 1 valid operator. The return value should be a \n",
    "number. \n",
    " \n",
    "eval() is not allowed. In case of division, whenever the second number equals \"0\" return -1. \n",
    " \n",
    "For example: \n",
    " \n",
    "\"15 // 0\"  ➞ -1 \n",
    " \n",
    "Examples \n",
    " \n",
    "arithmetic_operation(\"12 + 12\") ➞ 24 // 12 + 12 = 24 \n",
    "arithmetic_operation(\"12 - 12\") ➞ 24 // 12 - 12 = 0 \n",
    "arithmetic_operation(\"12 * 12\") ➞ 144 // 12 * 12 = 144 \n",
    "arithmetic_operation(\"12 // 0\") ➞ -1 // 12 / 0 = -1  \n",
    "\"\"\" \n",
    "def arithmetic_operation(s):\n",
    "    for i in s:\n",
    "        int()"
   ]
  },
  {
   "cell_type": "code",
   "execution_count": 20,
   "metadata": {},
   "outputs": [
    {
     "name": "stdout",
     "output_type": "stream",
     "text": [
      "1\n",
      "2\n"
     ]
    },
    {
     "ename": "ValueError",
     "evalue": "invalid literal for int() with base 10: ' '",
     "output_type": "error",
     "traceback": [
      "\u001b[1;31m---------------------------------------------------------------------------\u001b[0m",
      "\u001b[1;31mValueError\u001b[0m                                Traceback (most recent call last)",
      "Cell \u001b[1;32mIn[20], line 3\u001b[0m\n\u001b[0;32m      1\u001b[0m s \u001b[38;5;241m=\u001b[39m \u001b[38;5;124m\"\u001b[39m\u001b[38;5;124m12 + 12\u001b[39m\u001b[38;5;124m\"\u001b[39m\n\u001b[0;32m      2\u001b[0m \u001b[38;5;28;01mfor\u001b[39;00m i \u001b[38;5;129;01min\u001b[39;00m s:\n\u001b[1;32m----> 3\u001b[0m     \u001b[38;5;28mprint\u001b[39m(\u001b[38;5;28;43mint\u001b[39;49m\u001b[43m(\u001b[49m\u001b[43mi\u001b[49m\u001b[43m)\u001b[49m)\n",
      "\u001b[1;31mValueError\u001b[0m: invalid literal for int() with base 10: ' '"
     ]
    }
   ],
   "source": [
    "s = \"12 + 12\"\n",
    "print(int(s[0]))"
   ]
  },
  {
   "cell_type": "code",
   "execution_count": 21,
   "metadata": {},
   "outputs": [
    {
     "name": "stdout",
     "output_type": "stream",
     "text": [
      "1\n",
      "2\n"
     ]
    },
    {
     "ename": "ValueError",
     "evalue": "invalid literal for int() with base 10: ' '",
     "output_type": "error",
     "traceback": [
      "\u001b[1;31m---------------------------------------------------------------------------\u001b[0m",
      "\u001b[1;31mValueError\u001b[0m                                Traceback (most recent call last)",
      "Cell \u001b[1;32mIn[21], line 3\u001b[0m\n\u001b[0;32m      1\u001b[0m s \u001b[38;5;241m=\u001b[39m \u001b[38;5;124m\"\u001b[39m\u001b[38;5;124m12 + 12\u001b[39m\u001b[38;5;124m\"\u001b[39m\n\u001b[0;32m      2\u001b[0m \u001b[38;5;28;01mfor\u001b[39;00m i \u001b[38;5;129;01min\u001b[39;00m \u001b[38;5;28mrange\u001b[39m(\u001b[38;5;241m0\u001b[39m,\u001b[38;5;28mlen\u001b[39m(s)):\n\u001b[1;32m----> 3\u001b[0m     \u001b[38;5;28mprint\u001b[39m(\u001b[38;5;28;43mint\u001b[39;49m\u001b[43m(\u001b[49m\u001b[43ms\u001b[49m\u001b[43m[\u001b[49m\u001b[43mi\u001b[49m\u001b[43m]\u001b[49m\u001b[43m)\u001b[49m)\n",
      "\u001b[1;31mValueError\u001b[0m: invalid literal for int() with base 10: ' '"
     ]
    }
   ],
   "source": [
    "s = \"12 + 12\"\n",
    "for i in range(0,len(s)):\n",
    "    print(int(s[i]))"
   ]
  },
  {
   "cell_type": "code",
   "execution_count": 65,
   "metadata": {},
   "outputs": [],
   "source": [
    "def arithmetic_operation(s):\n",
    "    l = s.split(\" \")\n",
    "    l1 = []\n",
    "    l1.append(int(l[0]))\n",
    "    l1.append(int(l[2]))\n",
    "    if l[1]==\"+\":\n",
    "        print(int(l[0])+int(l[2]))\n",
    "    if l[1]==\"-\":\n",
    "        print(int(l[0])-int(l[2]))\n",
    "    if l[1]==\"*\":\n",
    "        print(int(l[0])*int(l[2]))\n",
    "    if l[1]==\"//\":\n",
    "        if int(l[2]) == 0:\n",
    "            print(-1)\n",
    "        else:\n",
    "            print(int(l[0])//int(l[2]))\n",
    "\n"
   ]
  },
  {
   "cell_type": "code",
   "execution_count": 66,
   "metadata": {},
   "outputs": [
    {
     "name": "stdout",
     "output_type": "stream",
     "text": [
      "-1\n"
     ]
    }
   ],
   "source": [
    "arithmetic_operation(\"12 // 0\")"
   ]
  },
  {
   "cell_type": "code",
   "execution_count": 67,
   "metadata": {},
   "outputs": [
    {
     "name": "stdout",
     "output_type": "stream",
     "text": [
      "24\n"
     ]
    }
   ],
   "source": [
    "arithmetic_operation(\"12 + 12\")"
   ]
  },
  {
   "cell_type": "code",
   "execution_count": 68,
   "metadata": {},
   "outputs": [
    {
     "name": "stdout",
     "output_type": "stream",
     "text": [
      "0\n"
     ]
    }
   ],
   "source": [
    "arithmetic_operation(\"12 - 12\")"
   ]
  },
  {
   "cell_type": "code",
   "execution_count": 69,
   "metadata": {},
   "outputs": [
    {
     "name": "stdout",
     "output_type": "stream",
     "text": [
      "144\n"
     ]
    }
   ],
   "source": [
    "arithmetic_operation(\"12 * 12\")"
   ]
  },
  {
   "cell_type": "code",
   "execution_count": 70,
   "metadata": {},
   "outputs": [
    {
     "name": "stdout",
     "output_type": "stream",
     "text": [
      "-1\n"
     ]
    }
   ],
   "source": [
    "arithmetic_operation(\"12 // 0\")"
   ]
  },
  {
   "cell_type": "code",
   "execution_count": null,
   "metadata": {},
   "outputs": [],
   "source": [
    "\"\"\"    \n",
    "12. Write a function that takes the coordinates of three points in the form of a 2d array and returns \n",
    "the perimeter of the triangle. The given points are the vertices of a triangle on a two-dimensional \n",
    "plane. \n",
    " \n",
    "Examples \n",
    "perimeter( [ [15, 7], [5, 22], [11, 1] ] ) ➞ 47.08 \n",
    "perimeter( [ [0, 0], [0, 1], [1, 0] ] ) ➞ 3.42 \n",
    "perimeter( [ [-10, -10], [10, 10 ], [-10, 10] ] ) ➞ 68.28 \n",
    "\"\"\"    \n",
    "def perimeter(l): \n",
    "    l1=l[0]\n",
    "    l2=l[1]\n",
    "    l3=l[2]\n",
    "    s1=(((l1[0]-l2[0])**2)+((l1[1]-l2[1])**2))**(0.5)\n",
    "    s2=(((l2[0]-l3[0])**2)+((l2[1]-l3[1])**2))**(0.5)\n",
    "    s3=(((l3[0]-l1[0])**2)+((l3[1]-l1[1])**2))**(0.5)\n",
    "    print(round((s1+s2+s3),2))\n"
   ]
  },
  {
   "cell_type": "code",
   "execution_count": 1,
   "metadata": {},
   "outputs": [
    {
     "name": "stdout",
     "output_type": "stream",
     "text": [
      "3\n"
     ]
    }
   ],
   "source": [
    "l = [ [15, 7],    #0,0    0,1\n",
    "      [5, 22],    #1,0    1,1\n",
    "      [11, 1]     #2,0    2,2\n",
    "      ]\n",
    "       \n",
    "print(len(l))\n",
    "print(l[0])"
   ]
  },
  {
   "cell_type": "code",
   "execution_count": 5,
   "metadata": {},
   "outputs": [],
   "source": [
    "\"\"\"   \n",
    "13. A city skyline can be represented as a 2-D list with 1s representing buildings. In the example \n",
    "below, the height of the tallest building is 4 (second-most right column). \n",
    " \n",
    "[[0, 0, 0, 0, 0, 0], \n",
    "[0, 0, 0, 0, 1, 0], \n",
    "[0, 0, 1, 0, 1, 0], \n",
    "[0, 1, 1, 1, 1, 0], \n",
    "[1, 1, 1, 1, 1, 1]] \n",
    " \n",
    "Create a function that takes a skyline (2-D list of 0's and 1's) and returns the height of the tallest \n",
    "skyscraper. \n",
    " \n",
    "Examples \n",
    " \n",
    "tallest_skyscraper([ \n",
    "  [0, 0, 0, 0], \n",
    "  [0, 1, 0, 0], \n",
    "  [0, 1, 1, 0], \n",
    "  [1, 1, 1, 1] \n",
    "]) ➞ 3 \n",
    " \n",
    "tallest_skyscraper([ \n",
    "  [0, 1, 0, 0], \n",
    "  [0, 1, 0, 0], \n",
    "  [0, 1, 1, 0], \n",
    "  [1, 1, 1, 1] \n",
    "]) ➞ 4 \n",
    " \n",
    "tallest_skyscraper([ \n",
    "  [0, 0, 0, 0], \n",
    "  [0, 0, 0, 0], \n",
    "  [1, 1, 1, 0], \n",
    "  [1, 1, 1, 1] \n",
    "]) ➞ 2   \n",
    "\"\"\"   \n",
    "def tallest_skyscraper(l):\n",
    "    l1=[]\n",
    "    for i in range(len(l)):\n",
    "        if 1 in l[i]:\n",
    "            l1.append(1)\n",
    "    print(len(l1))\n"
   ]
  },
  {
   "cell_type": "code",
   "execution_count": 6,
   "metadata": {},
   "outputs": [
    {
     "name": "stdout",
     "output_type": "stream",
     "text": [
      "2\n"
     ]
    }
   ],
   "source": [
    "tallest_skyscraper([ \n",
    "  [0, 0, 0, 0], \n",
    "  [0, 0, 0, 0], \n",
    "  [1, 1, 1, 0], \n",
    "  [1, 1, 1, 1] \n",
    "])"
   ]
  },
  {
   "cell_type": "code",
   "execution_count": 42,
   "metadata": {},
   "outputs": [],
   "source": [
    "\"\"\"     \n",
    "14. A financial institution provides professional services to banks and claims charges from the \n",
    "customers based on the number of man-days provided. Internally, it has set a scheme to motivate \n",
    "and reward staff to meet and exceed targeted billable utilization and revenues by paying a bonus for \n",
    "each day claimed from customers in excess of a threshold target. \n",
    " \n",
    "This quarterly scheme is calculated with a threshold target of 32 days per quarter, and the incentive \n",
    "payment for each billable day in excess of such threshold target is shown as follows: \n",
    " \n",
    "Days                              Bonus \n",
    "0 to 32 days                    Zero \n",
    "33 to 40 days          SGD$325 per billable day \n",
    "41 to 48 days          SGD$550 per billable day \n",
    "Greater than 48 days      SGD$600 per billable day \n",
    " \n",
    "Please note that incentive payment is calculated progressively. As an example, if an employee \n",
    "reached total billable days of 45 in a quarter, his/her incentive payment is computed as follows: \n",
    " \n",
    "32*0 + 8*325 + 5*550 = 5350 \n",
    " \n",
    "Write a function to read the billable days of an employee and return the bonus he/she has obtained \n",
    "in that quarter. \n",
    " \n",
    "Examples \n",
    "bonus(15) ➞ 0 \n",
    "bonus(37) ➞ 1625 \n",
    "bonus(50) ➞ 8200\n",
    "\"\"\"     \n",
    "def bonus(n):\n",
    "    m = 0\n",
    "    if(n>=0 and n<=32):\n",
    "        m = n*0\n",
    "    elif(n>=33 and n<=40):\n",
    "        m = (0*32)+(n-32)*325\n",
    "    elif(n>=41 and n<=48):\n",
    "        m = (0*32)+(8*325)+(n-40)*550\n",
    "    elif(n>48):\n",
    "        m = (0*32)+(8*325)+(8*550)+(n-48)*600\n",
    "    print(m)"
   ]
  },
  {
   "cell_type": "code",
   "execution_count": 44,
   "metadata": {},
   "outputs": [
    {
     "name": "stdout",
     "output_type": "stream",
     "text": [
      "0\n"
     ]
    }
   ],
   "source": [
    "bonus(15)"
   ]
  },
  {
   "cell_type": "code",
   "execution_count": 45,
   "metadata": {},
   "outputs": [
    {
     "name": "stdout",
     "output_type": "stream",
     "text": [
      "1625\n"
     ]
    }
   ],
   "source": [
    "bonus(37)"
   ]
  },
  {
   "cell_type": "code",
   "execution_count": 46,
   "metadata": {},
   "outputs": [
    {
     "name": "stdout",
     "output_type": "stream",
     "text": [
      "32200\n"
     ]
    }
   ],
   "source": [
    "bonus(90)"
   ]
  },
  {
   "cell_type": "code",
   "execution_count": 47,
   "metadata": {},
   "outputs": [
    {
     "name": "stdout",
     "output_type": "stream",
     "text": [
      "8200\n"
     ]
    }
   ],
   "source": [
    "bonus(50)"
   ]
  },
  {
   "cell_type": "code",
   "execution_count": 57,
   "metadata": {},
   "outputs": [],
   "source": [
    "\"\"\"    \n",
    "15. A number is said to be Disarium if the sum of its digits raised to their respective positions is the \n",
    "number itself. \n",
    " \n",
    "Create a function that determines whether a number is a Disarium or not. \n",
    " \n",
    "Examples \n",
    " \n",
    "is_disarium(75) ➞ False \n",
    "# 7^1 + 5^2 = 7 + 25 = 32 \n",
    " \n",
    "is_disarium(135) ➞ True \n",
    "# 1^1 + 3^2 + 5^3 = 1 + 9 + 125 = 135 \n",
    " \n",
    "is_disarium(544) ➞ False \n",
    " \n",
    "is_disarium(518) ➞ True \n",
    "is_disarium(466) ➞ False \n",
    "is_disarium(8) ➞ True\n",
    "\"\"\"     \n",
    "def is_disarium(n):\n",
    "    c = len(str(n))\n",
    "    m = 0\n",
    "    t = n\n",
    "    while n!=0:\n",
    "        d = n%10\n",
    "        m = m + d**c\n",
    "        c -= c\n",
    "        n = n//10\n",
    "    print(m)\n",
    "    "
   ]
  },
  {
   "cell_type": "code",
   "execution_count": null,
   "metadata": {},
   "outputs": [],
   "source": [
    "def Disarian_num(n):\n",
    "    c=3\n",
    "    sum = 0\n",
    "    t=n\n",
    "    # print(t)\n",
    "    while n!=0 :\n",
    "        d = n%10\n",
    "        # print(\"digit\",d)\n",
    "        # print(\"power\",c)\n",
    "        sum = sum + d**c\n",
    "        c -= 1\n",
    "        n = n//10\n",
    "    print(sum)\n",
    "    if int(sum) == t:\n",
    "        print(\"The number is a Disarian Number\")\n",
    "    else:\n",
    "        print(\"not\")\n",
    "a = int(input(\"Enter a number :\"))\n",
    "Disarian_num(a)"
   ]
  },
  {
   "cell_type": "code",
   "execution_count": 58,
   "metadata": {},
   "outputs": [
    {
     "name": "stdout",
     "output_type": "stream",
     "text": [
      "127\n"
     ]
    }
   ],
   "source": [
    "is_disarium(135)"
   ]
  },
  {
   "cell_type": "code",
   "execution_count": 64,
   "metadata": {},
   "outputs": [],
   "source": [
    "def is_disarium(n):\n",
    "    c=len(str(n))\n",
    "    sum = 0\n",
    "    t=n\n",
    "    while n!=0 :\n",
    "        d = n%10\n",
    "        sum = sum + d**c\n",
    "        c -= 1\n",
    "        n = n//10\n",
    "    if t==sum:\n",
    "        print(True)\n",
    "    else:\n",
    "        print(False)"
   ]
  },
  {
   "cell_type": "code",
   "execution_count": 65,
   "metadata": {},
   "outputs": [
    {
     "name": "stdout",
     "output_type": "stream",
     "text": [
      "135\n",
      "True\n"
     ]
    }
   ],
   "source": [
    "is_disarium(135)"
   ]
  },
  {
   "cell_type": "code",
   "execution_count": 66,
   "metadata": {},
   "outputs": [
    {
     "name": "stdout",
     "output_type": "stream",
     "text": [
      "518\n",
      "True\n"
     ]
    }
   ],
   "source": [
    "is_disarium(518)"
   ]
  },
  {
   "cell_type": "code",
   "execution_count": null,
   "metadata": {},
   "outputs": [],
   "source": []
  }
 ],
 "metadata": {
  "kernelspec": {
   "display_name": "myenv",
   "language": "python",
   "name": "python3"
  },
  "language_info": {
   "codemirror_mode": {
    "name": "ipython",
    "version": 3
   },
   "file_extension": ".py",
   "mimetype": "text/x-python",
   "name": "python",
   "nbconvert_exporter": "python",
   "pygments_lexer": "ipython3",
   "version": "3.11.10"
  }
 },
 "nbformat": 4,
 "nbformat_minor": 2
}
