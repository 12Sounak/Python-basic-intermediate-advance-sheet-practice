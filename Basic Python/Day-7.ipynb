{
 "cells": [
  {
   "cell_type": "code",
   "execution_count": null,
   "metadata": {},
   "outputs": [],
   "source": [
    "\"\"\"\n",
    "51. Write a Python program to find largest number in a list? \n",
    "52. Write a Python program to find second largest number in a list? \n",
    "53. Write a Python program to find N largest elements from a list? \n",
    "54. Write a Python program to print even numbers in a list? \n",
    "55. Write a Python program to print odd numbers in a List? \n",
    "56. Write a Python program to Remove empty List from List? \n",
    "eg: [2, 3, [], 90, 80]\n",
    "    OP: [2,3,90,80] ,the empty list was removed\n",
    "eg: [2,3,[40,90,1],87]\n",
    "    OP: [2,3,[40,90,1],87]\n",
    "57. Write a Python program to Cloning or Copying a list? \n",
    "58. Write a Python program to Count occurrences of an element in a list? \n",
    "59. Write a Python program to find words which are greater than given \n",
    "length k? \n",
    "eg: Ram is a good boy\n",
    "    k = 3\n",
    "    OP: good  # as good is a 4 digit word which is greated then our value k i.e 3\n",
    "60. Write a Python program for removing i-th character from a string? \n",
    "\"\"\""
   ]
  },
  {
   "cell_type": "code",
   "execution_count": 1,
   "metadata": {},
   "outputs": [
    {
     "name": "stdout",
     "output_type": "stream",
     "text": [
      "The Largest no in the given list is : 55\n"
     ]
    }
   ],
   "source": [
    "# 51. Write a Python program to find largest number in a list?\n",
    "def largest_sort(l):\n",
    "    n = len(l)\n",
    "    l.sort()\n",
    "    print(\"The Largest no in the given list is :\" ,l[n-1])\n",
    "\n",
    "a = eval(input(\"Enter the list :\"))\n",
    "largest_sort(a)"
   ]
  },
  {
   "cell_type": "code",
   "execution_count": 2,
   "metadata": {},
   "outputs": [
    {
     "name": "stdout",
     "output_type": "stream",
     "text": [
      "90\n"
     ]
    }
   ],
   "source": [
    "# 51. Write a Python program to find largest number in a list? (method - 2)\n",
    "def largest_sel(l):\n",
    "    n = len(l)\n",
    "    t=0\n",
    "    for i in range(n-1):\n",
    "        for j in range(i+1,n):\n",
    "            if l[i]>l[j]:\n",
    "                l[i],l[j] = l[j],l[i]\n",
    "                \n",
    "    print(l[n-1])\n",
    "a = eval(input(\"Enter the list :\"))\n",
    "largest_sel(a)"
   ]
  },
  {
   "cell_type": "code",
   "execution_count": 18,
   "metadata": {},
   "outputs": [
    {
     "name": "stdout",
     "output_type": "stream",
     "text": [
      "The Second Largest no in the given list is : 34\n"
     ]
    }
   ],
   "source": [
    "# 52. Write a Python program to find second largest number in a list?\n",
    "def second_largest(l):\n",
    "    n = len(l)\n",
    "    l.sort()\n",
    "    print(\"The Second Largest no in the given list is :\" ,l[n-2])\n",
    "\n",
    "a = eval(input(\"Enter the list :\"))\n",
    "second_largest(a)"
   ]
  },
  {
   "cell_type": "code",
   "execution_count": 19,
   "metadata": {},
   "outputs": [
    {
     "name": "stdout",
     "output_type": "stream",
     "text": [
      "The 2nd largest number is : 11\n"
     ]
    }
   ],
   "source": [
    "# 52. Write a Python program to find second largest number in a list? (method-2 Using selection Sort)\n",
    "def Second_Largest_sel(l):\n",
    "    n = len(l)\n",
    "    t=0\n",
    "    for i in range(n-1):\n",
    "        for j in range(i+1,n):\n",
    "            if l[i]>l[j]:\n",
    "                l[i],l[j] = l[j],l[i]\n",
    "                \n",
    "    print(\"The 2nd largest number is :\",l[n-2])\n",
    "a = eval(input(\"Enter the list :\"))\n",
    "Second_Largest_sel(a)"
   ]
  },
  {
   "cell_type": "code",
   "execution_count": null,
   "metadata": {},
   "outputs": [],
   "source": [
    "# 52 with all test case passed\n",
    "def myfun(l):\n",
    "    l.sort()\n",
    "    x=set(l)\n",
    "    y=list(x)\n",
    "    y.sort()\n",
    "    print(y[-2])"
   ]
  },
  {
   "cell_type": "code",
   "execution_count": 13,
   "metadata": {},
   "outputs": [
    {
     "name": "stdout",
     "output_type": "stream",
     "text": [
      "The Second Largest no in the given list is : 78\n"
     ]
    }
   ],
   "source": [
    "# 53. Write a Python program to find N largest elements from a list? \n",
    "def nth_largest(l,m):\n",
    "    n = len(l)\n",
    "    l.sort()\n",
    "    print(\"The Second Largest no in the given list is :\" ,l[n-m])\n",
    "\n",
    "a = eval(input(\"Enter the list :\"))\n",
    "m = int(input(\"Enter the nth largest no \"))\n",
    "nth_largest(a,m)"
   ]
  },
  {
   "cell_type": "code",
   "execution_count": 20,
   "metadata": {},
   "outputs": [
    {
     "name": "stdout",
     "output_type": "stream",
     "text": [
      "11\n"
     ]
    }
   ],
   "source": [
    "# 53. Write a Python program to find N largest elements from a list?  (all test case passed)\n",
    "def nth_largest(l,m):\n",
    "    l.sort()\n",
    "    x=set(l)\n",
    "    y=list(x)\n",
    "    y.sort()\n",
    "    print(y[-m])\n",
    "\n",
    "a = eval(input(\"Enter the list :\"))\n",
    "m = int(input(\"Enter the nth largest no \"))\n",
    "nth_largest(a,m)"
   ]
  },
  {
   "cell_type": "code",
   "execution_count": 12,
   "metadata": {},
   "outputs": [
    {
     "name": "stdout",
     "output_type": "stream",
     "text": [
      "[4, 50, 6, 78, 99, 45]\n"
     ]
    }
   ],
   "source": [
    "l = [4,50,6,78,99,45]\n",
    "n = len(l)\n",
    "for i in range(n-1):\n",
    "    if l[i]>l[i+1]:\n",
    "        m = l[i]\n",
    "print(l)\n"
   ]
  },
  {
   "cell_type": "code",
   "execution_count": 21,
   "metadata": {},
   "outputs": [
    {
     "name": "stdout",
     "output_type": "stream",
     "text": [
      "2\n",
      "4\n",
      "6\n",
      "8\n"
     ]
    }
   ],
   "source": [
    "# 54. Write a Python program to print even numbers in a list? \n",
    "def even_in_list(l):\n",
    "    m = len(l)\n",
    "    for i in range(0,m):\n",
    "        if(l[i]%2==0):\n",
    "            print(l[i])\n",
    "\n",
    "n = eval(input(\"Enter a list :\"))\n",
    "even_in_list(n)"
   ]
  },
  {
   "cell_type": "code",
   "execution_count": 22,
   "metadata": {},
   "outputs": [
    {
     "name": "stdout",
     "output_type": "stream",
     "text": [
      "7\n",
      "5\n"
     ]
    }
   ],
   "source": [
    "# 55. Write a Python program to print odd numbers in a List?\n",
    "def even_in_list(l):\n",
    "    m = len(l)\n",
    "    for i in range(0,m):\n",
    "        if(l[i]%2!=0):\n",
    "            print(l[i])\n",
    "         \n",
    "\n",
    "n = eval(input(\"Enter a list :\"))\n",
    "even_in_list(n)"
   ]
  },
  {
   "cell_type": "code",
   "execution_count": null,
   "metadata": {},
   "outputs": [],
   "source": [
    "# 56. Write a Python program to Remove empty List from List?\n",
    "def empty_list(l):\n",
    "    print(n)\n",
    "    for i in n:\n",
    "        if i == []:\n",
    "            n.remove(i)\n",
    "print(n)\n",
    "n = eval(input(\"Enter a list :\"))"
   ]
  },
  {
   "cell_type": "code",
   "execution_count": 26,
   "metadata": {},
   "outputs": [
    {
     "name": "stdout",
     "output_type": "stream",
     "text": [
      "[1, 2, 3, [], 0, 90]\n",
      "[1, 2, 3, 0, 90]\n"
     ]
    }
   ],
   "source": [
    "# this can't remove double itaration\n",
    "n = eval(input(\"Enter a list :\"))\n",
    "print(n)\n",
    "n.remove([])\n",
    "print(n)\n"
   ]
  },
  {
   "cell_type": "code",
   "execution_count": null,
   "metadata": {},
   "outputs": [],
   "source": []
  },
  {
   "cell_type": "code",
   "execution_count": 28,
   "metadata": {},
   "outputs": [
    {
     "name": "stdout",
     "output_type": "stream",
     "text": [
      "[1, 2, 4, [], 80, [1, 2, 3], [1]]\n",
      "[1, 2, 4, 80, [1, 2, 3], [1]]\n"
     ]
    }
   ],
   "source": [
    "n = eval(input(\"Enter a list :\"))\n",
    "print(n)\n",
    "for i in n:\n",
    "    if i == []:\n",
    "        n.remove(i)\n",
    "print(n)"
   ]
  },
  {
   "cell_type": "code",
   "execution_count": null,
   "metadata": {},
   "outputs": [],
   "source": [
    "# 57. Write a Python program to Cloning or Copying a list?\n"
   ]
  },
  {
   "cell_type": "code",
   "execution_count": 32,
   "metadata": {},
   "outputs": [
    {
     "name": "stdout",
     "output_type": "stream",
     "text": [
      "0\n"
     ]
    }
   ],
   "source": [
    "# 58. Write a Python program to Count occurrences of an element in a list?\n",
    "def count_occuences(l,m):\n",
    "    n = len(l)\n",
    "    c = 0\n",
    "    for i in range(0,n):\n",
    "        if l[i]==m:\n",
    "            c = c+1\n",
    "    print(c)\n",
    "a = eval(input(\"Enter the list :\"))\n",
    "m = int(input(\"Enter the element u want to find the occurences \"))\n",
    "count_occuences(a,m)"
   ]
  },
  {
   "cell_type": "code",
   "execution_count": 36,
   "metadata": {},
   "outputs": [],
   "source": [
    "# 59. Write a Python program to find words which are greater than given length k?\n",
    "def remove_k_length(n,k):\n",
    "    l=[]\n",
    "    l.append(n)\n",
    "    for i in l:\n",
    "        if len(i)>k:\n",
    "            print(i)\n",
    "\n",
    "n = input(\"Enter a String :\")\n",
    "k = int(input(\"Enter a Number :\"))"
   ]
  },
  {
   "cell_type": "code",
   "execution_count": null,
   "metadata": {},
   "outputs": [],
   "source": [
    "# Sam answer all test case clear\n",
    "x=str(input(\"put your string\"))\n",
    "k=int(input())\n",
    "l=[]\n",
    "m=[]\n",
    "l.append(x.split(\" \"))\n",
    "l[0]\n",
    "for i in l[0]:\n",
    "    if len(i)>k:\n",
    "        m.append(i)\n",
    "\n",
    "for i in m:\n",
    "    print(i,end=\" \")"
   ]
  },
  {
   "cell_type": "code",
   "execution_count": 48,
   "metadata": {},
   "outputs": [
    {
     "name": "stdout",
     "output_type": "stream",
     "text": [
      "ello world"
     ]
    }
   ],
   "source": [
    "# 60. Write a Python program for removing i-th character from a string?\n",
    "def remove_ith(l,n):\n",
    "    s1=list(l)\n",
    "    s1.remove(s1[n])\n",
    "    for i in s1:\n",
    "        print(i,end=\"\")\n",
    "\n",
    "s = input(\"Enter a string\")\n",
    "n = int(input(\"Enter the ith value :\"))\n",
    "remove_ith(s,n)"
   ]
  },
  {
   "cell_type": "code",
   "execution_count": null,
   "metadata": {},
   "outputs": [],
   "source": [
    "# 60\n",
    "x=input()\n",
    "i=int(input())\n",
    "print(x[0:i]+x[i+1:])"
   ]
  },
  {
   "cell_type": "code",
   "execution_count": 35,
   "metadata": {},
   "outputs": [
    {
     "name": "stdout",
     "output_type": "stream",
     "text": [
      "hello world good morning\n",
      "l\n",
      "['hello world good morning']\n"
     ]
    }
   ],
   "source": [
    "s = input(\"Enter a String :\")\n",
    "l = []\n",
    "l.append(s)\n",
    "print(s)\n",
    "print(s[2])\n",
    "print(l)"
   ]
  },
  {
   "cell_type": "code",
   "execution_count": 38,
   "metadata": {},
   "outputs": [
    {
     "name": "stdout",
     "output_type": "stream",
     "text": [
      "r\n"
     ]
    }
   ],
   "source": [
    "s = input(\"Enter a String :\")\n",
    "l = []\n",
    "l.append(s)\n",
    "for i in l:\n",
    "    print(i[0])"
   ]
  },
  {
   "cell_type": "code",
   "execution_count": null,
   "metadata": {},
   "outputs": [],
   "source": [
    "# 61. Write a Python program to split and join a string? \n",
    "s=input()\n",
    "l=list()\n",
    "l.extend(s)\n",
    "print(l)\n",
    "sam=\" \"\n",
    "for i in l:\n",
    "    sam=sam+i\n",
    "print(sam)"
   ]
  }
 ],
 "metadata": {
  "kernelspec": {
   "display_name": "myenv",
   "language": "python",
   "name": "python3"
  },
  "language_info": {
   "codemirror_mode": {
    "name": "ipython",
    "version": 3
   },
   "file_extension": ".py",
   "mimetype": "text/x-python",
   "name": "python",
   "nbconvert_exporter": "python",
   "pygments_lexer": "ipython3",
   "version": "3.11.7"
  }
 },
 "nbformat": 4,
 "nbformat_minor": 2
}
