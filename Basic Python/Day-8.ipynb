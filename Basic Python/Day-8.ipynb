{
 "cells": [
  {
   "cell_type": "code",
   "execution_count": null,
   "metadata": {},
   "outputs": [],
   "source": [
    "\"\"\"\n",
    "62. Write a Python to check if a given string is binary string or not? \n",
    "63. Write a Python program to find uncommon words from two Strings? \n",
    "64. Write a Python to find all duplicate characters in string? \n",
    "65. Write a Python Program to check if a string contains any special \n",
    "character? \n",
    "66. Would you like me to provide solutions for any of these questions? \n",
    "67. Write a Python program to Extract Unique values dictionary values? \n",
    "68. Write a Python program to find the sum of all items in a dictionary? \n",
    "69. Write a Python program to Merging two Dictionaries \n",
    "70. Write a Python program to convert key-values list to flat dictionary? \n",
    "71. Write a Python program to insertion at the beginning in OrderedDict \n",
    "72. Write a Python program to check order of character in string using \n",
    "OrderedDict()? \n",
    "73. Write a Python program to sort Python Dictionaries by Key or Value? \n",
    "74. Would you like me to provide solutions for any of these questions or the \n",
    "previous set? \n",
    "75. Write a Python program to remove duplicates from a list while \n",
    "preserving the order of elements?   \n",
    "\"\"\""
   ]
  },
  {
   "cell_type": "code",
   "execution_count": 25,
   "metadata": {},
   "outputs": [
    {
     "name": "stdout",
     "output_type": "stream",
     "text": [
      "6\n"
     ]
    },
    {
     "ename": "ValueError",
     "evalue": "invalid literal for int() with base 10: \"'\"",
     "output_type": "error",
     "traceback": [
      "\u001b[1;31m---------------------------------------------------------------------------\u001b[0m",
      "\u001b[1;31mValueError\u001b[0m                                Traceback (most recent call last)",
      "Cell \u001b[1;32mIn[25], line 19\u001b[0m\n\u001b[0;32m     16\u001b[0m         \u001b[38;5;28mprint\u001b[39m(\u001b[38;5;124m\"\u001b[39m\u001b[38;5;124mnon-binary\u001b[39m\u001b[38;5;124m\"\u001b[39m)\n\u001b[0;32m     18\u001b[0m s \u001b[38;5;241m=\u001b[39m \u001b[38;5;28minput\u001b[39m(\u001b[38;5;124m\"\u001b[39m\u001b[38;5;124mEnter a String \u001b[39m\u001b[38;5;124m\"\u001b[39m)\n\u001b[1;32m---> 19\u001b[0m \u001b[43mbinary_check\u001b[49m\u001b[43m(\u001b[49m\u001b[43ms\u001b[49m\u001b[43m)\u001b[49m\n",
      "Cell \u001b[1;32mIn[25], line 8\u001b[0m, in \u001b[0;36mbinary_check\u001b[1;34m(s)\u001b[0m\n\u001b[0;32m      6\u001b[0m c \u001b[38;5;241m=\u001b[39m \u001b[38;5;241m0\u001b[39m\n\u001b[0;32m      7\u001b[0m \u001b[38;5;28;01mfor\u001b[39;00m i \u001b[38;5;129;01min\u001b[39;00m \u001b[38;5;28mrange\u001b[39m(\u001b[38;5;241m0\u001b[39m,n\u001b[38;5;241m-\u001b[39m\u001b[38;5;241m1\u001b[39m):\n\u001b[1;32m----> 8\u001b[0m     \u001b[38;5;28;01mif\u001b[39;00m \u001b[38;5;28;43mint\u001b[39;49m\u001b[43m(\u001b[49m\u001b[43ms\u001b[49m\u001b[43m[\u001b[49m\u001b[43mi\u001b[49m\u001b[43m]\u001b[49m\u001b[43m)\u001b[49m\u001b[38;5;241m==\u001b[39m\u001b[38;5;241m0\u001b[39m \u001b[38;5;129;01mor\u001b[39;00m \u001b[38;5;28mint\u001b[39m(s[i])\u001b[38;5;241m==\u001b[39m\u001b[38;5;241m1\u001b[39m \u001b[38;5;129;01mor\u001b[39;00m s[i]\u001b[38;5;241m==\u001b[39m\u001b[38;5;124m'\u001b[39m\u001b[38;5;124m \u001b[39m\u001b[38;5;124m'\u001b[39m:\n\u001b[0;32m      9\u001b[0m         c \u001b[38;5;241m=\u001b[39m c \u001b[38;5;241m+\u001b[39m \u001b[38;5;241m1\u001b[39m\n\u001b[0;32m     10\u001b[0m \u001b[38;5;28mprint\u001b[39m(c\u001b[38;5;241m+\u001b[39m\u001b[38;5;241m1\u001b[39m)\n",
      "\u001b[1;31mValueError\u001b[0m: invalid literal for int() with base 10: \"'\""
     ]
    }
   ],
   "source": [
    "# 62. Write a Python to check if a given string is binary string or not? (experinment)\n",
    "def binary_check(s):\n",
    "    n = len(s)\n",
    "    # print(type(n))\n",
    "    print(n)\n",
    "    c = 0\n",
    "    for i in range(0,n-1):\n",
    "        if int(s[i])==0 or int(s[i])==1 or s[i]==' ':\n",
    "            c = c + 1\n",
    "    print(c+1)\n",
    "    # print(type(c))\n",
    "    # print(n)\n",
    "    if n==c:\n",
    "        print(\"binary\")\n",
    "    else:\n",
    "        print(\"non-binary\")\n",
    "\n",
    "s = input(\"Enter a String \")\n",
    "binary_check(s)"
   ]
  },
  {
   "cell_type": "code",
   "execution_count": 11,
   "metadata": {},
   "outputs": [
    {
     "name": "stdout",
     "output_type": "stream",
     "text": [
      "1\n",
      "2\n",
      "3\n",
      "4\n",
      "5\n",
      "6\n",
      "7\n",
      "8\n"
     ]
    }
   ],
   "source": [
    "# Experinment\n",
    "s = \"000100111\"\n",
    "n = len(s)\n",
    "c = 0\n",
    "for i in range(0,n-1):\n",
    "    if int(s[i])==0 or int(s[i])==1:\n",
    "        c += 1\n",
    "        print(c)\n",
    "# print(c)"
   ]
  },
  {
   "cell_type": "code",
   "execution_count": 6,
   "metadata": {},
   "outputs": [
    {
     "name": "stdout",
     "output_type": "stream",
     "text": [
      "9\n",
      "1\n"
     ]
    }
   ],
   "source": [
    "# Experinment\n",
    "s = \"010100111\"\n",
    "n = len(s)\n",
    "print(n)\n",
    "print(s[1])"
   ]
  },
  {
   "cell_type": "code",
   "execution_count": 31,
   "metadata": {},
   "outputs": [
    {
     "name": "stdout",
     "output_type": "stream",
     "text": [
      "binary String\n"
     ]
    }
   ],
   "source": [
    "# 62. Write a Python to check if a given string is binary string or not? \n",
    "def binary_check(s):\n",
    "    n = len(s)\n",
    "    c = 0\n",
    "    for i in range(0,n-1):\n",
    "        if s[i]=='0' or s[i]=='1' or s[i]==' ':\n",
    "            c = c + 1\n",
    "    if n==c+1:\n",
    "        print(\"binary String\")\n",
    "    else:\n",
    "        print(\"Not a Binary String\")\n",
    "\n",
    "s = input(\"Enter a String \")\n",
    "binary_check(s)"
   ]
  },
  {
   "cell_type": "code",
   "execution_count": 46,
   "metadata": {},
   "outputs": [
    {
     "name": "stdout",
     "output_type": "stream",
     "text": [
      "ram\n",
      "r\n",
      "ram\n",
      "a\n",
      "ram\n",
      "m\n",
      "is\n",
      "i\n",
      "is\n",
      "s\n"
     ]
    }
   ],
   "source": [
    "# 63. Write a Python program to find uncommon words from two Strings?\n",
    "def check_uncommon_string(st1,st2):\n",
    "    x = st1.split()\n",
    "    y = st2.split()\n",
    "    for i in x:\n",
    "        for j in y:\n",
    "            if i != j:\n",
    "                print(i)\n",
    "                print(j)\n",
    "\n",
    "\n",
    "\n",
    "st1 = input(\"Enter the 1st String :\")\n",
    "st2 = input(\"Enter the 2nd String :\")\n",
    "check_uncommon_string(st1,st2)"
   ]
  },
  {
   "cell_type": "code",
   "execution_count": 50,
   "metadata": {},
   "outputs": [
    {
     "name": "stdout",
     "output_type": "stream",
     "text": [
      "ram\n",
      "ram\n"
     ]
    }
   ],
   "source": [
    "st1 = input(\"Enter a String :\")\n",
    "x = st1.split()\n",
    "# l = list(st1)\n",
    "# print(l)\n",
    "n = len(x)\n",
    "for i in range(0,n):\n",
    "    print(x[0])"
   ]
  },
  {
   "cell_type": "code",
   "execution_count": 57,
   "metadata": {},
   "outputs": [
    {
     "name": "stdout",
     "output_type": "stream",
     "text": [
      "ram\n",
      "ram\n",
      "is\n",
      "is\n",
      "good\n",
      "boy\n",
      "boy\n",
      "good\n"
     ]
    }
   ],
   "source": [
    "# 63. Write a Python program to find uncommon words from two Strings?\n",
    "def check_uncommon_string(st1,st2):\n",
    "    x = st1.split()\n",
    "    y = st2.split()\n",
    "    a = len(x)\n",
    "    b = len(y)\n",
    "    for i in range(0,a):\n",
    "        for j in range(0,b):\n",
    "               if x[i]!=y[i]:\n",
    "                print(x[i])\n",
    "                print(y[i])\n",
    "                break\n",
    "\n",
    "\n",
    "\n",
    "\n",
    "st1 = input(\"Enter the 1st String :\")\n",
    "st2 = input(\"Enter the 2nd String :\")\n",
    "check_uncommon_string(st1,st2)"
   ]
  },
  {
   "cell_type": "code",
   "execution_count": 60,
   "metadata": {},
   "outputs": [
    {
     "name": "stdout",
     "output_type": "stream",
     "text": [
      "ram\n",
      "is\n",
      "is\n",
      "ram\n",
      "good\n",
      "ram\n",
      "boy\n",
      "ram\n"
     ]
    }
   ],
   "source": [
    "# 63. Write a Python program to find uncommon words from two Strings?\n",
    "def check_uncommon_string(st1,st2):\n",
    "    x = st1.split()\n",
    "    y = st2.split()\n",
    "    a = len(x)\n",
    "    b = len(y)\n",
    "    for i in range(0,a):\n",
    "        for j in range(0,b):\n",
    "            if x[i]!=y[j]:\n",
    "                print(x[i])\n",
    "                print(y[j])\n",
    "                break\n",
    "\n",
    "\n",
    "\n",
    "\n",
    "st1 = input(\"Enter the 1st String :\")\n",
    "st2 = input(\"Enter the 2nd String :\")\n",
    "check_uncommon_string(st1,st2)"
   ]
  },
  {
   "cell_type": "code",
   "execution_count": 77,
   "metadata": {},
   "outputs": [
    {
     "name": "stdout",
     "output_type": "stream",
     "text": [
      "a\n"
     ]
    }
   ],
   "source": [
    "# 64. Write a Python to find all duplicate characters in string? \n",
    "def duplicate_character(s1):\n",
    "    n = len(s1)\n",
    "    for i in range(0,n):\n",
    "        for j in range(i+1,n):\n",
    "            if s1[i] == s1[j]:\n",
    "                print(s1[i])\n",
    "str1 = input(\"Enter a String :\")\n",
    "duplicate_character(str1)"
   ]
  },
  {
   "cell_type": "code",
   "execution_count": 95,
   "metadata": {},
   "outputs": [
    {
     "ename": "SyntaxError",
     "evalue": "incomplete input (2120987965.py, line 13)",
     "output_type": "error",
     "traceback": [
      "\u001b[1;36m  Cell \u001b[1;32mIn[95], line 13\u001b[1;36m\u001b[0m\n\u001b[1;33m    \u001b[0m\n\u001b[1;37m    ^\u001b[0m\n\u001b[1;31mSyntaxError\u001b[0m\u001b[1;31m:\u001b[0m incomplete input\n"
     ]
    }
   ],
   "source": [
    "s1 = \"Samrat\"\n",
    "c = 0\n",
    "x = s1.strip()\n",
    "n = len(s1)\n",
    "# print(s1[2])\n",
    "for i in range(0,n):\n",
    "    for j in range(i+1,n):\n",
    "        if x[i] == x[j]:\n",
    "            c += 1\n",
    "            print(c)\n",
    "            print(x[i])\n",
    "\n",
    "        \n"
   ]
  },
  {
   "cell_type": "code",
   "execution_count": 82,
   "metadata": {},
   "outputs": [
    {
     "name": "stdout",
     "output_type": "stream",
     "text": [
      "Samrat\n",
      "S\n",
      "<class 'str'>\n"
     ]
    }
   ],
   "source": [
    "s1 = \"Samrat\"\n",
    "x = s1.strip()\n",
    "n = len(s1)\n",
    "print(x)\n",
    "print(x[0])\n",
    "print(type(x))\n"
   ]
  },
  {
   "cell_type": "code",
   "execution_count": 70,
   "metadata": {},
   "outputs": [
    {
     "name": "stdout",
     "output_type": "stream",
     "text": [
      "s\n",
      "a\n",
      "m\n",
      "r\n",
      "a\n",
      "t\n"
     ]
    }
   ],
   "source": [
    "s1 = \"samrat\"\n",
    "n = len(s1)\n",
    "for i in range(0,n):\n",
    "    print(s1[i])"
   ]
  },
  {
   "cell_type": "code",
   "execution_count": null,
   "metadata": {},
   "outputs": [],
   "source": []
  }
 ],
 "metadata": {
  "kernelspec": {
   "display_name": "myenv",
   "language": "python",
   "name": "python3"
  },
  "language_info": {
   "codemirror_mode": {
    "name": "ipython",
    "version": 3
   },
   "file_extension": ".py",
   "mimetype": "text/x-python",
   "name": "python",
   "nbconvert_exporter": "python",
   "pygments_lexer": "ipython3",
   "version": "3.11.7"
  }
 },
 "nbformat": 4,
 "nbformat_minor": 2
}
