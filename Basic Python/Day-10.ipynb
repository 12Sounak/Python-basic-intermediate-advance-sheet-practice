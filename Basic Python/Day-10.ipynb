{
 "cells": [
  {
   "cell_type": "code",
   "execution_count": null,
   "metadata": {},
   "outputs": [],
   "source": [
    "\"\"\"\n",
    "72. Write a Python program to check order of character in string using \n",
    "OrderedDict()? \n",
    "73. Write a Python program to sort Python Dictionaries by Key or Value? \n",
    "74. Would you like me to provide solutions for any of these questions or the previous set? \n",
    "75. Write a Python program to remove duplicates from a list while \n",
    "preserving the order of elements?    \n",
    "\"\"\""
   ]
  },
  {
   "cell_type": "code",
   "execution_count": 15,
   "metadata": {},
   "outputs": [
    {
     "name": "stdout",
     "output_type": "stream",
     "text": [
      "{1: 2, 2: 3, 4: 1, 5: 1}\n"
     ]
    }
   ],
   "source": [
    "# 73. Write a Python program to sort Python Dictionaries by Key or Value? \n",
    "def sort_Dict(d):\n",
    "    x = []\n",
    "    y = []\n",
    "    x.extend(d.keys())\n",
    "    y.extend(d.values())\n",
    "    x.sort()\n",
    "    dfinal={}\n",
    "    for i in x:\n",
    "        dtemp={}\n",
    "        dtemp={i:d[i]}\n",
    "        dfinal.update(dtemp)\n",
    "    print(dfinal)\n",
    "\n",
    "sort_Dict({\n",
    "    1:2,\n",
    "    2:3,\n",
    "    5:1,\n",
    "    4:1\n",
    "})"
   ]
  },
  {
   "cell_type": "code",
   "execution_count": 19,
   "metadata": {},
   "outputs": [
    {
     "name": "stdout",
     "output_type": "stream",
     "text": [
      "[400, 250, 100, 300]\n"
     ]
    }
   ],
   "source": [
    "# 75. Write a Python program to remove duplicates from a list while preserving the order of elements?\n",
    "def remove_duplicate(l):\n",
    "    s = set(l)\n",
    "    print(list(s))\n",
    "    \n",
    "l = eval(input(\"Enter a list :\"))\n",
    "remove_duplicate(l)"
   ]
  },
  {
   "cell_type": "code",
   "execution_count": null,
   "metadata": {},
   "outputs": [],
   "source": [
    "# 75. Write a Python program to remove duplicates from a list while preserving the order of elements?\n",
    "def remove_duplicate(l):\n",
    "    s = set(l)\n",
    "    print(list(s))\n",
    "    \n",
    "l = eval(input(\"Enter a list :\"))\n",
    "remove_duplicate(l)"
   ]
  },
  {
   "cell_type": "code",
   "execution_count": 7,
   "metadata": {},
   "outputs": [
    {
     "name": "stdout",
     "output_type": "stream",
     "text": [
      "<class 'set'>\n"
     ]
    }
   ],
   "source": [
    "s = set()\n",
    "print(type(s))"
   ]
  },
  {
   "cell_type": "code",
   "execution_count": 12,
   "metadata": {},
   "outputs": [
    {
     "name": "stdout",
     "output_type": "stream",
     "text": [
      "<class 'dict'>\n"
     ]
    }
   ],
   "source": [
    "s = {}\n",
    "print(type(s))"
   ]
  },
  {
   "cell_type": "code",
   "execution_count": null,
   "metadata": {},
   "outputs": [],
   "source": [
    "\"\"\"   \n",
    "74. Given a dictionary student_scores where the keys are student names and the values are their respective scores, write a Python function to:\n",
    "Print the student with the highest score.\n",
    "Print the student with the lowest score.\n",
    "Return the average score of all students\n",
    "\"\"\" "
   ]
  },
  {
   "cell_type": "code",
   "execution_count": 49,
   "metadata": {},
   "outputs": [
    {
     "name": "stdout",
     "output_type": "stream",
     "text": [
      "The avg Score of all the Student is : 48.0\n",
      "The Lowest Scorer Student is : David\n",
      "The Highest Scorer Student is : sumit\n"
     ]
    }
   ],
   "source": [
    "def highest_score(d):\n",
    "    d1 = sorted(d)\n",
    "    n = len(d)\n",
    "    print(\"The Highest Scorer Student is :\",d1[n-1])\n",
    "\n",
    "def lowest_score(d):\n",
    "    d1 = sorted(d)\n",
    "    print(\"The Lowest Scorer Student is :\",d1[0])\n",
    "\n",
    "def avg_score(d):\n",
    "    l = list(d.values())\n",
    "    n = len(d)\n",
    "    tot = 0\n",
    "    for i in range(0,n-1):\n",
    "        tot = tot + l[i]\n",
    "avg = tot/n\n",
    "print(\"The avg Score of all the Student is :\",avg)\n",
    "\n",
    "lowest_score(d)\n",
    "highest_score(d)\n",
    "avg_score(d)\n",
    "\n",
    "d = {\n",
    "    \"sam\":89,\n",
    "    \"sounak\":13,\n",
    "    \"sumit\":90,\n",
    "    \"David\":1\n",
    "}"
   ]
  },
  {
   "cell_type": "code",
   "execution_count": 50,
   "metadata": {},
   "outputs": [
    {
     "name": "stdout",
     "output_type": "stream",
     "text": [
      "4\n"
     ]
    }
   ],
   "source": [
    "d = {\n",
    "    \"sam\":89,\n",
    "    \"sounak\":13,\n",
    "    \"sumit\":90,\n",
    "    \"David\":1\n",
    "}\n",
    "print(len(d))"
   ]
  },
  {
   "cell_type": "code",
   "execution_count": 52,
   "metadata": {},
   "outputs": [
    {
     "name": "stdout",
     "output_type": "stream",
     "text": [
      "<class 'list'>\n",
      "[89, 13, 90, 1]\n",
      "89\n"
     ]
    }
   ],
   "source": [
    "l = list(d.values())\n",
    "print(type(l))\n",
    "print(l)\n",
    "print(l[0])\n"
   ]
  },
  {
   "cell_type": "code",
   "execution_count": 53,
   "metadata": {},
   "outputs": [],
   "source": [
    "d1 = sorted(d)"
   ]
  },
  {
   "cell_type": "code",
   "execution_count": 54,
   "metadata": {},
   "outputs": [
    {
     "data": {
      "text/plain": [
       "['David', 'sam', 'sounak', 'sumit']"
      ]
     },
     "execution_count": 54,
     "metadata": {},
     "output_type": "execute_result"
    }
   ],
   "source": [
    "d1"
   ]
  },
  {
   "cell_type": "code",
   "execution_count": 55,
   "metadata": {},
   "outputs": [
    {
     "name": "stdout",
     "output_type": "stream",
     "text": [
      "48.0\n"
     ]
    }
   ],
   "source": [
    "d = {\n",
    "    \"sam\":89,\n",
    "    \"sounak\":13,\n",
    "    \"sumit\":90,\n",
    "    \"David\":1\n",
    "}\n",
    "l = list(d.values())\n",
    "n = len(d)\n",
    "tot = 0\n",
    "for i in range(0,n-1):\n",
    "    tot = tot + l[i]\n",
    "avg = tot/n\n",
    "print(avg)"
   ]
  },
  {
   "cell_type": "code",
   "execution_count": 58,
   "metadata": {},
   "outputs": [],
   "source": [
    "d1 = {\n",
    "    \"sam\": 89,\n",
    "    \"sounak\": 133,\n",
    "    \"sumit\": 90,\n",
    "    \"David\": 1\n",
    "}\n"
   ]
  },
  {
   "cell_type": "code",
   "execution_count": 59,
   "metadata": {},
   "outputs": [
    {
     "data": {
      "text/plain": [
       "['David', 'sam', 'sounak', 'sumit']"
      ]
     },
     "execution_count": 59,
     "metadata": {},
     "output_type": "execute_result"
    }
   ],
   "source": [
    "d2 = sorted(d1)\n",
    "d2 "
   ]
  },
  {
   "cell_type": "code",
   "execution_count": 65,
   "metadata": {},
   "outputs": [
    {
     "name": "stdout",
     "output_type": "stream",
     "text": [
      "<class 'list'>\n",
      "[1, 13, 89, 90]\n",
      "1\n"
     ]
    },
    {
     "ename": "AttributeError",
     "evalue": "'dict' object has no attribute 'item'",
     "output_type": "error",
     "traceback": [
      "\u001b[1;31m---------------------------------------------------------------------------\u001b[0m",
      "\u001b[1;31mAttributeError\u001b[0m                            Traceback (most recent call last)",
      "Cell \u001b[1;32mIn[65], line 12\u001b[0m\n\u001b[0;32m     10\u001b[0m \u001b[38;5;28mprint\u001b[39m(l)\n\u001b[0;32m     11\u001b[0m \u001b[38;5;28mprint\u001b[39m(l[\u001b[38;5;241m0\u001b[39m])\n\u001b[1;32m---> 12\u001b[0m \u001b[38;5;28mprint\u001b[39m(\u001b[43md\u001b[49m\u001b[38;5;241;43m.\u001b[39;49m\u001b[43mitem\u001b[49m(l[\u001b[38;5;241m0\u001b[39m]))\n",
      "\u001b[1;31mAttributeError\u001b[0m: 'dict' object has no attribute 'item'"
     ]
    }
   ],
   "source": [
    "d = {\n",
    "    \"sam\":89,\n",
    "    \"sounak\":13,\n",
    "    \"sumit\":90,\n",
    "    \"David\":1\n",
    "}\n",
    "l = list(d.values())\n",
    "l.sort()\n",
    "print(type(l))\n",
    "print(l)\n",
    "print(l[0])\n",
    "print(d.item(l[0]))"
   ]
  },
  {
   "cell_type": "code",
   "execution_count": 72,
   "metadata": {},
   "outputs": [
    {
     "name": "stdout",
     "output_type": "stream",
     "text": [
      "The avg Score of all the Student is : 48.0\n",
      "The Lowest Scorer Student is : sam\n",
      "The Highest Scorer Student is : David\n"
     ]
    }
   ],
   "source": [
    "def highest_score(d):\n",
    "    # d1 = sorted(d)\n",
    "    l_values = list(d.values())\n",
    "    l_keys = list(d.keys())\n",
    "    l_values.sort()\n",
    "    position=l_values.index(l[n-1])\n",
    "    # n = len(d)\n",
    "    print(\"The Highest Scorer Student is :\",l_keys[position])\n",
    "\n",
    "def lowest_score(d):\n",
    "    # # d1 = sorted(d)\n",
    "    # l = list(d.values())\n",
    "    # l.sort()\n",
    "    # n = len(d)\n",
    "    # print(\"The Lowest Scorer Student is :\",l[0])\n",
    "    \n",
    "    \n",
    "    \n",
    "    # d1 = sorted(d)\n",
    "    l_values = list(d.values())\n",
    "    l_keys = list(d.keys())\n",
    "    l_values.sort()\n",
    "    position=l_values.index(l[0])\n",
    "    # n = len(d)\n",
    "    print(\"The Lowest Scorer Student is :\",l_keys[position])\n",
    "def avg_score(d):\n",
    "    l = list(d.values())\n",
    "    n = len(d)\n",
    "    tot = 0\n",
    "    for i in range(0,n-1):\n",
    "        tot = tot + l[i]\n",
    "avg = tot/n\n",
    "print(\"The avg Score of all the Student is :\",avg)\n",
    "\n",
    "lowest_score(d)\n",
    "highest_score(d)\n",
    "avg_score(d)\n",
    "\n",
    "d = {\n",
    "    \"sam\":89,\n",
    "    \"sounak\":13,\n",
    "    \"sumit\":90,\n",
    "    \"David\":1\n",
    "}"
   ]
  },
  {
   "cell_type": "code",
   "execution_count": 68,
   "metadata": {},
   "outputs": [
    {
     "name": "stdout",
     "output_type": "stream",
     "text": [
      "<class 'list'>\n",
      "[1, 13, 89, 90, 100]\n",
      "1\n",
      "4\n",
      "100\n"
     ]
    }
   ],
   "source": [
    "d = {\n",
    "    \"sam\":89,\n",
    "    \"sounak\":13,\n",
    "    \"sumit\":90,\n",
    "    \"David\":1,\n",
    "    \"raj\":100\n",
    "}\n",
    "l = list(d.values())\n",
    "l.sort()\n",
    "print(type(l))\n",
    "print(l)\n",
    "print(l[0])\n",
    "# print(d.item(l[0]))\n",
    "position =l.index(100)\n",
    "print(position)\n",
    "print(l[position])"
   ]
  },
  {
   "cell_type": "code",
   "execution_count": 79,
   "metadata": {},
   "outputs": [
    {
     "name": "stdout",
     "output_type": "stream",
     "text": [
      "1\n",
      "0\n",
      "sam\n"
     ]
    }
   ],
   "source": [
    "d = {\n",
    "    \"sam\":89,\n",
    "    \"sounak\":13,\n",
    "    \"sumit\":90,\n",
    "    \"David\":1,\n",
    "    \"raj\":100\n",
    "}\n",
    "l = list(d.values())\n",
    "l_keys = list(d.keys())\n",
    "l.sort()\n",
    "t = l[0]\n",
    "print(t)\n",
    "pos = l.index(t)\n",
    "print(pos)\n",
    "print(l_keys[pos])"
   ]
  },
  {
   "cell_type": "code",
   "execution_count": 81,
   "metadata": {},
   "outputs": [
    {
     "name": "stdout",
     "output_type": "stream",
     "text": [
      "1\n",
      "0\n"
     ]
    }
   ],
   "source": [
    "d = {\n",
    "    \"sam\":89,\n",
    "    \"sounak\":13,\n",
    "    \"sumit\":90,\n",
    "    \"David\":1,\n",
    "    \"raj\":100\n",
    "}\n",
    "l = list(d.values())\n",
    "l_keys = list(d.keys())\n",
    "l.sort()\n",
    "t = l[0]\n",
    "print(t)\n",
    "pos = l.index(t)\n",
    "print(pos)"
   ]
  },
  {
   "cell_type": "code",
   "execution_count": 90,
   "metadata": {},
   "outputs": [
    {
     "name": "stdout",
     "output_type": "stream",
     "text": [
      "[11, 100, 112]\n"
     ]
    }
   ],
   "source": [
    "# creating a new dictionary\n",
    "my_dict ={\"java\":100, \"python\":112, \"c\":11}\n",
    "\n",
    "# list out keys and values separately\n",
    "key_list = list(my_dict.keys())\n",
    "val_list = list(my_dict.values())\n",
    "l = sorted(val_list)\n",
    "print(l)\n",
    "# print key with val 100\n",
    "position = val_list.index(11)\n",
    "# print(key_list[position])"
   ]
  },
  {
   "cell_type": "code",
   "execution_count": 11,
   "metadata": {},
   "outputs": [
    {
     "name": "stdout",
     "output_type": "stream",
     "text": [
      "The Lowest Scorer Student and his marks is : David 1\n",
      "The Highest Scorer Student and his marks is : sumit 90\n",
      "The avg Score of all the Student is : 48.0\n"
     ]
    }
   ],
   "source": [
    "# final answer \n",
    "def highest_score(d):\n",
    "    l_values = list(d.values())\n",
    "    l_keys = list(d.keys())\n",
    "    l = sorted(l_values)\n",
    "    t = l[-1]\n",
    "    pos=l_values.index(t)\n",
    "    print(\"The Highest Scorer Student and his marks is :\",l_keys[pos],t)\n",
    "\n",
    "def lowest_score(d):\n",
    "    l_values = list(d.values())\n",
    "    l_keys = list(d.keys())\n",
    "    l = sorted(l_values)\n",
    "    t = l[0]\n",
    "    pos=l_values.index(t)\n",
    "    print(\"The Lowest Scorer Student and his marks is :\",l_keys[pos],t)\n",
    "\n",
    "\n",
    "tot = 0\n",
    "def avg_score(d):\n",
    "    n = len(d)\n",
    "    l = list(d.values())\n",
    "    n = len(d)\n",
    "    tot = 0\n",
    "    for i in range(0,n-1):\n",
    "        tot = tot + l[i]\n",
    "    avg = tot/n\n",
    "    print(\"The avg Score of all the Student is :\",avg)\n",
    "\n",
    "\n",
    "d = {\n",
    "    \"sam\":89,\n",
    "    \"sounak\":13,\n",
    "    \"sumit\":90,\n",
    "    \"David\":1\n",
    "}\n",
    "lowest_score(d)\n",
    "highest_score(d)\n",
    "avg_score(d)\n",
    "\n"
   ]
  },
  {
   "cell_type": "code",
   "execution_count": 2,
   "metadata": {},
   "outputs": [
    {
     "name": "stdout",
     "output_type": "stream",
     "text": [
      "The Highest Scorer Student is : sumit\n"
     ]
    }
   ],
   "source": [
    "def highest_score(d):\n",
    "    # d1 = sorted(d)\n",
    "    l_values = list(d.values())\n",
    "    l_keys = list(d.keys())\n",
    "    l=[]\n",
    "    l = sorted(l_values)\n",
    "    n = len(l)\n",
    "    t = l[n-1]\n",
    "    pos=l_values.index(t)\n",
    "    # n = len(d)\n",
    "    print(\"The Highest Scorer Student is :\",l_keys[pos])\n",
    "\n",
    "d = {\n",
    "    \"sam\":89,\n",
    "    \"sounak\":13,\n",
    "    \"sumit\":90,\n",
    "    \"David\":1\n",
    "}\n",
    "# lowest_score(d)\n",
    "highest_score(d)\n",
    "# avg_score(d)"
   ]
  },
  {
   "cell_type": "code",
   "execution_count": 18,
   "metadata": {},
   "outputs": [
    {
     "data": {
      "text/plain": [
       "2"
      ]
     },
     "execution_count": 18,
     "metadata": {},
     "output_type": "execute_result"
    }
   ],
   "source": [
    "l = [1,2,3,4,4]\n",
    "n = len(l)\n",
    "a = l.count(4)\n",
    "a\n",
    "# for i in range(0,n):\n",
    "#     if(l[i])"
   ]
  },
  {
   "cell_type": "code",
   "execution_count": null,
   "metadata": {},
   "outputs": [],
   "source": []
  }
 ],
 "metadata": {
  "kernelspec": {
   "display_name": "myenv",
   "language": "python",
   "name": "python3"
  },
  "language_info": {
   "codemirror_mode": {
    "name": "ipython",
    "version": 3
   },
   "file_extension": ".py",
   "mimetype": "text/x-python",
   "name": "python",
   "nbconvert_exporter": "python",
   "pygments_lexer": "ipython3",
   "version": "3.11.7"
  }
 },
 "nbformat": 4,
 "nbformat_minor": 2
}
