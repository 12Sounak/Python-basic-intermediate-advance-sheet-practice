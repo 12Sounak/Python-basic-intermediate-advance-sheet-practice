{
 "cells": [
  {
   "cell_type": "code",
   "execution_count": null,
   "metadata": {},
   "outputs": [],
   "source": [
    "\"\"\"\n",
    "40. Write a Python Program to Sort Words in Alphabetic Order? \n",
    "\n",
    "41. Write a Python Program to Remove Punctuation From a String? \n",
    "\n",
    "42. Write a Python program to check if the given number is a Disarium \n",
    "Number?  eg: 175 = 1^2 + 7^2 + 5^3 that is again 175 so 175 is Disarium number.\n",
    "\n",
    "43. Write a Python program to print all disarium numbers between 1 to 100?  \n",
    "\n",
    "44. Write a Python program to check if the given number is Happy Number? \n",
    "eg: Input: n = 19\n",
    "    Output: True\n",
    "    19 is Happy Number,\n",
    "    1^2 + 9^2 = 82\n",
    "    8^2 + 2^2 = 68\n",
    "    6^2 + 8^2 = 100\n",
    "    1^2 + 0^2 + 0^2 = 1\n",
    "    As we reached to 1, 19 is a Happy Number.\n",
    "\n",
    "    Input: n = 20\n",
    "    Output: False\n",
    "\n",
    "\n",
    "45. Write a Python program to print all happy numbers between 1 and 100? \n",
    "\n",
    "46. Write a Python program to determine whether the given number is a \n",
    "Harshad Number? \n",
    "    eg: if number is 156, then sum of its digit will be 1 + 5 + 6 = 12. Since 156 is divisible by 12. So, 156 is a Harshad number.\n",
    "\n",
    "47. Write a Python program to print all pronic numbers between 1 and 100? \n",
    "    eg: Input  : 6\n",
    "        Output : Pronic Number\n",
    "        Explanation: 6 = 2 * 3 i.e 6 is a product\n",
    "        of two consecutive integers 2 and 3.\n",
    "\n",
    "        Input :56\n",
    "        Output :Pronic Number\n",
    "        Explanation: 56 = 7 * 8 i.e 56 is a product \n",
    "        of two consecutive integers 7 and 8. \n",
    "\n",
    "        Input  : 8\n",
    "        Output : Not a Pronic Number\n",
    "        Explanation: 8 = 2 * 4 i.e 8 is a product of \n",
    "        2 and 4 which are not consecutive integers.\n",
    "\n",
    "        \n",
    "48. Write a Python program to find sum of elements in list? \n",
    "49. Write a Python program to Multiply all numbers in the list? \n",
    "50. Write a Python program to find smallest number in a list? \n",
    "\"\"\""
   ]
  },
  {
   "cell_type": "code",
   "execution_count": 7,
   "metadata": {},
   "outputs": [
    {
     "name": "stdout",
     "output_type": "stream",
     "text": [
      "['Amm', 'Boy', 'Chemistry', 'is', 'orange']\n"
     ]
    }
   ],
   "source": [
    "# 40. Write a Python Program to Sort Words in Alphabetic Order? \n",
    "\n",
    "def Alpha_order(s):\n",
    "    x = s.strip().split(\" \")\n",
    "    for i in x:\n",
    "        i.lower()\n",
    "    x.sort()\n",
    "    print(x)\n",
    "\n",
    "in_string = input(\"Enter a String :\")\n",
    "Alpha_order(in_string)\n"
   ]
  },
  {
   "cell_type": "code",
   "execution_count": 27,
   "metadata": {},
   "outputs": [
    {
     "data": {
      "text/plain": [
       "17"
      ]
     },
     "execution_count": 27,
     "metadata": {},
     "output_type": "execute_result"
    }
   ],
   "source": [
    "s=\"Ram is a good boy\"\n",
    "# len(s)\n"
   ]
  },
  {
   "cell_type": "code",
   "execution_count": 2,
   "metadata": {},
   "outputs": [
    {
     "name": "stdout",
     "output_type": "stream",
     "text": [
      "S@@@@m\n",
      "Sm\n"
     ]
    }
   ],
   "source": [
    "# 41. Write a Python Program to Remove Punctuation From a String? \n",
    "def remove_Punctuation(l):\n",
    "    # new_l = l.strip().split(\" \")\n",
    "    # l = Ram++ -- \n",
    "    n=len(l)\n",
    "    print(l)\n",
    "    p='''.,?!:;'\"-_*&@#$%^+=~\\/|()[]{}<>`\"'''\n",
    "    m=len(p)\n",
    "    s=\"\"\n",
    "    for i in range(0,n):\n",
    "        for j in range(0,m):\n",
    "            if l[i] == p[j]:\n",
    "                s=l.replace(l[i],'')\n",
    "    print(s)\n",
    "\n",
    "s = input(\"Enter a String :\")\n",
    "remove_Punctuation(s)"
   ]
  },
  {
   "cell_type": "code",
   "execution_count": 4,
   "metadata": {},
   "outputs": [
    {
     "name": "stdout",
     "output_type": "stream",
     "text": [
      "Ram++ -- () isadiohasoihdas%$\n",
      "Ram   isadiohasoihdas\n"
     ]
    }
   ],
   "source": [
    "# 41. Write a Python Program to Remove Punctuation From a String? \n",
    "def remove_Punctuation(l):\n",
    "    print(l)\n",
    "    p='''.,?!:;'\"-_*&@#$%^+=~\\/|()[]{}<>`\"'''\n",
    "    s=\"\"\n",
    "    for i in l:\n",
    "        if i not in p:\n",
    "            s += i\n",
    "    print(s)\n",
    "\n",
    "s = input(\"Enter a String :\")\n",
    "remove_Punctuation(s)"
   ]
  },
  {
   "cell_type": "code",
   "execution_count": null,
   "metadata": {},
   "outputs": [],
   "source": [
    "# 42. Write a Python program to check if the given number is a Disarium Number?  eg: 175 = 1^1 + 7^2 + 5^3 that is again 175 so 175 is Disarium number.\n",
    "def Disarian_num(n):\n",
    "    c=3\n",
    "    sum = 0\n",
    "    t=n\n",
    "    # print(t)\n",
    "    while n!=0 :\n",
    "        d = n%10\n",
    "        # print(\"digit\",d)\n",
    "        # print(\"power\",c)\n",
    "        sum = sum + d**c\n",
    "        c -= 1\n",
    "        n = n//10\n",
    "    print(sum)\n",
    "    if int(sum) == t:\n",
    "        print(\"The number is a Disarian Number\")\n",
    "    else:\n",
    "        print(\"not\")\n",
    "a = int(input(\"Enter a number :\"))\n",
    "Disarian_num(a)"
   ]
  },
  {
   "cell_type": "code",
   "execution_count": null,
   "metadata": {},
   "outputs": [],
   "source": [
    "# 42. Write a Python program to check if the given number is a Disarium Number?  eg: 175 = 1^1 + 7^2 + 5^3 that is again 175 so 175 is Disarium number.\n",
    "def Disarian_num(n):\n",
    "    new_no=0\n",
    "    while n!= 0:\n",
    "        d=n%10\n",
    "        new_no = new_no*10 + d \n",
    "        n = n//10\n",
    "    c=1\n",
    "    sum = 0\n",
    "    t=n\n",
    "    while n!=0 :\n",
    "        d = n%10\n",
    "        sum = sum + d**c\n",
    "        c += 1\n",
    "        n = n//10\n",
    "    print(sum)\n",
    "    if int(sum) == t:\n",
    "        print(\"The number is a Disarian Number\")\n",
    "    else:\n",
    "        print(\"not\")\n",
    "    \n",
    "a = int(input(\"Enter a number :\"))\n",
    "Disarian_num(a)"
   ]
  },
  {
   "cell_type": "code",
   "execution_count": null,
   "metadata": {},
   "outputs": [],
   "source": [
    "def Disarian_num(n):\n",
    "    c=1\n",
    "    sum = 0\n",
    "    t=n\n",
    "    n1 = str(n)[::-1]\n",
    "    num = int(n1)\n",
    "    while num!=0 :\n",
    "        d = num%10\n",
    "        sum = sum + d**c\n",
    "        c += 1\n",
    "        num = num//10\n",
    "    print(sum)\n",
    "    if int(sum) == t:\n",
    "        print(\"The number is a Disarian Number\")\n",
    "    else:\n",
    "        print(\"not\")\n",
    "    \n",
    "a = int(input(\"Enter a number :\"))\n",
    "Disarian_num(a)"
   ]
  },
  {
   "cell_type": "code",
   "execution_count": null,
   "metadata": {},
   "outputs": [],
   "source": [
    "# 43. Write a Python program to print all disarium numbers between 1 to 100?  \n",
    "def Disarian_num():\n",
    "    for n in range(0,100):\n",
    "        c=1\n",
    "        sum = 0\n",
    "        t=n\n",
    "        n1 = str(n)[::-1]\n",
    "        num = int(n1)\n",
    "        while num!=0 :\n",
    "            d = num%10\n",
    "            sum = sum + d**c\n",
    "            c += 1\n",
    "            num = num//10\n",
    "        print(sum)\n",
    "        if int(sum) == t:\n",
    "            print(\"The number is a Disarian Number\")\n",
    "        else:\n",
    "            print(\"not\")\n",
    "    \n",
    "# a = int(input(\"Enter a number :\"))\n",
    "Disarian_num()"
   ]
  },
  {
   "cell_type": "code",
   "execution_count": 5,
   "metadata": {},
   "outputs": [
    {
     "name": "stdout",
     "output_type": "stream",
     "text": [
      "Not a Happy number\n"
     ]
    }
   ],
   "source": [
    "\"\"\"44. Write a Python program to check if the given number is Happy Number? \n",
    "eg: Input: n = 19\n",
    "    Output: True\n",
    "    19 is Happy Number,\n",
    "    1^2 + 9^2 = 82\n",
    "    8^2 + 2^2 = 68\n",
    "    6^2 + 8^2 = 100\n",
    "    1^2 + 0^2 + 0^2 = 1\n",
    "    As we reached to 1, 19 is a Happy Number.\n",
    "\n",
    "    Input: n = 20\n",
    "    Output: False\n",
    "\"\"\"\n",
    "def Happy_number(n):\n",
    "    no = 0\n",
    "    f = 1\n",
    "    while n!=0:\n",
    "        d = n%10\n",
    "        no = no + d**2\n",
    "        n = n//10\n",
    "        if (n==1):\n",
    "            f=0\n",
    "            # print(no)\n",
    "    if f == 0:\n",
    "        print(\"Happy number\")\n",
    "    else:\n",
    "        print(\"Not a Happy number\")\n",
    "\n",
    "\n",
    "\n",
    "\n",
    "a = int(input(\"Enter a number to check Happy number or not :\"))\n",
    "Happy_number(a)"
   ]
  },
  {
   "cell_type": "code",
   "execution_count": 6,
   "metadata": {},
   "outputs": [
    {
     "name": "stdout",
     "output_type": "stream",
     "text": [
      "64\n",
      "68\n",
      "Not a Happy number\n"
     ]
    }
   ],
   "source": [
    "# 44\n",
    "def Happy_number(n):\n",
    "    no = 0\n",
    "    f = 1\n",
    "    while n!=0:\n",
    "        d = n%10\n",
    "        no = no + d**2         \n",
    "        print(no)\n",
    "        n = n//10\n",
    "        if (n==1):\n",
    "            f=0\n",
    "    if f == 0:\n",
    "        print(\"Happy number\")\n",
    "    else:\n",
    "        print(\"Not a Happy number\")\n",
    "\n",
    "a = int(input(\"Enter a number to check Happy number or not :\"))\n",
    "Happy_number(a)"
   ]
  },
  {
   "cell_type": "code",
   "execution_count": 5,
   "metadata": {},
   "outputs": [
    {
     "name": "stdout",
     "output_type": "stream",
     "text": [
      "6\n"
     ]
    }
   ],
   "source": [
    "# 48. Write a Python program to find sum of elements in list? \n",
    "def list_sum(l):\n",
    "    sum = 0\n",
    "    for i in l:\n",
    "        sum += i\n",
    "    print(sum)\n",
    "a=[]\n",
    "a = eval(input(\"Enter the list elements :\"))\n",
    "list_sum(a)"
   ]
  },
  {
   "cell_type": "code",
   "execution_count": 6,
   "metadata": {},
   "outputs": [
    {
     "name": "stdout",
     "output_type": "stream",
     "text": [
      "24\n"
     ]
    }
   ],
   "source": [
    "# 49. Write a Python program to Multiply all numbers in the list? \n",
    "def list_mul(l):\n",
    "    mul = 1\n",
    "    for i in l:\n",
    "        mul *= i\n",
    "    print(mul)\n",
    "a=[]\n",
    "a = eval(input(\"Enter the list elements :\"))\n",
    "list_mul(a)"
   ]
  },
  {
   "cell_type": "code",
   "execution_count": 22,
   "metadata": {},
   "outputs": [
    {
     "name": "stdout",
     "output_type": "stream",
     "text": [
      "6\n"
     ]
    }
   ],
   "source": [
    "# 50. Write a Python program to find smallest number in a list? \n",
    "def small(l):\n",
    "    l.sort()\n",
    "    print(\"The smallest no in the given list is :\" ,l[0])\n",
    "\n",
    "a = eval(input(\"Enter the list :\"))\n",
    "small(a)"
   ]
  },
  {
   "cell_type": "code",
   "execution_count": 25,
   "metadata": {},
   "outputs": [
    {
     "name": "stdout",
     "output_type": "stream",
     "text": [
      "8\n"
     ]
    }
   ],
   "source": [
    "# 50. Write a Python program to find smallest number in a list? (method - 2) using selection sort\n",
    "def small(l):\n",
    "    n = len(l)\n",
    "    t=0\n",
    "    for i in range(n-1):\n",
    "        for j in range(i+1,n):\n",
    "            if l[i]>l[j]:\n",
    "                l[i],l[j] = l[j],l[i]\n",
    "                \n",
    "    print(l[0])\n",
    "a = eval(input(\"Enter the list :\"))\n",
    "small(a)"
   ]
  },
  {
   "cell_type": "code",
   "execution_count": 47,
   "metadata": {},
   "outputs": [
    {
     "name": "stdout",
     "output_type": "stream",
     "text": [
      "<class 'list'>\n",
      "<class 'str'>\n",
      "54321\n"
     ]
    }
   ],
   "source": [
    "n=12345\n",
    "n1 = str(n)[::-1]\n",
    "num = list(n1)\n",
    "print(type(num))\n",
    "print(type(n1))\n",
    "print(n1)"
   ]
  },
  {
   "cell_type": "code",
   "execution_count": 32,
   "metadata": {},
   "outputs": [
    {
     "name": "stdout",
     "output_type": "stream",
     "text": [
      "12.3\n",
      "12\n"
     ]
    }
   ],
   "source": [
    "n= 123\n",
    "print(n/10)\n",
    "print(n//10)"
   ]
  },
  {
   "cell_type": "code",
   "execution_count": 26,
   "metadata": {},
   "outputs": [],
   "source": [
    "n=5\n",
    "s=n**1+n**2"
   ]
  },
  {
   "cell_type": "code",
   "execution_count": 27,
   "metadata": {},
   "outputs": [
    {
     "data": {
      "text/plain": [
       "30"
      ]
     },
     "execution_count": 27,
     "metadata": {},
     "output_type": "execute_result"
    }
   ],
   "source": [
    "s"
   ]
  },
  {
   "cell_type": "code",
   "execution_count": 91,
   "metadata": {},
   "outputs": [
    {
     "name": "stdout",
     "output_type": "stream",
     "text": [
      "9\n"
     ]
    }
   ],
   "source": [
    "n=1\n",
    "d = 19%10\n",
    "print(d)"
   ]
  },
  {
   "cell_type": "code",
   "execution_count": 110,
   "metadata": {},
   "outputs": [
    {
     "name": "stdout",
     "output_type": "stream",
     "text": [
      "0\n",
      "0\n",
      "1\n",
      "Happy number\n"
     ]
    }
   ],
   "source": []
  },
  {
   "cell_type": "code",
   "execution_count": null,
   "metadata": {},
   "outputs": [],
   "source": []
  },
  {
   "cell_type": "code",
   "execution_count": 95,
   "metadata": {},
   "outputs": [],
   "source": [
    "# reverse a number\n",
    "# 123 to 321 not using slicing with logic [::-1]"
   ]
  },
  {
   "cell_type": "code",
   "execution_count": 102,
   "metadata": {},
   "outputs": [
    {
     "data": {
      "text/plain": [
       "321"
      ]
     },
     "execution_count": 102,
     "metadata": {},
     "output_type": "execute_result"
    }
   ],
   "source": [
    "n = 123\n",
    "x = str(n)\n",
    "# x[::-1]\n",
    "# y = int(x)\n",
    "y = int(x[::-1])\n",
    "y"
   ]
  },
  {
   "cell_type": "code",
   "execution_count": null,
   "metadata": {},
   "outputs": [],
   "source": []
  }
 ],
 "metadata": {
  "kernelspec": {
   "display_name": "myenv",
   "language": "python",
   "name": "python3"
  },
  "language_info": {
   "codemirror_mode": {
    "name": "ipython",
    "version": 3
   },
   "file_extension": ".py",
   "mimetype": "text/x-python",
   "name": "python",
   "nbconvert_exporter": "python",
   "pygments_lexer": "ipython3",
   "version": "3.11.7"
  }
 },
 "nbformat": 4,
 "nbformat_minor": 2
}
