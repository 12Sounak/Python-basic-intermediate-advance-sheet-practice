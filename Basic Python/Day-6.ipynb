{
 "cells": [
  {
   "cell_type": "code",
   "execution_count": null,
   "metadata": {},
   "outputs": [],
   "source": [
    "\"\"\"\n",
    "44. Write a Python program to check if the given number is Happy Number? \n",
    "eg: Input: n = 19\n",
    "    Output: True\n",
    "    19 is Happy Number,\n",
    "    1^2 + 9^2 = 82\n",
    "    8^2 + 2^2 = 68\n",
    "    6^2 + 8^2 = 100\n",
    "    1^2 + 0^2 + 0^2 = 1\n",
    "    As we reached to 1, 19 is a Happy Number.\n",
    "\n",
    "    Input: n = 20\n",
    "    Output: False\n",
    "\n",
    "\n",
    "45. Write a Python program to print all happy numbers between 1 and 100? \n",
    "\n",
    "46. Write a Python program to determine whether the given number is a \n",
    "Harshad Number? \n",
    "    eg: if number is 156, then sum of its digit will be 1 + 5 + 6 = 12. Since 156 is divisible by 12. So, 156 is a Harshad number.\n",
    "\n",
    "47. Write a Python program to print all pronic numbers between 1 and 100? \n",
    "    eg: Input  : 6\n",
    "        Output : Pronic Number\n",
    "        Explanation: 6 = 2 * 3 i.e 6 is a product\n",
    "        of two consecutive integers 2 and 3.\n",
    "\n",
    "        Input :56\n",
    "        Output :Pronic Number\n",
    "        Explanation: 56 = 7 * 8 i.e 56 is a product \n",
    "        of two consecutive integers 7 and 8. \n",
    "\n",
    "        Input  : 8\n",
    "        Output : Not a Pronic Number\n",
    "        Explanation: 8 = 2 * 4 i.e 8 is a product of \n",
    "        2 and 4 which are not consecutive integers.\n",
    "\n",
    "        \n",
    "48. Write a Python program to find sum of elements in list? \n",
    "49. Write a Python program to Multiply all numbers in the list? \n",
    "50. Write a Python program to find smallest number in a list? \n",
    "\"\"\""
   ]
  },
  {
   "cell_type": "code",
   "execution_count": null,
   "metadata": {},
   "outputs": [],
   "source": [
    "\"\"\"44. Write a Python program to check if the given number is Happy Number? \n",
    "eg: Input: n = 19\n",
    "    Output: True\n",
    "    19 is Happy Number,\n",
    "    1^2 + 9^2 = 82\n",
    "    8^2 + 2^2 = 68\n",
    "    6^2 + 8^2 = 100\n",
    "    1^2 + 0^2 + 0^2 = 1\n",
    "    As we reached to 1, 19 is a Happy Number.\n",
    "\n",
    "    Input: n = 20\n",
    "    Output: False\n",
    "\"\"\"\n",
    "def Happy_number(n):\n",
    "    no = 0\n",
    "    f = 1\n",
    "    while n!=0:\n",
    "        d = n%10\n",
    "        no = no + d**2\n",
    "        n = n//10\n",
    "        if (n==1):\n",
    "            f=0\n",
    "            # print(no)\n",
    "    if f == 0:\n",
    "        print(\"Happy number\")\n",
    "    else:\n",
    "        print(\"Not a Happy number\")\n",
    "\n",
    "\n",
    "\n",
    "\n",
    "a = int(input(\"Enter a number to check Happy number or not :\"))\n",
    "Happy_number(a)"
   ]
  },
  {
   "cell_type": "code",
   "execution_count": null,
   "metadata": {},
   "outputs": [],
   "source": [
    "# 44\n",
    "def Happy_number(n):\n",
    "    no = 0\n",
    "    f = 1\n",
    "    while n!=0:\n",
    "        d = n%10\n",
    "        no = no + d**2         \n",
    "        print(no)\n",
    "        n = n//10\n",
    "        if (n==1):\n",
    "            f=0\n",
    "    if f == 0:\n",
    "        print(\"Happy number\")\n",
    "    else:\n",
    "        print(\"Not a Happy number\")\n",
    "\n",
    "a = int(input(\"Enter a number to check Happy number or not :\"))\n",
    "Happy_number(a)"
   ]
  },
  {
   "cell_type": "code",
   "execution_count": 2,
   "metadata": {},
   "outputs": [
    {
     "data": {
      "text/plain": [
       "0"
      ]
     },
     "execution_count": 2,
     "metadata": {},
     "output_type": "execute_result"
    }
   ],
   "source": [
    "n=156%12\n",
    "n"
   ]
  },
  {
   "cell_type": "code",
   "execution_count": 15,
   "metadata": {},
   "outputs": [
    {
     "name": "stdout",
     "output_type": "stream",
     "text": [
      "156\n",
      "12\n",
      "Harshad number\n"
     ]
    }
   ],
   "source": [
    "# 46. Write a Python program to determine whether the given number is a \n",
    "# Harshad Number? \n",
    "#     eg: if number is 156, then sum of its digit will be 1 + 5 + 6 = 12. Since 156 is divisible by 12. So, 156 is a Harshad number.\n",
    "def Harshad_Number(n):\n",
    "    t=n\n",
    "    sum = 0\n",
    "    while n!=0:\n",
    "        d = n%10\n",
    "        sum = sum + d     \n",
    "        n = n//10\n",
    "    # print(t)\n",
    "    # print(sum)\n",
    "    if t%sum==0:\n",
    "        print(\"Harshad number\")\n",
    "    else:\n",
    "        print(\"Not\")\n",
    "\n",
    "\n",
    "n = int(input(\"Enter a number :\"))\n",
    "Harshad_Number(n)"
   ]
  },
  {
   "cell_type": "code",
   "execution_count": 25,
   "metadata": {},
   "outputs": [
    {
     "name": "stdout",
     "output_type": "stream",
     "text": [
      "not\n"
     ]
    }
   ],
   "source": [
    "\"\"\" \n",
    "47. Write a Python program to print all pronic numbers between 1 and 100? \n",
    "    eg: Input  : 6\n",
    "        Output : Pronic Number\n",
    "        Explanation: 6 = 2 * 3 i.e 6 is a product\n",
    "        of two consecutive integers 2 and 3.\n",
    "\n",
    "        Input :56\n",
    "        Output :Pronic Number\n",
    "        Explanation: 56 = 7 * 8 i.e 56 is a product \n",
    "        of two consecutive integers 7 and 8. \n",
    "\n",
    "        Input  : 8\n",
    "        Output : Not a Pronic Number\n",
    "        Explanation: 8 = 2 * 4 i.e 8 is a product of \n",
    "        2 and 4 which are not consecutive integers.\n",
    "\"\"\"\n",
    "def pronic_number(n):\n",
    "    f = 0\n",
    "    for i in range(1,n+2):\n",
    "        for j in range(i,n):\n",
    "            if i*j == n:\n",
    "                f = 1\n",
    "    if f == 1:\n",
    "        print(\"pronic number\")\n",
    "    else:\n",
    "        print(\"not\")\n",
    "n = int(input(\"Enter a number:\"))\n",
    "pronic_number(n)"
   ]
  },
  {
   "cell_type": "code",
   "execution_count": 41,
   "metadata": {},
   "outputs": [
    {
     "name": "stdout",
     "output_type": "stream",
     "text": [
      "not\n"
     ]
    }
   ],
   "source": [
    "# 47 corrected:\n",
    "def pronic_number(n):\n",
    "    f = 0\n",
    "    for i in range(0,n):\n",
    "        if i*(i+1) == n:\n",
    "                f = 1\n",
    "    if f == 1:\n",
    "        print(\"pronic number\")\n",
    "    else:\n",
    "        print(\"not\")\n",
    "\n",
    "\n",
    "n = int(input(\"Enter a number:\"))\n",
    "pronic_number(n)"
   ]
  },
  {
   "cell_type": "code",
   "execution_count": 60,
   "metadata": {},
   "outputs": [
    {
     "name": "stdout",
     "output_type": "stream",
     "text": [
      "13\n"
     ]
    }
   ],
   "source": [
    "# 48. Write a Python program to find sum of elements in list? \n",
    "def list_sum(l):\n",
    "    sum = 0\n",
    "    for i in l:\n",
    "        sum += i\n",
    "    print(sum)\n",
    "a = eval(input(\"Enter the list elements :\"))\n",
    "list_sum(a)"
   ]
  },
  {
   "cell_type": "code",
   "execution_count": 61,
   "metadata": {},
   "outputs": [
    {
     "name": "stdout",
     "output_type": "stream",
     "text": [
      "6\n"
     ]
    }
   ],
   "source": [
    "# 49. Write a Python program to Multiply all numbers in the list? \n",
    "def list_mul(l):\n",
    "    mul = 1\n",
    "    for i in l:\n",
    "        mul *= i\n",
    "    print(mul)\n",
    "a = eval(input(\"Enter the list elements :\"))\n",
    "list_mul(a)"
   ]
  },
  {
   "cell_type": "code",
   "execution_count": 32,
   "metadata": {},
   "outputs": [
    {
     "name": "stdout",
     "output_type": "stream",
     "text": [
      "The smallest no in the given list is : 0\n"
     ]
    }
   ],
   "source": [
    "# 50. Write a Python program to find smallest number in a list? \n",
    "def small(l):\n",
    "    l.sort()\n",
    "    print(\"The smallest no in the given list is :\" ,l[0])\n",
    "\n",
    "a = eval(input(\"Enter the list :\"))\n",
    "small(a)"
   ]
  },
  {
   "cell_type": "code",
   "execution_count": 33,
   "metadata": {},
   "outputs": [
    {
     "name": "stdout",
     "output_type": "stream",
     "text": [
      "2\n"
     ]
    }
   ],
   "source": [
    "# 50. Write a Python program to find smallest number in a list? (method - 2) using selection sort\n",
    "def small(l):\n",
    "    n = len(l)\n",
    "    t=0\n",
    "    for i in range(n-1):\n",
    "        for j in range(i+1,n):\n",
    "            if l[i]>l[j]:\n",
    "                l[i],l[j] = l[j],l[i]\n",
    "                \n",
    "    print(l[0])\n",
    "a = eval(input(\"Enter the list :\"))\n",
    "small(a)"
   ]
  },
  {
   "cell_type": "code",
   "execution_count": 51,
   "metadata": {},
   "outputs": [
    {
     "data": {
      "text/plain": [
       "[2, 3, 4]"
      ]
     },
     "execution_count": 51,
     "metadata": {},
     "output_type": "execute_result"
    }
   ],
   "source": [
    "l = eval(input(\"Enter a list\"))\n",
    "l"
   ]
  },
  {
   "cell_type": "code",
   "execution_count": 59,
   "metadata": {},
   "outputs": [
    {
     "data": {
      "text/plain": [
       "['1', '2', '3', ',', '1', '2']"
      ]
     },
     "execution_count": 59,
     "metadata": {},
     "output_type": "execute_result"
    }
   ],
   "source": [
    "l = list(input(\"Enter a list\"))\n",
    "l"
   ]
  },
  {
   "cell_type": "code",
   "execution_count": 63,
   "metadata": {},
   "outputs": [
    {
     "name": "stdout",
     "output_type": "stream",
     "text": [
      "The smallest no in the given list is : 16\n"
     ]
    }
   ],
   "source": [
    "# 51. Write a Python program to find largest number in a list?\n",
    "def largest_sort(l):\n",
    "    n = len(l)\n",
    "    l.sort()\n",
    "    print(\"The Largest no in the given list is :\" ,l[n-1])\n",
    "\n",
    "a = eval(input(\"Enter the list :\"))\n",
    "largest_sort(a)"
   ]
  },
  {
   "cell_type": "code",
   "execution_count": 64,
   "metadata": {},
   "outputs": [
    {
     "name": "stdout",
     "output_type": "stream",
     "text": [
      "5\n"
     ]
    }
   ],
   "source": [
    "# 51. Write a Python program to find largest number in a list? (method - 2)\n",
    "def largest_sel(l):\n",
    "    n = len(l)\n",
    "    t=0\n",
    "    for i in range(n-1):\n",
    "        for j in range(i+1,n):\n",
    "            if l[i]>l[j]:\n",
    "                l[i],l[j] = l[j],l[i]\n",
    "                \n",
    "    print(l[n-1])\n",
    "a = eval(input(\"Enter the list :\"))\n",
    "largest_sel(a)"
   ]
  },
  {
   "cell_type": "code",
   "execution_count": null,
   "metadata": {},
   "outputs": [],
   "source": []
  }
 ],
 "metadata": {
  "kernelspec": {
   "display_name": "myenv",
   "language": "python",
   "name": "python3"
  },
  "language_info": {
   "codemirror_mode": {
    "name": "ipython",
    "version": 3
   },
   "file_extension": ".py",
   "mimetype": "text/x-python",
   "name": "python",
   "nbconvert_exporter": "python",
   "pygments_lexer": "ipython3",
   "version": "3.11.7"
  }
 },
 "nbformat": 4,
 "nbformat_minor": 2
}
