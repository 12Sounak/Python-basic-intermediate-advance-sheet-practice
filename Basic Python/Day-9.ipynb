{
 "cells": [
  {
   "cell_type": "code",
   "execution_count": null,
   "metadata": {},
   "outputs": [],
   "source": [
    "\"\"\"\n",
    "64. Write a Python to find all duplicate characters in string? \n",
    "65. Write a Python Program to check if a string contains any special \n",
    "character? \n",
    "66. Would you like me to provide solutions for any of these questions? \n",
    "67. Write a Python program to Extract Unique values dictionary values? \n",
    "68. Write a Python program to find the sum of all items in a dictionary? \n",
    "69. Write a Python program to Merging two Dictionaries \n",
    "70. Write a Python program to convert key-values list to flat dictionary? \n",
    "71. Write a Python program to insertion at the beginning in OrderedDict \n",
    "72. Write a Python program to check order of character in string using \n",
    "OrderedDict()? \n",
    "73. Write a Python program to sort Python Dictionaries by Key or Value? \n",
    "74. Would you like me to provide solutions for any of these questions or the \n",
    "previous set? \n",
    "75. Write a Python program to remove duplicates from a list while \n",
    "preserving the order of elements?     \n",
    "\"\"\""
   ]
  },
  {
   "cell_type": "code",
   "execution_count": null,
   "metadata": {},
   "outputs": [],
   "source": [
    "# 64. Write a Python to find all duplicate characters in string? \n",
    "def duplicate_character(s1):\n",
    "    n = len(s1)\n",
    "    for i in range(0,n):\n",
    "        for j in range(i+1,n):\n",
    "            if s1[i] == s1[j]:\n",
    "                print(s1[i])\n",
    "str1 = input(\"Enter a String :\")\n",
    "duplicate_character(str1)"
   ]
  },
  {
   "cell_type": "code",
   "execution_count": 3,
   "metadata": {},
   "outputs": [
    {
     "name": "stdout",
     "output_type": "stream",
     "text": [
      "['a', 'a', 't', 't', 't', 't']\n"
     ]
    }
   ],
   "source": [
    "def duplicate_ch(s):\n",
    "    t = []\n",
    "    for i in s:\n",
    "        if s.count(i)>1:\n",
    "            t.append(i)\n",
    "    print(t)\n",
    "str1 = input(\"Enter a string :\")\n",
    "duplicate_ch(str1)"
   ]
  },
  {
   "cell_type": "code",
   "execution_count": null,
   "metadata": {},
   "outputs": [],
   "source": [
    "# 64. Write a Python code to find all duplicate characters in string? (sam method)\n",
    "def myfun(s): \n",
    "    x=set()\n",
    "    for i in s:\n",
    "        if s.count(i)>1:\n",
    "            x.add(i)\n",
    "    for i in x:\n",
    "        print(i)"
   ]
  },
  {
   "cell_type": "code",
   "execution_count": 31,
   "metadata": {},
   "outputs": [
    {
     "name": "stdout",
     "output_type": "stream",
     "text": [
      "Yes\n"
     ]
    }
   ],
   "source": [
    "# 65. Write a Python Program to check if a string contains any special character? \n",
    "def check_special(l):\n",
    "    p=''' !@#$%^&*()_+-={}[]\\|;:<>,.?\"'~\\ '''\n",
    "    s=\"\"\n",
    "    f = 0\n",
    "    for i in l:\n",
    "        if i in p and \" \" not in i:\n",
    "            f = 1\n",
    "    if f == 1:\n",
    "        print(\"Yes\")\n",
    "    else:\n",
    "        print(\"no\")\n",
    "\n",
    "s = input(\"Enter a String :\")\n",
    "check_special(s)"
   ]
  },
  {
   "cell_type": "code",
   "execution_count": 43,
   "metadata": {},
   "outputs": [
    {
     "name": "stdout",
     "output_type": "stream",
     "text": [
      "samarat\n"
     ]
    },
    {
     "ename": "ValueError",
     "evalue": "not enough values to unpack (expected 2, got 0)",
     "output_type": "error",
     "traceback": [
      "\u001b[1;31m---------------------------------------------------------------------------\u001b[0m",
      "\u001b[1;31mValueError\u001b[0m                                Traceback (most recent call last)",
      "Cell \u001b[1;32mIn[43], line 21\u001b[0m\n\u001b[0;32m     18\u001b[0m     \u001b[38;5;28mprint\u001b[39m(s)\n\u001b[0;32m     20\u001b[0m s \u001b[38;5;241m=\u001b[39m \u001b[38;5;28minput\u001b[39m(\u001b[38;5;124m\"\u001b[39m\u001b[38;5;124mEnter a String :\u001b[39m\u001b[38;5;124m\"\u001b[39m)\n\u001b[1;32m---> 21\u001b[0m \u001b[43mremove_Punctuation\u001b[49m\u001b[43m(\u001b[49m\u001b[43ms\u001b[49m\u001b[43m)\u001b[49m\n",
      "Cell \u001b[1;32mIn[43], line 4\u001b[0m, in \u001b[0;36mremove_Punctuation\u001b[1;34m(l)\u001b[0m\n\u001b[0;32m      2\u001b[0m \u001b[38;5;28mprint\u001b[39m(l)\n\u001b[0;32m      3\u001b[0m p\u001b[38;5;241m=\u001b[39m\u001b[38;5;124m'''\u001b[39m\u001b[38;5;124m !@#$\u001b[39m\u001b[38;5;124m%\u001b[39m\u001b[38;5;124m^&*()_+-=\u001b[39m\u001b[38;5;132;01m{}\u001b[39;00m\u001b[38;5;124m[]\u001b[39m\u001b[38;5;124m\\\u001b[39m\u001b[38;5;124m|;:<>,.?\u001b[39m\u001b[38;5;124m\"\u001b[39m\u001b[38;5;124m'\u001b[39m\u001b[38;5;124m~\u001b[39m\u001b[38;5;124m\\\u001b[39m\u001b[38;5;124m \u001b[39m\u001b[38;5;124m'''\u001b[39m\n\u001b[1;32m----> 4\u001b[0m s1,s\u001b[38;5;241m=\u001b[39m\u001b[38;5;124m\"\u001b[39m\u001b[38;5;124m\"\u001b[39m\n\u001b[0;32m      6\u001b[0m f \u001b[38;5;241m=\u001b[39m \u001b[38;5;241m0\u001b[39m\n\u001b[0;32m      7\u001b[0m \u001b[38;5;28;01mfor\u001b[39;00m i \u001b[38;5;129;01min\u001b[39;00m l:\n",
      "\u001b[1;31mValueError\u001b[0m: not enough values to unpack (expected 2, got 0)"
     ]
    }
   ],
   "source": [
    "def remove_Punctuation(l):\n",
    "    print(l)\n",
    "    p=''' !@#$%^&*()_+-={}[]\\|;:<>,.?\"'~\\ '''\n",
    "    s1,s=\"\"\n",
    "    \n",
    "    f = 0\n",
    "    for i in l:\n",
    "        if i in p and \" \" not in i:\n",
    "            f = 1\n",
    "            # s1.replace(i,\" \")\n",
    "            s = s + i + \" \"\n",
    "        else:\n",
    "            s = s + i + \" \"\n",
    "    if f == 1:\n",
    "        print(\"Yes\")\n",
    "    else:\n",
    "        print(\"no\")\n",
    "    print(s)\n",
    "\n",
    "s = input(\"Enter a String :\")\n",
    "remove_Punctuation(s)"
   ]
  },
  {
   "cell_type": "code",
   "execution_count": null,
   "metadata": {},
   "outputs": [],
   "source": [
    "def myfun(s):\n",
    "    z=s\n",
    "    x=''' !@#$%^&*()_+-={}[]\\|;:'\"<>,.?/~\\ ''' \n",
    "    y=set()\n",
    "    \n",
    "    for i in x :\n",
    "        if i!= \" \" and i in s:\n",
    "            y.add(i)\n",
    "            s=s.replace(i,\" \")\n",
    "        \n",
    "        \n",
    "    \n",
    "    for i in y:\n",
    "        print(i)\n",
    "    if z==s:\n",
    "        print(\"no it dosent contain any special chars\")\n",
    "    else:\n",
    "        print(s)\n",
    "        print(\"yes it contains\")"
   ]
  },
  {
   "cell_type": "code",
   "execution_count": null,
   "metadata": {},
   "outputs": [],
   "source": [
    "# 67. Write a Python program to Extract Unique values dictionary values? \n",
    "# 67. Write a Python program to Extract Unique values dictionary values? (sam soln)\n",
    "\n",
    "def myfun(d):\n",
    "    s=set()\n",
    "    for i in d.values():\n",
    "        s.add(i)\n",
    "    for j in s:\n",
    "        print(j)"
   ]
  },
  {
   "cell_type": "code",
   "execution_count": null,
   "metadata": {},
   "outputs": [],
   "source": [
    "# 68. Write a Python program to find the sum of all items in a dictionary? (sam soln)\n",
    "def myfun(d):\n",
    "    l=list()\n",
    "    sum=0\n",
    "    for i in d.values():\n",
    "        l.append(i)\n",
    "    for j in l:\n",
    "        sum=sum+j\n",
    "    print(sum)"
   ]
  },
  {
   "cell_type": "code",
   "execution_count": null,
   "metadata": {},
   "outputs": [],
   "source": [
    "# 69. Write a Python program to Merging two Dictionaries (sam soln)\n",
    "\n",
    "def myfun(x,y):\n",
    "    l1=[i for i in x.keys()]\n",
    "    l2=[i for i in x.values()]\\\n",
    "    \n",
    "    l3=[i for i in y.keys()]\n",
    "    l4=[i for i in y.values()]\n",
    "\n",
    "    l1.extend(l3) #it have all the keys\n",
    "    l2.extend(l4) # it have all the values\n",
    "\n",
    "    lfinal=list(zip(l1,l2))\n",
    "\n",
    "    d={i:j for i,j in lfinal}\n",
    "    print(d)"
   ]
  },
  {
   "cell_type": "code",
   "execution_count": null,
   "metadata": {},
   "outputs": [],
   "source": [
    "# 70. Write a Python program to convert key-values list to flat dictionary?(sam solumn)\n",
    "def myfun(l):\n",
    "    d={i:j for i,j in l}\n",
    "    print(d)\n",
    "def myfun(k, v, z):\n",
    "    d = {k: v}  \n",
    "    d.update(z)  \n",
    "    print(d)  \n",
    "\n",
    "# Example usage:\n",
    "myfun('name', 'Alice', {'age': 25, 'city': 'New York'})"
   ]
  }
 ],
 "metadata": {
  "kernelspec": {
   "display_name": "myenv",
   "language": "python",
   "name": "python3"
  },
  "language_info": {
   "codemirror_mode": {
    "name": "ipython",
    "version": 3
   },
   "file_extension": ".py",
   "mimetype": "text/x-python",
   "name": "python",
   "nbconvert_exporter": "python",
   "pygments_lexer": "ipython3",
   "version": "3.11.7"
  }
 },
 "nbformat": 4,
 "nbformat_minor": 2
}
