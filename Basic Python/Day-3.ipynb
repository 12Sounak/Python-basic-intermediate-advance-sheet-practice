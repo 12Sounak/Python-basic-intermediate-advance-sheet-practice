{
 "cells": [
  {
   "cell_type": "code",
   "execution_count": null,
   "metadata": {},
   "outputs": [],
   "source": [
    "\"\"\"\n",
    "27. Write a Python Program to Display Fibonacci Sequence Using Recursion? \n",
    "28. Write a Python Program to Find Factorial of Number Using Recursion? \n",
    "29. Write a Python Program to calculate your Body Mass Index? \n",
    "30. Write a Python Program to calculate the natural logarithm of any number? \n",
    "31. Write a Python Program for cube sum of first n natural numbers? \n",
    "32. Write a Python Program to find sum of array? \n",
    "33. Write a Python Program to find largest element in an array? \n",
    "34. Write a Python Program for array rotation?  \n",
    "35. Write a Python Program to Split the array and add the first part to the end? \n",
    "36. Write a Python Program to check if given array is Monotonic? \n",
    "37. Write a Python Program to Add Two Matrices? \n",
    "\"\"\""
   ]
  },
  {
   "cell_type": "code",
   "execution_count": 10,
   "metadata": {},
   "outputs": [
    {
     "data": {
      "text/plain": [
       "120"
      ]
     },
     "execution_count": 10,
     "metadata": {},
     "output_type": "execute_result"
    }
   ],
   "source": [
    "# 28. Write a Python Program to Find Factorial of Number Using Recursion? \n",
    "def fact(n):\n",
    "    if n==0:\n",
    "        return 1\n",
    "    else:\n",
    "        return n * fact(n-1)\n",
    "\n",
    "num = int(input(\"Enter a number :\"))\n",
    "fact(num)"
   ]
  },
  {
   "cell_type": "code",
   "execution_count": 15,
   "metadata": {},
   "outputs": [
    {
     "name": "stdout",
     "output_type": "stream",
     "text": [
      "23.14002599090318\n"
     ]
    }
   ],
   "source": [
    "# 29. Write a Python Program to calculate your Body Mass Index? \n",
    "def body_mass_index(weight,height):\n",
    "    bmi = (weight/(height*height))*703\n",
    "    print(bmi)\n",
    "w = int(input(\"Enter ur body weight(kg) :\"))\n",
    "h = float(input(\"Enter ur height(ft) :\"))\n",
    "body_mass_index(w*2.20,h*12)"
   ]
  },
  {
   "cell_type": "code",
   "execution_count": 19,
   "metadata": {},
   "outputs": [
    {
     "name": "stdout",
     "output_type": "stream",
     "text": [
      "0.9932517730102834\n"
     ]
    }
   ],
   "source": [
    "# 30. Write a Python Program to calculate the natural logarithm of any number? \n",
    "import math \n",
    "def logcalc(n):\n",
    "    x=math.log(n)\n",
    "    print(x)\n",
    "n = float(input(\"Enter a number u want to convert to its log :\"))\n",
    "logcalc(n)\n"
   ]
  },
  {
   "cell_type": "code",
   "execution_count": null,
   "metadata": {},
   "outputs": [],
   "source": [
    "# without using in-build function(method-2)\n",
    "def logcalc_formula(n):\n",
    "    x=math.log(n)\n",
    "    print(x)\n",
    "n = float(input(\"Enter a number u want to convert to its log :\"))\n",
    "logcalc_formula(n)"
   ]
  },
  {
   "cell_type": "code",
   "execution_count": 22,
   "metadata": {},
   "outputs": [
    {
     "name": "stdout",
     "output_type": "stream",
     "text": [
      "36\n"
     ]
    }
   ],
   "source": [
    "# 31. Write a Python Program for cube sum of first n natural numbers? \n",
    "def sumofcube(n):\n",
    "    sum = 0 \n",
    "    for i in range(1,n+1):\n",
    "        sum = sum + i**3\n",
    "    print(sum)\n",
    "\n",
    "n = int(input(\"Enter a number :\"))\n",
    "sumofcube(n)"
   ]
  },
  {
   "cell_type": "code",
   "execution_count": 25,
   "metadata": {},
   "outputs": [
    {
     "name": "stdout",
     "output_type": "stream",
     "text": [
      "20\n"
     ]
    }
   ],
   "source": [
    "# 32. Write a Python Program to find sum of array? \n",
    "def sum_of_array(n):\n",
    "    l = []\n",
    "    sum = 0\n",
    "    for i in range(n):\n",
    "        n = int(input(\"Enter the array elements :\"))\n",
    "        l.append(n)\n",
    "        sum = sum + l[i]\n",
    "\n",
    "    print(sum)\n",
    "\n",
    "n = int(input(\"Enter the size of the array :\"))\n",
    "sum_of_array(n)\n"
   ]
  },
  {
   "cell_type": "code",
   "execution_count": 26,
   "metadata": {},
   "outputs": [],
   "source": [
    "# 32. Write a Python Program to find sum of array? \n",
    "def sum_of_arrays(x,y,*z):\n",
    "    p=0\n",
    "    for i in z:\n",
    "        p=p+i\n",
    "    return p+x+y\n"
   ]
  },
  {
   "cell_type": "code",
   "execution_count": 27,
   "metadata": {},
   "outputs": [
    {
     "data": {
      "text/plain": [
       "21"
      ]
     },
     "execution_count": 27,
     "metadata": {},
     "output_type": "execute_result"
    }
   ],
   "source": [
    "sum_of_arrays(1,2,3,4,5,6)"
   ]
  },
  {
   "cell_type": "code",
   "execution_count": null,
   "metadata": {},
   "outputs": [],
   "source": [
    "# 33. Write a Python Program to find largest element in an array? \n",
    "def largest_element(n):\n",
    "    l = []\n",
    "    sum = 0\n",
    "    for i in range(n):\n",
    "        n = int(input(\"Enter the array elements :\"))\n",
    "        l.append(n)\n",
    "\n",
    "    for i in range(n):\n",
    "        for j in range(i+1,n+1):\n",
    "            if l[i]\n",
    "    print(sum)\n",
    "\n",
    "n = int(input(\"Enter the size of the array :\"))\n",
    "largest_element(n)"
   ]
  },
  {
   "cell_type": "code",
   "execution_count": 28,
   "metadata": {},
   "outputs": [
    {
     "data": {
      "text/plain": [
       "4"
      ]
     },
     "execution_count": 28,
     "metadata": {},
     "output_type": "execute_result"
    }
   ],
   "source": [
    "l=[1,2,3,4]\n",
    "max(l)"
   ]
  },
  {
   "cell_type": "code",
   "execution_count": 29,
   "metadata": {},
   "outputs": [
    {
     "data": {
      "text/plain": [
       "[5, 4, 3, 2, 1]"
      ]
     },
     "execution_count": 29,
     "metadata": {},
     "output_type": "execute_result"
    }
   ],
   "source": [
    "# 34. Write a Python Program for array rotation?\n",
    "l = [1,2,3,4,5]\n",
    "l[::-1]"
   ]
  },
  {
   "cell_type": "code",
   "execution_count": 32,
   "metadata": {},
   "outputs": [
    {
     "name": "stdout",
     "output_type": "stream",
     "text": [
      "[1, 2, 3]\n"
     ]
    }
   ],
   "source": [
    "l=[1,2,3]\n",
    "print(l)"
   ]
  },
  {
   "cell_type": "code",
   "execution_count": 34,
   "metadata": {},
   "outputs": [
    {
     "name": "stdout",
     "output_type": "stream",
     "text": [
      "[11, 22, 33, 44]\n"
     ]
    }
   ],
   "source": [
    "# 35. Write a Python Program to Split the array and add the first part to the end? (expreriement not the actual qs)\n",
    "l=[1,2,3,4]\n",
    "p=[10,20,30,40]\n",
    "q=[]\n",
    "for i in range(0,len(p)):\n",
    "    sum = l[i] + p[i]\n",
    "    q.append(sum)\n",
    "print(q)"
   ]
  },
  {
   "cell_type": "code",
   "execution_count": 45,
   "metadata": {},
   "outputs": [
    {
     "name": "stdout",
     "output_type": "stream",
     "text": [
      "10\n",
      "[7, 9, 11, 13, 15]\n"
     ]
    }
   ],
   "source": [
    "# 35. Write a Python Program to Split the array and add the first part to the end? \n",
    "l = [1,2,3,4,5,6,7,8,9,10]\n",
    "y = len(l)\n",
    "print(y)\n",
    "q=[]\n",
    "p=[]\n",
    "\n",
    "for i in range(0,int(y/2)):      #split the 1st half\n",
    "    p.append(l[i])\n",
    "for j in range(int(y/2),y):      #split the 2nd half\n",
    "    q.append(l[j])\n",
    "new_arr=[]\n",
    "for i in range(0,len(p)):         # sum of both halfs\n",
    "    sum = q[i] + p[i]\n",
    "    new_arr.append(sum)\n",
    "print(new_arr)"
   ]
  },
  {
   "cell_type": "code",
   "execution_count": 19,
   "metadata": {},
   "outputs": [
    {
     "name": "stdout",
     "output_type": "stream",
     "text": [
      "monotonic\n"
     ]
    }
   ],
   "source": [
    "# 36. Write a Python Program to check if given array is Monotonic? \n",
    "def check_monotonic(l):\n",
    "    inc = True\n",
    "    dec = True\n",
    "    for i in range(1,len(l)):\n",
    "        if l[i] > l[i-1]:\n",
    "            dec = False\n",
    "        if l[i] < l[i-1]:\n",
    "            inc = False\n",
    "    if inc == False and dec == False:\n",
    "        print(\"Non - Monotonic\")\n",
    "    else:\n",
    "        print(\"monotonic\")\n",
    "\n",
    "l = [1,2,3,4,5]\n",
    "check_monotonic(l)"
   ]
  },
  {
   "cell_type": "code",
   "execution_count": 4,
   "metadata": {},
   "outputs": [
    {
     "name": "stdout",
     "output_type": "stream",
     "text": [
      "[4, 4, 4, 4]\n"
     ]
    }
   ],
   "source": [
    "# 37. Write a Python Program to Add Two Matrices?\n",
    "def add_matrics(l,m):\n",
    "    sum1 = []\n",
    "    for i in range(0,len(l)):\n",
    "        for j in range(0,len(l)):\n",
    "            t = l[i][j] + m[i][j]\n",
    "            sum1.append(t)\n",
    "    print(sum1)\n",
    "\n",
    "p=[[2,2],[2,2]]\n",
    "q=[[2,2],[2,2]]\n",
    "add_matrics(p,q)"
   ]
  },
  {
   "cell_type": "code",
   "execution_count": 5,
   "metadata": {},
   "outputs": [
    {
     "name": "stdout",
     "output_type": "stream",
     "text": [
      "1\n"
     ]
    }
   ],
   "source": [
    "l=[[1,2],\n",
    "[2,3]]\n",
    "# print(l)\n",
    "print(l[0][0])"
   ]
  },
  {
   "cell_type": "code",
   "execution_count": 13,
   "metadata": {},
   "outputs": [],
   "source": [
    "x=[[],*[]]"
   ]
  },
  {
   "cell_type": "code",
   "execution_count": 14,
   "metadata": {},
   "outputs": [
    {
     "name": "stdout",
     "output_type": "stream",
     "text": [
      "<class 'list'>\n"
     ]
    }
   ],
   "source": []
  },
  {
   "cell_type": "code",
   "execution_count": 8,
   "metadata": {},
   "outputs": [
    {
     "name": "stdout",
     "output_type": "stream",
     "text": [
      "Enter the 1st matrics element :\n",
      "1st matrics is  [[3, 3], [3, 3]]\n",
      "Enter the 2nd matrics element :\n",
      "2nd matrics is  [[3, 3], [3, 3]]\n",
      "[6, 6, 6, 6]\n"
     ]
    }
   ],
   "source": [
    "# 37. Write a Python Program to Add Two Matrices? (using user input)\n",
    "def add_matrics(l,m):\n",
    "    sum1 = []\n",
    "    for i in range(0,len(l)):\n",
    "        for j in range(0,len(l)):\n",
    "            t = l[i][j] + m[i][j]\n",
    "            sum1.append(t)\n",
    "    print(sum1)\n",
    "\n",
    "\n",
    "size_matrics = int(input(\"Enter the Size of the Matrics :\"))\n",
    "print(\"Enter the 1st matrics element :\")\n",
    "for i in range(0,size_matrics):\n",
    "    for j in range(0,size_matrics):\n",
    "        p[i][j] = int(input())\n",
    "print(\"1st matrics is \",p)\n",
    "print(\"Enter the 2nd matrics element :\")\n",
    "for i in range(0,size_matrics):\n",
    "    for j in range(0,size_matrics):\n",
    "        q[i][j] = int(input())\n",
    "print(\"2nd matrics is \",q)\n",
    "\n",
    "# p=[[2,2],[2,2]]\n",
    "# q=[[2,2],[2,2]]\n",
    "add_matrics(p,q)"
   ]
  },
  {
   "cell_type": "code",
   "execution_count": 37,
   "metadata": {},
   "outputs": [
    {
     "name": "stdout",
     "output_type": "stream",
     "text": [
      "[[2, 2], [2, 2]]\n"
     ]
    }
   ],
   "source": [
    "# practice\n",
    "size_matrics = int(input(\"Enter the Size of the Matrics :\"))\n",
    "for i in range(0,size_matrics):\n",
    "    for j in range(0,size_matrics):\n",
    "        p[i][j] = int(input())\n",
    "print(p)"
   ]
  },
  {
   "cell_type": "code",
   "execution_count": null,
   "metadata": {},
   "outputs": [],
   "source": [
    "\"\"\" \n",
    "38. Write a Python Program to Multiply Two Matrices? \n",
    "39. Write a Python Program to Transpose a Matrix? \n",
    "40. Write a Python Program to Sort Words in Alphabetic Order? \n",
    "\"\"\" "
   ]
  },
  {
   "cell_type": "code",
   "execution_count": 50,
   "metadata": {},
   "outputs": [
    {
     "name": "stdout",
     "output_type": "stream",
     "text": [
      "Enter the 1st matrics element :\n",
      "1st matrics is  [[1, 2], [3, 4]]\n",
      "Enter the 2nd matrics element :\n",
      "2nd matrics is  [[1, 2], [3, 4]]\n",
      "[7, 10, 15, 22]\n"
     ]
    }
   ],
   "source": [
    "# 38. Write a Python Program to Multiply Two Matrices? \n",
    "def multiply_matrics(l,m):\n",
    "    sum1 = []\n",
    "    for i in range(0,len(l)):\n",
    "        for j in range(0,len(l)):\n",
    "            t=0\n",
    "            for k in range(0,len(l)):\n",
    "                t += l[i][k]*m[k][j]\n",
    "            sum1.append(t)\n",
    "    print(sum1)\n",
    "\n",
    "\n",
    "size_matrics = int(input(\"Enter the Size of the Matrics :\"))\n",
    "print(\"Enter the 1st matrics element :\")\n",
    "for i in range(0,size_matrics):\n",
    "    for j in range(0,size_matrics):\n",
    "        p[i][j] = int(input())\n",
    "print(\"1st matrics is \",p)\n",
    "print(\"Enter the 2nd matrics element :\")\n",
    "for i in range(0,size_matrics):\n",
    "    for j in range(0,size_matrics):\n",
    "        q[i][j] = int(input())\n",
    "print(\"2nd matrics is \",q)\n",
    "\n",
    "# p=[[2,2],[2,2]]\n",
    "# q=[[2,2],[2,2]]\n",
    "multiply_matrics(p,q)"
   ]
  },
  {
   "cell_type": "code",
   "execution_count": null,
   "metadata": {},
   "outputs": [],
   "source": [
    "# 39. Write a Python Program to Transpose a Matrix?"
   ]
  },
  {
   "cell_type": "code",
   "execution_count": 52,
   "metadata": {},
   "outputs": [],
   "source": [
    "l=[[1,2],[3,4]]\n"
   ]
  },
  {
   "cell_type": "code",
   "execution_count": 53,
   "metadata": {},
   "outputs": [
    {
     "data": {
      "text/plain": [
       "1"
      ]
     },
     "execution_count": 53,
     "metadata": {},
     "output_type": "execute_result"
    }
   ],
   "source": [
    "l[0][0]"
   ]
  },
  {
   "cell_type": "code",
   "execution_count": 55,
   "metadata": {},
   "outputs": [
    {
     "ename": "TypeError",
     "evalue": "list indices must be integers or slices, not tuple",
     "output_type": "error",
     "traceback": [
      "\u001b[1;31m---------------------------------------------------------------------------\u001b[0m",
      "\u001b[1;31mTypeError\u001b[0m                                 Traceback (most recent call last)",
      "Cell \u001b[1;32mIn[55], line 1\u001b[0m\n\u001b[1;32m----> 1\u001b[0m \u001b[43ml\u001b[49m\u001b[43m[\u001b[49m\u001b[38;5;241;43m1\u001b[39;49m\u001b[43m,\u001b[49m\u001b[38;5;241;43m0\u001b[39;49m\u001b[43m]\u001b[49m\n",
      "\u001b[1;31mTypeError\u001b[0m: list indices must be integers or slices, not tuple"
     ]
    }
   ],
   "source": [
    "l[1,0]"
   ]
  },
  {
   "cell_type": "code",
   "execution_count": 57,
   "metadata": {},
   "outputs": [],
   "source": [
    "import numpy as np"
   ]
  },
  {
   "cell_type": "code",
   "execution_count": 63,
   "metadata": {},
   "outputs": [],
   "source": [
    "x = np.array([[1,2],[3,4]])\n",
    "y = np.array([[1,2],[3,4]])\n"
   ]
  },
  {
   "cell_type": "code",
   "execution_count": 64,
   "metadata": {},
   "outputs": [
    {
     "data": {
      "text/plain": [
       "array([[2, 4],\n",
       "       [6, 8]])"
      ]
     },
     "execution_count": 64,
     "metadata": {},
     "output_type": "execute_result"
    }
   ],
   "source": [
    "x+y"
   ]
  },
  {
   "cell_type": "code",
   "execution_count": 66,
   "metadata": {},
   "outputs": [
    {
     "data": {
      "text/plain": [
       "array([[ 7, 10],\n",
       "       [15, 22]])"
      ]
     },
     "execution_count": 66,
     "metadata": {},
     "output_type": "execute_result"
    }
   ],
   "source": [
    "x@y"
   ]
  },
  {
   "cell_type": "code",
   "execution_count": null,
   "metadata": {},
   "outputs": [],
   "source": []
  }
 ],
 "metadata": {
  "kernelspec": {
   "display_name": "myenv",
   "language": "python",
   "name": "python3"
  },
  "language_info": {
   "codemirror_mode": {
    "name": "ipython",
    "version": 3
   },
   "file_extension": ".py",
   "mimetype": "text/x-python",
   "name": "python",
   "nbconvert_exporter": "python",
   "pygments_lexer": "ipython3",
   "version": "3.11.7"
  }
 },
 "nbformat": 4,
 "nbformat_minor": 2
}
