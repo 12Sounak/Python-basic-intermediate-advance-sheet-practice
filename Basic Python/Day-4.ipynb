{
 "cells": [
  {
   "cell_type": "markdown",
   "metadata": {},
   "source": [
    "#### 05/09/24"
   ]
  },
  {
   "cell_type": "code",
   "execution_count": null,
   "metadata": {},
   "outputs": [],
   "source": [
    "\"\"\"\n",
    "37. Write a Python Program to Add Two Matrices? \n",
    "38. Write a Python Program to Multiply Two Matrices? \n",
    "39. Write a Python Program to Transpose a Matrix? \n",
    "40. Write a Python Program to Sort Words in Alphabetic Order? \n",
    "41. Write a Python Program to Remove Punctuation From a String? \n",
    "42. Write a Python program to check if the given number is a Disarium \n",
    "Number? \n",
    "43. Write a Python program to print all disarium numbers between 1 to 100? \n",
    "44. Write a Python program to check if the given number is Happy Number? \n",
    "45. Write a Python program to print all happy numbers between 1 and 100? \n",
    "46. Write a Python program to determine whether the given number is a \n",
    "Harshad Number? \n",
    "47. Write a Python program to print all pronic numbers between 1 and 100? \n",
    "48. Write a Python program to find sum of elements in list? \n",
    "49. Write a Python program to Multiply all numbers in the list? \n",
    "50. Write a Python program to find smallest number in a list?  \n",
    "\"\"\""
   ]
  },
  {
   "cell_type": "code",
   "execution_count": 1,
   "metadata": {},
   "outputs": [
    {
     "name": "stdout",
     "output_type": "stream",
     "text": [
      "Enter the 1st matrics element :\n",
      "1st matrics is  [[2, 2], [2, 2]]\n",
      "Enter the 2nd matrics element :\n",
      "2nd matrics is  [[2, 2], [2, 2]]\n",
      "[4, 4, 4, 4]\n"
     ]
    }
   ],
   "source": [
    "# 37. Write a Python Program to Add Two Matrices? (using user input)\n",
    "def add_matrics(l,m):\n",
    "    sum1 = []\n",
    "    for i in range(0,len(l)):\n",
    "        for j in range(0,len(l)):\n",
    "            t = l[i][j] + m[i][j]\n",
    "            sum1.append(t)\n",
    "    print(sum1)\n",
    "a=0\n",
    "p=[[0,0],[2,0]]\n",
    "q=[[0,0],[2,0]]\n",
    "\n",
    "size_matrics = int(input(\"Enter the Size of the Matrics :\"))\n",
    "print(\"Enter the 1st matrics element :\")\n",
    "for i in range(0,size_matrics):\n",
    "    for j in range(0,size_matrics):\n",
    "        p[i][j] = int(input())\n",
    "print(\"1st matrics is \",p)\n",
    "print(\"Enter the 2nd matrics element :\")\n",
    "for i in range(0,size_matrics):\n",
    "    for j in range(0,size_matrics):\n",
    "        q[i][j] = int(input())\n",
    "print(\"2nd matrics is \",q)\n",
    "\n",
    "# p=[[2,2],[2,2]]\n",
    "# q=[[2,2],[2,2]]\n",
    "add_matrics(p,q)"
   ]
  },
  {
   "cell_type": "code",
   "execution_count": 15,
   "metadata": {},
   "outputs": [
    {
     "name": "stdout",
     "output_type": "stream",
     "text": [
      "Enter the 1st matrics element :\n",
      "1st matrics is  [[1, 2], [3, 4]]\n",
      "Enter the 2nd matrics element :\n",
      "2nd matrics is  [[1, 2], [3, 4]]\n",
      "[[2, 4], [6, 8]]\n"
     ]
    }
   ],
   "source": [
    "# 37. Write a Python Program to Add Two Matrices? (using user input) (2ND METHOD)\n",
    "def add_matrics(l,m,n):\n",
    "    sum1 = []\n",
    "    for i in range(n):\n",
    "        row=[]\n",
    "        for j in range(0,len(l)):\n",
    "            row.append(l[i][j] + m[i][j])\n",
    "        sum1.append(row)\n",
    "    print(sum1)\n",
    "p=[]\n",
    "q=[]\n",
    "size_matrics = int(input(\"Enter the Size of the Matrics :\"))\n",
    "print(\"Enter the 1st matrics element :\")\n",
    "for i in range(size_matrics):\n",
    "    row = []\n",
    "    for j in range(size_matrics):\n",
    "        row.append(int(input()))\n",
    "    p.append(row)\n",
    "print(\"1st matrics is \",p)\n",
    "print(\"Enter the 2nd matrics element :\")\n",
    "for i in range(size_matrics):\n",
    "    row=[]\n",
    "    for j in range(size_matrics):\n",
    "        row.append(int(input()))\n",
    "    q.append(row)\n",
    "print(\"2nd matrics is \",q)\n",
    "\n",
    "add_matrics(p,q,size_matrics)\n"
   ]
  },
  {
   "cell_type": "code",
   "execution_count": 14,
   "metadata": {},
   "outputs": [
    {
     "name": "stdout",
     "output_type": "stream",
     "text": [
      "Enter the 1st matrix elements:\n",
      "[[1, 2, 3], [4, 5, 6], [7, 8, 9]]\n",
      "Enter the 2nd matrix elements:\n",
      "[[1, 2, 3], [4, 5, 6], [7, 8, 9]]\n",
      "The sum is:\n",
      "2 4 6 \n",
      "8 10 12 \n",
      "14 16 18 \n"
     ]
    }
   ],
   "source": [
    "def main():\n",
    "    n = int(input(\"Enter the matrix size: \"))\n",
    "    \n",
    "    # Initialize matrices\n",
    "    m1 = []\n",
    "    m2 = []\n",
    "    \n",
    "    print(\"Enter the 1st matrix elements:\")\n",
    "    for i in range(n):\n",
    "        row = []\n",
    "        for j in range(n):\n",
    "            row.append(int(input()))\n",
    "        m1.append(row)\n",
    "    print(m1)\n",
    "    print(\"Enter the 2nd matrix elements:\")\n",
    "    for i in range(n):\n",
    "        row = []\n",
    "        for j in range(n):\n",
    "            row.append(int(input()))\n",
    "        m2.append(row)\n",
    "    print(m2)\n",
    "    # Calculate the sum of the matrices\n",
    "    sum_matrix = []\n",
    "    for i in range(n):\n",
    "        row = []\n",
    "        for j in range(n):\n",
    "            row.append(m1[i][j] + m2[i][j])\n",
    "        sum_matrix.append(row)\n",
    "    \n",
    "    # Print the sum of the matrices\n",
    "    print(\"The sum is:\")\n",
    "    for i in range(n):\n",
    "        for j in range(n):\n",
    "            print(sum_matrix[i][j], end=\" \")\n",
    "        print()  # Newline for the next row\n",
    "\n",
    "if __name__ == \"__main__\":\n",
    "    main()\n"
   ]
  },
  {
   "cell_type": "code",
   "execution_count": 18,
   "metadata": {},
   "outputs": [
    {
     "name": "stdout",
     "output_type": "stream",
     "text": [
      "Enter the 1st matrics element :\n",
      "1st matrics is  [[1, 2], [3, 4]]\n",
      "Enter the 2nd matrics element :\n",
      "2nd matrics is  [[1, 2], [3, 4]]\n",
      "[[7, 10], [15, 22]]\n"
     ]
    }
   ],
   "source": [
    "# 38. Write a Python Program to Multiply Two Matrices? \n",
    "def multiply_matrics(l,m,n):\n",
    "    sum1 = []\n",
    "    print(\"The Matrix Multiplication is :\")\n",
    "    for i in range(0,len(l)):\n",
    "        row = []\n",
    "        for j in range(0,len(l)):\n",
    "            t=0\n",
    "            for k in range(0,len(l)):\n",
    "                t += l[i][k]*m[k][j]\n",
    "            row.append(t)\n",
    "        sum1.append(row)\n",
    "    print(sum1)\n",
    "p=[]\n",
    "q=[]\n",
    "\n",
    "size_matrics = int(input(\"Enter the Size of the Matrics :\"))\n",
    "print(\"Enter the 1st matrics element :\")\n",
    "for i in range(size_matrics):\n",
    "    row = []\n",
    "    for j in range(size_matrics):\n",
    "        row.append(int(input()))\n",
    "    p.append(row)\n",
    "print(\"1st matrics is \",p)\n",
    "print(\"Enter the 2nd matrics element :\")\n",
    "for i in range(size_matrics):\n",
    "    row = []\n",
    "    for j in range(size_matrics):\n",
    "        row.append(int(input()))\n",
    "    q.append(row)\n",
    "print(\"2nd matrics is \",q)\n",
    "\n",
    "multiply_matrics(p,q,size_matrics)"
   ]
  },
  {
   "cell_type": "code",
   "execution_count": 2,
   "metadata": {},
   "outputs": [
    {
     "ename": "SyntaxError",
     "evalue": "invalid syntax (2268807513.py, line 3)",
     "output_type": "error",
     "traceback": [
      "\u001b[1;36m  Cell \u001b[1;32mIn[2], line 3\u001b[1;36m\u001b[0m\n\u001b[1;33m    trans = [][]\u001b[0m\n\u001b[1;37m               ^\u001b[0m\n\u001b[1;31mSyntaxError\u001b[0m\u001b[1;31m:\u001b[0m invalid syntax\n"
     ]
    }
   ],
   "source": [
    "# 39. Write a Python Program to Transpose a Matrix? \n",
    "def Transpose_of_matrics(l,n):\n",
    "    trans = [[],[]]\n",
    "    for i in range(n):\n",
    "        row = []\n",
    "        for j in range(n):\n",
    "            trans[i][j] = l[j][i]\n",
    "            print(trans[j][i])\n",
    "    #         t = l[j][i]\n",
    "    #         row.append(t)\n",
    "    #     trans.append(row)\n",
    "    # print(trans)\n",
    "                \n",
    "\n",
    "p=[]\n",
    "size_matrics = int(input(\"Enter the Size of the Matrics :\"))\n",
    "print(\"Enter the matrics element :\")\n",
    "for i in range(0,size_matrics):\n",
    "    row = []\n",
    "    for j in range(0,size_matrics):\n",
    "        row.append(int(input()))\n",
    "    p.append(row)\n",
    "print(\"The Input Matrics is \",p)\n",
    "Transpose_of_matrics(p,size_matrics)"
   ]
  },
  {
   "cell_type": "code",
   "execution_count": null,
   "metadata": {},
   "outputs": [],
   "source": [
    "#39.1_convert upper triangular matrix to zero \n",
    "# take a matrix as input then convert the right upper trangular above the diagonal to 0. then print the input matrix also the output matrix after the operation \n",
    "\"\"\"\n",
    "eg1:\n",
    "    matrix = [[2,2],[2,2]]\n",
    "    ans_matrix = [[2,0],[2,2]]\n",
    "eg2:\n",
    "    matrix = [[1,2,3],[7,6,8],[10,40,13]]\n",
    "    ans_matrix = [[1,0,0],[7,6,0],[10,40,13]]\n",
    "\"\"\""
   ]
  },
  {
   "cell_type": "code",
   "execution_count": 8,
   "metadata": {},
   "outputs": [
    {
     "name": "stdout",
     "output_type": "stream",
     "text": [
      "[[1, 0, 0], [4, 5, 0], [7, 8, 9]]\n"
     ]
    }
   ],
   "source": [
    "def upper_trangular_matrix(m,n):\n",
    "    upper = []\n",
    "    t=[]\n",
    "    for i in range(n):\n",
    "        row = []\n",
    "        for j in range(n):\n",
    "            if j>i:\n",
    "                m[i][j]=0\n",
    "    #             t.append(0)\n",
    "    #             row.append(0)\n",
    "    #     upper.append(row)\n",
    "    # print(upper)\n",
    "    print(m)\n",
    "\n",
    "\n",
    "ma1=[]\n",
    "n = int(input(\"Enter the size of the Matrix :\"))\n",
    "for i in range(n):\n",
    "    row = []\n",
    "    for j in range(n):\n",
    "        row.append(int(input()))\n",
    "    ma1.append(row)\n",
    "upper_trangular_matrix(ma1,n)"
   ]
  },
  {
   "cell_type": "code",
   "execution_count": null,
   "metadata": {},
   "outputs": [],
   "source": []
  }
 ],
 "metadata": {
  "kernelspec": {
   "display_name": "myenv",
   "language": "python",
   "name": "python3"
  },
  "language_info": {
   "codemirror_mode": {
    "name": "ipython",
    "version": 3
   },
   "file_extension": ".py",
   "mimetype": "text/x-python",
   "name": "python",
   "nbconvert_exporter": "python",
   "pygments_lexer": "ipython3",
   "version": "3.11.7"
  }
 },
 "nbformat": 4,
 "nbformat_minor": 2
}
