{
 "cells": [
  {
   "cell_type": "code",
   "execution_count": null,
   "metadata": {},
   "outputs": [],
   "source": [
    "\"\"\"      \n",
    "Question 55. \n",
    "Create a function that takes a list of strings and return a list, sorted from shortest to longest. \n",
    "Examples \n",
    "sort_by_length([\"Google\", \"Apple\", \"Microsoft\"]) \n",
    "➞ [\"Apple\", \"Google\", \"Microsoft\"] \n",
    "sort_by_length([\"Leonardo\", \"Michelangelo\", \"Raphael\", \"Donatello\"]) \n",
    "➞ [\"Raphael\", \"Leonardo\", \"Donatello\", \"Michelangelo\"] \n",
    "sort_by_length([\"Turing\", \"Einstein\", \"Jung\"]) \n",
    "➞ [\"Jung\", \"Turing\", \"Einstein\"] \n",
    "\n",
    "Notes:\n",
    "All test cases contain lists with strings of different lengths, so you won't have to deal with \n",
    "multiple strings of the same length. \n",
    " \n",
    "Question 56. \n",
    "Create a function that validates whether three given integers form a Pythagorean triplet. The \n",
    "sum of the squares of the two smallest integers must equal the square of the largest number to \n",
    "be validated. \n",
    "Examples \n",
    "is_triplet(3, 4, 5) ➞ True \n",
    "3² + 4² = 25 \n",
    "5² = 25 \n",
    "is_triplet(13, 5, 12) ➞ True \n",
    "5² + 12² = 169 \n",
    "13² = 169 \n",
    "is_triplet(1, 2, 3) ➞ False \n",
    "1² + 2² = 5 \n",
    "3² = 9 \n",
    "Notes \n",
    "Numbers may not be given in a sorted order.     \n",
    " \n",
    "Question 57. \n",
    "Create a function that takes three integer arguments (a, b, c) and returns the amount of \n",
    "integers which are of equal value. \n",
    "Examples \n",
    "equal(3, 4, 3) ➞ 2 \n",
    "equal(1, 1, 1) ➞ 3 \n",
    "equal(3, 4, 1) ➞ 0 \n",
    "Notes \n",
    "Your function must return 0, 2 or 3. \n",
    " \n",
    "Question 58. \n",
    "Write a function that converts a dictionary into a list of keys-values tuples. \n",
    "Examples \n",
    "dict_to_list({ \n",
    "\"D\": 1, \n",
    "\"B\": 2, \n",
    "\"C\": 3 \n",
    "}) ➞ [(\"B\", 2), (\"C\", 3), (\"D\", 1)] \n",
    "dict_to_list({ \n",
    "\"likes\": 2, \n",
    "\"dislikes\": 3, \n",
    "\"followers\": 10 \n",
    "}) ➞ [(\"dislikes\", 3), (\"followers\", 10), (\"likes\", 2)] \n",
    "Notes \n",
    "Return the elements in the list in alphabetical order. \n",
    " \n",
    "Question 59. \n",
    "Write a function that creates a dictionary with each (key, value) pair being the (lower case, \n",
    "upper case) versions of a letter, respectively. \n",
    "Examples \n",
    "mapping([\"p\", \"s\"]) ➞ { \"p\": \"P\", \"s\": \"S\" } \n",
    "mapping([\"a\", \"b\", \"c\"]) ➞ { \"a\": \"A\", \"b\": \"B\", \"c\": \"C\" } \n",
    "mapping([\"a\", \"v\", \"y\", \"z\"]) ➞ { \"a\": \"A\", \"v\": \"V\", \"y\": \"Y\", \"z\": \"Z\" } \n",
    "Notes \n",
    "All of the letters in the input list will always be lowercase. \n",
    " \n",
    "Question 60. \n",
    "Write a function, that replaces all vowels in a string with a specified vowel. \n",
    "Examples \n",
    "vow_replace(\"apples and bananas\", \"u\") ➞ \"upplus und bununus\" \n",
    "vow_replace(\"cheese casserole\", \"o\") ➞ \"chooso cossorolo\" \n",
    "vow_replace(\"stuffed jalapeno poppers\", \"e\") ➞ \"steffed jelepene peppers\" \n",
    "Notes \n",
    "All words will be lowercase. Y is not considered a vowel. \n",
    " \n",
    "Question 61. \n",
    "Create a function that takes a string as input and capitalizes a letter if its ASCII code is even \n",
    "and returns its lower case version if its ASCII code is odd. \n",
    "Examples \n",
    "ascii_capitalize(\"to be or not to be!\") ➞ \"To Be oR NoT To Be!\" \n",
    "ascii_capitalize(\"THE LITTLE MERMAID\") ➞ \"THe LiTTLe meRmaiD\" \n",
    "ascii_capitalize(\"Oh what a beautiful morning.\") ➞ \"oH wHaT a BeauTiFuL moRNiNg.\"   \n",
    "\"\"\"      "
   ]
  },
  {
   "cell_type": "code",
   "execution_count": 7,
   "metadata": {},
   "outputs": [
    {
     "name": "stdout",
     "output_type": "stream",
     "text": [
      "['Apple', 'Google', 'Microsoft']\n"
     ]
    }
   ],
   "source": [
    "\"\"\"        \n",
    "Question 55. \n",
    "Create a function that takes a list of strings and return a list, sorted from shortest to longest. \n",
    "Examples \n",
    "sort_by_length([\"Google\", \"Apple\", \"Microsoft\"]) \n",
    "➞ [\"Apple\", \"Google\", \"Microsoft\"] \n",
    "sort_by_length([\"Leonardo\", \"Michelangelo\", \"Raphael\", \"Donatello\"]) \n",
    "➞ [\"Raphael\", \"Leonardo\", \"Donatello\", \"Michelangelo\"] \n",
    "sort_by_length([\"Turing\", \"Einstein\", \"Jung\"]) \n",
    "➞ [\"Jung\", \"Turing\", \"Einstein\"] \n",
    "\n",
    "Notes:\n",
    "All test cases contain lists with strings of different lengths, so you won't have to deal with \n",
    "multiple strings of the same length.\n",
    "\"\"\"\n",
    "def sort_by_length(s):\n",
    "    l1 = []\n",
    "    for i in s:\n",
    "        l1.append(len(i))\n",
    "    l1.sort()\n",
    "    l2 = []\n",
    "    for j in l1:\n",
    "        for i in s:\n",
    "            if(len(i)==j):\n",
    "                l2.append(i)\n",
    "    print(l2)\n",
    "\n",
    "\n",
    "s = eval(input(\"Enter the list of Strings :\"))      \n",
    "sort_by_length(s)"
   ]
  },
  {
   "cell_type": "code",
   "execution_count": 2,
   "metadata": {},
   "outputs": [
    {
     "data": {
      "text/plain": [
       "6"
      ]
     },
     "execution_count": 2,
     "metadata": {},
     "output_type": "execute_result"
    }
   ],
   "source": [
    "s = [\"Google\", \"Apple\", \"Microsoft\"]\n",
    "len(s[0])"
   ]
  },
  {
   "cell_type": "code",
   "execution_count": 11,
   "metadata": {},
   "outputs": [],
   "source": [
    "\"\"\"     \n",
    "Create a function that validates whether three given integers form a Pythagorean triplet. The \n",
    "sum of the squares of the two smallest integers must equal the square of the largest number to \n",
    "be validated. \n",
    "Examples \n",
    "is_triplet(3, 4, 5) ➞ True \n",
    "3² + 4² = 25 \n",
    "5² = 25 \n",
    "is_triplet(13, 5, 12) ➞ True \n",
    "5² + 12² = 169 \n",
    "13² = 169 \n",
    "is_triplet(1, 2, 3) ➞ False \n",
    "1² + 2² = 5 \n",
    "3² = 9 \n",
    "Notes \n",
    "Numbers may not be given in a sorted order.  \n",
    "\"\"\"     \n",
    "\n",
    "def is_triplet(a,b,c):\n",
    "    l=[a,b,c]\n",
    "    l.sort()\n",
    "    if l[0]*l[0] + l[1]*l[1] == l[2]*l[2]:\n",
    "        return True\n",
    "    else:\n",
    "        return False\n"
   ]
  },
  {
   "cell_type": "code",
   "execution_count": 16,
   "metadata": {},
   "outputs": [
    {
     "data": {
      "text/plain": [
       "True"
      ]
     },
     "execution_count": 16,
     "metadata": {},
     "output_type": "execute_result"
    }
   ],
   "source": [
    "is_triplet(12,5,13)"
   ]
  },
  {
   "cell_type": "code",
   "execution_count": 9,
   "metadata": {},
   "outputs": [
    {
     "data": {
      "text/plain": [
       "[2, 12, 13]"
      ]
     },
     "execution_count": 9,
     "metadata": {},
     "output_type": "execute_result"
    }
   ],
   "source": [
    "l = [13,2,12]\n",
    "l.sort()\n",
    "l"
   ]
  },
  {
   "cell_type": "code",
   "execution_count": 63,
   "metadata": {},
   "outputs": [],
   "source": [
    "\"\"\"     \n",
    "Question 57. \n",
    "Create a function that takes three integer arguments (a, b, c) and returns the amount of \n",
    "integers which are of equal value. \n",
    "Examples \n",
    "equal(3, 4, 3) ➞ 2 \n",
    "equal(1, 1, 1) ➞ 3 \n",
    "equal(3, 4, 1) ➞ 0 \n",
    "Notes \n",
    "Your function must return 0, 2 or 3.   \n",
    "\"\"\"     \n",
    "def equal(a,b,c):\n",
    "    l=[a,b,c]\n",
    "    c=0\n",
    "    for i in range(0,len(l)):\n",
    "        for j in range(i+1,len(l)):\n",
    "            if l[i]==l[j]:\n",
    "                c += 1\n",
    "    print(c)"
   ]
  },
  {
   "cell_type": "code",
   "execution_count": 88,
   "metadata": {},
   "outputs": [
    {
     "name": "stdout",
     "output_type": "stream",
     "text": [
      "2\n"
     ]
    }
   ],
   "source": [
    "equal(3, 4, 3)"
   ]
  },
  {
   "cell_type": "code",
   "execution_count": 89,
   "metadata": {},
   "outputs": [
    {
     "name": "stdout",
     "output_type": "stream",
     "text": [
      "3\n"
     ]
    }
   ],
   "source": [
    "equal(1, 1, 1)"
   ]
  },
  {
   "cell_type": "code",
   "execution_count": 90,
   "metadata": {},
   "outputs": [
    {
     "name": "stdout",
     "output_type": "stream",
     "text": [
      "0\n"
     ]
    }
   ],
   "source": [
    "equal(3, 4, 1)"
   ]
  },
  {
   "cell_type": "code",
   "execution_count": 87,
   "metadata": {},
   "outputs": [],
   "source": [
    "# working code:\n",
    "def equal(a,b,c):\n",
    "    l=[a,b,c]\n",
    "    for i in l:\n",
    "        c=l.count(i)\n",
    "    if c==2 or c==3:\n",
    "        print(c)    \n",
    "    if c==1:\n",
    "        c=0\n",
    "        print(c)"
   ]
  },
  {
   "cell_type": "code",
   "execution_count": null,
   "metadata": {},
   "outputs": [],
   "source": []
  },
  {
   "cell_type": "code",
   "execution_count": 97,
   "metadata": {},
   "outputs": [],
   "source": [
    "\"\"\"      \n",
    "Question 58. \n",
    "Write a function that converts a dictionary into a list of keys-values tuples. \n",
    "Examples \n",
    "dict_to_list({ \n",
    "\"D\": 1, \n",
    "\"B\": 2, \n",
    "\"C\": 3 \n",
    "}) ➞ [(\"B\", 2), (\"C\", 3), (\"D\", 1)] \n",
    "dict_to_list({ \n",
    "\"likes\": 2, \n",
    "\"dislikes\": 3, \n",
    "\"followers\": 10 \n",
    "}) ➞ [(\"dislikes\", 3), (\"followers\", 10), (\"likes\", 2)] \n",
    "Notes \n",
    "Return the elements in the list in alphabetical order. \n",
    "\"\"\"      \n",
    "def dict_to_list(d):\n",
    "    l = d.items()\n",
    "    print(l)\n"
   ]
  },
  {
   "cell_type": "code",
   "execution_count": 98,
   "metadata": {},
   "outputs": [
    {
     "name": "stdout",
     "output_type": "stream",
     "text": [
      "dict_items([('D', 1), ('B', 2), ('C', 3)])\n"
     ]
    }
   ],
   "source": [
    "dict_to_list({ \n",
    "\"D\": 1, \n",
    "\"B\": 2, \n",
    "\"C\": 3 \n",
    "})"
   ]
  },
  {
   "cell_type": "code",
   "execution_count": null,
   "metadata": {},
   "outputs": [],
   "source": [
    "# working code:\n",
    "def myfun(d):\n",
    "    x=list(zip(d.keys(),d.values()))\n",
    "    x.sort()\n",
    "    print(x)"
   ]
  },
  {
   "cell_type": "code",
   "execution_count": 106,
   "metadata": {},
   "outputs": [],
   "source": [
    "\"\"\"       \n",
    "Question 59. \n",
    "Write a function that creates a dictionary with each (key, value) pair being the (lower case, \n",
    "upper case) versions of a letter, respectively. \n",
    "Examples \n",
    "mapping([\"p\", \"s\"]) ➞ { \"p\": \"P\", \"s\": \"S\" } \n",
    "mapping([\"a\", \"b\", \"c\"]) ➞ { \"a\": \"A\", \"b\": \"B\", \"c\": \"C\" } \n",
    "mapping([\"a\", \"v\", \"y\", \"z\"]) ➞ { \"a\": \"A\", \"v\": \"V\", \"y\": \"Y\", \"z\": \"Z\" } \n",
    "Notes \n",
    "All of the letters in the input list will always be lowercase. \n",
    "\"\"\"         \n",
    "def mapping(l):\n",
    "    d = {}\n",
    "    for i in range(0,len(l)):\n",
    "        d[l[i]]=l[i].upper()\n",
    "    print(d)"
   ]
  },
  {
   "cell_type": "code",
   "execution_count": 107,
   "metadata": {},
   "outputs": [
    {
     "name": "stdout",
     "output_type": "stream",
     "text": [
      "{'p': 'P', 's': 'S'}\n"
     ]
    }
   ],
   "source": [
    "mapping([\"p\", \"s\"])"
   ]
  },
  {
   "cell_type": "code",
   "execution_count": 108,
   "metadata": {},
   "outputs": [
    {
     "name": "stdout",
     "output_type": "stream",
     "text": [
      "{'a': 'A', 'b': 'B', 'c': 'C'}\n"
     ]
    }
   ],
   "source": [
    "mapping([\"a\", \"b\", \"c\"])"
   ]
  },
  {
   "cell_type": "code",
   "execution_count": 109,
   "metadata": {},
   "outputs": [
    {
     "name": "stdout",
     "output_type": "stream",
     "text": [
      "{'a': 'A', 'v': 'V', 'y': 'Y', 'z': 'Z'}\n"
     ]
    }
   ],
   "source": [
    "mapping([\"a\", \"v\", \"y\", \"z\"])"
   ]
  },
  {
   "cell_type": "code",
   "execution_count": null,
   "metadata": {},
   "outputs": [],
   "source": [
    "\"\"\" \n",
    "Question 60. \n",
    "Write a function, that replaces all vowels in a string with a specified vowel. \n",
    "Examples \n",
    "vow_replace(\"apples and bananas\", \"u\") ➞ \"upplus und bununus\" \n",
    "vow_replace(\"cheese casserole\", \"o\") ➞ \"chooso cossorolo\" \n",
    "vow_replace(\"stuffed jalapeno poppers\", \"e\") ➞ \"steffed jelepene peppers\" \n",
    "Notes \n",
    "All words will be lowercase. Y is not considered a vowel.\n",
    "\"\"\"       \n"
   ]
  },
  {
   "cell_type": "code",
   "execution_count": 111,
   "metadata": {},
   "outputs": [
    {
     "name": "stdout",
     "output_type": "stream",
     "text": [
      "upples und bununus\n"
     ]
    }
   ],
   "source": [
    "def vow_replace(s,k):\n",
    "    n = len(s)\n",
    "    l = [\"a\",\"e\",\"i\",\"o\",\"u\",\"A\",\"E\",\"I\",\"O\",\"U\"]\n",
    "    for i in range(0,n):\n",
    "        if s[i] in l:\n",
    "            new_s = s.replace(s[i],k)\n",
    "    print(new_s)   \n",
    "\n",
    "s = input(\"Enter the String :\")\n",
    "k = input(\"replace vowel with :\")\n",
    "vow_replace(s,k)"
   ]
  },
  {
   "cell_type": "code",
   "execution_count": null,
   "metadata": {},
   "outputs": [],
   "source": [
    "\n",
    "\"\"\" \n",
    "Question 61. \n",
    "Create a function that takes a string as input and capitalizes a letter if its ASCII code is even \n",
    "and returns its lower case version if its ASCII code is odd. \n",
    "Examples \n",
    "ascii_capitalize(\"to be or not to be!\") ➞ \"To Be oR NoT To Be!\" \n",
    "ascii_capitalize(\"THE LITTLE MERMAID\") ➞ \"THe LiTTLe meRmaiD\" \n",
    "ascii_capitalize(\"Oh what a beautiful morning.\") ➞ \"oH wHaT a BeauTiFuL moRNiNg.\"   \n",
    "\"\"\" "
   ]
  },
  {
   "cell_type": "code",
   "execution_count": 175,
   "metadata": {},
   "outputs": [],
   "source": [
    "def ascii_capitalize(s):\n",
    "    l=list(s)\n",
    "    s_new=''\n",
    "    for i in range(0,len(l)):\n",
    "        if ord(l[i])%2==0:\n",
    "            # l.remove(l[i])\n",
    "            l.insert(i,l[i].upper())\n",
    "            # l.remove(l[i-1])\n",
    "    # print(str(l))\n",
    "    print(\"\".join(l))"
   ]
  },
  {
   "cell_type": "code",
   "execution_count": 176,
   "metadata": {},
   "outputs": [
    {
     "name": "stdout",
     "output_type": "stream",
     "text": [
      "TTTTTTTTTTTTTTTTTTTto be or not to be!\n"
     ]
    }
   ],
   "source": [
    "ascii_capitalize(\"to be or not to be!\")"
   ]
  },
  {
   "cell_type": "code",
   "execution_count": 177,
   "metadata": {},
   "outputs": [
    {
     "data": {
      "text/plain": [
       "'a'"
      ]
     },
     "execution_count": 177,
     "metadata": {},
     "output_type": "execute_result"
    }
   ],
   "source": [
    "chr(97)"
   ]
  },
  {
   "cell_type": "code",
   "execution_count": 118,
   "metadata": {},
   "outputs": [
    {
     "data": {
      "text/plain": [
       "97"
      ]
     },
     "execution_count": 118,
     "metadata": {},
     "output_type": "execute_result"
    }
   ],
   "source": [
    "ord(\"a\")"
   ]
  },
  {
   "cell_type": "code",
   "execution_count": 149,
   "metadata": {},
   "outputs": [
    {
     "data": {
      "text/plain": [
       "116"
      ]
     },
     "execution_count": 149,
     "metadata": {},
     "output_type": "execute_result"
    }
   ],
   "source": [
    "ord(\"t\")"
   ]
  },
  {
   "cell_type": "code",
   "execution_count": 150,
   "metadata": {},
   "outputs": [
    {
     "data": {
      "text/plain": [
       "0"
      ]
     },
     "execution_count": 150,
     "metadata": {},
     "output_type": "execute_result"
    }
   ],
   "source": [
    "116%2"
   ]
  },
  {
   "cell_type": "code",
   "execution_count": 133,
   "metadata": {},
   "outputs": [
    {
     "name": "stdout",
     "output_type": "stream",
     "text": [
      "['t', 'o', ' ', 'b', 'e', ' ', 'o', 'r', ' ', 'n', 'o', 't', ' ', 't', 'o', ' ', 'b', 'e', '!']\n"
     ]
    }
   ],
   "source": [
    "s = \"to be or not to be!\" \n",
    "l = list(s)\n",
    "print(l)"
   ]
  },
  {
   "cell_type": "code",
   "execution_count": 197,
   "metadata": {},
   "outputs": [],
   "source": [
    "def ascii_capitalize(s):\n",
    "    l=list(s)\n",
    "    s_new=\"\"\n",
    "    for i in range(0,len(l)):\n",
    "        if ord(l[i])%2==0 and ord(l[i])!=32:\n",
    "            l.insert(i,l[i].upper())\n",
    "            l.remove(l[i+1])\n",
    "        if ord(l[i])%2!=0 and ord(l[i])!=32:\n",
    "            l.insert(i,l[i].lower())\n",
    "            l.remove(l[i+1])\n",
    "    print(\"\".join(l))"
   ]
  },
  {
   "cell_type": "code",
   "execution_count": 198,
   "metadata": {},
   "outputs": [
    {
     "name": "stdout",
     "output_type": "stream",
     "text": [
      "T B R NooT Too Bee!\n"
     ]
    }
   ],
   "source": [
    "ascii_capitalize(\"to be or not to be!\")\n",
    "# \"To Be oR NoT To Be!\" "
   ]
  },
  {
   "cell_type": "code",
   "execution_count": 199,
   "metadata": {},
   "outputs": [
    {
     "name": "stdout",
     "output_type": "stream",
     "text": [
      "He iTTTLLe meRmaiD\n"
     ]
    }
   ],
   "source": [
    "ascii_capitalize(\"THE LITTLE MERMAID\")\n",
    "# \"THe LiTTLe meRmaiD\""
   ]
  },
  {
   "cell_type": "code",
   "execution_count": 190,
   "metadata": {},
   "outputs": [
    {
     "data": {
      "text/plain": [
       "32"
      ]
     },
     "execution_count": 190,
     "metadata": {},
     "output_type": "execute_result"
    }
   ],
   "source": [
    "ord(\" \")"
   ]
  },
  {
   "cell_type": "code",
   "execution_count": 204,
   "metadata": {},
   "outputs": [],
   "source": [
    "def ascii_capitalize(s):\n",
    "    l=list(s)\n",
    "    s_new=\"\"\n",
    "    for i in range(0,len(l)):\n",
    "        if ord(l[i])%2 == 0 and l[i] != \" \":\n",
    "            s_new += l[i].upper()\n",
    "        elif ord(l[i])%2 != 0 and l[i] != \" \":\n",
    "            s_new += l[i].lower()\n",
    "        else:\n",
    "            s_new += l[i]\n",
    "    print(s_new)"
   ]
  },
  {
   "cell_type": "code",
   "execution_count": 205,
   "metadata": {},
   "outputs": [
    {
     "name": "stdout",
     "output_type": "stream",
     "text": [
      "To Be oR NoT To Be!\n"
     ]
    }
   ],
   "source": [
    "ascii_capitalize(\"to be or not to be!\")"
   ]
  },
  {
   "cell_type": "code",
   "execution_count": 206,
   "metadata": {},
   "outputs": [
    {
     "name": "stdout",
     "output_type": "stream",
     "text": [
      "THe LiTTLe meRmaiD\n"
     ]
    }
   ],
   "source": [
    "ascii_capitalize(\"THE LITTLE MERMAID\")"
   ]
  },
  {
   "cell_type": "code",
   "execution_count": 207,
   "metadata": {},
   "outputs": [
    {
     "name": "stdout",
     "output_type": "stream",
     "text": [
      "oH wHaT a BeauTiFuL moRNiNg.\n"
     ]
    }
   ],
   "source": [
    "ascii_capitalize(\"Oh what a beautiful morning.\")"
   ]
  }
 ],
 "metadata": {
  "kernelspec": {
   "display_name": "myenv",
   "language": "python",
   "name": "python3"
  },
  "language_info": {
   "codemirror_mode": {
    "name": "ipython",
    "version": 3
   },
   "file_extension": ".py",
   "mimetype": "text/x-python",
   "name": "python",
   "nbconvert_exporter": "python",
   "pygments_lexer": "ipython3",
   "version": "3.11.10"
  }
 },
 "nbformat": 4,
 "nbformat_minor": 2
}
