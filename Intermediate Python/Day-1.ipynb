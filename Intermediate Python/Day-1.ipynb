{
 "cells": [
  {
   "cell_type": "code",
   "execution_count": null,
   "metadata": {},
   "outputs": [],
   "source": [
    "\"\"\"\n",
    "Question 1: \n",
    "Write a program that calculates and prints the value according to the given formula: \n",
    "Q = Square root of [(2 * C * D)/H] \n",
    "Following are the fixed values of C and H: \n",
    "C is 50. H is 30. \n",
    "D is the variable whose values should be input to your program in a comma-separated \n",
    "sequence. \n",
    "Example \n",
    "Let us assume the following comma separated input sequence is given to the program: \n",
    "100,150,180 \n",
    "The output of the program should be: \n",
    "18,22,24 \n",
    " \n",
    "\n",
    "\n",
    "Question 2: \n",
    "Write a program which takes 2 digits, X,Y as input and generates a 2-dimensional array. The \n",
    "element value in the i-th row and j-th column of the array should be i*j. \n",
    "Note: i=0,1.., X-1; j=0,1,¡Y-1. \n",
    "Example \n",
    "Suppose the following inputs are given to the program: \n",
    "3,5 \n",
    "Then, the output of the program should be: \n",
    "[[0, 0, 0, 0, 0], [0, 1, 2, 3, 4], [0, 2, 4, 6, 8]] \n",
    " \n",
    "\n",
    "Question 3: \n",
    "Write a program that accepts a comma separated sequence of words as input and prints the \n",
    "words in a comma-separated sequence after sorting them alphabetically. \n",
    "Suppose the following input is supplied to the program: \n",
    "without,hello,bag,world \n",
    "Then, the output should be: \n",
    "bag,hello,without,world \n",
    " \n",
    "\n",
    "Question 4: \n",
    "Write a program that accepts a sequence of whitespace separated words as input and prints \n",
    "the words after removing all duplicate words and sorting them alphanumerically. \n",
    "Suppose the following input is supplied to the program: \n",
    "hello world and practice makes perfect and hello world again \n",
    "Then, the output should be: \n",
    "again and hello makes perfect practice world \n",
    " \n",
    "Question 5: \n",
    "Write a program that accepts a sentence and calculate the number of letters and digits. \n",
    "Suppose the following input is supplied to the program: \n",
    "hello world! 123 \n",
    "Then, the output should be: \n",
    "LETTERS 10 \n",
    "DIGITS 3\n",
    "\n",
    "\"\"\""
   ]
  },
  {
   "cell_type": "code",
   "execution_count": 1,
   "metadata": {},
   "outputs": [
    {
     "name": "stdout",
     "output_type": "stream",
     "text": [
      "<class 'tuple'>\n",
      "18,22,24\n"
     ]
    }
   ],
   "source": [
    "\"\"\" \n",
    "Write a program that calculates and prints the value according to the given formula: \n",
    "Q = Square root of [(2 * C * D)/H] \n",
    "Following are the fixed values of C and H: \n",
    "C is 50. H is 30. \n",
    "D is the variable whose values should be input to your program in a comma-separated \n",
    "sequence. \n",
    "Example \n",
    "Let us assume the following comma separated input sequence is given to the program: \n",
    "100,150,180 \n",
    "The output of the program should be: \n",
    "18,22,24\n",
    "\"\"\"\n",
    "def calc_formula(D):\n",
    "    C = 50\n",
    "    H = 30\n",
    "    print(type(D))\n",
    "    result = []\n",
    "    if isinstance(D, int):\n",
    "        D = [D]\n",
    "    for d in D:\n",
    "        a = int(((2 * C * d) / H)**(1/2))\n",
    "        result.append(a)\n",
    "    print(*result, sep=\",\")\n",
    "\n",
    "nos = eval(input(\"Enter a value or a list of values: \"))\n",
    "calc_formula(nos)\n"
   ]
  },
  {
   "cell_type": "code",
   "execution_count": 2,
   "metadata": {},
   "outputs": [
    {
     "name": "stdout",
     "output_type": "stream",
     "text": [
      "<class 'tuple'>\n"
     ]
    },
    {
     "ename": "TypeError",
     "evalue": "unsupported operand type(s) for /: 'tuple' and 'int'",
     "output_type": "error",
     "traceback": [
      "\u001b[1;31m---------------------------------------------------------------------------\u001b[0m",
      "\u001b[1;31mTypeError\u001b[0m                                 Traceback (most recent call last)",
      "Cell \u001b[1;32mIn[2], line 18\u001b[0m\n\u001b[0;32m     15\u001b[0m     \u001b[38;5;28mprint\u001b[39m(\u001b[38;5;241m*\u001b[39mresult, sep\u001b[38;5;241m=\u001b[39m\u001b[38;5;124m\"\u001b[39m\u001b[38;5;124m,\u001b[39m\u001b[38;5;124m\"\u001b[39m)\n\u001b[0;32m     17\u001b[0m nos \u001b[38;5;241m=\u001b[39m \u001b[38;5;28meval\u001b[39m(\u001b[38;5;28minput\u001b[39m(\u001b[38;5;124m\"\u001b[39m\u001b[38;5;124mEnter a value or a list of values: \u001b[39m\u001b[38;5;124m\"\u001b[39m))\n\u001b[1;32m---> 18\u001b[0m \u001b[43mcalc_formula\u001b[49m\u001b[43m(\u001b[49m\u001b[43mnos\u001b[49m\u001b[43m)\u001b[49m\n",
      "Cell \u001b[1;32mIn[2], line 9\u001b[0m, in \u001b[0;36mcalc_formula\u001b[1;34m(D)\u001b[0m\n\u001b[0;32m      7\u001b[0m \u001b[38;5;28;01mif\u001b[39;00m \u001b[38;5;28mlen\u001b[39m(a) \u001b[38;5;241m==\u001b[39m \u001b[38;5;241m1\u001b[39m:\n\u001b[0;32m      8\u001b[0m     \u001b[38;5;28;01mfor\u001b[39;00m d \u001b[38;5;129;01min\u001b[39;00m a:\n\u001b[1;32m----> 9\u001b[0m         a \u001b[38;5;241m=\u001b[39m (\u001b[43m(\u001b[49m\u001b[38;5;241;43m2\u001b[39;49m\u001b[43m \u001b[49m\u001b[38;5;241;43m*\u001b[39;49m\u001b[43m \u001b[49m\u001b[38;5;241;43m50\u001b[39;49m\u001b[43m \u001b[49m\u001b[38;5;241;43m*\u001b[39;49m\u001b[43m \u001b[49m\u001b[43md\u001b[49m\u001b[43m)\u001b[49m\u001b[43m \u001b[49m\u001b[38;5;241;43m/\u001b[39;49m\u001b[43m \u001b[49m\u001b[38;5;241;43m30\u001b[39;49m)\u001b[38;5;241m*\u001b[39m\u001b[38;5;241m*\u001b[39m(\u001b[38;5;241m1\u001b[39m\u001b[38;5;241m/\u001b[39m\u001b[38;5;241m2\u001b[39m)\n\u001b[0;32m     10\u001b[0m         result\u001b[38;5;241m.\u001b[39mappend(a)\n\u001b[0;32m     11\u001b[0m \u001b[38;5;28;01melse\u001b[39;00m:\n",
      "\u001b[1;31mTypeError\u001b[0m: unsupported operand type(s) for /: 'tuple' and 'int'"
     ]
    }
   ],
   "source": [
    "def calc_formula(D):\n",
    "    a=[]\n",
    "    a.append(D)\n",
    "    print(type(D))\n",
    "    result = []\n",
    "    n = len(D)\n",
    "    if len(a) == 1:\n",
    "        for d in a:\n",
    "            a = ((2 * 50 * d) / 30)**(1/2)\n",
    "            result.append(a)\n",
    "    else:\n",
    "        for d in D:\n",
    "            a = int(((2 * 50 * d) / 30)**(1/2))\n",
    "            result.append(a)\n",
    "    print(*result, sep=\",\")\n",
    "\n",
    "nos = eval(input(\"Enter a value or a list of values: \"))\n",
    "calc_formula(nos)"
   ]
  },
  {
   "cell_type": "code",
   "execution_count": 92,
   "metadata": {},
   "outputs": [
    {
     "name": "stdout",
     "output_type": "stream",
     "text": [
      "5\n"
     ]
    }
   ],
   "source": [
    "D = [10]\n",
    "result = []\n",
    "for d in D:\n",
    "    a = int(((2 * 50 * d) / 30)**(1/2))\n",
    "    result.append(a)\n",
    "print(*result, sep=\",\")"
   ]
  },
  {
   "cell_type": "code",
   "execution_count": 100,
   "metadata": {},
   "outputs": [
    {
     "name": "stdout",
     "output_type": "stream",
     "text": [
      "<class 'list'>\n",
      "1\n",
      "<class 'list'>\n",
      "[100]\n"
     ]
    }
   ],
   "source": [
    "D = [10]\n",
    "print(type(D))\n",
    "print(len(D))\n",
    "\n",
    "\n",
    "a = eval(input(\"Enter \"))\n",
    "b = []\n",
    "b.append(a)\n",
    "print(type(b))\n",
    "print(b)"
   ]
  },
  {
   "cell_type": "code",
   "execution_count": 76,
   "metadata": {},
   "outputs": [
    {
     "name": "stdout",
     "output_type": "stream",
     "text": [
      "18,22,24\n"
     ]
    }
   ],
   "source": [
    "def calc_formula(D):\n",
    "    C = 50\n",
    "    H = 30\n",
    "    result = []\n",
    "    if isinstance(D, int):\n",
    "        D = [D]\n",
    "    for d in D:\n",
    "        a = int(((2 * C * d) / H)**(1/2))\n",
    "        result.append(a)\n",
    "    print(*result, sep=\",\")\n",
    "\n",
    "nos = eval(input(\"Enter a value or a list of values: \"))\n",
    "calc_formula(nos)"
   ]
  },
  {
   "cell_type": "code",
   "execution_count": 70,
   "metadata": {},
   "outputs": [
    {
     "name": "stdout",
     "output_type": "stream",
     "text": [
      "<class 'list'>\n"
     ]
    },
    {
     "ename": "TypeError",
     "evalue": "unsupported operand type(s) for /: 'list' and 'int'",
     "output_type": "error",
     "traceback": [
      "\u001b[1;31m---------------------------------------------------------------------------\u001b[0m",
      "\u001b[1;31mTypeError\u001b[0m                                 Traceback (most recent call last)",
      "Cell \u001b[1;32mIn[70], line 19\u001b[0m\n\u001b[0;32m     16\u001b[0m         \u001b[38;5;28mprint\u001b[39m(\u001b[38;5;241m*\u001b[39mresult,sep\u001b[38;5;241m=\u001b[39m\u001b[38;5;124m\"\u001b[39m\u001b[38;5;124m,\u001b[39m\u001b[38;5;124m\"\u001b[39m)\n\u001b[0;32m     18\u001b[0m nos \u001b[38;5;241m=\u001b[39m \u001b[38;5;28meval\u001b[39m(\u001b[38;5;28minput\u001b[39m(\u001b[38;5;124m\"\u001b[39m\u001b[38;5;124mEnter the list of values: \u001b[39m\u001b[38;5;124m\"\u001b[39m))\n\u001b[1;32m---> 19\u001b[0m \u001b[43mcalc_formula\u001b[49m\u001b[43m(\u001b[49m\u001b[43mnos\u001b[49m\u001b[43m)\u001b[49m\n",
      "Cell \u001b[1;32mIn[70], line 9\u001b[0m, in \u001b[0;36mcalc_formula\u001b[1;34m(D)\u001b[0m\n\u001b[0;32m      7\u001b[0m \u001b[38;5;28mprint\u001b[39m(\u001b[38;5;28mtype\u001b[39m(t))\n\u001b[0;32m      8\u001b[0m \u001b[38;5;28;01mif\u001b[39;00m(n\u001b[38;5;241m==\u001b[39m\u001b[38;5;241m1\u001b[39m):\n\u001b[1;32m----> 9\u001b[0m     a \u001b[38;5;241m=\u001b[39m \u001b[38;5;28mint\u001b[39m((\u001b[43m(\u001b[49m\u001b[38;5;241;43m2\u001b[39;49m\u001b[43m \u001b[49m\u001b[38;5;241;43m*\u001b[39;49m\u001b[43m \u001b[49m\u001b[43mC\u001b[49m\u001b[43m \u001b[49m\u001b[38;5;241;43m*\u001b[39;49m\u001b[43m \u001b[49m\u001b[43md\u001b[49m\u001b[43m)\u001b[49m\u001b[43m \u001b[49m\u001b[38;5;241;43m/\u001b[39;49m\u001b[43m \u001b[49m\u001b[43mH\u001b[49m)\u001b[38;5;241m*\u001b[39m\u001b[38;5;241m*\u001b[39m(\u001b[38;5;241m1\u001b[39m\u001b[38;5;241m/\u001b[39m\u001b[38;5;241m2\u001b[39m))\n\u001b[0;32m     10\u001b[0m     \u001b[38;5;28mprint\u001b[39m(a)\n\u001b[0;32m     11\u001b[0m \u001b[38;5;28;01melse\u001b[39;00m:\n",
      "\u001b[1;31mTypeError\u001b[0m: unsupported operand type(s) for /: 'list' and 'int'"
     ]
    }
   ],
   "source": [
    "def calc_formula(D):\n",
    "    t=[]\n",
    "    t.append(D)\n",
    "    C = 50\n",
    "    H = 30\n",
    "    n = len(t)\n",
    "    print(type(t))\n",
    "    if(n==1):\n",
    "        a = int(((2 * C * d) / H)**(1/2))\n",
    "        print(a)\n",
    "    else:\n",
    "        result = []\n",
    "        for i in range(0,n):\n",
    "            a = int(((2 * C * t[i]) / H)**(1/2))\n",
    "            result.append(a)\n",
    "        print(*result,sep=\",\")\n",
    "\n",
    "nos = eval(input(\"Enter the list of values: \"))\n",
    "calc_formula(nos)"
   ]
  },
  {
   "cell_type": "code",
   "execution_count": 64,
   "metadata": {},
   "outputs": [
    {
     "name": "stdout",
     "output_type": "stream",
     "text": [
      "1\n"
     ]
    }
   ],
   "source": [
    "d = [100]\n",
    "print(len(d))"
   ]
  },
  {
   "cell_type": "code",
   "execution_count": 4,
   "metadata": {},
   "outputs": [
    {
     "name": "stdout",
     "output_type": "stream",
     "text": [
      "18\n"
     ]
    }
   ],
   "source": [
    "# Experinments :\n",
    "def calc_formula(D):\n",
    "    C = 50\n",
    "    H = 30\n",
    "    l = []# Experinments :\n",
    "    l.append(int(((2 * C * D)/H)**(1/2)))\n",
    "print(calc_formula(100))\n"
   ]
  },
  {
   "cell_type": "code",
   "execution_count": 5,
   "metadata": {},
   "outputs": [
    {
     "name": "stdout",
     "output_type": "stream",
     "text": [
      "10\n"
     ]
    }
   ],
   "source": [
    "# Experinments :\n",
    "l = [10,9,150]\n",
    "print(l[0])"
   ]
  },
  {
   "cell_type": "code",
   "execution_count": 28,
   "metadata": {},
   "outputs": [
    {
     "ename": "TypeError",
     "evalue": "unsupported operand type(s) for /: 'tuple' and 'int'",
     "output_type": "error",
     "traceback": [
      "\u001b[1;31m---------------------------------------------------------------------------\u001b[0m",
      "\u001b[1;31mTypeError\u001b[0m                                 Traceback (most recent call last)",
      "Cell \u001b[1;32mIn[28], line 9\u001b[0m\n\u001b[0;32m      7\u001b[0m     \u001b[38;5;28;01mreturn\u001b[39;00m l\n\u001b[0;32m      8\u001b[0m nos \u001b[38;5;241m=\u001b[39m \u001b[38;5;28meval\u001b[39m(\u001b[38;5;28minput\u001b[39m(\u001b[38;5;124m\"\u001b[39m\u001b[38;5;124mEnter the list of values :\u001b[39m\u001b[38;5;124m\"\u001b[39m))\n\u001b[1;32m----> 9\u001b[0m \u001b[38;5;28mprint\u001b[39m(\u001b[38;5;241m*\u001b[39m\u001b[43mcalc_formula\u001b[49m\u001b[43m(\u001b[49m\u001b[43ml\u001b[49m\u001b[43m)\u001b[49m)\n",
      "Cell \u001b[1;32mIn[28], line 5\u001b[0m, in \u001b[0;36mcalc_formula\u001b[1;34m(D)\u001b[0m\n\u001b[0;32m      3\u001b[0m H \u001b[38;5;241m=\u001b[39m \u001b[38;5;241m30\u001b[39m\n\u001b[0;32m      4\u001b[0m l \u001b[38;5;241m=\u001b[39m []\n\u001b[1;32m----> 5\u001b[0m a \u001b[38;5;241m=\u001b[39m (\u001b[43m(\u001b[49m\u001b[38;5;241;43m2\u001b[39;49m\u001b[43m \u001b[49m\u001b[38;5;241;43m*\u001b[39;49m\u001b[43m \u001b[49m\u001b[43mC\u001b[49m\u001b[43m \u001b[49m\u001b[38;5;241;43m*\u001b[39;49m\u001b[43m \u001b[49m\u001b[43mD\u001b[49m\u001b[43m)\u001b[49m\u001b[38;5;241;43m/\u001b[39;49m\u001b[43mH\u001b[49m)\u001b[38;5;241m*\u001b[39m\u001b[38;5;241m*\u001b[39m(\u001b[38;5;241m1\u001b[39m\u001b[38;5;241m/\u001b[39m\u001b[38;5;241m2\u001b[39m)\n\u001b[0;32m      6\u001b[0m l\u001b[38;5;241m.\u001b[39mappend(a)\n\u001b[0;32m      7\u001b[0m \u001b[38;5;28;01mreturn\u001b[39;00m l\n",
      "\u001b[1;31mTypeError\u001b[0m: unsupported operand type(s) for /: 'tuple' and 'int'"
     ]
    }
   ],
   "source": [
    "# Experinments :\n",
    "def calc_formula(D):\n",
    "    C = 50\n",
    "    H = 30\n",
    "    l = []\n",
    "    a = ((2 * C * D)/H)**(1/2)\n",
    "    l.append(a)\n",
    "    return l\n",
    "nos = eval(input(\"Enter the list of values :\"))\n",
    "print(calc_formula(l))"
   ]
  },
  {
   "cell_type": "code",
   "execution_count": 13,
   "metadata": {},
   "outputs": [
    {
     "name": "stdout",
     "output_type": "stream",
     "text": [
      "<class 'tuple'>\n"
     ]
    }
   ],
   "source": [
    "# Experinments :\n",
    "l = 10,20,30\n",
    "print(type(l))"
   ]
  },
  {
   "cell_type": "code",
   "execution_count": 27,
   "metadata": {},
   "outputs": [
    {
     "ename": "TypeError",
     "evalue": "sequence item 0: expected str instance, list found",
     "output_type": "error",
     "traceback": [
      "\u001b[1;31m---------------------------------------------------------------------------\u001b[0m",
      "\u001b[1;31mTypeError\u001b[0m                                 Traceback (most recent call last)",
      "Cell \u001b[1;32mIn[27], line 13\u001b[0m\n\u001b[0;32m     11\u001b[0m p\u001b[38;5;241m=\u001b[39m[]\n\u001b[0;32m     12\u001b[0m p\u001b[38;5;241m.\u001b[39mappend(calc_formula(\u001b[38;5;241m*\u001b[39mnos))\n\u001b[1;32m---> 13\u001b[0m \u001b[38;5;28mprint\u001b[39m(\u001b[38;5;124;43m\"\u001b[39;49m\u001b[38;5;124;43m,\u001b[39;49m\u001b[38;5;124;43m\"\u001b[39;49m\u001b[38;5;241;43m.\u001b[39;49m\u001b[43mjoin\u001b[49m\u001b[43m(\u001b[49m\u001b[43mp\u001b[49m\u001b[43m)\u001b[49m)\n",
      "\u001b[1;31mTypeError\u001b[0m: sequence item 0: expected str instance, list found"
     ]
    }
   ],
   "source": [
    "# Experinments :\n",
    "def calc_formula(*D):\n",
    "    C = 50\n",
    "    H = 30\n",
    "    result = []\n",
    "    for d in D:\n",
    "        a = int(((2 * C * d) / H)**(1/2))\n",
    "        result.append(a)\n",
    "    return result\n",
    "\n",
    "nos = eval(input(\"Enter the list of values: \"))\n",
    "p=[]\n",
    "p.append(calc_formula(*nos))\n",
    "print(\",\".join(p))\n"
   ]
  },
  {
   "cell_type": "code",
   "execution_count": 53,
   "metadata": {},
   "outputs": [
    {
     "name": "stdout",
     "output_type": "stream",
     "text": [
      "[10, 20],"
     ]
    }
   ],
   "source": [
    "l = [10,20]\n",
    "print(l,end=\",\")"
   ]
  },
  {
   "cell_type": "code",
   "execution_count": 40,
   "metadata": {},
   "outputs": [
    {
     "name": "stdout",
     "output_type": "stream",
     "text": [
      "['100', '200', '400']\n",
      "100, 200, 400\n"
     ]
    }
   ],
   "source": [
    "# Experinments :\n",
    "l = ['100','200','400']\n",
    "print(l)\n",
    "print(\", \".join(l))"
   ]
  },
  {
   "cell_type": "code",
   "execution_count": 48,
   "metadata": {},
   "outputs": [
    {
     "name": "stdout",
     "output_type": "stream",
     "text": [
      "18,22,24\n"
     ]
    }
   ],
   "source": [
    "# Experinments :\n",
    "def calc_formula(*D):\n",
    "    C = 50\n",
    "    H = 30\n",
    "    result = []\n",
    "    for d in D:\n",
    "        a = int(((2 * C * d) / H)**(1/2))\n",
    "        result.append(a)\n",
    "    return result\n",
    "    # print(*result,sep=\", \")\n",
    "\n",
    "nos = eval(input(\"Enter the list of values: \"))\n",
    "print(*calc_formula(*nos),sep=\",\")\n",
    "# p = str(calc_formula(*nos))\n",
    "# print(p)\n",
    "# print(type(p))\n",
    "# print(*p,sep=\",\")\n",
    "# print(type(calc_formula(*nos)))\n",
    "# for i in calc_formula(*nos):\n",
    "#     print(i,end=\",\")"
   ]
  },
  {
   "cell_type": "code",
   "execution_count": 49,
   "metadata": {},
   "outputs": [
    {
     "name": "stdout",
     "output_type": "stream",
     "text": [
      "18, 22, 24\n"
     ]
    }
   ],
   "source": [
    "# Experinments :\n",
    "def calc_formula(*D):\n",
    "    C = 50\n",
    "    H = 30\n",
    "    result = []\n",
    "    for d in D:\n",
    "        a = int(((2 * C * d) / H)**(1/2))\n",
    "        result.append(a)\n",
    "    print(*result,sep=\", \")\n",
    "\n",
    "nos = eval(input(\"Enter the list of values: \"))\n",
    "calc_formula(*nos)\n",
    "# print(*calc_formula(*nos),sep=\",\")\n",
    "# p = str(calc_formula(*nos))\n",
    "# print(p)\n",
    "# print(type(p))\n",
    "# print(*p,sep=\",\")\n",
    "# print(type(calc_formula(*nos)))\n",
    "# for i in calc_formula(*nos):\n",
    "#     print(i,end=\",\")"
   ]
  },
  {
   "cell_type": "code",
   "execution_count": 112,
   "metadata": {},
   "outputs": [
    {
     "name": "stdout",
     "output_type": "stream",
     "text": [
      "[[0, 0, 0, 0, 0], [0, 1, 2, 3, 4], [0, 2, 4, 6, 8]]\n"
     ]
    }
   ],
   "source": [
    "\"\"\" \n",
    "Question 2: \n",
    "Write a program which takes 2 digits, X,Y as input and generates a 2-dimensional array. The \n",
    "element value in the i-th row and j-th column of the array should be i*j. \n",
    "Note: i=0,1.., X-1; j=0,1,¡Y-1. \n",
    "Example \n",
    "Suppose the following inputs are given to the program: \n",
    "3,5 \n",
    "Then, the output of the program should be: \n",
    "[[0, 0, 0, 0, 0], [0, 1, 2, 3, 4], [0, 2, 4, 6, 8]]   \n",
    "\n",
    "\n",
    "\n",
    "\n",
    "explanation:\n",
    "\n",
    "For this question, you are required to generate a 2D array based on two integers, X and Y. \n",
    "The number of rows in the array is determined by X, and the number of columns is determined by Y. \n",
    "The value of each element at position (i, j) in the array is calculated as the product of the row index i and the column index j.\n",
    "\n",
    "Key points:\n",
    "\n",
    "The rows range from 0 to X-1.\n",
    "The columns range from 0 to Y-1.\n",
    "Each element in the 2D array is computed as i * j.\n",
    "Given input:\n",
    "\n",
    "X = 3\n",
    "Y = 5\n",
    "The program should generate an array where:\n",
    "\n",
    "Row 0 has all elements as 0 (because 0 multiplied by anything is 0).\n",
    "Row 1 has elements that increase by multiples of 1 (0, 1, 2, 3, 4).\n",
    "Row 2 has elements that increase by multiples of 2 (0, 2, 4, 6, 8).\n",
    "Another test case:\n",
    "\n",
    "Input: 2, 4\n",
    "Output: [[0, 0, 0, 0], [0, 1, 2, 3]]\n",
    "\"\"\" \n",
    "def matrix_Create(x,y):\n",
    "    mat = []\n",
    "    for i in range(0,x):\n",
    "        row=[]\n",
    "        for j in range(0,y):\n",
    "            row.append(i*j)\n",
    "        mat.append(row)\n",
    "    print(mat)\n",
    "\n",
    "\n",
    "x = int(input(\"Enter the row size of the Matrix :\"))\n",
    "y = int(input(\"Ente the Column size of the Matrix :\"))\n",
    "matrix_Create(x,y)"
   ]
  },
  {
   "cell_type": "code",
   "execution_count": null,
   "metadata": {},
   "outputs": [],
   "source": [
    "\"\"\"\n",
    "#include<bits/stdc++.h>\n",
    "using namespace std;\n",
    "int main()\n",
    "{\n",
    "    // cout<<\"hello world\";\n",
    "    int x,y;                   //x = row, y = colm\n",
    "    int i,j;\n",
    "    cout<<\"\\nEnter the Row and Column of the matrix :\";\n",
    "    cin>>x>>y;\n",
    "    int mat[x][y];\n",
    "    for(i=0;i<x;i++)\n",
    "    {\n",
    "        for(j=0;j<y;j++)\n",
    "        {\n",
    "            mat[i][j]=i*j;\n",
    "        }\n",
    "    }\n",
    "    for(i=0;i<y;i++)\n",
    "    {\n",
    "        for(j=0;j<y;j++)\n",
    "        {\n",
    "            cout<<mat[i][j]<<\" \";\n",
    "        }\n",
    "        cout<<\"\\n\";\n",
    "    }\n",
    "}\n",
    "\"\"\" "
   ]
  },
  {
   "cell_type": "code",
   "execution_count": 79,
   "metadata": {},
   "outputs": [
    {
     "name": "stdout",
     "output_type": "stream",
     "text": [
      "[[0, 0, 0], [0, 1, 2]]\n"
     ]
    }
   ],
   "source": [
    "def matrix_Create(x,y):\n",
    "    mat = []\n",
    "    for i in range(0,x):\n",
    "        row=[]\n",
    "        for j in range(0,y):\n",
    "            row.append(i*j)\n",
    "        mat.append(row)\n",
    "    print(mat)\n",
    "\n",
    "\n",
    "x = int(input(\"Enter the row size of the Matrix :\"))\n",
    "y = int(input(\"Ente the Column size of the Matrix :\"))\n",
    "matrix_Create(x,y)"
   ]
  },
  {
   "cell_type": "code",
   "execution_count": null,
   "metadata": {},
   "outputs": [],
   "source": [
    "\"\"\"    \n",
    "Question 3: \n",
    "Write a program that accepts a comma separated sequence of words as input and prints the \n",
    "words in a comma-separated sequence after sorting them alphabetically. \n",
    "Suppose the following input is supplied to the program: \n",
    "without,hello,bag,world \n",
    "Then, the output should be: \n",
    "bag,hello,without,world \n",
    "\"\"\"  \n",
    "def sort_alphabetically(str1):\n",
    "\n",
    "\n",
    "s=eval(input(\"Enter a String with comma separeated values :\"))"
   ]
  },
  {
   "cell_type": "code",
   "execution_count": 89,
   "metadata": {},
   "outputs": [
    {
     "ename": "AttributeError",
     "evalue": "'str' object has no attribute 'sorted'",
     "output_type": "error",
     "traceback": [
      "\u001b[1;31m---------------------------------------------------------------------------\u001b[0m",
      "\u001b[1;31mAttributeError\u001b[0m                            Traceback (most recent call last)",
      "Cell \u001b[1;32mIn[89], line 3\u001b[0m\n\u001b[0;32m      1\u001b[0m s \u001b[38;5;241m=\u001b[39m [\u001b[38;5;124m'\u001b[39m\u001b[38;5;124mRam\u001b[39m\u001b[38;5;124m'\u001b[39m,\u001b[38;5;124m'\u001b[39m\u001b[38;5;124mis\u001b[39m\u001b[38;5;124m'\u001b[39m,\u001b[38;5;124m'\u001b[39m\u001b[38;5;124ma\u001b[39m\u001b[38;5;124m'\u001b[39m,\u001b[38;5;124m'\u001b[39m\u001b[38;5;124mgood\u001b[39m\u001b[38;5;124m'\u001b[39m,\u001b[38;5;124m'\u001b[39m\u001b[38;5;124mboy\u001b[39m\u001b[38;5;124m'\u001b[39m]\n\u001b[0;32m      2\u001b[0m str1 \u001b[38;5;241m=\u001b[39m \u001b[38;5;28mstr\u001b[39m(s)\n\u001b[1;32m----> 3\u001b[0m \u001b[43mstr1\u001b[49m\u001b[38;5;241;43m.\u001b[39;49m\u001b[43msorted\u001b[49m(s)\n\u001b[0;32m      4\u001b[0m \u001b[38;5;28mprint\u001b[39m(str1)\n",
      "\u001b[1;31mAttributeError\u001b[0m: 'str' object has no attribute 'sorted'"
     ]
    }
   ],
   "source": [
    "s = ['Ram','is','a','good','boy']\n",
    "str1 = str(s)\n",
    "str1.sorted(s)\n",
    "print(str1)"
   ]
  },
  {
   "cell_type": "code",
   "execution_count": null,
   "metadata": {},
   "outputs": [],
   "source": []
  }
 ],
 "metadata": {
  "kernelspec": {
   "display_name": "myenv",
   "language": "python",
   "name": "python3"
  },
  "language_info": {
   "codemirror_mode": {
    "name": "ipython",
    "version": 3
   },
   "file_extension": ".py",
   "mimetype": "text/x-python",
   "name": "python",
   "nbconvert_exporter": "python",
   "pygments_lexer": "ipython3",
   "version": "3.11.10"
  }
 },
 "nbformat": 4,
 "nbformat_minor": 2
}
