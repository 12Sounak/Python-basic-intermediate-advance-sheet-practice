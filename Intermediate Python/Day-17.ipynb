{
 "cells": [
  {
   "cell_type": "code",
   "execution_count": null,
   "metadata": {},
   "outputs": [],
   "source": [
    "\"\"\"      \n",
    "Question 33. \n",
    "Create a function that takes a string and returns a string in which each character is repeated once. \n",
    "Examples: \n",
    "double_char(\"String\") ➞ \"SSttrriinngg\" \n",
    "double_char(\"Hello World!\") ➞ \"HHeelllloo WWoorrlldd!!\" \n",
    "double_char(\"1234!_ \") ➞ \"11223344!!__ \" \n",
    " \n",
    "Question 34. \n",
    "Create a function that reverses a boolean value and returns the string \"boolean expected\" if another \n",
    "variable type is given. \n",
    "Examples: \n",
    "reverse(True) ➞ False \n",
    "reverse(False) ➞ True \n",
    "reverse(0) ➞ \"boolean expected\" \n",
    "reverse(None) ➞ \"boolean expected\" \n",
    "\"\"\"      "
   ]
  },
  {
   "cell_type": "code",
   "execution_count": 1,
   "metadata": {},
   "outputs": [
    {
     "ename": "TypeError",
     "evalue": "argument of type 'int' is not iterable",
     "output_type": "error",
     "traceback": [
      "\u001b[1;31m---------------------------------------------------------------------------\u001b[0m",
      "\u001b[1;31mTypeError\u001b[0m                                 Traceback (most recent call last)",
      "Cell \u001b[1;32mIn[1], line 20\u001b[0m\n\u001b[0;32m     18\u001b[0m l \u001b[38;5;241m=\u001b[39m \u001b[38;5;28meval\u001b[39m(\u001b[38;5;28minput\u001b[39m(\u001b[38;5;124m\"\u001b[39m\u001b[38;5;124mEnter a list :\u001b[39m\u001b[38;5;124m\"\u001b[39m))\n\u001b[0;32m     19\u001b[0m k \u001b[38;5;241m=\u001b[39m \u001b[38;5;28mint\u001b[39m(\u001b[38;5;28minput\u001b[39m(\u001b[38;5;124m\"\u001b[39m\u001b[38;5;124menter the int :\u001b[39m\u001b[38;5;124m\"\u001b[39m))\n\u001b[1;32m---> 20\u001b[0m \u001b[43mmove_to_end\u001b[49m\u001b[43m(\u001b[49m\u001b[43ml\u001b[49m\u001b[43m,\u001b[49m\u001b[43mk\u001b[49m\u001b[43m)\u001b[49m\n",
      "Cell \u001b[1;32mIn[1], line 14\u001b[0m, in \u001b[0;36mmove_to_end\u001b[1;34m(l, k)\u001b[0m\n\u001b[0;32m     12\u001b[0m n \u001b[38;5;241m=\u001b[39m \u001b[38;5;28mlen\u001b[39m(l)\n\u001b[0;32m     13\u001b[0m \u001b[38;5;28;01mfor\u001b[39;00m i \u001b[38;5;129;01min\u001b[39;00m \u001b[38;5;28mrange\u001b[39m(\u001b[38;5;241m0\u001b[39m,n):\n\u001b[1;32m---> 14\u001b[0m     \u001b[38;5;28;01mif\u001b[39;00m \u001b[43ml\u001b[49m\u001b[43m \u001b[49m\u001b[38;5;129;43;01min\u001b[39;49;00m\u001b[43m \u001b[49m\u001b[43mk\u001b[49m:\n\u001b[0;32m     15\u001b[0m         l\u001b[38;5;241m.\u001b[39minsert(n,k)\n",
      "\u001b[1;31mTypeError\u001b[0m: argument of type 'int' is not iterable"
     ]
    }
   ],
   "source": [
    "\"\"\" \n",
    "Question 32. \n",
    "Write a function that moves all elements of one type to the end of the list. \n",
    "Examples: \n",
    "move_to_end([1, 3, 2, 4, 4, 1], 1) ➞ [3, 2, 4, 4, 1, 1] \n",
    "\n",
    "Move all the 1s to the end of the array. \n",
    "move_to_end([7, 8, 9, 1, 2, 3, 4], 9) ➞ [7, 8, 1, 2, 3, 4, 9]\n",
    "move_to_end([\"a\", \"a\", \"a\", \"b\"], \"a\") ➞ [\"b\", \"a\", \"a\", \"a\"]         \n",
    "\"\"\" \n",
    "def move_to_end(l,k):\n",
    "    n = len(l)\n",
    "    for i in range(0,n):\n",
    "        if l in k:\n",
    "            l.insert(n,k)\n",
    "\n",
    "\n",
    "l = eval(input(\"Enter a list :\"))\n",
    "k = int(input(\"enter the int :\"))\n",
    "move_to_end(l,k)"
   ]
  },
  {
   "cell_type": "code",
   "execution_count": 7,
   "metadata": {},
   "outputs": [],
   "source": [
    "def move_to_end(l,k):\n",
    "    n = len(l)\n",
    "    for i in range(0,n):\n",
    "        if l[i]==k:\n",
    "            l.remove(k)\n",
    "            l.insert(n,k)\n",
    "    print(l)\n",
    "\n",
    "# l = eval(input(\"Enter a list :\"))\n",
    "# k = int(input(\"enter the int :\"))\n",
    "# move_to_end(l,k)"
   ]
  },
  {
   "cell_type": "code",
   "execution_count": 6,
   "metadata": {},
   "outputs": [
    {
     "name": "stdout",
     "output_type": "stream",
     "text": [
      "[3, 2, 4, 4, 1, 1]\n"
     ]
    }
   ],
   "source": [
    "move_to_end([1, 3, 2, 4, 4, 1], 1)"
   ]
  },
  {
   "cell_type": "code",
   "execution_count": 8,
   "metadata": {},
   "outputs": [
    {
     "name": "stdout",
     "output_type": "stream",
     "text": [
      "[7, 8, 1, 2, 3, 4, 9]\n"
     ]
    }
   ],
   "source": [
    "move_to_end([7, 8, 9, 1, 2, 3, 4], 9)"
   ]
  },
  {
   "cell_type": "code",
   "execution_count": 9,
   "metadata": {},
   "outputs": [
    {
     "name": "stdout",
     "output_type": "stream",
     "text": [
      "['b', 'a', 'a', 'a']\n"
     ]
    }
   ],
   "source": [
    "move_to_end([\"a\", \"a\", \"a\", \"b\"], \"a\")"
   ]
  },
  {
   "cell_type": "code",
   "execution_count": 10,
   "metadata": {},
   "outputs": [
    {
     "name": "stdout",
     "output_type": "stream",
     "text": [
      "ssaamm"
     ]
    }
   ],
   "source": [
    "\"\"\"   \n",
    "Question 33. \n",
    "Create a function that takes a string and returns a string in which each character is repeated once. \n",
    "Examples: \n",
    "double_char(\"String\") ➞ \"SSttrriinngg\" \n",
    "double_char(\"Hello World!\") ➞ \"HHeelllloo WWoorrlldd!!\" \n",
    "double_char(\"1234!_ \") ➞ \"11223344!!__ \" \n",
    "\"\"\"       \n",
    "def double_char(s):\n",
    "    for i in s:\n",
    "        print(i+i,end=\"\")\n",
    "s = input(\"Enter the String :\")\n",
    "double_char(s)"
   ]
  },
  {
   "cell_type": "code",
   "execution_count": 34,
   "metadata": {},
   "outputs": [],
   "source": [
    "\"\"\"    \n",
    "Question 34. \n",
    "Create a function that reverses a boolean value and returns the string \"boolean expected\" if another \n",
    "variable type is given. \n",
    "Examples: \n",
    "reverse(True) ➞ False \n",
    "reverse(False) ➞ True \n",
    "reverse(0) ➞ \"boolean expected\" \n",
    "reverse(None) ➞ \"boolean expected\"  \n",
    "\"\"\"    \n",
    "def reverse(a):\n",
    "    print(not a)"
   ]
  },
  {
   "cell_type": "code",
   "execution_count": 28,
   "metadata": {},
   "outputs": [
    {
     "name": "stdout",
     "output_type": "stream",
     "text": [
      "True\n"
     ]
    }
   ],
   "source": [
    "# print(bool(True))"
   ]
  },
  {
   "cell_type": "code",
   "execution_count": 40,
   "metadata": {},
   "outputs": [
    {
     "name": "stdout",
     "output_type": "stream",
     "text": [
      "True\n"
     ]
    }
   ],
   "source": [
    "reverse(None)"
   ]
  },
  {
   "cell_type": "code",
   "execution_count": 12,
   "metadata": {},
   "outputs": [
    {
     "ename": "TypeError",
     "evalue": "'bool' object is not reversible",
     "output_type": "error",
     "traceback": [
      "\u001b[1;31m---------------------------------------------------------------------------\u001b[0m",
      "\u001b[1;31mTypeError\u001b[0m                                 Traceback (most recent call last)",
      "Cell \u001b[1;32mIn[12], line 1\u001b[0m\n\u001b[1;32m----> 1\u001b[0m \u001b[38;5;28mprint\u001b[39m(\u001b[38;5;28;43mreversed\u001b[39;49m\u001b[43m(\u001b[49m\u001b[38;5;28;43;01mTrue\u001b[39;49;00m\u001b[43m)\u001b[49m)\n",
      "\u001b[1;31mTypeError\u001b[0m: 'bool' object is not reversible"
     ]
    }
   ],
   "source": []
  },
  {
   "cell_type": "code",
   "execution_count": null,
   "metadata": {},
   "outputs": [],
   "source": []
  }
 ],
 "metadata": {
  "kernelspec": {
   "display_name": "myenv",
   "language": "python",
   "name": "python3"
  },
  "language_info": {
   "codemirror_mode": {
    "name": "ipython",
    "version": 3
   },
   "file_extension": ".py",
   "mimetype": "text/x-python",
   "name": "python",
   "nbconvert_exporter": "python",
   "pygments_lexer": "ipython3",
   "version": "3.11.10"
  }
 },
 "nbformat": 4,
 "nbformat_minor": 2
}
