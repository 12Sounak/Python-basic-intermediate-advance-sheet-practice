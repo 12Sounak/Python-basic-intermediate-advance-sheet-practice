{
 "cells": [
  {
   "cell_type": "code",
   "execution_count": null,
   "metadata": {},
   "outputs": [],
   "source": [
    "\"\"\"\n",
    "Question 36. \n",
    " \n",
    "Create a function that takes a single string as argument and returns an ordered list containing \n",
    "the indices of all capital letters in the string. \n",
    "Examples \n",
    "index_of_caps(\"eDaBiT\") ➞ [1, 3, 5] \n",
    "index_of_caps(\"eQuINoX\") ➞ [1, 3, 4, 6] \n",
    "index_of_caps(\"determine\") ➞ [] \n",
    "index_of_caps(\"STRIKE\") ➞ [0, 1, 2, 3, 4, 5] \n",
    "index_of_caps(\"sUn\") ➞ [1] \n",
    " \n",
    "Question 37. \n",
    "Using list comprehensions, create a function that finds all even numbers from 1 to the given \n",
    "number. \n",
    "Examples \n",
    "find_even_nums(8) ➞ [2, 4, 6, 8] \n",
    "find_even_nums(4) ➞ [2, 4] \n",
    "find_even_nums(2) ➞ [2] \n",
    " \n",
    "Question 38. \n",
    "Create a function that takes a list of strings and integers, and filters out the list so that it \n",
    "returns a list of integers only. \n",
    "Examples \n",
    "filter_list([1, 2, 3, \"a\", \"b\", 4]) ➞ [1, 2, 3, 4] \n",
    "filter_list([\"A\", 0, \"Edabit\", 1729, \"Python\", \"1729\"]) ➞ [0, 1729] \n",
    "filter_list([\"Nothing\", \"here\"]) ➞ [] \n",
    " \n",
    "Question 39. \n",
    "Given a list of numbers, create a function which returns the list but with each element's index in the \n",
    "list added to itself. This means you add 0 to the number at index 0, add 1 to the number at index 1, \n",
    "etc... \n",
    " \n",
    "Examples: \n",
    "add_indexes([0, 0, 0, 0, 0]) ➞ [0, 1, 2, 3, 4] \n",
    "add_indexes([1, 2, 3, 4, 5]) ➞ [1, 3, 5, 7, 9] \n",
    "add_indexes([5, 4, 3, 2, 1]) ➞ [5, 5, 5, 5, 5] \n",
    " \n",
    "Question 40. \n",
    "Create a function that takes the height and radius of a cone as arguments and returns the \n",
    "volume of the cone rounded to the nearest hundredth. See the resources tab for the formula.    \n",
    " \n",
    " \n",
    "Examples \n",
    "cone_volume(3, 2) ➞ 12.57 \n",
    " \n",
    "cone_volume(15, 6) ➞ 565.49 \n",
    "cone_volume(18, 0) ➞ 0 \n",
    " \n",
    "Question 41. \n",
    "This Triangular Number Sequence is generated from a pattern of dots that form a triangle. \n",
    "The first 5 numbers of the sequence, or dots, are: \n",
    "1, 3, 6, 10, 15 \n",
    "This means that the first triangle has just one dot, the second one has three dots, the third one \n",
    "has 6 dots and so on. \n",
    "Write a function that gives the number of dots with its corresponding triangle number of the \n",
    "sequence. \n",
    "Examples \n",
    "triangle(1) ➞ 1 \n",
    "triangle(6) ➞ 21 \n",
    "triangle(215) ➞ 23220 \n",
    " \n",
    "Question 42. \n",
    "Create a function that takes a list of numbers between 1 and 10 (excluding one number) and \n",
    "returns the missing number. \n",
    "Examples \n",
    "missing_num([1, 2, 3, 4, 6, 7, 8, 9, 10]) ➞ 5 \n",
    "missing_num([7, 2, 3, 6, 5, 9, 1, 4, 8]) ➞ 10 \n",
    "missing_num([10, 5, 1, 2, 4, 6, 8, 3, 9]) ➞ 7 \n",
    " \n",
    "Question 43. \n",
    "Write a function that takes a list and a number as arguments. Add the number to the end of \n",
    "the list, then remove the first element of the list. The function should then return the updated \n",
    "list. \n",
    "Examples \n",
    "next_in_line([5, 6, 7, 8, 9], 1) ➞ [6, 7, 8, 9, 1] \n",
    "next_in_line([7, 6, 3, 23, 17], 10) ➞ [6, 3, 23, 17, 10] \n",
    "next_in_line([1, 10, 20, 42 ], 6) ➞ [10, 20, 42, 6] \n",
    "next_in_line([], 6) ➞ \"No list has been selected\" \n",
    " \n",
    "Question 44. \n",
    "Create the function that takes a list of dictionaries and returns the sum of people's budgets. \n",
    "Examples \n",
    "get_budgets([ \n",
    "{ \"name\": \"John\", \"age\": 21, \"budget\": 23000 }, \n",
    "{ \"name\": \"Steve\", \"age\": 32, \"budget\": 40000 }, \n",
    "{ \"name\": \"Martin\", \"age\": 16, \"budget\": 2700 } \n",
    "]) ➞ 65700 \n",
    "get_budgets([ \n",
    "{ \"name\": \"John\", \"age\": 21, \"budget\": 29000 }, \n",
    "{ \"name\": \"Steve\", \"age\": 32, \"budget\": 32000 }, \n",
    "{ \"name\": \"Martin\", \"age\": 16, \"budget\": 1600 } \n",
    "]) ➞ 62600      \n",
    "\"\"\""
   ]
  },
  {
   "cell_type": "code",
   "execution_count": 4,
   "metadata": {},
   "outputs": [
    {
     "ename": "TypeError",
     "evalue": "string indices must be integers, not 'str'",
     "output_type": "error",
     "traceback": [
      "\u001b[1;31m---------------------------------------------------------------------------\u001b[0m",
      "\u001b[1;31mTypeError\u001b[0m                                 Traceback (most recent call last)",
      "Cell \u001b[1;32mIn[4], line 18\u001b[0m\n\u001b[0;32m     16\u001b[0m             \u001b[38;5;28mprint\u001b[39m(s[i])\n\u001b[0;32m     17\u001b[0m s \u001b[38;5;241m=\u001b[39m \u001b[38;5;28minput\u001b[39m(\u001b[38;5;124m\"\u001b[39m\u001b[38;5;124mEnter a String :\u001b[39m\u001b[38;5;124m\"\u001b[39m)\n\u001b[1;32m---> 18\u001b[0m \u001b[43mindex_of_caps\u001b[49m\u001b[43m(\u001b[49m\u001b[43ms\u001b[49m\u001b[43m)\u001b[49m\n",
      "Cell \u001b[1;32mIn[4], line 15\u001b[0m, in \u001b[0;36mindex_of_caps\u001b[1;34m(s)\u001b[0m\n\u001b[0;32m     12\u001b[0m \u001b[38;5;28;01mdef\u001b[39;00m \u001b[38;5;21mindex_of_caps\u001b[39m(s):\n\u001b[0;32m     13\u001b[0m     \u001b[38;5;66;03m# l = [\"A\",\"B\",\"C\",\"D\",\"E\",\"F\",\"G\",\"H\",\"I\",\"J\",\"K\",\"L\",\"M\",\"N\",\"O\",\"P\",\"Q\",\"R\",\"S\",\"T\",\"U\",\"V\",\"W\",\"X\",\"Y\",\"Z\"]\u001b[39;00m\n\u001b[0;32m     14\u001b[0m     \u001b[38;5;28;01mfor\u001b[39;00m i \u001b[38;5;129;01min\u001b[39;00m s:\n\u001b[1;32m---> 15\u001b[0m         \u001b[38;5;28;01mif\u001b[39;00m \u001b[43ms\u001b[49m\u001b[43m[\u001b[49m\u001b[43mi\u001b[49m\u001b[43m]\u001b[49m\u001b[38;5;241m>\u001b[39m\u001b[38;5;241m65\u001b[39m \u001b[38;5;129;01mand\u001b[39;00m s[i]\u001b[38;5;241m<\u001b[39m\u001b[38;5;241m90\u001b[39m:\n\u001b[0;32m     16\u001b[0m             \u001b[38;5;28mprint\u001b[39m(s[i])\n",
      "\u001b[1;31mTypeError\u001b[0m: string indices must be integers, not 'str'"
     ]
    }
   ],
   "source": [
    "\"\"\"\n",
    "Question 36. \n",
    "Create a function that takes a single string as argument and returns an ordered list containing \n",
    "the indices of all capital letters in the string. \n",
    "Examples \n",
    "index_of_caps(\"eDaBiT\") ➞ [1, 3, 5] \n",
    "index_of_caps(\"eQuINoX\") ➞ [1, 3, 4, 6] \n",
    "index_of_caps(\"determine\") ➞ [] \n",
    "index_of_caps(\"STRIKE\") ➞ [0, 1, 2, 3, 4, 5] \n",
    "index_of_caps(\"sUn\") ➞ [1]    \n",
    "\"\"\"\n",
    "def index_of_caps(s):\n",
    "    # l = [\"A\",\"B\",\"C\",\"D\",\"E\",\"F\",\"G\",\"H\",\"I\",\"J\",\"K\",\"L\",\"M\",\"N\",\"O\",\"P\",\"Q\",\"R\",\"S\",\"T\",\"U\",\"V\",\"W\",\"X\",\"Y\",\"Z\"]\n",
    "    for i in s:\n",
    "        if s[i]>65 and s[i]<90:\n",
    "            print(s[i])\n",
    "s = input(\"Enter a String :\")\n",
    "index_of_caps(s)"
   ]
  },
  {
   "cell_type": "code",
   "execution_count": null,
   "metadata": {},
   "outputs": [],
   "source": [
    "def replace_vowels(s,k):\n",
    "    print(s)\n",
    "    n = len(s)\n",
    "    print(k)\n",
    "    l = [\"a\",\"e\",\"i\",\"o\",\"u\",\"A\",\"E\",\"I\",\"O\",\"U\"]\n",
    "    for i in range(0,n):\n",
    "        if s[i] in l:\n",
    "            print(\"yes\")\n",
    "            new_s = s.replace(s[i],k)\n",
    "    print(new_s)   \n",
    "\n",
    "s = input(\"Enter the String :\")\n",
    "k = input(\"replace vowel with :\")\n",
    "replace_vowels(s,k)"
   ]
  },
  {
   "cell_type": "code",
   "execution_count": 3,
   "metadata": {},
   "outputs": [
    {
     "ename": "ValueError",
     "evalue": "invalid literal for int() with base 10: 's'",
     "output_type": "error",
     "traceback": [
      "\u001b[1;31m---------------------------------------------------------------------------\u001b[0m",
      "\u001b[1;31mValueError\u001b[0m                                Traceback (most recent call last)",
      "Cell \u001b[1;32mIn[3], line 2\u001b[0m\n\u001b[0;32m      1\u001b[0m s \u001b[38;5;241m=\u001b[39m \u001b[38;5;124m\"\u001b[39m\u001b[38;5;124msounak\u001b[39m\u001b[38;5;124m\"\u001b[39m\n\u001b[1;32m----> 2\u001b[0m a \u001b[38;5;241m=\u001b[39m \u001b[38;5;28;43mint\u001b[39;49m\u001b[43m(\u001b[49m\u001b[43ms\u001b[49m\u001b[43m[\u001b[49m\u001b[38;5;241;43m0\u001b[39;49m\u001b[43m]\u001b[49m\u001b[43m)\u001b[49m\n",
      "\u001b[1;31mValueError\u001b[0m: invalid literal for int() with base 10: 's'"
     ]
    }
   ],
   "source": [
    "s = \"sounak\"\n",
    "a = int(s[0])"
   ]
  },
  {
   "cell_type": "code",
   "execution_count": 12,
   "metadata": {},
   "outputs": [
    {
     "name": "stdout",
     "output_type": "stream",
     "text": [
      "[1]\n"
     ]
    }
   ],
   "source": [
    "def index_of_caps(s):\n",
    "    l = [\"A\",\"B\",\"C\",\"D\",\"E\",\"F\",\"G\",\"H\",\"I\",\"J\",\"K\",\"L\",\"M\",\"N\",\"O\",\"P\",\"Q\",\"R\",\"S\",\"T\",\"U\",\"V\",\"W\",\"X\",\"Y\",\"Z\"]\n",
    "    a = []\n",
    "    for i in range(0,len(s)):\n",
    "        if s[i] in l:\n",
    "            a.append(i)\n",
    "    print(a)\n",
    "s = input(\"Enter a String :\")\n",
    "index_of_caps(s)"
   ]
  },
  {
   "cell_type": "code",
   "execution_count": null,
   "metadata": {},
   "outputs": [],
   "source": [
    "\"\"\" \n",
    "Question 37. \n",
    "Using list comprehensions, create a function that finds all even numbers from 1 to the given \n",
    "number. \n",
    "Examples \n",
    "find_even_nums(8) ➞ [2, 4, 6, 8] \n",
    "find_even_nums(4) ➞ [2, 4] \n",
    "find_even_nums(2) ➞ [2]  \n",
    "\"\"\" \n",
    "def find_even_nums(n):\n",
    "    for i in range(0,n):\n",
    "        if \n",
    "\n",
    "\n",
    "n = int(input(\"Enter a number :\"))\n",
    "find_even_nums(n)"
   ]
  },
  {
   "cell_type": "code",
   "execution_count": 1,
   "metadata": {},
   "outputs": [
    {
     "ename": "TypeError",
     "evalue": "int() argument must be a string, a bytes-like object or a real number, not 'list'",
     "output_type": "error",
     "traceback": [
      "\u001b[1;31m---------------------------------------------------------------------------\u001b[0m",
      "\u001b[1;31mTypeError\u001b[0m                                 Traceback (most recent call last)",
      "Cell \u001b[1;32mIn[1], line 19\u001b[0m\n\u001b[0;32m     17\u001b[0m     \u001b[38;5;28mprint\u001b[39m(a)\n\u001b[0;32m     18\u001b[0m l \u001b[38;5;241m=\u001b[39m \u001b[38;5;28meval\u001b[39m(\u001b[38;5;28minput\u001b[39m(\u001b[38;5;124m\"\u001b[39m\u001b[38;5;124menter a list :\u001b[39m\u001b[38;5;124m\"\u001b[39m))\n\u001b[1;32m---> 19\u001b[0m \u001b[43mfilter_list\u001b[49m\u001b[43m(\u001b[49m\u001b[43ml\u001b[49m\u001b[43m)\u001b[49m\n",
      "Cell \u001b[1;32mIn[1], line 11\u001b[0m, in \u001b[0;36mfilter_list\u001b[1;34m(s)\u001b[0m\n\u001b[0;32m     10\u001b[0m \u001b[38;5;28;01mdef\u001b[39;00m \u001b[38;5;21mfilter_list\u001b[39m(s):\n\u001b[1;32m---> 11\u001b[0m     s \u001b[38;5;241m=\u001b[39m \u001b[38;5;28;43mint\u001b[39;49m\u001b[43m(\u001b[49m\u001b[43ms\u001b[49m\u001b[43m)\u001b[49m\n\u001b[0;32m     12\u001b[0m     n \u001b[38;5;241m=\u001b[39m \u001b[38;5;28mlen\u001b[39m(s)\n\u001b[0;32m     13\u001b[0m     a \u001b[38;5;241m=\u001b[39m []\n",
      "\u001b[1;31mTypeError\u001b[0m: int() argument must be a string, a bytes-like object or a real number, not 'list'"
     ]
    }
   ],
   "source": [
    "\"\"\"   \n",
    "Question 38. \n",
    "Create a function that takes a list of strings and integers, and filters out the list so that it \n",
    "returns a list of integers only. \n",
    "Examples \n",
    "filter_list([1, 2, 3, \"a\", \"b\", 4]) ➞ [1, 2, 3, 4] \n",
    "filter_list([\"A\", 0, \"Edabit\", 1729, \"Python\", \"1729\"]) ➞ [0, 1729] \n",
    "filter_list([\"Nothing\", \"here\"]) ➞ []\n",
    "\"\"\"   \n",
    "def filter_list(s):\n",
    "    s = int(s)\n",
    "    n = len(s)\n",
    "    a = []\n",
    "    for i in range(0,n):\n",
    "        if s[i]>=1 and s[i]<=99999999:\n",
    "            a.append(i)\n",
    "    print(a)\n",
    "l = eval(input(\"enter a list :\"))\n",
    "filter_list(l)"
   ]
  },
  {
   "cell_type": "code",
   "execution_count": 14,
   "metadata": {},
   "outputs": [
    {
     "name": "stdout",
     "output_type": "stream",
     "text": [
      "A\n",
      "0\n",
      "Edabit\n",
      "1729\n"
     ]
    }
   ],
   "source": [
    "a = [\"A\", 0, \"Edabit\", 1729, \"Python\", \"1729\"]\n",
    "print(a[0])\n",
    "print(a[1])\n",
    "print(a[2])\n",
    "print(a[3])"
   ]
  },
  {
   "cell_type": "code",
   "execution_count": null,
   "metadata": {},
   "outputs": [],
   "source": []
  }
 ],
 "metadata": {
  "kernelspec": {
   "display_name": "myenv",
   "language": "python",
   "name": "python3"
  },
  "language_info": {
   "codemirror_mode": {
    "name": "ipython",
    "version": 3
   },
   "file_extension": ".py",
   "mimetype": "text/x-python",
   "name": "python",
   "nbconvert_exporter": "python",
   "pygments_lexer": "ipython3",
   "version": "3.11.10"
  }
 },
 "nbformat": 4,
 "nbformat_minor": 2
}
