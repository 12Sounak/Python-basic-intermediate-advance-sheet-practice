{
 "cells": [
  {
   "cell_type": "code",
   "execution_count": null,
   "metadata": {},
   "outputs": [],
   "source": [
    "\"\"\"\n",
    "Question 1: \n",
    "Write a program that calculates and prints the value according to the given formula: \n",
    "Q = Square root of [(2 * C * D)/H] \n",
    "Following are the fixed values of C and H: \n",
    "C is 50. H is 30. \n",
    "D is the variable whose values should be input to your program in a comma-separated \n",
    "sequence. \n",
    "Example \n",
    "Let us assume the following comma separated input sequence is given to the program: \n",
    "100,150,180 \n",
    "The output of the program should be: \n",
    "18,22,24 \n",
    " \n",
    "Question 2: \n",
    "Write a program which takes 2 digits, X,Y as input and generates a 2-dimensional array. The \n",
    "element value in the i-th row and j-th column of the array should be i*j. \n",
    "Note: i=0,1.., X-1; j=0,1,¡Y-1. \n",
    "Example \n",
    "Suppose the following inputs are given to the program: \n",
    "3,5 \n",
    "Then, the output of the program should be: \n",
    "[[0, 0, 0, 0, 0], [0, 1, 2, 3, 4], [0, 2, 4, 6, 8]] \n",
    " \n",
    "Question 3: \n",
    "Write a program that accepts a comma separated sequence of words as input and prints the \n",
    "words in a comma-separated sequence after sorting them alphabetically. \n",
    "Suppose the following input is supplied to the program: \n",
    "without,hello,bag,world \n",
    "Then, the output should be: \n",
    "bag,hello,without,world \n",
    " \n",
    "Question 4: \n",
    "Write a program that accepts a sequence of whitespace separated words as input and prints \n",
    "the words after removing all duplicate words and sorting them alphanumerically. \n",
    "Suppose the following input is supplied to the program: \n",
    "hello world and practice makes perfect and hello world again \n",
    "Then, the output should be: \n",
    "again and hello makes perfect practice world \n",
    " \n",
    "Question 5: \n",
    "Write a program that accepts a sentence and calculate the number of letters and digits. \n",
    "Suppose the following input is supplied to the program: \n",
    "hello world! 123 \n",
    "Then, the output should be: \n",
    "LETTERS 10 \n",
    "DIGITS 3    \n",
    "\"\"\""
   ]
  },
  {
   "cell_type": "code",
   "execution_count": 25,
   "metadata": {},
   "outputs": [
    {
     "name": "stdout",
     "output_type": "stream",
     "text": [
      "18, 22, 24\n"
     ]
    }
   ],
   "source": [
    "\"\"\"\n",
    "Question 1: \n",
    "Write a program that calculates and prints the value according to the given formula: \n",
    "Q = Square root of [(2 * C * D)/H] \n",
    "Following are the fixed values of C and H: \n",
    "C is 50. H is 30. \n",
    "D is the variable whose values should be input to your program in a comma-separated \n",
    "sequence. \n",
    "Example \n",
    "Let us assume the following comma separated input sequence is given to the program: \n",
    "100,150,180 \n",
    "The output of the program should be: \n",
    "18,22,24   \n",
    "\"\"\"\n",
    "def calc_formula(s):\n",
    "    a=[]\n",
    "    x = s.split(\",\")\n",
    "    for i in x:\n",
    "        a.append(int(((2 * 50 * int(i))/30)**(1/2)))\n",
    "    b=str(a)\n",
    "    b=b.replace(\"[\",\"\")\n",
    "    b=b.replace(\"]\",\"\")\n",
    "    print(b)\n",
    "\n",
    "s = input(\"Enter numbers\")\n",
    "calc_formula(s)"
   ]
  },
  {
   "cell_type": "code",
   "execution_count": 27,
   "metadata": {},
   "outputs": [
    {
     "name": "stdout",
     "output_type": "stream",
     "text": [
      "18,22,24\n"
     ]
    }
   ],
   "source": [
    "# Perfectly_working code handling spaces which is a problem in the above code\n",
    "def calc_formula(s):\n",
    "    a=[]\n",
    "    x = s.split(\",\")\n",
    "    for i in x:\n",
    "        a.append(str(int(((2 * 50 * int(i)) / 30) ** (1/2))))\n",
    "    print(\",\".join(a))\n",
    "   \n",
    "    \n",
    "\n",
    "s = input(\"Enter numbers\")\n",
    "calc_formula(s)"
   ]
  },
  {
   "cell_type": "code",
   "execution_count": 6,
   "metadata": {},
   "outputs": [
    {
     "name": "stdout",
     "output_type": "stream",
     "text": [
      "<class 'str'>\n",
      "<class 'list'>\n",
      "['100', '150', '180']\n"
     ]
    }
   ],
   "source": [
    "s = input(\"ip\")\n",
    "print(type(s))\n",
    "x = s.split(\",\")\n",
    "print(type(x))\n",
    "print(x)"
   ]
  },
  {
   "cell_type": "code",
   "execution_count": null,
   "metadata": {},
   "outputs": [],
   "source": [
    "(int(((2 * 50 * int(i))/30)**1/2))"
   ]
  },
  {
   "cell_type": "code",
   "execution_count": 18,
   "metadata": {},
   "outputs": [
    {
     "name": "stdout",
     "output_type": "stream",
     "text": [
      "[18, 22, 24]\n",
      "<class 'str'>\n",
      "18, 22, 24\n"
     ]
    }
   ],
   "source": [
    "def calc_formula(s):\n",
    "    a=[]\n",
    "    x = s.split(\",\")\n",
    "    for i in x:\n",
    "        a.append(int(((2 * 50 * int(i))/30)**(1/2)))\n",
    "    b=str(a)\n",
    "    print(b)\n",
    "    print(type(b))\n",
    "    b=b.replace(\"[\",\"\")\n",
    "    b=b.replace(\"]\",\"\")\n",
    "    # print(\",\".join(b))\n",
    "    print(b,sep=\",\")\n",
    "\n",
    "s = input(\"Enter numbers\")\n",
    "calc_formula(s)\n",
    "\n",
    "\n",
    "# print(\",\".join(p))"
   ]
  },
  {
   "cell_type": "code",
   "execution_count": 26,
   "metadata": {},
   "outputs": [
    {
     "name": "stdout",
     "output_type": "stream",
     "text": [
      "[[0, 0, 0, 0, 0], [0, 1, 2, 3, 4], [0, 2, 4, 6, 8]]\n"
     ]
    }
   ],
   "source": [
    "\"\"\" \n",
    "Question 2: \n",
    "Write a program which takes 2 digits, X,Y as input and generates a 2-dimensional array. The \n",
    "element value in the i-th row and j-th column of the array should be i*j. \n",
    "Note: i=0,1.., X-1; j=0,1,¡Y-1. \n",
    "Example \n",
    "Suppose the following inputs are given to the program: \n",
    "3,5 \n",
    "Then, the output of the program should be: \n",
    "[[0, 0, 0, 0, 0], [0, 1, 2, 3, 4], [0, 2, 4, 6, 8]]   \n",
    "\n",
    "Explanation:\n",
    "\n",
    "For this question, you are required to generate a 2D array based on two integers, X and Y. \n",
    "The number of rows in the array is determined by X, and the number of columns is determined by Y. \n",
    "The value of each element at position (i, j) in the array is calculated as the product of the row index i and the column index j.\n",
    "\n",
    "Key points:\n",
    "\n",
    "The rows range from 0 to X-1.\n",
    "The columns range from 0 to Y-1.\n",
    "Each element in the 2D array is computed as i * j.\n",
    "Given input:\n",
    "\n",
    "X = 3\n",
    "Y = 5\n",
    "The program should generate an array where:\n",
    "\n",
    "Row 0 has all elements as 0 (because 0 multiplied by anything is 0).\n",
    "Row 1 has elements that increase by multiples of 1 (0, 1, 2, 3, 4).\n",
    "Row 2 has elements that increase by multiples of 2 (0, 2, 4, 6, 8).\n",
    "Another test case:\n",
    "\n",
    "Input: 2, 4\n",
    "Output: [[0, 0, 0, 0], [0, 1, 2, 3]]\n",
    "\"\"\" \n",
    "def matrix_Create(x,y):\n",
    "    mat = []\n",
    "    for i in range(0,x):\n",
    "        row=[]\n",
    "        for j in range(0,y):\n",
    "            row.append(i*j)\n",
    "        mat.append(row)\n",
    "    print(mat)\n",
    "\n",
    "\n",
    "x = int(input(\"Enter the row size of the Matrix :\"))\n",
    "y = int(input(\"Ente the Column size of the Matrix :\"))\n",
    "matrix_Create(x,y)"
   ]
  },
  {
   "cell_type": "code",
   "execution_count": 43,
   "metadata": {},
   "outputs": [
    {
     "name": "stdout",
     "output_type": "stream",
     "text": [
      "bag,hello,without,world\n"
     ]
    }
   ],
   "source": [
    "\"\"\"\n",
    "Question 3: \n",
    "Write a program that accepts a comma separated sequence of words as input and prints the \n",
    "words in a comma-separated sequence after sorting them alphabetically. \n",
    "Suppose the following input is supplied to the program: \n",
    "without,hello,bag,world \n",
    "Then, the output should be: \n",
    "bag,hello,without,world \n",
    "\"\"\"\n",
    "def sort_words_of_String(s):\n",
    "    x=s.split(\",\")\n",
    "    x.sort()\n",
    "    print(\",\".join(x))\n",
    "\n",
    "s = input(\"enter a comma sepated string \")\n",
    "sort_words_of_String(s)"
   ]
  },
  {
   "cell_type": "code",
   "execution_count": 40,
   "metadata": {},
   "outputs": [
    {
     "name": "stdout",
     "output_type": "stream",
     "text": [
      "<class 'str'>\n",
      "<class 'list'>\n",
      "['100,700,8']\n"
     ]
    }
   ],
   "source": [
    "s = input(\"Strings\")\n",
    "print(type(s))\n",
    "x = s.split()\n",
    "x.sort()\n",
    "print(type(x))\n",
    "print(x)"
   ]
  },
  {
   "cell_type": "code",
   "execution_count": 36,
   "metadata": {},
   "outputs": [
    {
     "name": "stdout",
     "output_type": "stream",
     "text": [
      "[70, 80, 100]\n"
     ]
    }
   ],
   "source": [
    "l = [100,80,70]\n",
    "l.sort()\n",
    "print(l)"
   ]
  },
  {
   "cell_type": "code",
   "execution_count": 46,
   "metadata": {},
   "outputs": [
    {
     "name": "stdout",
     "output_type": "stream",
     "text": [
      ",aaahiilmnnosst IS THE STORTED STRING\n"
     ]
    }
   ],
   "source": [
    "string=input(\"ENTER THE STRING:\") \n",
    " \n",
    "liststring=list(string) \n",
    "new_string=\"\"\n",
    "n=len(liststring) \n",
    " \n",
    "for i in range(n-1): \n",
    "    for j in range(n-i-1): \n",
    "        if liststring[j]>liststring[j+1]: \n",
    "          liststring[j],liststring[j+1]=liststring[j+1],liststring[j] \n",
    "       \n",
    "for m in liststring: \n",
    "\tnew_string+=m \n",
    " \n",
    "print(new_string,\"IS THE STORTED STRING\")"
   ]
  },
  {
   "cell_type": "code",
   "execution_count": 47,
   "metadata": {},
   "outputs": [
    {
     "name": "stdout",
     "output_type": "stream",
     "text": [
      "again and hello makes perfect practice world\n"
     ]
    }
   ],
   "source": [
    "\"\"\"    \n",
    "Question 4: \n",
    "Write a program that accepts a sequence of whitespace separated words as input and prints \n",
    "the words after removing all duplicate words and sorting them alphanumerically. \n",
    "Suppose the following input is supplied to the program: \n",
    "hello world and practice makes perfect and hello world again \n",
    "Then, the output should be: \n",
    "again and hello makes perfect practice world \n",
    "\"\"\"    \n",
    "s=input()\n",
    "\n",
    "def myfun(s):\n",
    "    l=s.split(\" \")\n",
    "    l=set(l)\n",
    "    l=list(l)\n",
    "    l.sort()\n",
    "    print(\" \".join(l))\n",
    "\n",
    "\n",
    "myfun(s)"
   ]
  },
  {
   "cell_type": "code",
   "execution_count": 70,
   "metadata": {},
   "outputs": [
    {
     "name": "stdout",
     "output_type": "stream",
     "text": [
      "LETTERS : 24\n",
      "DIGIT : 5\n"
     ]
    }
   ],
   "source": [
    "\"\"\"      \n",
    "Question 5: \n",
    "Write a program that accepts a sentence and calculate the number of letters and digits. \n",
    "Suppose the following input is supplied to the program: \n",
    "hello world! 123 \n",
    "Then, the output should be: \n",
    "LETTERS 10 \n",
    "DIGITS 3\n",
    "\"\"\"        \n",
    "def calc_letter_dig(s):\n",
    "    l = list(s)\n",
    "    n = len(l)\n",
    "    c_letter=0\n",
    "    c_digit=0\n",
    "    for i in range(n):\n",
    "        if (l[i]>='a' and l[i]<='z') or (l[i]>='A' and l[i]<='Z'):\n",
    "            c_letter = c_letter + 1\n",
    "    for i in range(n):\n",
    "        if (l[i]>='0' and l[i]<='9'):\n",
    "            c_digit = c_digit + 1\n",
    "    print(\"LETTERS :\",c_letter)\n",
    "    print(\"DIGIT :\",c_digit)\n",
    "\n",
    "\n",
    "    \n",
    "s = input(\"Enter a string :\")\n",
    "calc_letter_dig(s)"
   ]
  },
  {
   "cell_type": "code",
   "execution_count": 68,
   "metadata": {},
   "outputs": [
    {
     "name": "stdout",
     "output_type": "stream",
     "text": [
      "LETTERS : 0\n",
      "DIGIT : 0\n"
     ]
    }
   ],
   "source": [
    "def calc_letter_dig(s):\n",
    "    l = list(s)\n",
    "    n = len(l)\n",
    "    c_letter=0\n",
    "    c_digit=0\n",
    "    for i in range(n):\n",
    "        if (l[i]>'a' and l[i]<'z') or (l[i]>'A' and l[i]<'Z'):\n",
    "            c_letter = c_letter + 1\n",
    "    for i in range(n):\n",
    "        if (l[i]>'1' and l[i]<'9'):\n",
    "            c_digit = c_digit + 1\n",
    "    print(\"LETTERS :\",c_letter)\n",
    "    print(\"DIGIT :\",c_digit)\n",
    "\n",
    "\n",
    "    \n",
    "s = input(\"Enter a string :\")\n",
    "calc_letter_dig(s)"
   ]
  },
  {
   "cell_type": "code",
   "execution_count": 71,
   "metadata": {},
   "outputs": [
    {
     "ename": "SyntaxError",
     "evalue": "incomplete input (1859635458.py, line 1)",
     "output_type": "error",
     "traceback": [
      "\u001b[1;36m  Cell \u001b[1;32mIn[71], line 1\u001b[1;36m\u001b[0m\n\u001b[1;33m    \"\"\"\u001b[0m\n\u001b[1;37m    ^\u001b[0m\n\u001b[1;31mSyntaxError\u001b[0m\u001b[1;31m:\u001b[0m incomplete input\n"
     ]
    }
   ],
   "source": [
    "\"\"\"\n",
    "Question 6: \n",
    "A website requires the users to input username and password to register. Write a program to \n",
    "check the validity of password input by users. \n",
    "Following are the criteria for checking the password: \n",
    "1. At least 1 letter between [a-z] \n",
    "2. At least 1 number between [0-9] \n",
    "1. At least 1 letter between [A-Z] \n",
    "3. At least 1 character from [$#@] \n",
    "4. Minimum length of transaction password: 6 \n",
    "5. Maximum length of transaction password: 12 \n",
    "Your program should accept a sequence of comma separated passwords and will check them \n",
    "according to the above criteria. Passwords that match the criteria are to be printed, each \n",
    "separated by a comma. \n",
    "Example \n",
    "If the following passwords are given as input to the program: \n",
    "ABd1234@1,a F1#,2w3E*,2We3345 \n",
    "Then, the output of the program should be: \n",
    "ABd1234@1\n",
    "\"\"\""
   ]
  },
  {
   "cell_type": "code",
   "execution_count": null,
   "metadata": {},
   "outputs": [],
   "source": [
    "\"\""
   ]
  }
 ],
 "metadata": {
  "kernelspec": {
   "display_name": "myenv",
   "language": "python",
   "name": "python3"
  },
  "language_info": {
   "codemirror_mode": {
    "name": "ipython",
    "version": 3
   },
   "file_extension": ".py",
   "mimetype": "text/x-python",
   "name": "python",
   "nbconvert_exporter": "python",
   "pygments_lexer": "ipython3",
   "version": "3.11.10"
  }
 },
 "nbformat": 4,
 "nbformat_minor": 2
}
