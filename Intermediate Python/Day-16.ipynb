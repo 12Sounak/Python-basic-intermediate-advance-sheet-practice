{
 "cells": [
  {
   "cell_type": "code",
   "execution_count": null,
   "metadata": {},
   "outputs": [],
   "source": [
    "\"\"\"\n",
    "Question 24. \n",
    "Create a function that returns True if a given inequality expression is correct and \n",
    "False otherwise. \n",
    "Examples: \n",
    "correct_signs(\"3 < 7 < 11\") ➞ True \n",
    "correct_signs(\"13 > 44 > 33 > 1\") ➞ False \n",
    "correct_signs(\"1 < 2 < 6 < 9 > 3\") ➞ True \n",
    " \n",
    "Question 25.  \n",
    "Create a function that replaces all the vowels in a string with a specified character. \n",
    "Examples \n",
    "replace_vowels(\"the aardvark\", \"#\") ➞ \"th# ##rdv#rk\" \n",
    "replace_vowels(\"minnie mouse\", \"?\") ➞ \"m?nn?? m??s?\" \n",
    "replace_vowels(\"shakespeare\", \"\") ➞ \"shksp**r\" \n",
    " \n",
    "Question 26.\n",
    "Write a function that calculates the factorial of a number recursively. \n",
    "Examples \n",
    "factorial(5) ➞ 120 \n",
    "factorial(3) ➞ 6 \n",
    "factorial(1) ➞ 1 \n",
    "factorial(0) ➞ 1 \n",
    " \n",
    "Question 27. \n",
    "Hamming distance is the number of characters that differ between two strings. \n",
    "To illustrate: \n",
    "String1: \"abcbba\" \n",
    "String2: \"abcbda\" \n",
    "Hamming Distance: 1 - \"b\" vs. \"d\" is the only difference. \n",
    " \n",
    "Create a function that computes the hamming distance between two strings. \n",
    "Examples: \n",
    "hamming_distance(\"abcde\", \"bcdef\") ➞ 5 \n",
    "hamming_distance(\"abcde\", \"abcde\") ➞ 0 \n",
    "hamming_distance(\"strong\", \"strung\") ➞ 1   \n",
    "\n",
    "\n",
    "\n",
    "Question 28. \n",
    "Create a function that takes a list of non-negative integers and strings and return a new list \n",
    "without the strings. \n",
    "Examples \n",
    "filter_list([1, 2, \"a\", \"b\"]) ➞ [1, 2] \n",
    "filter_list([1, \"a\", \"b\", 0, 15]) ➞ [1, 0, 15] \n",
    "filter_list([1, 2, \"aasf\", \"1\", \"123\", 123]) ➞ [1, 2, 123] \n",
    " \n",
    "Question 29. \n",
    "The \"Reverser\" takes a string as input and returns that string in reverse order, with the opposite case. \n",
    "Examples: \n",
    "reverse(\"Hello World\") ➞ \"DLROw OLLEh\" \n",
    "reverse(\"ReVeRsE\") ➞ \"eSrEvEr\" \n",
    "reverse(\"Radar\") ➞ \"RADAr\" \n",
    " \n",
    "Question 30. \n",
    "You can assign variables from lists like this: \n",
    "lst = [1, 2, 3, 4, 5, 6] \n",
    "first = lst[0] \n",
    "middle = lst[1:-1] \n",
    "last = lst[-1] \n",
    "print(first) ➞ outputs 1 \n",
    "print(middle) ➞ outputs [2, 3, 4, 5] \n",
    "print(last) ➞ outputs 6 \n",
    "With Python 3, you can assign variables from lists in a much more succinct way. Create \n",
    "variables first, middle and last from the given list using destructuring assignment \n",
    "(check the Resources tab for some examples), where: \n",
    "first ➞ 1 \n",
    "middle ➞ [2, 3, 4, 5] \n",
    "last ➞ 6 \n",
    " \n",
    "Your task is to unpack the list writeyourcodehere into three variables, being first, \n",
    "middle, and last, with middle being everything in between the first and last element. Then \n",
    "print all three variables.\n",
    "\n",
    "\n",
    "Question 31. \n",
    "Write a function that calculates the factorial of a number recursively. \n",
    "Examples \n",
    "factorial(5) ➞ 120 \n",
    "factorial(3) ➞ 6 \n",
    "factorial(1) ➞ 1 \n",
    "factorial(0) ➞ 1 \n",
    " \n",
    "Question 32. \n",
    "Write a function that moves all elements of one type to the end of the list. \n",
    "Examples: \n",
    "move_to_end([1, 3, 2, 4, 4, 1], 1) ➞ [3, 2, 4, 4, 1, 1] \n",
    " \n",
    "Move all the 1s to the end of the array. \n",
    "move_to_end([7, 8, 9, 1, 2, 3, 4], 9) ➞ [7, 8, 1, 2, 3, 4, 9] \n",
    "move_to_end([\"a\", \"a\", \"a\", \"b\"], \"a\") ➞ [\"b\", \"a\", \"a\", \"a\"] \n",
    " \n",
    "Question 33. \n",
    "Create a function that takes a string and returns a string in which each character is repeated once. \n",
    "Examples: \n",
    "double_char(\"String\") ➞ \"SSttrriinngg\" \n",
    "double_char(\"Hello World!\") ➞ \"HHeelllloo WWoorrlldd!!\" \n",
    "double_char(\"1234!_ \") ➞ \"11223344!!__ \" \n",
    " \n",
    "Question 34. \n",
    "Create a function that reverses a boolean value and returns the string \"boolean expected\" if another \n",
    "variable type is given. \n",
    "Examples: \n",
    "reverse(True) ➞ False \n",
    "reverse(False) ➞ True \n",
    "reverse(0) ➞ \"boolean expected\" \n",
    "reverse(None) ➞ \"boolean expected\" \n",
    "\"\"\""
   ]
  },
  {
   "cell_type": "code",
   "execution_count": 17,
   "metadata": {},
   "outputs": [
    {
     "name": "stdout",
     "output_type": "stream",
     "text": [
      "True\n"
     ]
    }
   ],
   "source": [
    "\"\"\"\n",
    "Question 24. \n",
    "Create a function that returns True if a given inequality expression is correct and \n",
    "False otherwise. \n",
    "Examples: \n",
    "correct_signs(\"3 < 7 < 11\") ➞ True \n",
    "correct_signs(\"13 > 44 > 33 > 1\") ➞ False \n",
    "correct_signs(\"1 < 2 < 6 < 9 > 3\") ➞ True     \n",
    "\"\"\"\n",
    "\n",
    "def correct_signs(l):\n",
    "    a = eval(l)\n",
    "    print(a)\n",
    "\n",
    "l = input(\"Enter the Expression :\")\n",
    "correct_signs(l)"
   ]
  },
  {
   "cell_type": "code",
   "execution_count": 4,
   "metadata": {},
   "outputs": [
    {
     "name": "stdout",
     "output_type": "stream",
     "text": [
      "<class 'bool'>\n"
     ]
    }
   ],
   "source": [
    "a = 3<7<11\n",
    "print(type(a))"
   ]
  },
  {
   "cell_type": "code",
   "execution_count": 12,
   "metadata": {},
   "outputs": [
    {
     "name": "stdout",
     "output_type": "stream",
     "text": [
      "<class 'str'>\n",
      "<class 'bool'>\n",
      "True\n"
     ]
    }
   ],
   "source": [
    "a = \"3<7<11\"\n",
    "print(type(a))\n",
    "b = eval(a)\n",
    "print(type(b))\n",
    "print(b)"
   ]
  },
  {
   "cell_type": "code",
   "execution_count": 38,
   "metadata": {},
   "outputs": [
    {
     "name": "stdout",
     "output_type": "stream",
     "text": [
      "['a', 'e', 'i', 'o', 'u', 'A', 'E', 'I', 'O', 'U']\n",
      "['a', 'e', 'i', 'o', 'u', 'A', 'E', 'I', 'O', 'U']\n",
      "['a', 'e', 'i', 'o', 'u', 'A', 'E', 'I', 'O', 'U']\n",
      "['a', 'e', 'i', 'o', 'u', 'A', 'E', 'I', 'O', 'U']\n",
      "the ##rdv#rk\n"
     ]
    }
   ],
   "source": [
    "\"\"\" \n",
    "25.\n",
    "Create a function that replaces all the vowels in a string with a specified character. \n",
    "Examples \n",
    "replace_vowels(\"the aardvark\", \"#\") ➞ \"th# ##rdv#rk\" \n",
    "replace_vowels(\"minnie mouse\", \"?\") ➞ \"m?nn?? m??s?\" \n",
    "replace_vowels(\"shakespeare\", \"\") ➞ \"shksp**r\"  \n",
    "\"\"\" \n",
    "def replace_vowels(s,k):\n",
    "    n = len(s)\n",
    "    l = [\"a\",\"e\",\"i\",\"o\",\"u\",\"A\",\"E\",\"I\",\"O\",\"U\"]\n",
    "    for i in range(0,n):\n",
    "        if s[i] in l:\n",
    "            new_s = s.replace(s[i],k)\n",
    "    print(new_s)   \n",
    "\n",
    "s = input(\"Enter the String :\")\n",
    "k = input(\"replace vowel with :\")\n",
    "replace_vowels(s,k)"
   ]
  },
  {
   "cell_type": "code",
   "execution_count": null,
   "metadata": {},
   "outputs": [],
   "source": [
    "def replace_vowels(s, k):\n",
    "    vowels = \"aeiouAEIOU\"\n",
    "    new_s = \"\"  # Initialize an empty string to store the modified version\n",
    "\n",
    "    for char in s:\n",
    "        if char in vowels:\n",
    "            new_s += k  # Replace vowel with k\n",
    "        else:\n",
    "            new_s += char  # Keep non-vowel characters unchanged\n",
    "\n",
    "    print(new_s)\n",
    "\n",
    "# Example usage:\n",
    "replace_vowels(\"hello world\", \"*\")"
   ]
  },
  {
   "cell_type": "code",
   "execution_count": 28,
   "metadata": {},
   "outputs": [
    {
     "name": "stdout",
     "output_type": "stream",
     "text": [
      "#esoun#k\n",
      "aesounak\n"
     ]
    }
   ],
   "source": [
    "s = \"aesounak\"\n",
    "a = s.replace(s[0],\"#\")\n",
    "print(a)\n",
    "print(s)"
   ]
  },
  {
   "cell_type": "code",
   "execution_count": null,
   "metadata": {},
   "outputs": [],
   "source": [
    "def replace_vowels(s,k):\n",
    "    print(s)\n",
    "    n = len(s)\n",
    "    print(k)\n",
    "    l = [\"a\",\"e\",\"i\",\"o\",\"u\",\"A\",\"E\",\"I\",\"O\",\"U\"]\n",
    "    for i in range(0,n):\n",
    "        if s[i] in l:\n",
    "            print(\"yes\")\n",
    "            new_s = s.replace(s[i],k)\n",
    "    print(new_s)   \n",
    "\n",
    "s = input(\"Enter the String :\")\n",
    "k = input(\"replace vowel with :\")\n",
    "replace_vowels(s,k)"
   ]
  },
  {
   "cell_type": "code",
   "execution_count": 39,
   "metadata": {},
   "outputs": [
    {
     "name": "stdout",
     "output_type": "stream",
     "text": [
      "1\n"
     ]
    }
   ],
   "source": [
    "\"\"\"  \n",
    "Question 26.\n",
    "Write a function that calculates the factorial of a number recursively. \n",
    "Examples \n",
    "factorial(5) ➞ 120 \n",
    "factorial(3) ➞ 6 \n",
    "factorial(1) ➞ 1 \n",
    "factorial(0) ➞ 1   \n",
    "\"\"\"  \n",
    "def factorial(n):\n",
    "    if n<0:\n",
    "        return -1\n",
    "    elif n==0:\n",
    "        return 1\n",
    "    else:\n",
    "        return (n*factorial(n-1))\n",
    "n = int(input(\"Enter a number :\"))\n",
    "res = factorial(n)\n",
    "print(res)"
   ]
  },
  {
   "cell_type": "code",
   "execution_count": 43,
   "metadata": {},
   "outputs": [
    {
     "name": "stdout",
     "output_type": "stream",
     "text": [
      "Same String\n"
     ]
    }
   ],
   "source": [
    "\"\"\" \n",
    "Question 27. \n",
    "Hamming distance is the number of characters that differ between two strings. \n",
    "To illustrate: \n",
    "String1: \"abcbba\" \n",
    "String2: \"abcbda\" \n",
    "Hamming Distance: 1 - \"b\" vs. \"d\" is the only difference.    \n",
    "\"\"\"\n",
    "def Hamming_distance(s1,s2):\n",
    "    n = len(s1)\n",
    "    c = 0\n",
    "    for i in range(0,n):\n",
    "        if s1[i]!=s2[i]:\n",
    "            c +=1\n",
    "    if c == 0:\n",
    "        print(\"Same String\")\n",
    "    else:\n",
    "        print(c)\n",
    "\n",
    "s1 = input(\"Enter the 1st String :\")\n",
    "s2 = input(\"Enter the 2nd String :\")\n",
    "Hamming_distance(s1,s2)"
   ]
  },
  {
   "cell_type": "code",
   "execution_count": null,
   "metadata": {},
   "outputs": [],
   "source": [
    "\"\"\"  \n",
    "Question 28. \n",
    "Create a function that takes a list of non-negative integers and strings and return a new list \n",
    "without the strings. \n",
    "Examples \n",
    "filter_list([1, 2, \"a\", \"b\"]) ➞ [1, 2] \n",
    "filter_list([1, \"a\", \"b\", 0, 15]) ➞ [1, 0, 15] \n",
    "filter_list([1, 2, \"aasf\", \"1\", \"123\", 123]) ➞ [1, 2, 123]   \n",
    "\"\"\"  \n",
    "# l=[1,2,3,4,\"sounak\",\"gadha\"]\n",
    "l=eval(input())\n",
    "l1=list()\n",
    "for i in l:\n",
    "    if (str(i).isnumeric()):\n",
    "        l1.append(i)\n",
    "print(l1)"
   ]
  },
  {
   "cell_type": "code",
   "execution_count": 49,
   "metadata": {},
   "outputs": [
    {
     "name": "stdout",
     "output_type": "stream",
     "text": [
      "DLROw OLLEh\n"
     ]
    }
   ],
   "source": [
    "\"\"\"    \n",
    "Question 29. \n",
    "The \"Reverser\" takes a string as input and returns that string in reverse order, with the opposite case. \n",
    "Examples: \n",
    "reverse(\"Hello World\") ➞ \"DLROw OLLEh\" \n",
    "reverse(\"ReVeRsE\") ➞ \"eSrEvEr\" \n",
    "reverse(\"Radar\") ➞ \"RADAr\"\n",
    "\"\"\"    \n",
    "def reverse(s):\n",
    "    s_new = s.swapcase()\n",
    "    print(s_new[::-1])\n",
    "\n",
    "s = input(\"Enter the String :\")\n",
    "reverse(s)"
   ]
  },
  {
   "cell_type": "code",
   "execution_count": 44,
   "metadata": {},
   "outputs": [
    {
     "name": "stdout",
     "output_type": "stream",
     "text": [
      "kanuos\n"
     ]
    }
   ],
   "source": [
    "s = \"sounak\"\n",
    "print(s[::-1])"
   ]
  },
  {
   "cell_type": "code",
   "execution_count": null,
   "metadata": {},
   "outputs": [],
   "source": [
    "\"\"\"   \n",
    "Question 30. \n",
    "You can assign variables from lists like this: \n",
    "lst = [1, 2, 3, 4, 5, 6] \n",
    "first = lst[0] \n",
    "middle = lst[1:-1] \n",
    "last = lst[-1] \n",
    "print(first) ➞ outputs 1 \n",
    "print(middle) ➞ outputs [2, 3, 4, 5] \n",
    "print(last) ➞ outputs 6 \n",
    "With Python 3, you can assign variables from lists in a much more succinct way. Create \n",
    "variables first, middle and last from the given list using destructuring assignment \n",
    "(check the Resources tab for some examples), where: \n",
    "first ➞ 1 \n",
    "middle ➞ [2, 3, 4, 5] \n",
    "last ➞ 6 \n",
    " \n",
    "Your task is to unpack the list writeyourcodehere into three variables, being first, \n",
    "middle, and last, with middle being everything in between the first and last element. Then \n",
    "print all three variables.\n",
    "\"\"\"     \n",
    "def list_check(l):\n",
    "    print(\"first ->\",l[0])\n",
    "    # print(l[])\n",
    "\n",
    "\n",
    "\n",
    "l = eval(input(\"Enter a list :\"))\n",
    "list_check(l)"
   ]
  },
  {
   "cell_type": "code",
   "execution_count": null,
   "metadata": {},
   "outputs": [],
   "source": [
    "def myfun(l):\n",
    "    print(\"first\",l[0])\n",
    "    print(\"first\",l[1:-1])\n",
    "    print(\"last\",l[-1])"
   ]
  },
  {
   "cell_type": "code",
   "execution_count": null,
   "metadata": {},
   "outputs": [],
   "source": [
    "\"\"\"\" \n",
    "Question 31. \n",
    "Write a function that calculates the factorial of a number recursively. \n",
    "Examples \n",
    "factorial(5) ➞ 120 \n",
    "factorial(3) ➞ 6 \n",
    "factorial(1) ➞ 1 \n",
    "factorial(0) ➞ 1 \n",
    " \n",
    "Question 32. \n",
    "Write a function that moves all elements of one type to the end of the list. \n",
    "Examples: \n",
    "move_to_end([1, 3, 2, 4, 4, 1], 1) ➞ [3, 2, 4, 4, 1, 1] \n",
    "\n",
    "Move all the 1s to the end of the array. \n",
    "move_to_end([7, 8, 9, 1, 2, 3, 4], 9) ➞ [7, 8, 1, 2, 3, 4, 9]\n",
    "move_to_end([\"a\", \"a\", \"a\", \"b\"], \"a\") ➞ [\"b\", \"a\", \"a\", \"a\"] \n",
    "\"\"\""
   ]
  }
 ],
 "metadata": {
  "kernelspec": {
   "display_name": "myenv",
   "language": "python",
   "name": "python3"
  },
  "language_info": {
   "codemirror_mode": {
    "name": "ipython",
    "version": 3
   },
   "file_extension": ".py",
   "mimetype": "text/x-python",
   "name": "python",
   "nbconvert_exporter": "python",
   "pygments_lexer": "ipython3",
   "version": "3.11.10"
  }
 },
 "nbformat": 4,
 "nbformat_minor": 2
}
