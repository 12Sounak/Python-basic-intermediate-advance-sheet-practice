{
 "cells": [
  {
   "cell_type": "code",
   "execution_count": null,
   "metadata": {},
   "outputs": [],
   "source": [
    "\"\"\"\n",
    "Question :12 \n",
    "Please write a binary search function which searches an item in a sorted list. The \n",
    "function should return the index of element to be searched in the list.\n",
    "\n",
    "\n",
    "Question 13: \n",
    "Please write a program using generator to print the numbers which can be divisible by 5 and \n",
    "7 between 0 and n in comma separated form while n is input by console. \n",
    "Example: \n",
    "If the following n is given as input to the program: \n",
    "100 \n",
    "Then, the output of the program should be: \n",
    "0,35,70 \n",
    " \n",
    "\n",
    "Question 14: \n",
    "Please write a program using generator to print the even numbers between 0 and n in comma \n",
    "separated form while n is input by console. \n",
    "Example: \n",
    "If the following n is given as input to the program: \n",
    "10 \n",
    "Then, the output of the program should be: \n",
    "0,2,4,6,8,10 \n",
    " \n",
    "\n",
    "Question 15: \n",
    "The Fibonacci Sequence is computed based on the following formula: \n",
    "f(n) = 0 if n = 0 \n",
    "f(n) = 1 if n = 1 \n",
    "f(n) = f(n-1) + f(n-2) if n > 1 \n",
    "Please write a program using list comprehension to print the Fibonacci Sequence in comma \n",
    "separated form with a given n input by console. \n",
    "Example: \n",
    "If the following n is given as input to the program: \n",
    "7 \n",
    "Then, the output of the program should be: \n",
    "0,1,1,2,3,5,8,13    \n",
    "\n",
    "\n",
    "Question 16: \n",
    "Assuming that we have some email addresses in the \"username@companyname.com\" format, \n",
    "please write a program to print the user name of a given email address. Both user names and \n",
    "company names are composed of letters only. \n",
    "Example: \n",
    "If the following email address is given as input to the program: \n",
    "john@google.com \n",
    "Then, the output of the program should be: \n",
    "john \n",
    "\n",
    "\n",
    "\n",
    "\n",
    "Question 17: \n",
    "Define a class named Shape and its subclass Square. The Square class has an init function \n",
    "which takes a length as argument. Both classes have a area function which can print the area \n",
    "of the shape where Shape's area is 0 by default. \n",
    "\n",
    "\n",
    "\n",
    "Question 18.  \n",
    "Write a function that stutters a word as if someone is struggling to read it. The \n",
    "first two letters are repeated twice with an ellipsis ... and space after each, and then the \n",
    "word is pronounced with a question mark ?. \n",
    "Examples: \n",
    "stutter(\"incredible\") ➞ \"in... in... incredible?\" \n",
    "stutter(\"enthusiastic\") ➞ \"en... en... enthusiastic?\" \n",
    "stutter(\"outstanding\") ➞ \"ou... ou... outstanding?\"Hint :- Assume all input is in lower case and at \n",
    "least two characters long. \n",
    "\"\"\""
   ]
  },
  {
   "cell_type": "code",
   "execution_count": 3,
   "metadata": {},
   "outputs": [
    {
     "name": "stdout",
     "output_type": "stream",
     "text": [
      "The element is at index  1\n"
     ]
    }
   ],
   "source": [
    "\"\"\"\n",
    "Question :12 \n",
    "Please write a binary search function which searches an item in a sorted list. The \n",
    "function should return the index of element to be searched in the list.\n",
    "\"\"\"\n",
    "def binary_search(l,key):\n",
    "    low=0\n",
    "    high = len(l) - 1\n",
    "    for i in range(low,high):\n",
    "        mid = (low+high)//2\n",
    "        if l[mid]<key:\n",
    "            low = mid+1\n",
    "        elif l[mid]>key:\n",
    "            high=mid-1\n",
    "        else:\n",
    "            return mid\n",
    "    return -1\n",
    "\n",
    "\n",
    "l = eval(input(\"Enter the list of elements :\"))\n",
    "k = int(input(\"Enter the key u want ot find from the entered list :\"))\n",
    "res = binary_search(l,k)\n",
    "if(res!=-1):\n",
    "    print(\"The element is at index \",res)\n",
    "else:\n",
    "    print(\"element not found\")"
   ]
  },
  {
   "cell_type": "code",
   "execution_count": 17,
   "metadata": {},
   "outputs": [
    {
     "name": "stdout",
     "output_type": "stream",
     "text": [
      "0,1,1,2,3,5,8,13,"
     ]
    }
   ],
   "source": [
    "\"\"\"  \n",
    "Question 15: \n",
    "The Fibonacci Sequence is computed based on the following formula: \n",
    "f(n) = 0 if n = 0 \n",
    "f(n) = 1 if n = 1 \n",
    "f(n) = f(n-1) + f(n-2) if n > 1 \n",
    "Please write a program using list comprehension to print the Fibonacci Sequence in comma \n",
    "separated form with a given n input by console. \n",
    "Example: \n",
    "If the following n is given as input to the program: \n",
    "7 \n",
    "Then, the output of the program should be: \n",
    "0,1,1,2,3,5,8,13    \n",
    "\"\"\"  \n",
    "def fibonacci(n):\n",
    "    first = 0\n",
    "    second = 1\n",
    "    print(first,end=\",\")\n",
    "    print(second,end=\",\")\n",
    "    for i in range(0,n-1):\n",
    "        third = first+second\n",
    "        first = second\n",
    "        second = third\n",
    "        # print(third,end=\",\")\n",
    "\n",
    "\n",
    "n = int(input(\"Enter no of elements for factorial :\"))\n",
    "fibonacci(n)"
   ]
  },
  {
   "cell_type": "code",
   "execution_count": 23,
   "metadata": {},
   "outputs": [
    {
     "name": "stdout",
     "output_type": "stream",
     "text": [
      "fibonacci series \n",
      "-1,1,0,1,1,2,"
     ]
    }
   ],
   "source": [
    "# recursion method \n",
    "def recur_fibonacci(n):\n",
    "    # if n<=0:\n",
    "    #     return -1\n",
    "    elif n<=1:\n",
    "        return n\n",
    "    else:\n",
    "        return (recur_fibonacci(n-1) + recur_fibonacci(n-2))\n",
    "\n",
    "n = int(input(\"Enter the size :\"))\n",
    "print(\"fibonacci series \")\n",
    "for i in range(n+1):\n",
    "    print(recur_fibonacci(i),end=\",\")"
   ]
  },
  {
   "cell_type": "code",
   "execution_count": 29,
   "metadata": {},
   "outputs": [
    {
     "name": "stdout",
     "output_type": "stream",
     "text": [
      "fibonacci series \n",
      "<class 'str'>\n",
      "[0, 1, 1, 2, 3, 5, 8, 13]\n"
     ]
    }
   ],
   "source": [
    "# recursion method \n",
    "def recur_fibonacci(n):\n",
    "    if n<=1:\n",
    "        return n\n",
    "    else:\n",
    "        return (recur_fibonacci(n-1) + recur_fibonacci(n-2))\n",
    "\n",
    "n = int(input(\"Enter the size :\"))\n",
    "if n<=0:\n",
    "    print(\"Wrong input\")\n",
    "else:\n",
    "    l=[] \n",
    "    print(\"fibonacci series \")\n",
    "    for i in range(n+1):\n",
    "        # print(recur_fibonacci(i),end=\",\")\n",
    "        l.append(recur_fibonacci(i))\n",
    "    # print(l)\n",
    "    l1 = str(l)\n",
    "    print(type(l1))\n",
    "    print(l1)"
   ]
  },
  {
   "cell_type": "code",
   "execution_count": 34,
   "metadata": {},
   "outputs": [
    {
     "name": "stdout",
     "output_type": "stream",
     "text": [
      "fibonacci series \n",
      "0,1,1,2,3,5,8,13\n"
     ]
    }
   ],
   "source": [
    "# recursion method \n",
    "def recur_fibonacci(n):\n",
    "    if n<=1:\n",
    "        return n\n",
    "    else:\n",
    "        return (recur_fibonacci(n-1) + recur_fibonacci(n-2))\n",
    "\n",
    "n = int(input(\"Enter the size :\"))\n",
    "if n<=0:\n",
    "    print(\"Wrong input\")\n",
    "else:\n",
    "    l=[] \n",
    "    print(\"fibonacci series \")\n",
    "    for i in range(n+1):\n",
    "        # print(recur_fibonacci(i),end=\",\")\n",
    "        l.append(str(recur_fibonacci(i)))\n",
    "    # print(l)\n",
    "    print(\",\".join(l))\n",
    "    # l1 = str(l)\n",
    "    # print(type(l1))\n",
    "    # print(l1[1:-1])"
   ]
  },
  {
   "cell_type": "code",
   "execution_count": null,
   "metadata": {},
   "outputs": [],
   "source": [
    "def fibonacci(n):\n",
    "    first = 0\n",
    "    second = 1\n",
    "    print(first)\n",
    "    print(second)\n",
    "    for i in range(0,n-1):\n",
    "        third = first+second\n",
    "        first = second\n",
    "        second = third\n",
    "        print(third)\n",
    "\n",
    "\n",
    "n = int(input(\"Enter no of elements for factorial :\"))\n",
    "fibonacci(n)"
   ]
  },
  {
   "cell_type": "code",
   "execution_count": 45,
   "metadata": {},
   "outputs": [
    {
     "name": "stdout",
     "output_type": "stream",
     "text": [
      "Name : sounak\n",
      "Company name : gmail\n"
     ]
    }
   ],
   "source": [
    "\"\"\"\n",
    "Question 16: \n",
    "Assuming that we have some email addresses in the \"username@companyname.com\" format, \n",
    "please write a program to print the user name of a given email address. Both user names and \n",
    "company names are composed of letters only. \n",
    "Example: \n",
    "If the following email address is given as input to the program: \n",
    "john@google.com \n",
    "Then, the output of the program should be: \n",
    "john,google       \n",
    "\"\"\"\n",
    "def email(s):\n",
    "    e=str()\n",
    "    n=s.index(\"@\")\n",
    "    print(\"Name :\",s[0:n])\n",
    "    m = s.find(\".\")\n",
    "    print(\"Company name :\",s[n+1:m])\n",
    "\n",
    "s = input(\"Enter the string :\")\n",
    "email(s)"
   ]
  },
  {
   "cell_type": "code",
   "execution_count": 47,
   "metadata": {},
   "outputs": [
    {
     "name": "stdout",
     "output_type": "stream",
     "text": [
      "in ...\n",
      "in ...\n",
      "incredible\n"
     ]
    }
   ],
   "source": [
    "\"\"\"\n",
    "Question 18.  \n",
    "Write a function that stutters a word as if someone is struggling to read it. The \n",
    "first two letters are repeated twice with an ellipsis ... and space after each, and then the \n",
    "word is pronounced with a question mark ?. \n",
    "Examples: \n",
    "stutter(\"incredible\") ➞ \"in... in... incredible?\" \n",
    "stutter(\"enthusiastic\") ➞ \"en... en... enthusiastic?\" \n",
    "stutter(\"outstanding\") ➞ \"ou... ou... outstanding?\n",
    "Hint :- Assume all input is in lower case and at least two characters long.  \n",
    "\"\"\"\n",
    "\n",
    "def stutter(s):\n",
    "    print(s[0:2],\"...\",s[0:2],\"...\",s)\n",
    "    # print(s[0:2],\"...\")\n",
    "    # print(s)\n",
    "\n",
    "s = input(\"Enter the String :\")\n",
    "stutter(s)"
   ]
  },
  {
   "cell_type": "code",
   "execution_count": null,
   "metadata": {},
   "outputs": [],
   "source": []
  }
 ],
 "metadata": {
  "kernelspec": {
   "display_name": "myenv",
   "language": "python",
   "name": "python3"
  },
  "language_info": {
   "codemirror_mode": {
    "name": "ipython",
    "version": 3
   },
   "file_extension": ".py",
   "mimetype": "text/x-python",
   "name": "python",
   "nbconvert_exporter": "python",
   "pygments_lexer": "ipython3",
   "version": "3.11.10"
  }
 },
 "nbformat": 4,
 "nbformat_minor": 2
}
