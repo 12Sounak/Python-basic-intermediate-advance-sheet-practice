{
 "cells": [
  {
   "cell_type": "code",
   "execution_count": null,
   "metadata": {},
   "outputs": [],
   "source": [
    "\"\"\"\n",
    "Question 6: \n",
    "A website requires the users to input username and password to register. Write a program to \n",
    "check the validity of password input by users. \n",
    "Following are the criteria for checking the password: \n",
    "1. At least 1 letter between [a-z] \n",
    "2. At least 1 number between [0-9] \n",
    "1. At least 1 letter between [A-Z] \n",
    "3. At least 1 character from [$#@] \n",
    "4. Minimum length of transaction password: 6 \n",
    "5. Maximum length of transaction password: 12 \n",
    "Your program should accept a sequence of comma separated passwords and will check them \n",
    "according to the above criteria. Passwords that match the criteria are to be printed, each \n",
    "separated by a comma. \n",
    "Example \n",
    "If the following passwords are given as input to the program: \n",
    "ABd1234@1,a F1#,2w3E*,2We3345 \n",
    "Then, the output of the program should be: \n",
    "ABd1234@1 \n",
    " \n",
    "Question 7: \n",
    "Define a class with a generator which can iterate the numbers, which are divisible by \n",
    "7, between a given range 0 and n. \n",
    " \n",
    "Question 8: \n",
    "Write a program to compute the frequency of the words from the input. The output \n",
    "should output after sorting the key alphanumerically. \n",
    "Suppose the following input is supplied to the program: \n",
    "New to Python or choosing between Python 2 and Python 3? Read Python 2 or \n",
    "Python 9. \n",
    "Then, the output should be: \n",
    "2:2 \n",
    "3.:1 \n",
    "3?:1 \n",
    "New:1 \n",
    "Python:5 \n",
    "Read:1 \n",
    "and:1 \n",
    "between:1 \n",
    "choosing:1 \n",
    "or:2 \n",
    "to:1 \n",
    " \n",
    "Question 9: \n",
    " \n",
    "Define a class Person and its two child classes: Male and Female. All classes have a method \n",
    "\"getGender\" which can print \"Male\" for Male class and \"Female\" for Female class.          \n",
    "\"\"\""
   ]
  },
  {
   "cell_type": "code",
   "execution_count": 11,
   "metadata": {},
   "outputs": [
    {
     "name": "stdout",
     "output_type": "stream",
     "text": [
      "2:2\n",
      "3?:1\n",
      "9:1\n",
      "New:1\n",
      "Python:5\n",
      "Read:1\n",
      "and:1\n",
      "between:1\n",
      "choosing:1\n",
      "or:2\n",
      "to:1\n"
     ]
    }
   ],
   "source": [
    "\"\"\"\n",
    "Question 8: \n",
    "Write a program to compute the frequency of the words from the input. The output \n",
    "should output after sorting the key alphanumerically. \n",
    "Suppose the following input is supplied to the program: \n",
    "New to Python or choosing between Python 2 and Python 3? Read Python 2 or Python 9. \n",
    "Then, the output should be: \n",
    "2:2 \n",
    "3.:1 \n",
    "3?:1 \n",
    "New:1 \n",
    "Python:5 \n",
    "Read:1 \n",
    "and:1 \n",
    "between:1 \n",
    "choosing:1 \n",
    "or:2 \n",
    "to:1\n",
    "\"\"\" \n",
    "def myfun(s):\n",
    "    \n",
    "    l=list()\n",
    "    l1=list()\n",
    "    l=s.strip().split(\" \")\n",
    "    l2=[]\n",
    "    l2=l\n",
    "\n",
    "    l=set(l)\n",
    "    l=list(l)\n",
    "    l.sort()\n",
    "\n",
    "    for i in l:\n",
    "        if i!=\" \":\n",
    "            l1.append([i,\":\",l2.count(i)])\n",
    "   \n",
    "    # print(l1)\n",
    "\n",
    "    for i in l1:\n",
    "        x=list()\n",
    "        for j in i:\n",
    "            x.append(str(j))\n",
    "        print(\"\".join(x))\n",
    "\n",
    "s = input(\"Enter a String :\")\n",
    "myfun(s)"
   ]
  },
  {
   "cell_type": "code",
   "execution_count": 2,
   "metadata": {},
   "outputs": [
    {
     "name": "stdout",
     "output_type": "stream",
     "text": [
      "ram\n",
      "is\n",
      "food\n",
      "boy\n"
     ]
    }
   ],
   "source": [
    "s=input(\"Enter a string\")\n",
    "l=[]\n",
    "l=s.split(\" \")\n",
    "for i in l:\n",
    "    print(i)\n"
   ]
  },
  {
   "cell_type": "code",
   "execution_count": 7,
   "metadata": {},
   "outputs": [
    {
     "name": "stdout",
     "output_type": "stream",
     "text": [
      "New : 1\n",
      "to : 1\n",
      "Python : 5\n",
      "or : 2\n",
      "choosing : 1\n",
      "between : 1\n",
      "Python : 5\n",
      "2 : 2\n",
      "and : 1\n",
      "Python : 5\n",
      "3? : 1\n",
      "Read : 1\n",
      "Python : 5\n",
      "2 : 2\n",
      "or : 2\n",
      "Python : 5\n",
      "9 : 1\n"
     ]
    }
   ],
   "source": [
    "s=input(\"Enter a string\")\n",
    "l=[]\n",
    "l=s.split(\" \")\n",
    "t=()\n",
    "for i in l:\n",
    "    t = l.count(i)\n",
    "    print(i,\":\",t)\n"
   ]
  },
  {
   "cell_type": "code",
   "execution_count": 9,
   "metadata": {},
   "outputs": [
    {
     "ename": "AttributeError",
     "evalue": "'int' object has no attribute 'sort'",
     "output_type": "error",
     "traceback": [
      "\u001b[1;31m---------------------------------------------------------------------------\u001b[0m",
      "\u001b[1;31mAttributeError\u001b[0m                            Traceback (most recent call last)",
      "Cell \u001b[1;32mIn[9], line 7\u001b[0m\n\u001b[0;32m      5\u001b[0m \u001b[38;5;28;01mfor\u001b[39;00m i \u001b[38;5;129;01min\u001b[39;00m l:\n\u001b[0;32m      6\u001b[0m     t \u001b[38;5;241m=\u001b[39m l\u001b[38;5;241m.\u001b[39mcount(i)\n\u001b[1;32m----> 7\u001b[0m     \u001b[38;5;28mprint\u001b[39m(\u001b[43mt\u001b[49m\u001b[38;5;241;43m.\u001b[39;49m\u001b[43msort\u001b[49m())\n",
      "\u001b[1;31mAttributeError\u001b[0m: 'int' object has no attribute 'sort'"
     ]
    }
   ],
   "source": [
    "s=input(\"Enter a string\")\n",
    "l=[]\n",
    "l=s.split(\" \")\n",
    "t=()\n",
    "for i in l:\n",
    "    t = l.count(i)\n",
    "    print(t.sort())"
   ]
  },
  {
   "cell_type": "code",
   "execution_count": null,
   "metadata": {},
   "outputs": [],
   "source": [
    "\"\"\"\n",
    "Question 10: \n",
    "Please write a program to generate all sentences where subject is in [\"I\", \"You\"] and \n",
    "verb is in [\"Play\", \"Love\"] and the object is in [\"Hockey\", \"Football\"].\n",
    "# # Question 10: \n",
    "# # Please write a program to generate all sentences where subject is in [\"I\", \"You\"] and \n",
    "# # verb is in [\"Play\", \"Love\"] and the object is in [\"Hockey\", \"Football\"].\n",
    "\n",
    "# Subjects: [\"I\", \"You\"]\n",
    "# Verbs: [\"Play\", \"Love\"]\n",
    "# Objects: [\"Hockey\", \"Football\"]\n",
    "# The goal is to create every combination where one item from each list is used to form a sentence.\n",
    "\n",
    "# Example sentences:\n",
    "# \"I Play Hockey\"\n",
    "# \"I Play Football\"\n",
    "# \"I Love Hockey\"\n",
    "# \"I Love Football\"\n",
    "# \"You Play Hockey\"\n",
    "# \"You Play Football\"\n",
    "# \"You Love Hockey\"\n",
    "# \"You Love Football\"\n",
    "\"\"\"\n",
    "x=[\"I\", \"You\"]\n",
    "y=[\"Play\", \"Love\"]\n",
    "z=[\"Hockey\", \"Football\"]\n",
    "\n",
    "\n",
    "l=list()\n",
    "\n",
    "for i in x:\n",
    "    for j in y:\n",
    "        for k in z:\n",
    "            l.append(i+\" \"+j+\" \"+k)\n",
    "for i in l:\n",
    "    print(i)"
   ]
  },
  {
   "cell_type": "code",
   "execution_count": null,
   "metadata": {},
   "outputs": [],
   "source": [
    "\"\"\"\n",
    "Question 11: \n",
    "Please write a program to compress and decompress the string \"hello world!hello \n",
    "world!hello world!hello world!\".\n",
    "\"\"\""
   ]
  },
  {
   "cell_type": "code",
   "execution_count": null,
   "metadata": {},
   "outputs": [],
   "source": [
    "l=list()"
   ]
  },
  {
   "cell_type": "code",
   "execution_count": null,
   "metadata": {},
   "outputs": [],
   "source": [
    "\"\"\"\n",
    "Question :12 \n",
    "Please write a binary search function which searches an item in a sorted list. The \n",
    "function should return the index of element to be searched in the list.\n",
    "\"\"\"       \n",
    "\n"
   ]
  },
  {
   "cell_type": "code",
   "execution_count": 25,
   "metadata": {},
   "outputs": [
    {
     "name": "stdout",
     "output_type": "stream",
     "text": [
      "element is not present in list\n"
     ]
    }
   ],
   "source": [
    "def binary_s(l1,k):\n",
    "    low = 0\n",
    "    high = len(l)-1\n",
    "    for i in range(low,high):\n",
    "        mid = (low + high)//2\n",
    "        if l[mid]<k:\n",
    "            low = mid + 1\n",
    "        elif l[mid]>k:\n",
    "            high = mid-1\n",
    "        else:\n",
    "            return mid\n",
    "    return -1\n",
    "\n",
    "l = eval(input(\"Enter a list :\"))\n",
    "k = int(input(\"Enter the key u want to find :\"))\n",
    "res = binary_s(l,k)\n",
    "\n",
    "\n",
    "if res != -1:\n",
    "    print(\"Element found in index :\",res,\" position \",res+1)\n",
    "else:\n",
    "    print(\"element is not present in list\")"
   ]
  },
  {
   "cell_type": "code",
   "execution_count": 20,
   "metadata": {},
   "outputs": [
    {
     "name": "stdout",
     "output_type": "stream",
     "text": [
      "[10, 19, 2, 4, 5, 19]\n",
      "[10, 19, 2, 4, 5, 19]\n",
      "6\n",
      "[2, 4, 5, 10, 19, 19]\n"
     ]
    }
   ],
   "source": [
    "l = eval(input(\"Enter a list :\"))\n",
    "print(l)\n",
    "l1=sorted(l)\n",
    "print(l)\n",
    "print(len(l))\n",
    "print(l1)"
   ]
  },
  {
   "cell_type": "code",
   "execution_count": 13,
   "metadata": {},
   "outputs": [
    {
     "name": "stdout",
     "output_type": "stream",
     "text": [
      "The index is 1\n"
     ]
    }
   ],
   "source": [
    "def myfun(l, k):\n",
    "    mid = len(l) // 2\n",
    "    if l[mid] == k:\n",
    "        print(\"The index is\", mid)\n",
    "    else:\n",
    "        if l[mid] < k:\n",
    "            myfun(l[mid + 1:], k)\n",
    "        else:\n",
    "            myfun(l[:mid], k)\n",
    "\n",
    "myfun([10,11,12,13,14,15],15)"
   ]
  },
  {
   "cell_type": "code",
   "execution_count": 77,
   "metadata": {},
   "outputs": [
    {
     "name": "stdout",
     "output_type": "stream",
     "text": [
      "list : [10, 11, 12, 13, 14, 15]\n",
      "mid element : 13\n",
      "mid value : 3\n",
      "list : [14, 15]\n",
      "mid element : 15\n",
      "mid value : 1\n",
      "list : [14]\n",
      "mid element : 14\n",
      "mid value : 0\n",
      "The index is  4\n"
     ]
    }
   ],
   "source": [
    "def myfun(l, k, n=0):\n",
    "    \n",
    "    print(\"list :\",l)\n",
    "\n",
    "    mid = len(l) // 2\n",
    "\n",
    "    print(\"mid element :\",l[mid])\n",
    "\n",
    "    print(\"mid value :\",mid)\n",
    "\n",
    "    if l[mid] == k:\n",
    "        print(\"The index is \", mid+n)\n",
    "    else:\n",
    "        if l[mid]>k:\n",
    "            myfun(l[0:mid],k,n)\n",
    "        else:\n",
    "            myfun(l[mid+1:],k,n+mid+1)\n",
    "\n",
    "\n",
    "# [10,11,12,13,14,15]\n",
    "myfun([10,11,12,13,14,15],14)\n",
    "\n",
    "# s = eval(input(\"Enter the list elements :\"))\n",
    "# a = int(input(\"Enter the search element :\"))\n",
    "# n = len(s)\n",
    "# myfun(s,a,n)\n"
   ]
  },
  {
   "cell_type": "code",
   "execution_count": 69,
   "metadata": {},
   "outputs": [
    {
     "name": "stdout",
     "output_type": "stream",
     "text": [
      "13\n",
      "11\n",
      "The index is 5\n"
     ]
    }
   ],
   "source": [
    "def myfun(l, k, n=0):\n",
    "    \n",
    "    mid = len(l) // 2\n",
    "\n",
    "    print(l[mid])\n",
    "\n",
    "    if l[mid] == k:\n",
    "        print(\"The index is\", mid+n)\n",
    "    else:\n",
    "        if k > l[mid]:\n",
    "            myfun(l[mid+1:],k,n)\n",
    "        if k < l[mid]:\n",
    "            myfun(l[0:mid],k,n+mid+1)\n",
    "\n",
    "\n",
    "# [10,11,12,13,14,15]\n",
    "myfun([10,11,12,13,14,15],11)\n",
    "\n",
    "# s = eval(input(\"Enter the list elements :\"))\n",
    "# a = int(input(\"Enter the search element :\"))\n",
    "# n = len(s)\n",
    "# myfun(s,a,n)"
   ]
  },
  {
   "cell_type": "code",
   "execution_count": 102,
   "metadata": {},
   "outputs": [
    {
     "name": "stdout",
     "output_type": "stream",
     "text": [
      "element not found!\n"
     ]
    }
   ],
   "source": [
    "def binary_s(l,key):\n",
    "    low = 0\n",
    "    high = len(l)-1\n",
    "    c = 1\n",
    "    # if key in l:\n",
    "    for i in range(low,high):\n",
    "        mid = (low+high)//2\n",
    "        if l[mid]<key:\n",
    "            low = mid+1\n",
    "        elif l[mid]>key:\n",
    "            high = mid-1\n",
    "        else:\n",
    "            c=0\n",
    "                # print(mid)\n",
    "    # else:\n",
    "        \n",
    "    if c==0:\n",
    "        print(\"found at index: \",mid)\n",
    "    else:\n",
    "        print(\"element not found!\")\n",
    "\n",
    "\n",
    "# low                      high\n",
    "# [10,  11,  12,  13,  14,  15]\n",
    "res = binary_s([10,11,12,13],1311111111)\n",
    "# if res!=-1:\n",
    "# print(\"found at index :\",res)\n",
    "# else:\n",
    "    # print(\"found not found\")"
   ]
  },
  {
   "cell_type": "code",
   "execution_count": null,
   "metadata": {},
   "outputs": [],
   "source": []
  }
 ],
 "metadata": {
  "kernelspec": {
   "display_name": "myenv",
   "language": "python",
   "name": "python3"
  },
  "language_info": {
   "codemirror_mode": {
    "name": "ipython",
    "version": 3
   },
   "file_extension": ".py",
   "mimetype": "text/x-python",
   "name": "python",
   "nbconvert_exporter": "python",
   "pygments_lexer": "ipython3",
   "version": "3.11.10"
  }
 },
 "nbformat": 4,
 "nbformat_minor": 2
}
