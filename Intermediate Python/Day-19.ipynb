{
 "cells": [
  {
   "cell_type": "code",
   "execution_count": 2,
   "metadata": {},
   "outputs": [
    {
     "name": "stdout",
     "output_type": "stream",
     "text": [
      "[1, 3, 5, 7, 9]\n"
     ]
    }
   ],
   "source": [
    "\"\"\"\n",
    "Question 39. \n",
    "Given a list of numbers, create a function which returns the list but with each element's index in the \n",
    "list added to itself. This means you add 0 to the number at index 0, add 1 to the number at index 1, \n",
    "etc... \n",
    " \n",
    "Examples: \n",
    "add_indexes([0, 0, 0, 0, 0]) ➞ [0, 1, 2, 3, 4] \n",
    "add_indexes([1, 2, 3, 4, 5]) ➞ [1, 3, 5, 7, 9] \n",
    "add_indexes([5, 4, 3, 2, 1]) ➞ [5, 5, 5, 5, 5]\n",
    "\n",
    "In simpler terms:\n",
    "\n",
    "Each number in the list is located at a specific position, called its index. The index of the first number is 0, the second is 1, the third is 2, and so on.\n",
    "The task is to take each number and add its index to it.\n",
    "For example, if a number is located at index 2, you should add 2 to that number. Similarly, for the number at index 0, you add 0, and so on.\n",
    "\"\"\"\n",
    "\n",
    "def add_indexes(l):\n",
    "    n = len(l)\n",
    "    c = []\n",
    "    for i in range(0,n):\n",
    "        c.append(l[i]+i)\n",
    "    print(c)\n",
    "\n",
    "\n",
    "l = eval(input(\"Enter the list :\"))\n",
    "add_indexes(l)\n"
   ]
  },
  {
   "cell_type": "code",
   "execution_count": null,
   "metadata": {},
   "outputs": [],
   "source": [
    "\"\"\"      \n",
    "Question 40. \n",
    "Create a function that takes the height and radius of a cone as arguments and returns the \n",
    "volume of the cone rounded to the nearest hundredth. See the resources tab for the formula.  \n",
    "\"\"\" "
   ]
  },
  {
   "attachments": {
    "image.png": {
     "image/png": "[encoded data removed]"
    }
   },
   "cell_type": "markdown",
   "metadata": {},
   "source": [
    "![image.png](attachment:image.png)"
   ]
  },
  {
   "cell_type": "code",
   "execution_count": null,
   "metadata": {},
   "outputs": [],
   "source": [
    "\"\"\"    \n",
    "Examples \n",
    "cone_volume(3, 2) ➞ 12.57 \n",
    " \n",
    "cone_volume(15, 6) ➞ 565.49 \n",
    "cone_volume(18, 0) ➞ 0  \n",
    "\"\"\"    "
   ]
  },
  {
   "cell_type": "code",
   "execution_count": 10,
   "metadata": {},
   "outputs": [
    {
     "name": "stdout",
     "output_type": "stream",
     "text": [
      "12.5664\n"
     ]
    }
   ],
   "source": [
    "def cone_volume(h,r):\n",
    "    vol = (1/3)*3.141592*r*r*h\n",
    "    print(round(vol,2))\n",
    "    \n",
    "\n",
    "h = int(input(\"enter the height :\"))\n",
    "r = int(input(\"Enter the radius :\"))\n",
    "cone_volume(h,r)\n"
   ]
  },
  {
   "cell_type": "code",
   "execution_count": 17,
   "metadata": {},
   "outputs": [
    {
     "name": "stdout",
     "output_type": "stream",
     "text": [
      "6\n",
      "[]\n"
     ]
    }
   ],
   "source": [
    "\"\"\"       \n",
    "Question 41. \n",
    "\n",
    "This Triangular Number Sequence is generated from a pattern of dots that form a triangle. \n",
    "The first 5 numbers of the sequence, or dots, are: \n",
    "1, 3, 6, 10, 15 \n",
    "This means that the first triangle has just one dot, the second one has three dots, the third one \n",
    "has 6 dots and so on. \n",
    "Write a function that gives the number of dots with its corresponding triangle number of the \n",
    "sequence. \n",
    "Examples \n",
    "triangle(1) ➞ 1 \n",
    "triangle(6) ➞ 21 \n",
    "triangle(215) ➞ 23220 \n",
    "\"\"\"       \n",
    "def triangle(n):\n",
    "    l=[]\n",
    "    prev = 1\n",
    "    next = 3\n",
    "    for i in range(n):\n",
    "        val = (next-prev)+1+next\n",
    "        prev = next\n",
    "        next = val\n",
    "    print(val)\n",
    "        # l.append(prev)\n",
    "        # l.append(next)\n",
    "        # diff = next-prev+1 \n",
    "        # prev = next\n",
    "        # next = next + diff\n",
    "    print(l)\n",
    "\n",
    "n = int(input(\"Enter the no :\"))\n",
    "triangle(n)"
   ]
  },
  {
   "cell_type": "code",
   "execution_count": null,
   "metadata": {},
   "outputs": [],
   "source": [
    "# sam code\n",
    "def myfun(n):\n",
    "    l=list()\n",
    "    l=[1]\n",
    "    first=1\n",
    "    last=3\n",
    "    for i in range(n-1):\n",
    "        # l.append(first)\n",
    "        l.append(last)\n",
    "        diff=last-first+1\n",
    "        first=last\n",
    "        last=last+diff\n",
    "    print(l[-1])"
   ]
  },
  {
   "cell_type": "code",
   "execution_count": null,
   "metadata": {},
   "outputs": [],
   "source": [
    "# 1, 3, 6, 10, 15 ,21\n",
    "# 1,3, (3(next)-1(prev))+1+3(next)=6 ,(6-3)+1+6 = 10"
   ]
  },
  {
   "cell_type": "code",
   "execution_count": 20,
   "metadata": {},
   "outputs": [
    {
     "name": "stdout",
     "output_type": "stream",
     "text": [
      "5\n"
     ]
    }
   ],
   "source": [
    "\"\"\"    \n",
    "Question 42. \n",
    "Create a function that takes a list of numbers between 1 and 10 (excluding one number) and \n",
    "returns the missing number. \n",
    "Examples \n",
    "missing_num([1, 2, 3, 4, 6, 7, 8, 9, 10]) ➞ 5 \n",
    "missing_num([7, 2, 3, 6, 5, 9, 1, 4, 8]) ➞ 10 \n",
    "missing_num([10, 5, 1, 2, 4, 6, 8, 3, 9]) ➞ 7 \n",
    "\"\"\"    \n",
    "def missing_num(l):\n",
    "    l1 = [1,2,3,4,5,6,7,8,9,10]\n",
    "    for i in l1:\n",
    "        if i not in l:\n",
    "            print(i)\n",
    "\n",
    "l = eval(input(\"Enter the list :\"))\n",
    "missing_num(l)"
   ]
  },
  {
   "cell_type": "code",
   "execution_count": 19,
   "metadata": {},
   "outputs": [
    {
     "name": "stdout",
     "output_type": "stream",
     "text": [
      "[0, 2, 3, 4, 5, 6, 7, 8, 9, 10, 0, 1, 3, 4, 5, 6, 7, 8, 9, 10, 0, 1, 2, 4, 5, 6, 7, 8, 9, 10, 0, 1, 2, 3, 5, 6, 7, 8, 9, 10, 0, 1, 2, 3, 4, 5, 7, 8, 9, 10, 0, 1, 2, 3, 4, 5, 6, 8, 9, 10, 0, 1, 2, 3, 4, 5, 6, 7, 9, 10, 0, 1, 2, 3, 4, 5, 6, 7, 8, 10, 0, 1, 2, 3, 4, 5, 6, 7, 8, 9]\n"
     ]
    }
   ],
   "source": [
    "a=[]\n",
    "l=[1, 2, 3, 4, 6, 7, 8, 9, 10]\n",
    "for i in range(0,len(l)):\n",
    "    for j in range(0,10+1):\n",
    "        if l[i]!=j:\n",
    "            a.append(j)\n",
    "print(a)"
   ]
  },
  {
   "cell_type": "code",
   "execution_count": null,
   "metadata": {},
   "outputs": [],
   "source": [
    "def \n",
    "l1 = [1,2,3,4,5,6,7,8,9,10]\n",
    "for i in l1:\n",
    "    if i not in l:\n",
    "        print(i)"
   ]
  },
  {
   "cell_type": "code",
   "execution_count": 21,
   "metadata": {},
   "outputs": [
    {
     "name": "stdout",
     "output_type": "stream",
     "text": [
      "[6, 7, 8, 9, 1]\n"
     ]
    }
   ],
   "source": [
    "\"\"\"     \n",
    "Question 43. \n",
    "Write a function that takes a list and a number as arguments. Add the number to the end of \n",
    "the list, then remove the first element of the list. The function should then return the updated \n",
    "list. \n",
    "Examples \n",
    "next_in_line([5, 6, 7, 8, 9], 1) ➞ [6, 7, 8, 9, 1] \n",
    "next_in_line([7, 6, 3, 23, 17], 10) ➞ [6, 3, 23, 17, 10] \n",
    "next_in_line([1, 10, 20, 42 ], 6) ➞ [10, 20, 42, 6] \n",
    "next_in_line([], 6) ➞ \"No list has been selected\" \n",
    "\"\"\"     \n",
    "def next_in_line(l,n):\n",
    "    a = l[0]\n",
    "    l.remove(a)\n",
    "    l.append(n)\n",
    "    print(l)\n",
    "\n",
    "l = eval(input(\"Enter the list :\"))\n",
    "k = int(input(\"Enter the number :\"))\n",
    "next_in_line(l,k)"
   ]
  },
  {
   "cell_type": "code",
   "execution_count": 31,
   "metadata": {},
   "outputs": [
    {
     "name": "stdout",
     "output_type": "stream",
     "text": [
      "65700\n"
     ]
    }
   ],
   "source": [
    "\"\"\"\n",
    "Question 44. \n",
    "Create the function that takes a list of dictionaries and returns the sum of people's budgets. \n",
    "Examples \n",
    "get_budgets([ \n",
    "{ \"name\": \"John\", \"age\": 21, \"budget\": 23000 }, \n",
    "{ \"name\": \"Steve\", \"age\": 32, \"budget\": 40000 }, \n",
    "{ \"name\": \"Martin\", \"age\": 16, \"budget\": 2700 } \n",
    "]) ➞ 65700 \n",
    "get_budgets([ \n",
    "{ \"name\": \"John\", \"age\": 21, \"budget\": 29000 }, \n",
    "{ \"name\": \"Steve\", \"age\": 32, \"budget\": 32000 }, \n",
    "{ \"name\": \"Martin\", \"age\": 16, \"budget\": 1600 } \n",
    "]) ➞ 62600 \n",
    "\"\"\"\n",
    "# working perfectly\n",
    "def get_budgets(l):\n",
    "    sum = 0\n",
    "    for i in range(0,len(l)):\n",
    "        a = l[i]\n",
    "        sum += a[\"budget\"]\n",
    "    print(sum)\n",
    "\n",
    "get_budgets(l)"
   ]
  },
  {
   "cell_type": "code",
   "execution_count": 27,
   "metadata": {},
   "outputs": [
    {
     "name": "stdout",
     "output_type": "stream",
     "text": [
      "240\n"
     ]
    }
   ],
   "source": [
    "k = {\"name\" : \"sounak\",\n",
    "    \"price\" : 120}\n",
    "p = {\"name\" : \"sounak\",\n",
    "    \"price\" : 120}\n",
    "print(k[\"price\"]+p[\"price\"])"
   ]
  },
  {
   "cell_type": "code",
   "execution_count": 30,
   "metadata": {},
   "outputs": [
    {
     "name": "stdout",
     "output_type": "stream",
     "text": [
      "{'name': 'John', 'age': 21, 'budget': 23000}\n",
      "23000\n"
     ]
    }
   ],
   "source": [
    "l=[ \n",
    "{ \"name\": \"John\", \"age\": 21, \"budget\": 23000 }, \n",
    "{ \"name\": \"Steve\", \"age\": 32, \"budget\": 40000 }, \n",
    "{ \"name\": \"Martin\", \"age\": 16, \"budget\": 2700 } \n",
    "]\n",
    "k = l[0]\n",
    "print(k)\n",
    "print(k[\"budget\"])"
   ]
  },
  {
   "cell_type": "code",
   "execution_count": 32,
   "metadata": {},
   "outputs": [
    {
     "name": "stdout",
     "output_type": "stream",
     "text": [
      "62600\n"
     ]
    }
   ],
   "source": [
    "get_budgets([ \n",
    "{ \"name\": \"John\", \"age\": 21, \"budget\": 29000 }, \n",
    "{ \"name\": \"Steve\", \"age\": 32, \"budget\": 32000 }, \n",
    "{ \"name\": \"Martin\", \"age\": 16, \"budget\": 1600 } \n",
    "])"
   ]
  },
  {
   "cell_type": "code",
   "execution_count": 35,
   "metadata": {},
   "outputs": [
    {
     "name": "stdout",
     "output_type": "stream",
     "text": [
      "ehllo\n"
     ]
    }
   ],
   "source": [
    "\"\"\"   \n",
    "Question 46. \n",
    "Create a function that takes a string and returns a string with its letters in alphabetical order. \n",
    "Examples \n",
    "alphabet_soup(\"hello\") ➞ \"ehllo\" \n",
    "alphabet_soup(\"edabit\") ➞ \"abdeit\" \n",
    "alphabet_soup(\"hacker\") ➞ \"acehkr\" \n",
    "alphabet_soup(\"geek\") ➞ \"eegk\" \n",
    "alphabet_soup(\"javascript\") ➞ \"aacijprstv\"\n",
    "\"\"\"      \n",
    "def alphabet_soup(s):\n",
    "    s = sorted(s)\n",
    "    s=\"\".join(s)\n",
    "    print(s)\n",
    "\n",
    "s = input(\"Enter the String :\")\n",
    "alphabet_soup(s)"
   ]
  },
  {
   "cell_type": "code",
   "execution_count": null,
   "metadata": {},
   "outputs": [],
   "source": [
    "\"\"\"\n",
    "Question 47. \n",
    "Suppose that you invest $10,000 for 10 years at an interest rate of 6% compounded monthly. \n",
    "What will be the value of your investment at the end of the 10 year period? \n",
    "Create a function that accepts the principal p, the term in years t, the interest rate r, and the \n",
    "number of compounding periods per year n. The function returns the value at the end of term \n",
    "rounded to the nearest cent. \n",
    "For the example above: \n",
    "compound_interest(10000, 10, 0.06, 12) ➞ 18193.97 \n",
    "Note that the interest rate is given as a decimal and n=12 because with monthly compounding \n",
    "there are 12 periods per year. Compounding can also be done annually, quarterly, weekly, or \n",
    "daily. \n",
    "Examples \n",
    "compound_interest(100, 1, 0.05, 1) ➞ 105.0 \n",
    "compound_interest(3500, 15, 0.1, 4) ➞ 15399.26 \n",
    "compound_interest(100000, 20, 0.15, 365) ➞ 2007316.26        \n",
    "\"\"\"\n"
   ]
  },
  {
   "attachments": {
    "image.png": {
     "image/png": "[encoded data removed]"
    }
   },
   "cell_type": "markdown",
   "metadata": {},
   "source": [
    "![image.png](attachment:image.png)"
   ]
  },
  {
   "cell_type": "code",
   "execution_count": 48,
   "metadata": {},
   "outputs": [
    {
     "name": "stdout",
     "output_type": "stream",
     "text": [
      "105.0\n"
     ]
    }
   ],
   "source": [
    "def compound_interest(p,t,r,n):\n",
    "    amount = p*(1+(r/n))**(n*t)\n",
    "    print(round(amount,2))\n",
    "\n",
    "compound_interest(100, 1, 0.05, 1)"
   ]
  },
  {
   "cell_type": "code",
   "execution_count": 49,
   "metadata": {},
   "outputs": [
    {
     "name": "stdout",
     "output_type": "stream",
     "text": [
      "15399.26\n"
     ]
    }
   ],
   "source": [
    "compound_interest(3500, 15, 0.1, 4)"
   ]
  },
  {
   "cell_type": "code",
   "execution_count": 50,
   "metadata": {},
   "outputs": [
    {
     "name": "stdout",
     "output_type": "stream",
     "text": [
      "2007316.26\n"
     ]
    }
   ],
   "source": [
    "compound_interest(100000, 20, 0.15, 365)"
   ]
  },
  {
   "cell_type": "code",
   "execution_count": 51,
   "metadata": {},
   "outputs": [
    {
     "name": "stdout",
     "output_type": "stream",
     "text": [
      "18193.97\n"
     ]
    }
   ],
   "source": [
    "compound_interest(10000, 10, 0.06, 12)"
   ]
  },
  {
   "cell_type": "code",
   "execution_count": 66,
   "metadata": {},
   "outputs": [],
   "source": [
    "\"\"\"   \n",
    "Question 48. \n",
    "Write a function that takes a list of elements and returns only the integers. \n",
    "Examples \n",
    "return_only_integer([9, 2, \"space\", \"car\", \"lion\", 16]) ➞ [9, 2, 16] \n",
    "return_only_integer([\"hello\", 81, \"basketball\", 123, \"fox\"]) ➞ [81, 123] \n",
    "return_only_integer([10, \"121\", 56, 20, \"car\", 3, \"lion\"]) ➞ [10, 56, 20, 3] \n",
    "return_only_integer([\"String\", True, 3.3, 1]) ➞ [1]\n",
    "\"\"\"\n",
    "def return_only_integer(l):\n",
    "    a=[]\n",
    "    for i in range(0,len(l)):\n",
    "        if isinstance(l[i],int) or isinstance(i,float) or l[i]!=True or l[i]!=False:\n",
    "            a.append(l[i])\n",
    "    print(a)\n",
    "# l = eval(input(\"Enter the list :\"))\n",
    "# return_only_integer(l)"
   ]
  },
  {
   "cell_type": "code",
   "execution_count": 55,
   "metadata": {},
   "outputs": [
    {
     "name": "stdout",
     "output_type": "stream",
     "text": [
      "[9, 2, 16]\n"
     ]
    }
   ],
   "source": [
    "return_only_integer([9, 2, \"space\", \"car\", \"lion\", 16])"
   ]
  },
  {
   "cell_type": "code",
   "execution_count": 56,
   "metadata": {},
   "outputs": [
    {
     "name": "stdout",
     "output_type": "stream",
     "text": [
      "[0, 1729]\n"
     ]
    }
   ],
   "source": [
    "return_only_integer([\"A\", 0, \"Edabit\", 1729, \"Python\", \"1729\"])"
   ]
  },
  {
   "cell_type": "code",
   "execution_count": 57,
   "metadata": {},
   "outputs": [
    {
     "name": "stdout",
     "output_type": "stream",
     "text": [
      "[81, 123]\n"
     ]
    }
   ],
   "source": [
    "return_only_integer([\"hello\", 81, \"basketball\", 123, \"fox\"])"
   ]
  },
  {
   "cell_type": "code",
   "execution_count": 67,
   "metadata": {},
   "outputs": [
    {
     "name": "stdout",
     "output_type": "stream",
     "text": [
      "['String', True, 3.3, 1]\n"
     ]
    }
   ],
   "source": [
    "return_only_integer([\"String\", True, 3.3, 1])"
   ]
  },
  {
   "cell_type": "code",
   "execution_count": 61,
   "metadata": {},
   "outputs": [],
   "source": [
    "def return_only_integer(l):\n",
    "    a=[]\n",
    "    for i in l:\n",
    "        if isinstance(i,int) or isinstance(i,float):\n",
    "            a.append(i)\n",
    "    print(a)"
   ]
  },
  {
   "cell_type": "code",
   "execution_count": 73,
   "metadata": {},
   "outputs": [
    {
     "name": "stdout",
     "output_type": "stream",
     "text": [
      "[3.3, 1]\n"
     ]
    }
   ],
   "source": [
    "return_only_integer([\"String\", True, 3.3, 1])"
   ]
  },
  {
   "cell_type": "code",
   "execution_count": 63,
   "metadata": {},
   "outputs": [
    {
     "name": "stdout",
     "output_type": "stream",
     "text": [
      "<class 'bool'>\n"
     ]
    }
   ],
   "source": [
    "print(type(True))"
   ]
  },
  {
   "cell_type": "code",
   "execution_count": 72,
   "metadata": {},
   "outputs": [],
   "source": [
    "# sam solution\n",
    "def return_only_integer(l):\n",
    "    l1=[]\n",
    "    for i in l:\n",
    "        if isinstance(i,bool)==False:\n",
    "            if isinstance(i,int) or isinstance(i,float):\n",
    "                l1.append(i)\n",
    "    print(l1)"
   ]
  },
  {
   "cell_type": "code",
   "execution_count": null,
   "metadata": {},
   "outputs": [],
   "source": [
    "\"\"\"    \n",
    "Question 49. \n",
    "Write a function that takes a list and a number as arguments. Add the number to the end of \n",
    "the list, then remove the first element of the list. The function should then return the updated \n",
    "list. \n",
    "Examples \n",
    "next_in_line([5, 6, 7, 8, 9], 1) ➞ [6, 7, 8, 9, 1] \n",
    "next_in_line([7, 6, 3, 23, 17], 10) ➞ [6, 3, 23, 17, 10] \n",
    "next_in_line([1, 10, 20, 42 ], 6) ➞ [10, 20, 42, 6] \n",
    "next_in_line([], 6) ➞ \"No list has been selected\"    \n",
    "\"\"\"   \n",
    "def next_in_line(l,k):\n",
    "\n",
    "\n",
    "l = eval(input(\"Enter the list :\"))\n",
    "k  "
   ]
  },
  {
   "cell_type": "code",
   "execution_count": null,
   "metadata": {},
   "outputs": [],
   "source": [
    "# 49,50,51,52 are repeated qs"
   ]
  },
  {
   "cell_type": "code",
   "execution_count": 109,
   "metadata": {},
   "outputs": [],
   "source": [
    "\"\"\" \n",
    "Question 53. \n",
    "Create a function that takes an integer and returns a list from 1 to the given number, where: \n",
    " \n",
    "If the number can be divided evenly by 4, amplify it by 10 (i.e. return 10 times the \n",
    "number). \n",
    "If the number cannot be divided evenly by 4, simply return the number. \n",
    "Examples \n",
    "amplify(4) ➞ [1, 2, 3, 40] \n",
    "amplify(3) ➞ [1, 2, 3] \n",
    "amplify(25) ➞ [1, 2, 3, 40, 5, 6, 7, 80, 9, 10, 11, 120, 13, 14, 15, 160, \n",
    "17, 18, 19, 200, 21, 22, 23, 240, 25] \n",
    "Notes \n",
    "The given integer will always be equal to or greater than 1. \n",
    "Include the number (see example above). \n",
    "To perform this problem with its intended purpose, try doing it with list \n",
    "comprehensions. If that's too difficult, just solve the challenge any way you can.  \n",
    "\"\"\" \n",
    "def amplify(n):\n",
    "    l=[]\n",
    "    for i in range(1,n+1):\n",
    "        l.append(i)\n",
    "        if i%4 == 0:\n",
    "            no=i*10\n",
    "            l.append(no)\n",
    "    print(len(l))\n",
    "\n",
    "    # for i in range(len(l)):\n",
    "    #     if l[i]%10==0:\n",
    "    #         l.remove(l[i-1])\n",
    "    i=0\n",
    "    while(i<len(l)):\n",
    "        if l[i]%10==0:\n",
    "            l.remove(l[i-1])\n",
    "        else:\n",
    "            i+=1\n",
    "    print(l)\n",
    "# n = int(input(\"Enter the number\"))"
   ]
  },
  {
   "cell_type": "code",
   "execution_count": 110,
   "metadata": {},
   "outputs": [
    {
     "name": "stdout",
     "output_type": "stream",
     "text": [
      "31\n",
      "[1, 2, 3, 40, 5, 6, 7, 80, 10, 11, 120, 13, 14, 15, 160, 17, 18, 200, 21, 22, 23, 240, 25]\n"
     ]
    }
   ],
   "source": [
    "amplify(25)"
   ]
  },
  {
   "cell_type": "code",
   "execution_count": 111,
   "metadata": {},
   "outputs": [
    {
     "name": "stdout",
     "output_type": "stream",
     "text": [
      "[1, 2, 3, 40, 5, 6, 7, 80, 10, 11, 120, 13, 14, 15, 160, 17, 18, 200, 21, 22, 23, 240, 25]\n"
     ]
    }
   ],
   "source": [
    "def amplify(n):\n",
    "    l=[]\n",
    "    for i in range(1,n+1):\n",
    "        l.append(i)\n",
    "        if i%4 == 0:\n",
    "            no=i*10\n",
    "            l.append(no)\n",
    "    i=0\n",
    "    while(i<len(l)):\n",
    "        if l[i]%10==0:\n",
    "            l.remove(l[i-1])\n",
    "        else:\n",
    "            i+=1\n",
    "    print(l)\n",
    "\n",
    "n = int(input(\"Enter the number :\"))\n",
    "amplify(n)"
   ]
  },
  {
   "cell_type": "code",
   "execution_count": 113,
   "metadata": {},
   "outputs": [
    {
     "name": "stdout",
     "output_type": "stream",
     "text": [
      "[1, 2, 3, 40, 5]\n"
     ]
    }
   ],
   "source": [
    "# perfectly working code\n",
    "def amplify(n):\n",
    "    l=[]\n",
    "    for i in range(1,n+1):\n",
    "        l.append(i)\n",
    "        if i%4 == 0:\n",
    "            no=i*10\n",
    "            l.remove(i)\n",
    "            l.append(no)\n",
    "    print(l)\n",
    "\n",
    "amplify(5)"
   ]
  },
  {
   "cell_type": "code",
   "execution_count": 114,
   "metadata": {},
   "outputs": [],
   "source": [
    "def amplify(n):\n",
    "    l=[i*10 if i%10==0 else i for i in range(1,n+1)]\n",
    "    print(l)"
   ]
  },
  {
   "cell_type": "code",
   "execution_count": 115,
   "metadata": {},
   "outputs": [
    {
     "name": "stdout",
     "output_type": "stream",
     "text": [
      "[1, 2, 3, 4, 5, 6, 7, 8, 9, 100, 11, 12, 13, 14, 15, 16, 17, 18, 19, 200, 21, 22, 23, 24, 25]\n"
     ]
    }
   ],
   "source": [
    "amplify(25)"
   ]
  },
  {
   "cell_type": "code",
   "execution_count": 141,
   "metadata": {},
   "outputs": [],
   "source": [
    "\"\"\"      \n",
    "Question 54. \n",
    "Create a function that takes a list of numbers and return the number that's unique. \n",
    "Examples \n",
    "unique([3, 3, 3, 7, 3, 3]) ➞ 7 \n",
    "unique([0, 0, 0.77, 0, 0]) ➞ 0.77 \n",
    "unique([0, 1, 1, 1, 1, 1, 1, 1]) ➞ 0 \n",
    "Notes \n",
    "Test cases will always have exactly one unique number while all others are the same. \n",
    "  \n",
    "\"\"\"\n",
    "def unique(l):\n",
    "    l1 = l\n",
    "    for i in l:\n",
    "        s = l.count(i)\n",
    "        if s==1:\n",
    "            print(i)\n",
    "\n",
    "# l = eval(input(\"enter a list :\"))\n",
    "# unique(l)"
   ]
  },
  {
   "cell_type": "code",
   "execution_count": 142,
   "metadata": {},
   "outputs": [
    {
     "name": "stdout",
     "output_type": "stream",
     "text": [
      "7\n"
     ]
    }
   ],
   "source": [
    "unique([3, 3, 3, 7, 3, 3])"
   ]
  },
  {
   "cell_type": "code",
   "execution_count": 143,
   "metadata": {},
   "outputs": [
    {
     "name": "stdout",
     "output_type": "stream",
     "text": [
      "0.77\n"
     ]
    }
   ],
   "source": [
    "unique([0, 0, 0.77, 0, 0])"
   ]
  },
  {
   "cell_type": "code",
   "execution_count": 144,
   "metadata": {},
   "outputs": [
    {
     "name": "stdout",
     "output_type": "stream",
     "text": [
      "0\n"
     ]
    }
   ],
   "source": [
    "unique([0, 1, 1, 1, 1, 1, 1, 1])"
   ]
  },
  {
   "cell_type": "code",
   "execution_count": 121,
   "metadata": {},
   "outputs": [],
   "source": [
    "def unique(l):\n",
    "    l1 = l\n",
    "    for i in l:\n",
    "        sum =0\n",
    "        for j in l1:\n",
    "            if i!=j:\n",
    "                print(i)\n"
   ]
  },
  {
   "cell_type": "code",
   "execution_count": 122,
   "metadata": {},
   "outputs": [
    {
     "name": "stdout",
     "output_type": "stream",
     "text": [
      "3\n",
      "3\n",
      "3\n",
      "7\n",
      "7\n",
      "7\n",
      "7\n",
      "7\n",
      "3\n",
      "3\n"
     ]
    }
   ],
   "source": [
    "unique([3, 3, 3, 7, 3, 3])"
   ]
  },
  {
   "cell_type": "code",
   "execution_count": null,
   "metadata": {},
   "outputs": [],
   "source": [
    "\"\"\" \n",
    "Question 3: \n",
    "Your task is to create a Circle constructor that creates a circle with a radius provided by an \n",
    "argument. The circles constructed must have two getters getArea() (PIr^2) and \n",
    "getPerimeter() (2PI*r) which give both respective areas and perimeter (circumference). \n",
    "For help with this class, I have provided you with a Rectangle constructor which you can use \n",
    "as a base example. \n",
    "Examples \n",
    "circy = Circle(11) \n",
    "circy.getArea() \n",
    "Should return 380.132711084365 \n",
    "circy = Circle(4.44) \n",
    "circy.getPerimeter() \n",
    "Should return 27.897342763877365 \n",
    "Notes \n",
    "Round results up to the nearest integer.    \n",
    "\"\"\" "
   ]
  },
  {
   "cell_type": "code",
   "execution_count": 145,
   "metadata": {},
   "outputs": [],
   "source": [
    "class Tringle:\n",
    "    def __init__(self,base,height):\n",
    "        area = (1/2)*self.base*self.height\n",
    "\n"
   ]
  },
  {
   "cell_type": "code",
   "execution_count": 146,
   "metadata": {},
   "outputs": [
    {
     "ename": "NameError",
     "evalue": "name 'Triangle' is not defined",
     "output_type": "error",
     "traceback": [
      "\u001b[1;31m---------------------------------------------------------------------------\u001b[0m",
      "\u001b[1;31mNameError\u001b[0m                                 Traceback (most recent call last)",
      "Cell \u001b[1;32mIn[146], line 1\u001b[0m\n\u001b[1;32m----> 1\u001b[0m t1 \u001b[38;5;241m=\u001b[39m \u001b[43mTriangle\u001b[49m(\u001b[38;5;241m10\u001b[39m,\u001b[38;5;241m12\u001b[39m)\n",
      "\u001b[1;31mNameError\u001b[0m: name 'Triangle' is not defined"
     ]
    }
   ],
   "source": [
    "t1 = Triangle(10,12)"
   ]
  },
  {
   "cell_type": "code",
   "execution_count": null,
   "metadata": {},
   "outputs": [],
   "source": []
  }
 ],
 "metadata": {
  "kernelspec": {
   "display_name": "myenv",
   "language": "python",
   "name": "python3"
  },
  "language_info": {
   "codemirror_mode": {
    "name": "ipython",
    "version": 3
   },
   "file_extension": ".py",
   "mimetype": "text/x-python",
   "name": "python",
   "nbconvert_exporter": "python",
   "pygments_lexer": "ipython3",
   "version": "3.11.10"
  }
 },
 "nbformat": 4,
 "nbformat_minor": 2
}
